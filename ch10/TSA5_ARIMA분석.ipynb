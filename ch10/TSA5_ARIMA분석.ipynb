{
 "cells": [
  {
   "cell_type": "code",
   "execution_count": 1,
   "metadata": {},
   "outputs": [],
   "source": [
    "import plotly.express as px\n",
    "import plotly.graph_objects as go\n",
    "from plotly.subplots import make_subplots\n",
    "import pandas as pd\n",
    "pd.options.plotting.backend = \"plotly\"\n",
    "import warnings\n",
    "warnings.filterwarnings('ignore')"
   ]
  },
  {
   "cell_type": "markdown",
   "metadata": {},
   "source": [
    "___\n",
    "## 시계열 예측모델 : ARMA, ARIMA, SARIMA, VAR, VARMA \n",
    "___"
   ]
  },
  {
   "cell_type": "code",
   "execution_count": 2,
   "metadata": {},
   "outputs": [],
   "source": [
    "import pandas as pd\n",
    "from statsmodels.tsa.arima.model import ARIMA\n",
    "from statsmodels.tsa.statespace.sarimax import SARIMAX\n",
    "from statsmodels.tsa.api import VAR\n",
    "from statsmodels.tools.eval_measures import rmse\n",
    "from statsmodels.tsa.stattools import adfuller\n",
    "# from statsmodels.tsa.stattools import acovf,acf,pacf,pacf_yw\n",
    "# from statsmodels.graphics.tsaplots import plot_acf, plot_pacf"
   ]
  },
  {
   "cell_type": "code",
   "execution_count": 3,
   "metadata": {},
   "outputs": [],
   "source": [
    "# helper 함수 정의\n",
    "def adf_test(series):\n",
    "    result = adfuller(series)\n",
    "    print(f'- ADF 통계량: {result[0]}')\n",
    "    print(f'- p-value: {result[1]} ({'정상성 있음' if result[1] < 0.05 else '정상성 없음'})')\n",
    "    print(f'- 지연수: {result[2]}')\n",
    "    print(f'- 관찰수: {result[3]}')\n",
    "    print('- 임계값:')\n",
    "    for key, value in result[4].items():\n",
    "        print('\\t%s: %.3f' % (key, value))\n",
    "    "
   ]
  },
  {
   "cell_type": "code",
   "execution_count": 4,
   "metadata": {},
   "outputs": [],
   "source": [
    "# 데이터 로드\n",
    "df = pd.read_csv('Data/moneystock-spending-series.csv', index_col=0, parse_dates=True)\n",
    "df.index.freq = 'MS'"
   ]
  },
  {
   "cell_type": "markdown",
   "metadata": {},
   "source": [
    "## 1. 단일 시계열 분석 모델"
   ]
  },
  {
   "cell_type": "markdown",
   "metadata": {},
   "source": [
    "#### <font color=\"orange\">메타포 설명 : 오늘 기온을 예측하기 위해서, 최근7일간의 기온 데이터를 활용한다. 즉, 타겟변수를 예측할때 그 히스토리만 활용한다. </font>"
   ]
  },
  {
   "cell_type": "markdown",
   "metadata": {},
   "source": [
    "\n",
    "### 🧠 ARMA / ARIMA 모델\n",
    "\n",
    "> 과거의 **패턴** 과 **오차** 를 활용해서 미래를 예측하는 모델\n",
    "\n",
    "---\n",
    "\n",
    "### 📌 ARMA 모델이란?\n",
    "\n",
    "ARMA는 다음 두 가지 모델을 결합한 것입니다\n",
    "\n",
    "#### 1️⃣ AR(p): 자기회귀(AutoRegressive)\n",
    "\n",
    "* 현재 시점의 값이 **과거의 값들** 에 영향을 받는 모델\n",
    "* **예시**:\n",
    "  \"이번 달 매출은 지난달, 지지난달 매출과 비슷할 거야\"\n",
    "\n",
    "$$\n",
    "Y_t = \\phi_1 Y_{t-1} + \\phi_2 Y_{t-2} + \\cdots + \\epsilon_t\n",
    "$$\n",
    "\n",
    "#### 2️⃣ MA(q): 이동 평균(Moving Average)\n",
    "\n",
    "* 현재 시점의 값이 **과거의 예측 오차들** 에 영향을 받는 모델\n",
    "* **예시**:\n",
    "  \"지난달 예측이 빗나갔는데, 이번 달도 그 영향이 있을 수 있어\"\n",
    "\n",
    "$$\n",
    "Y_t = \\epsilon_t + \\theta_1 \\epsilon_{t-1} + \\theta_2 \\epsilon_{t-2}\n",
    "$$\n",
    "\n",
    "---\n",
    "\n",
    "### 💡 ARMA 모델 한 줄 정리\n",
    "\n",
    "> **과거의 값(AR) + 과거의 예측오차(MA)** 를 조합해서 현재를 예측하는 모델\n",
    "\n",
    "---\n",
    "\n",
    "### 📌 ARIMA 모델이란?\n",
    "\n",
    "> ARMA 모델은 기본적으로 **\"정상 시계열\"** 에만 적용 가능해요.\n",
    "> 즉, **평균과 분산이 시간이 지나도 일정한 데이터** 에서만 잘 작동하죠.\n",
    "\n",
    "하지만 현실 데이터(예: 집값, 주식, 유가 등)는 대개 **비정상적** 이죠.\n",
    "\n",
    "그래서 등장한 것이:\n",
    "\n",
    "#### 🔄 I(d): 차분(Integration)\n",
    "\n",
    "* 데이터를 **차분**해서 정상 시계열로 만들어주는 단계\n",
    "* **차분이란?**\n",
    "  매 시점에서 **이전 시점 값을 빼주는 것**\n",
    "\n",
    "$$\n",
    "Y'_t = Y_t - Y_{t-1}\n",
    "$$\n",
    "\n",
    "* 예를 들어 집값이 매달 오를 때, 차분하면 \"얼마나 올랐는가\"만 남음 → 평균이 일정해짐\n",
    "\n",
    "---\n",
    "\n",
    "### ✅ 그래서 ARIMA란?\n",
    "\n",
    "> \\*\\*ARIMA(p, d, q)\\*\\*는 다음을 의미.\n",
    "\n",
    "| 기호 | 의미    | 설명                    |\n",
    "| -- | ----- | --------------------- |\n",
    "| p  | AR 차수 | 과거 몇 시점의 값들을 참고할 것인가? |\n",
    "| d  | 차분 차수 | 몇 번 차분해야 데이터가 평평해질까?  |\n",
    "| q  | MA 차수 | 과거 몇 시점의 오차를 고려할까?    |\n",
    "\n",
    "---\n",
    "\n",
    "### 🔢 수식은 어떻게 읽을까?\n",
    "\n",
    "수식:\n",
    "\n",
    "$$\n",
    "Y_t = c + \\epsilon_t + \\sum_{i=1}^{p} \\phi_i Y_{t-i} + \\sum_{j=1}^{q} \\theta_j \\epsilon_{t-j}\n",
    "$$\n",
    "\n",
    "이건 그냥 이렇게 해석하면 됩니다.\n",
    "\n",
    "> \"현재 값은 일정한 평균 + 현재 오차 + 과거 값들의 영향 + 과거 오차들의 영향의 합이다\"\n",
    "\n",
    "---\n",
    "\n",
    "### 🔄 백시프트 연산자란?\n",
    "\n",
    "$$\n",
    "B y_t = y_{t-1}\n",
    "$$\n",
    "\n",
    "즉, `B`는 \"한 시점 전으로 이동\"한다는 의미예요. 예를 들어,\n",
    "\n",
    "* $B^2 y_t = y_{t-2}$\n",
    "\n",
    "이걸 활용하면 복잡한 수식을 더 간단하게 표현할 수 있습니다.\n",
    "\n",
    "---\n",
    "\n",
    "### 🎯 예시\n",
    "\n",
    "> 📈 **\"주가 예측\"**\n",
    "\n",
    "* **AR(3)**: 주가는 지난 3일의 주가에 따라 움직인다\n",
    "* **MA(2)**: 지난 2일의 예측 실수도 보정에 쓰인다\n",
    "* **I(1)**: 주가는 상승 추세이므로 1번 차분해줘야 안정됨\n",
    "\n",
    "→ **ARIMA(3,1,2)** 모델을 쓸 수 있음.\n"
   ]
  },
  {
   "cell_type": "markdown",
   "metadata": {},
   "source": [
    "* 사용 예시"
   ]
  },
  {
   "cell_type": "code",
   "execution_count": 6,
   "metadata": {},
   "outputs": [
    {
     "name": "stdout",
     "output_type": "stream",
     "text": [
      "                               SARIMAX Results                                \n",
      "==============================================================================\n",
      "Dep. Variable:                  Money   No. Observations:                  252\n",
      "Model:                 ARIMA(1, 2, 1)   Log Likelihood               -1176.729\n",
      "Date:                Sat, 07 Jun 2025   AIC                           2359.458\n",
      "Time:                        15:00:09   BIC                           2370.023\n",
      "Sample:                    01-01-1995   HQIC                          2363.710\n",
      "                         - 12-01-2015                                         \n",
      "Covariance Type:                  opg                                         \n",
      "==============================================================================\n",
      "                 coef    std err          z      P>|z|      [0.025      0.975]\n",
      "------------------------------------------------------------------------------\n",
      "ar.L1          0.2229      0.042      5.297      0.000       0.140       0.305\n",
      "ma.L1         -0.9481      0.021    -45.132      0.000      -0.989      -0.907\n",
      "sigma2       712.5495     33.501     21.270      0.000     646.889     778.210\n",
      "===================================================================================\n",
      "Ljung-Box (L1) (Q):                   0.22   Jarque-Bera (JB):               598.56\n",
      "Prob(Q):                              0.64   Prob(JB):                         0.00\n",
      "Heteroskedasticity (H):               4.31   Skew:                             1.32\n",
      "Prob(H) (two-sided):                  0.00   Kurtosis:                        10.11\n",
      "===================================================================================\n",
      "\n",
      "Warnings:\n",
      "[1] Covariance matrix calculated using the outer product of gradients (complex-step).\n",
      "2016-01-01    12391.658761\n",
      "2016-02-01    12446.806626\n",
      "2016-03-01    12501.818349\n",
      "2016-04-01    12556.799733\n",
      "2016-05-01    12611.774356\n",
      "2016-06-01    12666.747472\n",
      "2016-07-01    12721.720252\n",
      "2016-08-01    12776.692957\n",
      "2016-09-01    12831.665646\n",
      "2016-10-01    12886.638331\n",
      "2016-11-01    12941.611015\n",
      "2016-12-01    12996.583699\n",
      "Freq: MS, Name: predicted_mean, dtype: float64\n"
     ]
    }
   ],
   "source": [
    "data = df['Money']\n",
    "# ARIMA (1, 2, 1) 모델 피팅\n",
    "model = ARIMA(data, order=(1, 2, 1))\n",
    "fitted_model = model.fit()\n",
    "print(fitted_model.summary())\n",
    "# 예측\n",
    "forecast = fitted_model.forecast(steps=12)\n",
    "print(forecast)"
   ]
  },
  {
   "cell_type": "markdown",
   "metadata": {},
   "source": [
    "### **SARIMA**\n",
    "ARIMA에 \\*\\*\"계절성(Seasonality)\"\\*\\*이라는 개념이 추가된 모델입니다. 수식도 어려워 보이지만, 핵심만 알면 정말 단순합니다.\n",
    "\n",
    "---\n",
    "\n",
    "#### ❓ ARIMA가 뭐였죠?\n",
    "\n",
    "> 과거의 **값(AR)**, **예측오차(MA)**, \\*\\*추세를 제거하기 위한 차분(I)\\*\\*을 조합해서\n",
    "> 미래 값을 예측하는 모델\n",
    "\n",
    "하지만 현실 데이터엔 이런 게 자주 등장합니다.\n",
    "\n",
    "> 📅 **매년 여름엔 아이스크림 매출이 늘어난다**\n",
    "> 📅 **매달 말에는 교통량이 늘어난다**\n",
    "\n",
    "이처럼, 주기적으로 반복되는 패턴 = **계절성(seasonality)**\n",
    "\n",
    "---\n",
    "\n",
    "#### 🎯 그래서 등장한 SARIMA!\n",
    "\n",
    "> **SARIMA** = **Seasonal ARIMA**\n",
    "> ARIMA에 **계절적인 AR / I / MA 성분을 추가**한 것\n",
    "\n",
    "---\n",
    "\n",
    "#### 📦 쉽게 SARIMA 구조 이해하기\n",
    "\n",
    "##### 📌 일반 ARIMA(p, d, q)\n",
    "\n",
    "* **p**: 과거 **값들(AR)** 몇 개를 쓸까?\n",
    "* **d**: **몇 번 차분(I)** 해야 평평해질까?\n",
    "* **q**: 과거 **오차들(MA)** 몇 개를 쓸까?\n",
    "\n",
    "##### 📌 SARIMA(p, d, q)(P, D, Q, s)\n",
    "\n",
    "여기에 아래를 추가:\n",
    "\n",
    "| 기호    | 설명                                         |\n",
    "| ----- | ------------------------------------------ |\n",
    "| **P** | **계절적 AR** 성분 (예: 1년 전, 12개월 전 값을 활용)      |\n",
    "| **D** | **계절 차분** 횟수                               |\n",
    "| **Q** | **계절적 MA** 성분                              |\n",
    "| **s** | **계절 주기** (예: 12 = 12개월, 4 = 분기, 7 = 주간 등) |\n",
    "\n",
    "---\n",
    "\n",
    "#### 🔢 수식 쉽게 보기\n",
    "\n",
    "$$\n",
    "\\Phi(B) \\cdot \\Phi_s(B^s) \\cdot (1 - B)^d \\cdot (1 - B^s)^D y_t = \\Theta(B) \\cdot \\Theta_s(B^s) \\cdot \\varepsilon_t\n",
    "$$\n",
    "\n",
    "하나씩 뜯어봅시다:\n",
    "\n",
    "| 수식 요소           | 쉽게 설명                            |\n",
    "| --------------- | -------------------------------- |\n",
    "| $\\Phi(B)$       | 일반 AR (과거값 기반 예측)                |\n",
    "| $\\Phi_s(B^s)$   | **계절적 AR** (예: 12개월 전, 24개월 전 값) |\n",
    "| $(1 - B)^d$     | 일반 차분 (추세 제거)                    |\n",
    "| $(1 - B^s)^D$   | **계절 차분** (계절 패턴 제거)             |\n",
    "| $\\Theta(B)$     | 일반 MA (과거 오차 기반 보정)              |\n",
    "| $\\Theta_s(B^s)$ | **계절적 MA** (계절 주기마다 오차 보정)       |\n",
    "\n",
    "---\n",
    "\n",
    "#### 🍦 예시\n",
    "\n",
    "> **월별 아이스크림 판매량 예측** (12개월 단위로 계절성 있음)\n",
    "\n",
    "* **ARIMA(1,1,1)**\n",
    "\n",
    "  * 최근 1개월 값과 1차 차분, 최근 1개월 오차로 예측\n",
    "\n",
    "* **SARIMA(1,1,1)(1,1,1,12)**\n",
    "\n",
    "  * 일반 ARIMA 구성 +\n",
    "  * **12개월 전 패턴** + **12개월 전 오차** + **1년 단위의 차분** 포함\n",
    "\n",
    "이 모델은 **최근 정보와 과거 계절 정보를 모두 고려**해서 예측합니다.\n",
    "\n",
    "---\n",
    "\n",
    "#### 🧠 결론\n",
    "\n",
    "> **SARIMA**는 ARIMA에 **계절 반복 패턴을 고려한 요소(P, D, Q, s)** 를 더한 모델\n",
    "\n",
    "---\n",
    "\n",
    "#### ✅ 정리 표\n",
    "\n",
    "| 구성 요소   | 의미            | 예시             |\n",
    "| ------- | ------------- | -------------- |\n",
    "| p, d, q | ARIMA 기본 구성   | 추세 반영          |\n",
    "| P, D, Q | 계절 AR, 차분, MA | 계절 패턴 반영       |\n",
    "| s       | 계절 주기         | 월별이면 12, 분기면 4 |\n"
   ]
  },
  {
   "cell_type": "markdown",
   "metadata": {},
   "source": [
    "#### 🎯 SARIMAX란?\n",
    "\n",
    "> **SARIMA + 외생 변수(exogenous variables, X)**\n",
    "> 즉, **계절성과 외부 요인**을 모두 반영하는 시계열 예측 모델입니다.\n",
    "\n",
    "**SARIMAX = Seasonal ARIMA with eXogenous variables**\n",
    "\n",
    "---\n",
    "\n",
    "#### 🔍 먼저 기억해야 할 것\n",
    "\n",
    "* **ARIMA**는 과거 자기 데이터(Y)만 보고 예측\n",
    "* **SARIMA**는 여기에 계절성까지 추가\n",
    "* 그런데, 현실에서는 외부 요인이 큰 영향을 줄 수 있어요\n",
    "\n",
    "> 예:\n",
    "> ❄️ “겨울엔 기온이 낮아지면 난방비가 오른다”\n",
    "> 📈 “환율이 변하면 수출입 물가가 바뀐다”\n",
    "\n",
    "→ 이런 \\*\\*외부 요인(기온, 환율 등)\\*\\*이 있을 때, SARIMA만으론 부족\n",
    "\n",
    "---\n",
    "\n",
    "#### ✅ 그래서 나온 게 SARIMAX!\n",
    "\n",
    "> SARIMAX는 이렇게 예측합니다.\n",
    "\n",
    "> \"Y의 과거값, 계절성, 오차 패턴\"뿐 아니라\n",
    "> \"외부에서 주어진 X(기온, 환율 등)\"도 함께 고려해서 예측\n",
    "\n",
    "---\n",
    "\n",
    "#### 📌 수식 구조 (쉽게)\n",
    "\n",
    "$$\n",
    "Y_t = \\text{SARIMA 부분} + \\beta X_t + \\varepsilon_t\n",
    "$$\n",
    "\n",
    "* **SARIMA 부분**: Y의 과거값, 계절성, 오차 항 등\n",
    "* **X\\_t**: 외생 변수 (설명 변수, 다른 시계열 데이터)\n",
    "* **β**: 외생 변수의 계수\n",
    "* **ε**: 오차\n",
    "\n",
    "---\n",
    "\n",
    "#### 📦 예시\n",
    "\n",
    "##### 예시 1: 난방비 예측\n",
    "\n",
    "> **Y\\_t**: 월별 난방비\n",
    "> **X\\_t**: 그 달의 평균 기온 (외생 변수)\n",
    "\n",
    "* **SARIMA**는 난방비의 계절적 패턴을 반영\n",
    "* **SARIMAX**는 여기에 \\*\\*기온(X\\_t)\\*\\*이라는 외부 변수도 고려\n",
    "\n",
    "→ 기온이 낮은 달에는 난방비가 높을 것이라는 관계도 모델에 포함\n",
    "\n",
    "---\n",
    "\n",
    "#### 🤖 언제 SARIMAX를 쓰나요?\n",
    "\n",
    "| 상황                  | 모델      |\n",
    "| ------------------- | ------- |\n",
    "| 시계열 데이터에 **추세**만 있음 | ARIMA   |\n",
    "| **계절성**도 있음         | SARIMA  |\n",
    "| **외부 요인도 영향** 줌     | SARIMAX |\n",
    "\n",
    "---\n",
    "\n",
    "#### 🧠 요약 정리\n",
    "\n",
    "| 모델      | 고려 요소        | 설명          |\n",
    "| ------- | ------------ | ----------- |\n",
    "| ARIMA   | 과거 Y, 오차, 추세 | 기본적인 시계열 예측 |\n",
    "| SARIMA  | + 계절성        | 계절 패턴까지 반영  |\n",
    "| SARIMAX | + 외생 변수(X)   | 외부 요인도 반영   |\n",
    "\n",
    "---\n",
    "\n",
    "#### 🛠️ 실전에서 어떻게 쓰나요?\n",
    "\n",
    "```python\n",
    "from statsmodels.tsa.statespace.sarimax import SARIMAX\n",
    "\n",
    "model = SARIMAX(y, exog=X, order=(p,d,q), seasonal_order=(P,D,Q,s))\n",
    "result = model.fit()\n",
    "forecast = result.predict(start, end, exog=X_future)\n",
    "```\n",
    "\n",
    "---"
   ]
  },
  {
   "cell_type": "code",
   "execution_count": 8,
   "metadata": {},
   "outputs": [
    {
     "name": "stdout",
     "output_type": "stream",
     "text": [
      "                                     SARIMAX Results                                      \n",
      "==========================================================================================\n",
      "Dep. Variable:                              Money   No. Observations:                  252\n",
      "Model:             SARIMAX(1, 1, 1)x(1, 1, 1, 12)   Log Likelihood               -1145.526\n",
      "Date:                            Sat, 07 Jun 2025   AIC                           2301.053\n",
      "Time:                                    15:05:22   BIC                           2318.435\n",
      "Sample:                                01-01-1995   HQIC                          2308.057\n",
      "                                     - 12-01-2015                                         \n",
      "Covariance Type:                              opg                                         \n",
      "==============================================================================\n",
      "                 coef    std err          z      P>|z|      [0.025      0.975]\n",
      "------------------------------------------------------------------------------\n",
      "ar.L1          0.8873      0.061     14.552      0.000       0.768       1.007\n",
      "ma.L1         -0.6501      0.083     -7.858      0.000      -0.812      -0.488\n",
      "ar.S.L12       0.0119      0.083      0.144      0.886      -0.151       0.175\n",
      "ma.S.L12      -0.9985      4.629     -0.216      0.829     -10.071       8.074\n",
      "sigma2       733.8335   3356.359      0.219      0.827   -5844.509    7312.176\n",
      "===================================================================================\n",
      "Ljung-Box (L1) (Q):                   0.12   Jarque-Bera (JB):               329.69\n",
      "Prob(Q):                              0.72   Prob(JB):                         0.00\n",
      "Heteroskedasticity (H):               4.42   Skew:                             1.07\n",
      "Prob(H) (two-sided):                  0.00   Kurtosis:                         8.34\n",
      "===================================================================================\n",
      "\n",
      "Warnings:\n",
      "[1] Covariance matrix calculated using the outer product of gradients (complex-step).\n",
      "2016-01-01    12383.858271\n",
      "2016-02-01    12434.112648\n",
      "2016-03-01    12476.777392\n",
      "2016-04-01    12523.378597\n",
      "2016-05-01    12562.852958\n",
      "2016-06-01    12603.663832\n",
      "2016-07-01    12651.413366\n",
      "2016-08-01    12701.909488\n",
      "2016-09-01    12741.179140\n",
      "2016-10-01    12782.166699\n",
      "2016-11-01    12818.206573\n",
      "2016-12-01    12865.040261\n",
      "Freq: MS, Name: predicted_mean, dtype: float64\n"
     ]
    },
    {
     "name": "stderr",
     "output_type": "stream",
     "text": [
      "/Users/dante/workspace/dante-code/projects/kmu-practical-ds-2025/.conda/lib/python3.12/site-packages/statsmodels/base/model.py:607: ConvergenceWarning: Maximum Likelihood optimization failed to converge. Check mle_retvals\n",
      "  warnings.warn(\"Maximum Likelihood optimization failed to \"\n"
     ]
    }
   ],
   "source": [
    "# SARIMA (1, 1, 1)x(1, 1, 1, 12) 모델 피팅\n",
    "sarima_model = SARIMAX(data, order=(1, 1, 1), seasonal_order=(1, 1, 1, 12)) # SARIMAX는 SARIMA에서 외생변수 처리까지 구현된 클래스. 여기서는 외생변수 고려하지 않음.\n",
    "sarima_fitted_model = sarima_model.fit()\n",
    "print(sarima_fitted_model.summary())\n",
    "# 예측\n",
    "sarima_forecast = sarima_fitted_model.forecast(steps=12)\n",
    "print(sarima_forecast)"
   ]
  },
  {
   "cell_type": "markdown",
   "metadata": {},
   "source": [
    "SARIMAX(1, 1, 1)x(1, 1, 1, 12) 모형 결과 요약\n",
    "\n",
    "- AR(1) 계수(0.8873)는 1에 가까워 시계열이 강한 자기상관을 가짐을 의미합니다.\n",
    "- MA(1) 계수(-0.6501)는 음수로, 최근 오차가 반대 방향으로 영향을 미침을 보여줍니다.\n",
    "- 계절 AR(12) 계수(0.0119)는 거의 0에 가까워 계절 자기상관 효과가 미미함을 시사합니다.\n",
    "- 계절 MA(12) 계수(-0.9985)는 -1에 가까우나, 표준오차가 커서 통계적으로 유의하지 않습니다.\n",
    "- 잔차의 분산(sigma2)은 733.83으로, 예측 오차의 크기를 나타냅니다.\n",
    "\n",
    "진단지표\n",
    "- Ljung-Box 검정(p=0.72): 잔차에 자기상관이 없으므로 모형이 적합함을 의미합니다.\n",
    "- Jarque-Bera(p=0.00): 잔차가 정규분포를 따르지 않음을 의미합니다(왜도, 첨도 높음).\n",
    "- Heteroskedasticity(p=0.00): 잔차의 분산이 일정하지 않음을 시사합니다.\n",
    "\n",
    "예측값(2016년 1월~12월)\n",
    "- 2016-01: 12383.86\n",
    "- 2016-02: 12434.11\n",
    "- 2016-03: 12476.78\n",
    "- 2016-04: 12523.38\n",
    "- 2016-05: 12562.85\n",
    "- 2016-06: 12603.66\n",
    "- 2016-07: 12651.41\n",
    "- 2016-08: 12701.91\n",
    "- 2016-09: 12741.18\n",
    "- 2016-10: 12782.17\n",
    "- 2016-11: 12818.21\n",
    "- 2016-12: 12865.04\n",
    "\n",
    "해석\n",
    "\n",
    "> 이 SARIMAX 모형은 시계열의 자기상관(AR)과 오차항(MA), 그리고 계절적 패턴을 모두 반영합니다.\n",
    ">\n",
    "> AR 계수가 높아 과거 값의 영향이 크고, MA 계수는 최근 오차가 반대 방향으로 영향을 미침을 보여줍니다. \n",
    ">\n",
    "> 계절성 효과는 통계적으로 유의하지 않으나, 계절 MA 계수는 -1에 가까워 일부 계절적 변동을 포착할 수 있습니다. \n",
    ">\n",
    "> 잔차의 정규성 및 등분산성 가정은 다소 위배되었으나, 자기상관은 없으므로 예측에는 큰 무리가 없습니다.\n",
    ">\n",
    "> 2016년 한 해 동안 예측값은 완만하게 증가하는 추세를 보입니다.\n"
   ]
  },
  {
   "cell_type": "markdown",
   "metadata": {},
   "source": [
    "___\n",
    "## 2. 다변량 시계열 분석 모델"
   ]
  },
  {
   "cell_type": "markdown",
   "metadata": {},
   "source": [
    "#### <font color=\"orange\">메타포 설명 : 오늘 기온을 예측하기 위해서, 최근 7일간의 기온 데이터 뿐 아니라, 7일간의 풍속, 습도 데이터를 활용한다. </font>\n",
    "\n",
    "#### <font color=\"orange\">즉, 타겟변수를 예측할때 해당변수 및 해당변수와 연관된 변수의 히스토리까지 고려한다. </font>"
   ]
  },
  {
   "cell_type": "markdown",
   "metadata": {},
   "source": [
    "___\n",
    "### VAR (Vector Autoregression) 모델 (벡터 자기회귀 모형)\n",
    "___\n",
    "VAR 모델은 다변량 시계열 데이터를 다루는 모델. \n",
    "\n",
    "각 시계열 변수는 다른 변수들과의 관계를 고려하여 모델링됨.\n",
    "\n",
    "$y_{t} = c + \\phi_{1}y_{t-1} + \\phi_{2}y_{t-2} + \\dots + \\phi_{p}y_{t-p} + \\varepsilon_{t}$\n"
   ]
  },
  {
   "cell_type": "markdown",
   "metadata": {},
   "source": [
    "* <font color=\"orange\"> 2차원 VAR(1) 모델 예시</font>\n",
    "\n",
    "    $y_{1,t} = c_1 + \\phi_{11,1}y_{1,t-1} + \\phi_{12,1}y_{2,t-1} + \\varepsilon_{1,t}$<br>\n",
    "    \n",
    "    $y_{2,t} = c_2 + \\phi_{21,1}y_{1,t-1} + \\phi_{22,1}y_{2,t-1} + \\varepsilon_{2,t}$\n",
    "\n",
    "    #### $\\begin{pmatrix} y_{1,t} \\\\ y_{2,t} \\end{pmatrix} = \\begin{pmatrix} c_1 \\\\ c_2 \\end{pmatrix} + \\begin{pmatrix} \\phi_{11,1} & \\phi_{12,1} \\\\ \\phi_{21,1} & \\phi_{22,1} \\end{pmatrix} \\begin{pmatrix} y_{1,t-1} \\\\ y_{2,t-1} \\end{pmatrix} + \\begin{pmatrix} \\varepsilon_{1,t} \\\\ \\varepsilon_{2,t} \\end{pmatrix} $"
   ]
  },
  {
   "cell_type": "markdown",
   "metadata": {},
   "source": [
    "* <font color=\"orange\"> 3차원 VAR(2) 모델 예시 </font>\n",
    "\n",
    "    $y_{1,t} = c_1 + \\phi_{11,1}y_{1,t-1} + \\phi_{12,1}y_{2,t-1} + \\phi_{13,1}y_{3,t-1} + \\phi_{11,2}y_{1,t-2} + \\phi_{12,2}y_{2,t-2} + \\phi_{13,2}y_{3,t-2} + \\varepsilon_{1,t}$<br>\n",
    "\n",
    "    $y_{2,t} = c_2 + \\phi_{21,1}y_{1,t-1} + \\phi_{22,1}y_{2,t-1} + \\phi_{23,1}y_{3,t-1} + \\phi_{21,2}y_{1,t-2} + \\phi_{22,2}y_{2,t-2} + \\phi_{23,2}y_{3,t-2} + \\varepsilon_{2,t}$<br>\n",
    "\n",
    "    $y_{3,t} = c_3 + \\phi_{31,1}y_{1,t-1} + \\phi_{32,1}y_{2,t-1} + \\phi_{33,1}y_{3,t-1} + \\phi_{31,2}y_{1,t-2} + \\phi_{32,2}y_{2,t-2} + \\phi_{33,2}y_{3,t-2} + \\varepsilon_{3,t}$<br><br>\n",
    "\n",
    "    #### $ \\begin{pmatrix} y_{1,t} \\\\ y_{2,t} \\\\ y_{3,t} \\end{pmatrix} = \\begin{pmatrix} c_1 \\\\ c_2 \\\\ c_3 \\end{pmatrix} + \\begin{pmatrix} \\phi_{11,1} & \\phi_{12,1} & \\phi_{13,1} \\\\ \\phi_{21,1} & \\phi_{22,1} & \\phi_{23,1} \\\\ \\phi_{31,1} & \\phi_{32,1} & \\phi_{33,1} \\end{pmatrix} \\begin{pmatrix} y_{1,t-1} \\\\ y_{2,t-1} \\\\ y_{3,t-1} \\end{pmatrix} + \\begin{pmatrix} \\phi_{11,2} & \\phi_{12,2} & \\phi_{13,2} \\\\ \\phi_{21,2} & \\phi_{22,2} & \\phi_{23,2} \\\\ \\phi_{31,2} & \\phi_{32,2} & \\phi_{33,2} \\end{pmatrix} \\begin{pmatrix} y_{1,t-2} \\\\ y_{2,t-2} \\\\ y_{3,t-2} \\end{pmatrix} + \\begin{pmatrix} \\varepsilon_{1,t} \\\\ \\varepsilon_{2,t} \\\\ \\varepsilon_{3,t} \\end{pmatrix} $"
   ]
  },
  {
   "cell_type": "markdown",
   "metadata": {},
   "source": [
    "* 모델 사용 예시"
   ]
  },
  {
   "cell_type": "code",
   "execution_count": 11,
   "metadata": {},
   "outputs": [
    {
     "data": {
      "text/html": [
       "<div>\n",
       "<style scoped>\n",
       "    .dataframe tbody tr th:only-of-type {\n",
       "        vertical-align: middle;\n",
       "    }\n",
       "\n",
       "    .dataframe tbody tr th {\n",
       "        vertical-align: top;\n",
       "    }\n",
       "\n",
       "    .dataframe thead th {\n",
       "        text-align: right;\n",
       "    }\n",
       "</style>\n",
       "<table border=\"1\" class=\"dataframe\">\n",
       "  <thead>\n",
       "    <tr style=\"text-align: right;\">\n",
       "      <th></th>\n",
       "      <th>Money</th>\n",
       "      <th>Spending</th>\n",
       "    </tr>\n",
       "    <tr>\n",
       "      <th>Date</th>\n",
       "      <th></th>\n",
       "      <th></th>\n",
       "    </tr>\n",
       "  </thead>\n",
       "  <tbody>\n",
       "    <tr>\n",
       "      <th>1995-01-01</th>\n",
       "      <td>3492.4</td>\n",
       "      <td>4851.2</td>\n",
       "    </tr>\n",
       "    <tr>\n",
       "      <th>1995-02-01</th>\n",
       "      <td>3489.9</td>\n",
       "      <td>4850.8</td>\n",
       "    </tr>\n",
       "    <tr>\n",
       "      <th>1995-03-01</th>\n",
       "      <td>3491.1</td>\n",
       "      <td>4885.4</td>\n",
       "    </tr>\n",
       "    <tr>\n",
       "      <th>1995-04-01</th>\n",
       "      <td>3499.2</td>\n",
       "      <td>4890.2</td>\n",
       "    </tr>\n",
       "    <tr>\n",
       "      <th>1995-05-01</th>\n",
       "      <td>3524.2</td>\n",
       "      <td>4933.1</td>\n",
       "    </tr>\n",
       "  </tbody>\n",
       "</table>\n",
       "</div>"
      ],
      "text/plain": [
       "             Money  Spending\n",
       "Date                        \n",
       "1995-01-01  3492.4    4851.2\n",
       "1995-02-01  3489.9    4850.8\n",
       "1995-03-01  3491.1    4885.4\n",
       "1995-04-01  3499.2    4890.2\n",
       "1995-05-01  3524.2    4933.1"
      ]
     },
     "execution_count": 11,
     "metadata": {},
     "output_type": "execute_result"
    }
   ],
   "source": [
    "df.head()"
   ]
  },
  {
   "cell_type": "code",
   "execution_count": 10,
   "metadata": {},
   "outputs": [
    {
     "name": "stdout",
     "output_type": "stream",
     "text": [
      "  Summary of Regression Results   \n",
      "==================================\n",
      "Model:                         VAR\n",
      "Method:                        OLS\n",
      "Date:           Sat, 07, Jun, 2025\n",
      "Time:                     15:10:48\n",
      "--------------------------------------------------------------------\n",
      "No. of Equations:         2.00000    BIC:                    13.8778\n",
      "Nobs:                     247.000    HQIC:                   13.6911\n",
      "Log likelihood:          -2354.26    FPE:                    778666.\n",
      "AIC:                      13.5652    Det(Omega_mle):         713683.\n",
      "--------------------------------------------------------------------\n",
      "Results for equation Money\n",
      "==============================================================================\n",
      "                 coefficient       std. error           t-stat            prob\n",
      "------------------------------------------------------------------------------\n",
      "const              -3.578575        10.765839           -0.332           0.740\n",
      "L1.Money            1.166264         0.064984           17.947           0.000\n",
      "L1.Spending        -0.128001         0.049702           -2.575           0.010\n",
      "L2.Money           -0.093662         0.100549           -0.931           0.352\n",
      "L2.Spending         0.013760         0.070046            0.196           0.844\n",
      "L3.Money            0.073985         0.102312            0.723           0.470\n",
      "L3.Spending         0.096473         0.070343            1.371           0.170\n",
      "L4.Money           -0.259604         0.101794           -2.550           0.011\n",
      "L4.Spending         0.152404         0.069032            2.208           0.027\n",
      "L5.Money            0.114124         0.064564            1.768           0.077\n",
      "L5.Spending        -0.131595         0.049884           -2.638           0.008\n",
      "==============================================================================\n",
      "\n",
      "Results for equation Spending\n",
      "==============================================================================\n",
      "                 coefficient       std. error           t-stat            prob\n",
      "------------------------------------------------------------------------------\n",
      "const              32.631897        14.361180            2.272           0.023\n",
      "L1.Money            0.167879         0.086685            1.937           0.053\n",
      "L1.Spending         1.009837         0.066300           15.231           0.000\n",
      "L2.Money           -0.241628         0.134129           -1.801           0.072\n",
      "L2.Spending         0.121418         0.093438            1.299           0.194\n",
      "L3.Money            0.026879         0.136479            0.197           0.844\n",
      "L3.Spending        -0.014393         0.093835           -0.153           0.878\n",
      "L4.Money           -0.048322         0.135789           -0.356           0.722\n",
      "L4.Spending        -0.067379         0.092086           -0.732           0.464\n",
      "L5.Money            0.100564         0.086126            1.168           0.243\n",
      "L5.Spending        -0.055003         0.066543           -0.827           0.408\n",
      "==============================================================================\n",
      "\n",
      "Correlation matrix of residuals\n",
      "               Money  Spending\n",
      "Money       1.000000 -0.239601\n",
      "Spending   -0.239601  1.000000\n",
      "\n",
      "\n",
      "\n"
     ]
    }
   ],
   "source": [
    "# VAR 모델 피팅\n",
    "model = VAR(df)\n",
    "fitted_model = model.fit(maxlags=15, ic='aic')\n",
    "\n",
    "# 모델 요약 출력\n",
    "print(fitted_model.summary())\n"
   ]
  },
  {
   "cell_type": "markdown",
   "metadata": {},
   "source": [
    "* VAR(5) 모델의 회귀 결과 해석\n",
    "\n",
    "    * Money(통화량) 방정식:\n",
    "      - 상수항(const)은 -3.58로, 통계적으로 유의하지 않습니다(p=0.74).\n",
    "      - L1.Money(1시차 통화량)의 계수는 1.17로, 매우 유의하며(p<0.001), 이전 달 통화량이 현재 통화량에 강한 양의 영향을 미칩니다.\n",
    "      - L1.Spending(1시차 소비)의 계수는 -0.13으로, 유의미하게(p=0.01) 음의 영향을 미칩니다. 즉, 지난달 소비가 많으면 이번 달 통화량은 약간 줄어드는 경향이 있습니다.\n",
    "      -  L4.Money(4시차 통화량)의 계수는 -0.26으로, 유의미하게(p=0.011) 음의 영향을 미칩니다.\n",
    "      - L4.Spending(4시차 소비)의 계수는 0.15로, 유의미하게(p=0.027) 양의 영향을 미칩니다.\n",
    "      - L5.Spending(5시차 소비)의 계수는 -0.13으로, 유의미하게(p=0.008) 음의 영향을 미칩니다.\n",
    "      - 나머지 시차 변수들은 통계적으로 유의하지 않습니다.\n",
    "\n",
    "    * Spending(소비) 방정식:\n",
    "      - 상수항(const)은 32.63으로, 유의미하게 양의 값을 가집니다(p=0.023).\n",
    "      - L1.Money(1시차 통화량)의 계수는 0.17로, 유의수준 0.05에서 약간 아슬아슬하게(p=0.053) 양의 영향을 미칩니다.\n",
    "      - L1.Spending(1시차 소비)의 계수는 1.01로, 매우 유의하며(p<0.001), 지난달 소비가 이번 달 소비에 강한 양의 영향을 미칩니다.\n",
    "      - L2.Money(2시차 통화량)의 계수는 -0.24로, 유의수준 0.1에서 약간 음의 영향을 미칩니다(p=0.072).\n",
    "      - 나머지 변수들은 통계적으로 유의하지 않습니다.\n",
    "\n",
    "      잔차 상관행렬을 보면, Money와 Spending의 잔차 간 상관계수는 -0.24로, 약한 음의 상관관계를 보입니다.\n",
    "\n",
    "    * 요약: \n",
    "      - 통화량과 소비 모두 자기 자신의 1시차 값에 강하게 영향을 받습니다(자기회귀적 특성).\n",
    "      - 소비가 증가하면 단기적으로 통화량이 줄어드는 경향이 있고, 통화량이 증가하면 소비도 약간 증가하는 경향이 있습니다.\n",
    "      - 일부 시차(4, 5시차)에서도 유의한 영향이 나타나므로, 단기뿐 아니라 중기적 영향도 존재합니다.\n"
   ]
  },
  {
   "cell_type": "markdown",
   "metadata": {},
   "source": [
    "---\n",
    "\n",
    "###  VARIMA / VARMAX란?\n",
    "\n",
    "#### 🔍 VARIMA란?\n",
    "\n",
    "\n",
    "\n",
    "VARMA 모델은 다변량 시계열 데이터를 다루며, VAR 모델에 이동 평균 성분을 추가한 모델\n",
    "\n",
    "$ Y_t = c + A_1 Y_{t-1} + A_2 Y_{t-2} + \\cdots + A_p Y_{t-p} + \\epsilon_t \\textcolor{orange}{+ \\sum_{j=1}^{q} \\Theta_j \\epsilon_{t-j}} $\n",
    "\n",
    "\n",
    "#### 🔍 VARIMAX란?\n",
    "> 여러 개의 시계열(Y₁, Y₂, …)을 동시에 예측하면서\n",
    "> 그들 사이의 상호 영향 + 이동평균(MA) + 외부 요인(X)까지 고려하는 다변량 시계열 예측 모델입니다.\n",
    "\n",
    "---\n",
    "\n",
    "\n",
    "\n",
    "##### ✅ 언제 VARMAX를 쓰나요?\n",
    "\n",
    "> 예: \"소비자 물가(Y₁)\"와 \"환율(Y₂)\"이 서로 영향을 주고,\n",
    "> 거기에 \"국제유가(X)\" 같은 외부 변수도 함께 반영하고 싶을 때\n",
    "\n",
    "| 요소      | 설명                        |\n",
    "| ------- | ------------------------- |\n",
    "| **VAR** | 두 개 이상의 시계열이 서로 영향을 주는 구조 |\n",
    "| **MA**  | 과거 예측오차를 반영               |\n",
    "| **X**   | 외부 변수 반영 (예: 유가, 금리 등)    |\n",
    "\n",
    "→ **VARMAX**는 이 세 가지를 **동시에 고려**하는 강력한 다변량 예측 모델입니다."
   ]
  },
  {
   "cell_type": "markdown",
   "metadata": {},
   "source": []
  },
  {
   "cell_type": "markdown",
   "metadata": {},
   "source": [
    "* <font color=\"orange\"> 2차원 VARMA(2,1) 모델 예시 </font>\n",
    "\n",
    "#### $\\begin{pmatrix} y_{1,t} \\\\ y_{2,t} \\end{pmatrix}\\begin{pmatrix} c_1 \\\\ c_2 \\end{pmatrix}+\\begin{pmatrix} \\phi_{11,1} & \\phi_{12,1} \\\\ \\phi_{21,1} & \\phi_{22,1} \\end{pmatrix}\\begin{pmatrix} y_{1,t-1} \\\\ y_{2,t-1} \\end{pmatrix}+\\begin{pmatrix} \\phi_{11,2} & \\phi_{12,2} \\\\ \\phi_{21,2} & \\phi_{22,2} \\end{pmatrix}\\begin{pmatrix} y_{1,t-2} \\\\ y_{2,t-2} \\end{pmatrix} \\textcolor{orange}{+\\begin{pmatrix} \\theta_{11,1} &\\theta_{12,1} \\\\ \\theta_{21,1} & \\theta_{22,1} \\end{pmatrix}\\begin{pmatrix} \\varepsilon_{1,t-1} \\\\ \\varepsilon_{2,t-1} \\end{pmatrix}}+\\begin{pmatrix} \\varepsilon_{1,t} \\\\ \\varepsilon_{2,t} \\end{pmatrix}$"
   ]
  },
  {
   "cell_type": "code",
   "execution_count": 15,
   "metadata": {},
   "outputs": [],
   "source": [
    "from statsmodels.tsa.statespace.varmax import VARMAX"
   ]
  },
  {
   "cell_type": "code",
   "execution_count": 16,
   "metadata": {},
   "outputs": [
    {
     "name": "stderr",
     "output_type": "stream",
     "text": [
      "/Users/dante/workspace/dante-code/projects/kmu-practical-ds-2025/.conda/lib/python3.12/site-packages/statsmodels/tsa/statespace/varmax.py:160: EstimationWarning: Estimation of VARMA(p,q) models is not generically robust, due especially to identification issues.\n",
      "  warn('Estimation of VARMA(p,q) models is not generically robust,'\n"
     ]
    },
    {
     "name": "stdout",
     "output_type": "stream",
     "text": [
      "                             Statespace Model Results                            \n",
      "=================================================================================\n",
      "Dep. Variable:     ['Money', 'Spending']   No. Observations:                  252\n",
      "Model:                        VARMA(2,1)   Log Likelihood               -2447.417\n",
      "                             + intercept   AIC                           4928.833\n",
      "Date:                   Sat, 07 Jun 2025   BIC                           4988.833\n",
      "Time:                           15:20:46   HQIC                          4952.976\n",
      "Sample:                       01-01-1995                                         \n",
      "                            - 12-01-2015                                         \n",
      "Covariance Type:                     opg                                         \n",
      "===================================================================================\n",
      "Ljung-Box (L1) (Q):             0.39, 3.58   Jarque-Bera (JB):       433.32, 131.83\n",
      "Prob(Q):                        0.53, 0.06   Prob(JB):                   0.00, 0.00\n",
      "Heteroskedasticity (H):         3.52, 0.89   Skew:                       1.16, 0.05\n",
      "Prob(H) (two-sided):            0.00, 0.59   Kurtosis:                   8.99, 6.54\n",
      "                            Results for equation Money                            \n",
      "==================================================================================\n",
      "                     coef    std err          z      P>|z|      [0.025      0.975]\n",
      "----------------------------------------------------------------------------------\n",
      "intercept        -18.9862     11.925     -1.592      0.111     -42.359       4.387\n",
      "L1.Money           1.7694      0.118     15.031      0.000       1.539       2.000\n",
      "L1.Spending        0.2158      0.108      1.998      0.046       0.004       0.428\n",
      "L2.Money          -0.7747      0.116     -6.652      0.000      -1.003      -0.546\n",
      "L2.Spending       -0.2091      0.106     -1.974      0.048      -0.417      -0.001\n",
      "L1.e(Money)       -0.5128      0.137     -3.735      0.000      -0.782      -0.244\n",
      "L1.e(Spending)    -0.2708      0.136     -1.990      0.047      -0.538      -0.004\n",
      "                          Results for equation Spending                           \n",
      "==================================================================================\n",
      "                     coef    std err          z      P>|z|      [0.025      0.975]\n",
      "----------------------------------------------------------------------------------\n",
      "intercept         23.2543      9.141      2.544      0.011       5.338      41.171\n",
      "L1.Money           0.2189      0.098      2.233      0.026       0.027       0.411\n",
      "L1.Spending        1.7829      0.092     19.447      0.000       1.603       1.963\n",
      "L2.Money          -0.2131      0.097     -2.195      0.028      -0.403      -0.023\n",
      "L2.Spending       -0.7905      0.090     -8.765      0.000      -0.967      -0.614\n",
      "L1.e(Money)       -0.2502      0.136     -1.835      0.066      -0.517       0.017\n",
      "L1.e(Spending)    -0.6311      0.111     -5.706      0.000      -0.848      -0.414\n",
      "                                  Error covariance matrix                                  \n",
      "===========================================================================================\n",
      "                              coef    std err          z      P>|z|      [0.025      0.975]\n",
      "-------------------------------------------------------------------------------------------\n",
      "sqrt.var.Money             28.3095      0.990     28.592      0.000      26.369      30.250\n",
      "sqrt.cov.Money.Spending    -1.3657      2.635     -0.518      0.604      -6.531       3.799\n",
      "sqrt.var.Spending          36.5819      1.529     23.920      0.000      33.584      39.579\n",
      "===========================================================================================\n",
      "\n",
      "Warnings:\n",
      "[1] Covariance matrix calculated using the outer product of gradients (complex-step).\n",
      "                   Money      Spending\n",
      "2016-01-01  12385.739097  12507.349931\n",
      "2016-02-01  12431.040067  12548.869132\n",
      "2016-03-01  12473.544938  12591.955495\n",
      "2016-04-01  12514.273013  12635.606254\n",
      "2016-05-01  12553.817669  12679.231138\n",
      "2016-06-01  12592.521383  12722.483193\n",
      "2016-07-01  12630.578950  12765.159009\n",
      "2016-08-01  12668.098345  12807.139886\n",
      "2016-09-01  12705.136613  12848.357124\n",
      "2016-10-01  12741.721026  12888.771561\n"
     ]
    },
    {
     "name": "stderr",
     "output_type": "stream",
     "text": [
      "/Users/dante/workspace/dante-code/projects/kmu-practical-ds-2025/.conda/lib/python3.12/site-packages/statsmodels/base/model.py:607: ConvergenceWarning: Maximum Likelihood optimization failed to converge. Check mle_retvals\n",
      "  warnings.warn(\"Maximum Likelihood optimization failed to \"\n"
     ]
    }
   ],
   "source": [
    "# VARMA 모델 피팅\n",
    "model = VARMAX(df, order=(2, 1))\n",
    "fitted_model = model.fit(disp=False)\n",
    "\n",
    "# 모델 요약 출력\n",
    "print(fitted_model.summary())\n",
    "\n",
    "# 예측\n",
    "n_forecast = 10\n",
    "forecast = fitted_model.forecast(steps=n_forecast)\n",
    "print(forecast)\n"
   ]
  },
  {
   "cell_type": "markdown",
   "metadata": {},
   "source": [
    "----\n",
    "----"
   ]
  },
  {
   "cell_type": "markdown",
   "metadata": {},
   "source": [
    "| 특징        | ARIMA                                      | VARMA                                           |\n",
    "|-------------|--------------------------------------------|-------------------------------------------------|\n",
    "| 데이터 유형 | 단일 시계열 데이터                         | 다중 시계열 데이터                              |\n",
    "| 구성 요소   | AR (자기회귀), I (차분), MA ㅡ(이동평균)     | VAR (벡터 자기회귀), VMA (벡터 이동평균)        |\n",
    "| 모델 형태   | ARIMA(p, d, q)                             | VARMA(p, q)                                     |\n",
    "| 적용 예시   | 주식 가격, 온도 변화, 판매량 등            | 경제 지표, 여러 주식의 가격 변동, 기후 데이터 등|"
   ]
  },
  {
   "cell_type": "markdown",
   "metadata": {},
   "source": [
    "----\n",
    "----"
   ]
  },
  {
   "cell_type": "markdown",
   "metadata": {},
   "source": [
    "___\n",
    "## VAR / AR 예측 모델 실습\n",
    "___"
   ]
  },
  {
   "cell_type": "markdown",
   "metadata": {},
   "source": [
    "데이터 시각화"
   ]
  },
  {
   "cell_type": "code",
   "execution_count": 17,
   "metadata": {},
   "outputs": [
    {
     "data": {
      "application/vnd.plotly.v1+json": {
       "config": {
        "plotlyServerURL": "https://plot.ly"
       },
       "data": [
        {
         "hovertemplate": "variable=Money<br>Date=%{x}<br>value=%{y}<extra></extra>",
         "legendgroup": "Money",
         "line": {
          "color": "#636efa",
          "dash": "solid"
         },
         "marker": {
          "symbol": "circle"
         },
         "mode": "lines",
         "name": "Money",
         "orientation": "v",
         "showlegend": true,
         "type": "scatter",
         "x": [
          "1995-01-01T00:00:00",
          "1995-02-01T00:00:00",
          "1995-03-01T00:00:00",
          "1995-04-01T00:00:00",
          "1995-05-01T00:00:00",
          "1995-06-01T00:00:00",
          "1995-07-01T00:00:00",
          "1995-08-01T00:00:00",
          "1995-09-01T00:00:00",
          "1995-10-01T00:00:00",
          "1995-11-01T00:00:00",
          "1995-12-01T00:00:00",
          "1996-01-01T00:00:00",
          "1996-02-01T00:00:00",
          "1996-03-01T00:00:00",
          "1996-04-01T00:00:00",
          "1996-05-01T00:00:00",
          "1996-06-01T00:00:00",
          "1996-07-01T00:00:00",
          "1996-08-01T00:00:00",
          "1996-09-01T00:00:00",
          "1996-10-01T00:00:00",
          "1996-11-01T00:00:00",
          "1996-12-01T00:00:00",
          "1997-01-01T00:00:00",
          "1997-02-01T00:00:00",
          "1997-03-01T00:00:00",
          "1997-04-01T00:00:00",
          "1997-05-01T00:00:00",
          "1997-06-01T00:00:00",
          "1997-07-01T00:00:00",
          "1997-08-01T00:00:00",
          "1997-09-01T00:00:00",
          "1997-10-01T00:00:00",
          "1997-11-01T00:00:00",
          "1997-12-01T00:00:00",
          "1998-01-01T00:00:00",
          "1998-02-01T00:00:00",
          "1998-03-01T00:00:00",
          "1998-04-01T00:00:00",
          "1998-05-01T00:00:00",
          "1998-06-01T00:00:00",
          "1998-07-01T00:00:00",
          "1998-08-01T00:00:00",
          "1998-09-01T00:00:00",
          "1998-10-01T00:00:00",
          "1998-11-01T00:00:00",
          "1998-12-01T00:00:00",
          "1999-01-01T00:00:00",
          "1999-02-01T00:00:00",
          "1999-03-01T00:00:00",
          "1999-04-01T00:00:00",
          "1999-05-01T00:00:00",
          "1999-06-01T00:00:00",
          "1999-07-01T00:00:00",
          "1999-08-01T00:00:00",
          "1999-09-01T00:00:00",
          "1999-10-01T00:00:00",
          "1999-11-01T00:00:00",
          "1999-12-01T00:00:00",
          "2000-01-01T00:00:00",
          "2000-02-01T00:00:00",
          "2000-03-01T00:00:00",
          "2000-04-01T00:00:00",
          "2000-05-01T00:00:00",
          "2000-06-01T00:00:00",
          "2000-07-01T00:00:00",
          "2000-08-01T00:00:00",
          "2000-09-01T00:00:00",
          "2000-10-01T00:00:00",
          "2000-11-01T00:00:00",
          "2000-12-01T00:00:00",
          "2001-01-01T00:00:00",
          "2001-02-01T00:00:00",
          "2001-03-01T00:00:00",
          "2001-04-01T00:00:00",
          "2001-05-01T00:00:00",
          "2001-06-01T00:00:00",
          "2001-07-01T00:00:00",
          "2001-08-01T00:00:00",
          "2001-09-01T00:00:00",
          "2001-10-01T00:00:00",
          "2001-11-01T00:00:00",
          "2001-12-01T00:00:00",
          "2002-01-01T00:00:00",
          "2002-02-01T00:00:00",
          "2002-03-01T00:00:00",
          "2002-04-01T00:00:00",
          "2002-05-01T00:00:00",
          "2002-06-01T00:00:00",
          "2002-07-01T00:00:00",
          "2002-08-01T00:00:00",
          "2002-09-01T00:00:00",
          "2002-10-01T00:00:00",
          "2002-11-01T00:00:00",
          "2002-12-01T00:00:00",
          "2003-01-01T00:00:00",
          "2003-02-01T00:00:00",
          "2003-03-01T00:00:00",
          "2003-04-01T00:00:00",
          "2003-05-01T00:00:00",
          "2003-06-01T00:00:00",
          "2003-07-01T00:00:00",
          "2003-08-01T00:00:00",
          "2003-09-01T00:00:00",
          "2003-10-01T00:00:00",
          "2003-11-01T00:00:00",
          "2003-12-01T00:00:00",
          "2004-01-01T00:00:00",
          "2004-02-01T00:00:00",
          "2004-03-01T00:00:00",
          "2004-04-01T00:00:00",
          "2004-05-01T00:00:00",
          "2004-06-01T00:00:00",
          "2004-07-01T00:00:00",
          "2004-08-01T00:00:00",
          "2004-09-01T00:00:00",
          "2004-10-01T00:00:00",
          "2004-11-01T00:00:00",
          "2004-12-01T00:00:00",
          "2005-01-01T00:00:00",
          "2005-02-01T00:00:00",
          "2005-03-01T00:00:00",
          "2005-04-01T00:00:00",
          "2005-05-01T00:00:00",
          "2005-06-01T00:00:00",
          "2005-07-01T00:00:00",
          "2005-08-01T00:00:00",
          "2005-09-01T00:00:00",
          "2005-10-01T00:00:00",
          "2005-11-01T00:00:00",
          "2005-12-01T00:00:00",
          "2006-01-01T00:00:00",
          "2006-02-01T00:00:00",
          "2006-03-01T00:00:00",
          "2006-04-01T00:00:00",
          "2006-05-01T00:00:00",
          "2006-06-01T00:00:00",
          "2006-07-01T00:00:00",
          "2006-08-01T00:00:00",
          "2006-09-01T00:00:00",
          "2006-10-01T00:00:00",
          "2006-11-01T00:00:00",
          "2006-12-01T00:00:00",
          "2007-01-01T00:00:00",
          "2007-02-01T00:00:00",
          "2007-03-01T00:00:00",
          "2007-04-01T00:00:00",
          "2007-05-01T00:00:00",
          "2007-06-01T00:00:00",
          "2007-07-01T00:00:00",
          "2007-08-01T00:00:00",
          "2007-09-01T00:00:00",
          "2007-10-01T00:00:00",
          "2007-11-01T00:00:00",
          "2007-12-01T00:00:00",
          "2008-01-01T00:00:00",
          "2008-02-01T00:00:00",
          "2008-03-01T00:00:00",
          "2008-04-01T00:00:00",
          "2008-05-01T00:00:00",
          "2008-06-01T00:00:00",
          "2008-07-01T00:00:00",
          "2008-08-01T00:00:00",
          "2008-09-01T00:00:00",
          "2008-10-01T00:00:00",
          "2008-11-01T00:00:00",
          "2008-12-01T00:00:00",
          "2009-01-01T00:00:00",
          "2009-02-01T00:00:00",
          "2009-03-01T00:00:00",
          "2009-04-01T00:00:00",
          "2009-05-01T00:00:00",
          "2009-06-01T00:00:00",
          "2009-07-01T00:00:00",
          "2009-08-01T00:00:00",
          "2009-09-01T00:00:00",
          "2009-10-01T00:00:00",
          "2009-11-01T00:00:00",
          "2009-12-01T00:00:00",
          "2010-01-01T00:00:00",
          "2010-02-01T00:00:00",
          "2010-03-01T00:00:00",
          "2010-04-01T00:00:00",
          "2010-05-01T00:00:00",
          "2010-06-01T00:00:00",
          "2010-07-01T00:00:00",
          "2010-08-01T00:00:00",
          "2010-09-01T00:00:00",
          "2010-10-01T00:00:00",
          "2010-11-01T00:00:00",
          "2010-12-01T00:00:00",
          "2011-01-01T00:00:00",
          "2011-02-01T00:00:00",
          "2011-03-01T00:00:00",
          "2011-04-01T00:00:00",
          "2011-05-01T00:00:00",
          "2011-06-01T00:00:00",
          "2011-07-01T00:00:00",
          "2011-08-01T00:00:00",
          "2011-09-01T00:00:00",
          "2011-10-01T00:00:00",
          "2011-11-01T00:00:00",
          "2011-12-01T00:00:00",
          "2012-01-01T00:00:00",
          "2012-02-01T00:00:00",
          "2012-03-01T00:00:00",
          "2012-04-01T00:00:00",
          "2012-05-01T00:00:00",
          "2012-06-01T00:00:00",
          "2012-07-01T00:00:00",
          "2012-08-01T00:00:00",
          "2012-09-01T00:00:00",
          "2012-10-01T00:00:00",
          "2012-11-01T00:00:00",
          "2012-12-01T00:00:00",
          "2013-01-01T00:00:00",
          "2013-02-01T00:00:00",
          "2013-03-01T00:00:00",
          "2013-04-01T00:00:00",
          "2013-05-01T00:00:00",
          "2013-06-01T00:00:00",
          "2013-07-01T00:00:00",
          "2013-08-01T00:00:00",
          "2013-09-01T00:00:00",
          "2013-10-01T00:00:00",
          "2013-11-01T00:00:00",
          "2013-12-01T00:00:00",
          "2014-01-01T00:00:00",
          "2014-02-01T00:00:00",
          "2014-03-01T00:00:00",
          "2014-04-01T00:00:00",
          "2014-05-01T00:00:00",
          "2014-06-01T00:00:00",
          "2014-07-01T00:00:00",
          "2014-08-01T00:00:00",
          "2014-09-01T00:00:00",
          "2014-10-01T00:00:00",
          "2014-11-01T00:00:00",
          "2014-12-01T00:00:00",
          "2015-01-01T00:00:00",
          "2015-02-01T00:00:00",
          "2015-03-01T00:00:00",
          "2015-04-01T00:00:00",
          "2015-05-01T00:00:00",
          "2015-06-01T00:00:00",
          "2015-07-01T00:00:00",
          "2015-08-01T00:00:00",
          "2015-09-01T00:00:00",
          "2015-10-01T00:00:00",
          "2015-11-01T00:00:00",
          "2015-12-01T00:00:00"
         ],
         "xaxis": "x",
         "y": {
          "bdata": "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",
          "dtype": "f8"
         },
         "yaxis": "y"
        },
        {
         "hovertemplate": "variable=Spending<br>Date=%{x}<br>value=%{y}<extra></extra>",
         "legendgroup": "Spending",
         "line": {
          "color": "#EF553B",
          "dash": "solid"
         },
         "marker": {
          "symbol": "circle"
         },
         "mode": "lines",
         "name": "Spending",
         "orientation": "v",
         "showlegend": true,
         "type": "scatter",
         "x": [
          "1995-01-01T00:00:00",
          "1995-02-01T00:00:00",
          "1995-03-01T00:00:00",
          "1995-04-01T00:00:00",
          "1995-05-01T00:00:00",
          "1995-06-01T00:00:00",
          "1995-07-01T00:00:00",
          "1995-08-01T00:00:00",
          "1995-09-01T00:00:00",
          "1995-10-01T00:00:00",
          "1995-11-01T00:00:00",
          "1995-12-01T00:00:00",
          "1996-01-01T00:00:00",
          "1996-02-01T00:00:00",
          "1996-03-01T00:00:00",
          "1996-04-01T00:00:00",
          "1996-05-01T00:00:00",
          "1996-06-01T00:00:00",
          "1996-07-01T00:00:00",
          "1996-08-01T00:00:00",
          "1996-09-01T00:00:00",
          "1996-10-01T00:00:00",
          "1996-11-01T00:00:00",
          "1996-12-01T00:00:00",
          "1997-01-01T00:00:00",
          "1997-02-01T00:00:00",
          "1997-03-01T00:00:00",
          "1997-04-01T00:00:00",
          "1997-05-01T00:00:00",
          "1997-06-01T00:00:00",
          "1997-07-01T00:00:00",
          "1997-08-01T00:00:00",
          "1997-09-01T00:00:00",
          "1997-10-01T00:00:00",
          "1997-11-01T00:00:00",
          "1997-12-01T00:00:00",
          "1998-01-01T00:00:00",
          "1998-02-01T00:00:00",
          "1998-03-01T00:00:00",
          "1998-04-01T00:00:00",
          "1998-05-01T00:00:00",
          "1998-06-01T00:00:00",
          "1998-07-01T00:00:00",
          "1998-08-01T00:00:00",
          "1998-09-01T00:00:00",
          "1998-10-01T00:00:00",
          "1998-11-01T00:00:00",
          "1998-12-01T00:00:00",
          "1999-01-01T00:00:00",
          "1999-02-01T00:00:00",
          "1999-03-01T00:00:00",
          "1999-04-01T00:00:00",
          "1999-05-01T00:00:00",
          "1999-06-01T00:00:00",
          "1999-07-01T00:00:00",
          "1999-08-01T00:00:00",
          "1999-09-01T00:00:00",
          "1999-10-01T00:00:00",
          "1999-11-01T00:00:00",
          "1999-12-01T00:00:00",
          "2000-01-01T00:00:00",
          "2000-02-01T00:00:00",
          "2000-03-01T00:00:00",
          "2000-04-01T00:00:00",
          "2000-05-01T00:00:00",
          "2000-06-01T00:00:00",
          "2000-07-01T00:00:00",
          "2000-08-01T00:00:00",
          "2000-09-01T00:00:00",
          "2000-10-01T00:00:00",
          "2000-11-01T00:00:00",
          "2000-12-01T00:00:00",
          "2001-01-01T00:00:00",
          "2001-02-01T00:00:00",
          "2001-03-01T00:00:00",
          "2001-04-01T00:00:00",
          "2001-05-01T00:00:00",
          "2001-06-01T00:00:00",
          "2001-07-01T00:00:00",
          "2001-08-01T00:00:00",
          "2001-09-01T00:00:00",
          "2001-10-01T00:00:00",
          "2001-11-01T00:00:00",
          "2001-12-01T00:00:00",
          "2002-01-01T00:00:00",
          "2002-02-01T00:00:00",
          "2002-03-01T00:00:00",
          "2002-04-01T00:00:00",
          "2002-05-01T00:00:00",
          "2002-06-01T00:00:00",
          "2002-07-01T00:00:00",
          "2002-08-01T00:00:00",
          "2002-09-01T00:00:00",
          "2002-10-01T00:00:00",
          "2002-11-01T00:00:00",
          "2002-12-01T00:00:00",
          "2003-01-01T00:00:00",
          "2003-02-01T00:00:00",
          "2003-03-01T00:00:00",
          "2003-04-01T00:00:00",
          "2003-05-01T00:00:00",
          "2003-06-01T00:00:00",
          "2003-07-01T00:00:00",
          "2003-08-01T00:00:00",
          "2003-09-01T00:00:00",
          "2003-10-01T00:00:00",
          "2003-11-01T00:00:00",
          "2003-12-01T00:00:00",
          "2004-01-01T00:00:00",
          "2004-02-01T00:00:00",
          "2004-03-01T00:00:00",
          "2004-04-01T00:00:00",
          "2004-05-01T00:00:00",
          "2004-06-01T00:00:00",
          "2004-07-01T00:00:00",
          "2004-08-01T00:00:00",
          "2004-09-01T00:00:00",
          "2004-10-01T00:00:00",
          "2004-11-01T00:00:00",
          "2004-12-01T00:00:00",
          "2005-01-01T00:00:00",
          "2005-02-01T00:00:00",
          "2005-03-01T00:00:00",
          "2005-04-01T00:00:00",
          "2005-05-01T00:00:00",
          "2005-06-01T00:00:00",
          "2005-07-01T00:00:00",
          "2005-08-01T00:00:00",
          "2005-09-01T00:00:00",
          "2005-10-01T00:00:00",
          "2005-11-01T00:00:00",
          "2005-12-01T00:00:00",
          "2006-01-01T00:00:00",
          "2006-02-01T00:00:00",
          "2006-03-01T00:00:00",
          "2006-04-01T00:00:00",
          "2006-05-01T00:00:00",
          "2006-06-01T00:00:00",
          "2006-07-01T00:00:00",
          "2006-08-01T00:00:00",
          "2006-09-01T00:00:00",
          "2006-10-01T00:00:00",
          "2006-11-01T00:00:00",
          "2006-12-01T00:00:00",
          "2007-01-01T00:00:00",
          "2007-02-01T00:00:00",
          "2007-03-01T00:00:00",
          "2007-04-01T00:00:00",
          "2007-05-01T00:00:00",
          "2007-06-01T00:00:00",
          "2007-07-01T00:00:00",
          "2007-08-01T00:00:00",
          "2007-09-01T00:00:00",
          "2007-10-01T00:00:00",
          "2007-11-01T00:00:00",
          "2007-12-01T00:00:00",
          "2008-01-01T00:00:00",
          "2008-02-01T00:00:00",
          "2008-03-01T00:00:00",
          "2008-04-01T00:00:00",
          "2008-05-01T00:00:00",
          "2008-06-01T00:00:00",
          "2008-07-01T00:00:00",
          "2008-08-01T00:00:00",
          "2008-09-01T00:00:00",
          "2008-10-01T00:00:00",
          "2008-11-01T00:00:00",
          "2008-12-01T00:00:00",
          "2009-01-01T00:00:00",
          "2009-02-01T00:00:00",
          "2009-03-01T00:00:00",
          "2009-04-01T00:00:00",
          "2009-05-01T00:00:00",
          "2009-06-01T00:00:00",
          "2009-07-01T00:00:00",
          "2009-08-01T00:00:00",
          "2009-09-01T00:00:00",
          "2009-10-01T00:00:00",
          "2009-11-01T00:00:00",
          "2009-12-01T00:00:00",
          "2010-01-01T00:00:00",
          "2010-02-01T00:00:00",
          "2010-03-01T00:00:00",
          "2010-04-01T00:00:00",
          "2010-05-01T00:00:00",
          "2010-06-01T00:00:00",
          "2010-07-01T00:00:00",
          "2010-08-01T00:00:00",
          "2010-09-01T00:00:00",
          "2010-10-01T00:00:00",
          "2010-11-01T00:00:00",
          "2010-12-01T00:00:00",
          "2011-01-01T00:00:00",
          "2011-02-01T00:00:00",
          "2011-03-01T00:00:00",
          "2011-04-01T00:00:00",
          "2011-05-01T00:00:00",
          "2011-06-01T00:00:00",
          "2011-07-01T00:00:00",
          "2011-08-01T00:00:00",
          "2011-09-01T00:00:00",
          "2011-10-01T00:00:00",
          "2011-11-01T00:00:00",
          "2011-12-01T00:00:00",
          "2012-01-01T00:00:00",
          "2012-02-01T00:00:00",
          "2012-03-01T00:00:00",
          "2012-04-01T00:00:00",
          "2012-05-01T00:00:00",
          "2012-06-01T00:00:00",
          "2012-07-01T00:00:00",
          "2012-08-01T00:00:00",
          "2012-09-01T00:00:00",
          "2012-10-01T00:00:00",
          "2012-11-01T00:00:00",
          "2012-12-01T00:00:00",
          "2013-01-01T00:00:00",
          "2013-02-01T00:00:00",
          "2013-03-01T00:00:00",
          "2013-04-01T00:00:00",
          "2013-05-01T00:00:00",
          "2013-06-01T00:00:00",
          "2013-07-01T00:00:00",
          "2013-08-01T00:00:00",
          "2013-09-01T00:00:00",
          "2013-10-01T00:00:00",
          "2013-11-01T00:00:00",
          "2013-12-01T00:00:00",
          "2014-01-01T00:00:00",
          "2014-02-01T00:00:00",
          "2014-03-01T00:00:00",
          "2014-04-01T00:00:00",
          "2014-05-01T00:00:00",
          "2014-06-01T00:00:00",
          "2014-07-01T00:00:00",
          "2014-08-01T00:00:00",
          "2014-09-01T00:00:00",
          "2014-10-01T00:00:00",
          "2014-11-01T00:00:00",
          "2014-12-01T00:00:00",
          "2015-01-01T00:00:00",
          "2015-02-01T00:00:00",
          "2015-03-01T00:00:00",
          "2015-04-01T00:00:00",
          "2015-05-01T00:00:00",
          "2015-06-01T00:00:00",
          "2015-07-01T00:00:00",
          "2015-08-01T00:00:00",
          "2015-09-01T00:00:00",
          "2015-10-01T00:00:00",
          "2015-11-01T00:00:00",
          "2015-12-01T00:00:00"
         ],
         "xaxis": "x",
         "y": {
          "bdata": "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",
          "dtype": "f8"
         },
         "yaxis": "y"
        }
       ],
       "layout": {
        "legend": {
         "title": {
          "text": "variable"
         },
         "tracegroupgap": 0
        },
        "template": {
         "data": {
          "bar": [
           {
            "error_x": {
             "color": "#2a3f5f"
            },
            "error_y": {
             "color": "#2a3f5f"
            },
            "marker": {
             "line": {
              "color": "#E5ECF6",
              "width": 0.5
             },
             "pattern": {
              "fillmode": "overlay",
              "size": 10,
              "solidity": 0.2
             }
            },
            "type": "bar"
           }
          ],
          "barpolar": [
           {
            "marker": {
             "line": {
              "color": "#E5ECF6",
              "width": 0.5
             },
             "pattern": {
              "fillmode": "overlay",
              "size": 10,
              "solidity": 0.2
             }
            },
            "type": "barpolar"
           }
          ],
          "carpet": [
           {
            "aaxis": {
             "endlinecolor": "#2a3f5f",
             "gridcolor": "white",
             "linecolor": "white",
             "minorgridcolor": "white",
             "startlinecolor": "#2a3f5f"
            },
            "baxis": {
             "endlinecolor": "#2a3f5f",
             "gridcolor": "white",
             "linecolor": "white",
             "minorgridcolor": "white",
             "startlinecolor": "#2a3f5f"
            },
            "type": "carpet"
           }
          ],
          "choropleth": [
           {
            "colorbar": {
             "outlinewidth": 0,
             "ticks": ""
            },
            "type": "choropleth"
           }
          ],
          "contour": [
           {
            "colorbar": {
             "outlinewidth": 0,
             "ticks": ""
            },
            "colorscale": [
             [
              0,
              "#0d0887"
             ],
             [
              0.1111111111111111,
              "#46039f"
             ],
             [
              0.2222222222222222,
              "#7201a8"
             ],
             [
              0.3333333333333333,
              "#9c179e"
             ],
             [
              0.4444444444444444,
              "#bd3786"
             ],
             [
              0.5555555555555556,
              "#d8576b"
             ],
             [
              0.6666666666666666,
              "#ed7953"
             ],
             [
              0.7777777777777778,
              "#fb9f3a"
             ],
             [
              0.8888888888888888,
              "#fdca26"
             ],
             [
              1,
              "#f0f921"
             ]
            ],
            "type": "contour"
           }
          ],
          "contourcarpet": [
           {
            "colorbar": {
             "outlinewidth": 0,
             "ticks": ""
            },
            "type": "contourcarpet"
           }
          ],
          "heatmap": [
           {
            "colorbar": {
             "outlinewidth": 0,
             "ticks": ""
            },
            "colorscale": [
             [
              0,
              "#0d0887"
             ],
             [
              0.1111111111111111,
              "#46039f"
             ],
             [
              0.2222222222222222,
              "#7201a8"
             ],
             [
              0.3333333333333333,
              "#9c179e"
             ],
             [
              0.4444444444444444,
              "#bd3786"
             ],
             [
              0.5555555555555556,
              "#d8576b"
             ],
             [
              0.6666666666666666,
              "#ed7953"
             ],
             [
              0.7777777777777778,
              "#fb9f3a"
             ],
             [
              0.8888888888888888,
              "#fdca26"
             ],
             [
              1,
              "#f0f921"
             ]
            ],
            "type": "heatmap"
           }
          ],
          "histogram": [
           {
            "marker": {
             "pattern": {
              "fillmode": "overlay",
              "size": 10,
              "solidity": 0.2
             }
            },
            "type": "histogram"
           }
          ],
          "histogram2d": [
           {
            "colorbar": {
             "outlinewidth": 0,
             "ticks": ""
            },
            "colorscale": [
             [
              0,
              "#0d0887"
             ],
             [
              0.1111111111111111,
              "#46039f"
             ],
             [
              0.2222222222222222,
              "#7201a8"
             ],
             [
              0.3333333333333333,
              "#9c179e"
             ],
             [
              0.4444444444444444,
              "#bd3786"
             ],
             [
              0.5555555555555556,
              "#d8576b"
             ],
             [
              0.6666666666666666,
              "#ed7953"
             ],
             [
              0.7777777777777778,
              "#fb9f3a"
             ],
             [
              0.8888888888888888,
              "#fdca26"
             ],
             [
              1,
              "#f0f921"
             ]
            ],
            "type": "histogram2d"
           }
          ],
          "histogram2dcontour": [
           {
            "colorbar": {
             "outlinewidth": 0,
             "ticks": ""
            },
            "colorscale": [
             [
              0,
              "#0d0887"
             ],
             [
              0.1111111111111111,
              "#46039f"
             ],
             [
              0.2222222222222222,
              "#7201a8"
             ],
             [
              0.3333333333333333,
              "#9c179e"
             ],
             [
              0.4444444444444444,
              "#bd3786"
             ],
             [
              0.5555555555555556,
              "#d8576b"
             ],
             [
              0.6666666666666666,
              "#ed7953"
             ],
             [
              0.7777777777777778,
              "#fb9f3a"
             ],
             [
              0.8888888888888888,
              "#fdca26"
             ],
             [
              1,
              "#f0f921"
             ]
            ],
            "type": "histogram2dcontour"
           }
          ],
          "mesh3d": [
           {
            "colorbar": {
             "outlinewidth": 0,
             "ticks": ""
            },
            "type": "mesh3d"
           }
          ],
          "parcoords": [
           {
            "line": {
             "colorbar": {
              "outlinewidth": 0,
              "ticks": ""
             }
            },
            "type": "parcoords"
           }
          ],
          "pie": [
           {
            "automargin": true,
            "type": "pie"
           }
          ],
          "scatter": [
           {
            "fillpattern": {
             "fillmode": "overlay",
             "size": 10,
             "solidity": 0.2
            },
            "type": "scatter"
           }
          ],
          "scatter3d": [
           {
            "line": {
             "colorbar": {
              "outlinewidth": 0,
              "ticks": ""
             }
            },
            "marker": {
             "colorbar": {
              "outlinewidth": 0,
              "ticks": ""
             }
            },
            "type": "scatter3d"
           }
          ],
          "scattercarpet": [
           {
            "marker": {
             "colorbar": {
              "outlinewidth": 0,
              "ticks": ""
             }
            },
            "type": "scattercarpet"
           }
          ],
          "scattergeo": [
           {
            "marker": {
             "colorbar": {
              "outlinewidth": 0,
              "ticks": ""
             }
            },
            "type": "scattergeo"
           }
          ],
          "scattergl": [
           {
            "marker": {
             "colorbar": {
              "outlinewidth": 0,
              "ticks": ""
             }
            },
            "type": "scattergl"
           }
          ],
          "scattermap": [
           {
            "marker": {
             "colorbar": {
              "outlinewidth": 0,
              "ticks": ""
             }
            },
            "type": "scattermap"
           }
          ],
          "scattermapbox": [
           {
            "marker": {
             "colorbar": {
              "outlinewidth": 0,
              "ticks": ""
             }
            },
            "type": "scattermapbox"
           }
          ],
          "scatterpolar": [
           {
            "marker": {
             "colorbar": {
              "outlinewidth": 0,
              "ticks": ""
             }
            },
            "type": "scatterpolar"
           }
          ],
          "scatterpolargl": [
           {
            "marker": {
             "colorbar": {
              "outlinewidth": 0,
              "ticks": ""
             }
            },
            "type": "scatterpolargl"
           }
          ],
          "scatterternary": [
           {
            "marker": {
             "colorbar": {
              "outlinewidth": 0,
              "ticks": ""
             }
            },
            "type": "scatterternary"
           }
          ],
          "surface": [
           {
            "colorbar": {
             "outlinewidth": 0,
             "ticks": ""
            },
            "colorscale": [
             [
              0,
              "#0d0887"
             ],
             [
              0.1111111111111111,
              "#46039f"
             ],
             [
              0.2222222222222222,
              "#7201a8"
             ],
             [
              0.3333333333333333,
              "#9c179e"
             ],
             [
              0.4444444444444444,
              "#bd3786"
             ],
             [
              0.5555555555555556,
              "#d8576b"
             ],
             [
              0.6666666666666666,
              "#ed7953"
             ],
             [
              0.7777777777777778,
              "#fb9f3a"
             ],
             [
              0.8888888888888888,
              "#fdca26"
             ],
             [
              1,
              "#f0f921"
             ]
            ],
            "type": "surface"
           }
          ],
          "table": [
           {
            "cells": {
             "fill": {
              "color": "#EBF0F8"
             },
             "line": {
              "color": "white"
             }
            },
            "header": {
             "fill": {
              "color": "#C8D4E3"
             },
             "line": {
              "color": "white"
             }
            },
            "type": "table"
           }
          ]
         },
         "layout": {
          "annotationdefaults": {
           "arrowcolor": "#2a3f5f",
           "arrowhead": 0,
           "arrowwidth": 1
          },
          "autotypenumbers": "strict",
          "coloraxis": {
           "colorbar": {
            "outlinewidth": 0,
            "ticks": ""
           }
          },
          "colorscale": {
           "diverging": [
            [
             0,
             "#8e0152"
            ],
            [
             0.1,
             "#c51b7d"
            ],
            [
             0.2,
             "#de77ae"
            ],
            [
             0.3,
             "#f1b6da"
            ],
            [
             0.4,
             "#fde0ef"
            ],
            [
             0.5,
             "#f7f7f7"
            ],
            [
             0.6,
             "#e6f5d0"
            ],
            [
             0.7,
             "#b8e186"
            ],
            [
             0.8,
             "#7fbc41"
            ],
            [
             0.9,
             "#4d9221"
            ],
            [
             1,
             "#276419"
            ]
           ],
           "sequential": [
            [
             0,
             "#0d0887"
            ],
            [
             0.1111111111111111,
             "#46039f"
            ],
            [
             0.2222222222222222,
             "#7201a8"
            ],
            [
             0.3333333333333333,
             "#9c179e"
            ],
            [
             0.4444444444444444,
             "#bd3786"
            ],
            [
             0.5555555555555556,
             "#d8576b"
            ],
            [
             0.6666666666666666,
             "#ed7953"
            ],
            [
             0.7777777777777778,
             "#fb9f3a"
            ],
            [
             0.8888888888888888,
             "#fdca26"
            ],
            [
             1,
             "#f0f921"
            ]
           ],
           "sequentialminus": [
            [
             0,
             "#0d0887"
            ],
            [
             0.1111111111111111,
             "#46039f"
            ],
            [
             0.2222222222222222,
             "#7201a8"
            ],
            [
             0.3333333333333333,
             "#9c179e"
            ],
            [
             0.4444444444444444,
             "#bd3786"
            ],
            [
             0.5555555555555556,
             "#d8576b"
            ],
            [
             0.6666666666666666,
             "#ed7953"
            ],
            [
             0.7777777777777778,
             "#fb9f3a"
            ],
            [
             0.8888888888888888,
             "#fdca26"
            ],
            [
             1,
             "#f0f921"
            ]
           ]
          },
          "colorway": [
           "#636efa",
           "#EF553B",
           "#00cc96",
           "#ab63fa",
           "#FFA15A",
           "#19d3f3",
           "#FF6692",
           "#B6E880",
           "#FF97FF",
           "#FECB52"
          ],
          "font": {
           "color": "#2a3f5f"
          },
          "geo": {
           "bgcolor": "white",
           "lakecolor": "white",
           "landcolor": "#E5ECF6",
           "showlakes": true,
           "showland": true,
           "subunitcolor": "white"
          },
          "hoverlabel": {
           "align": "left"
          },
          "hovermode": "closest",
          "mapbox": {
           "style": "light"
          },
          "paper_bgcolor": "white",
          "plot_bgcolor": "#E5ECF6",
          "polar": {
           "angularaxis": {
            "gridcolor": "white",
            "linecolor": "white",
            "ticks": ""
           },
           "bgcolor": "#E5ECF6",
           "radialaxis": {
            "gridcolor": "white",
            "linecolor": "white",
            "ticks": ""
           }
          },
          "scene": {
           "xaxis": {
            "backgroundcolor": "#E5ECF6",
            "gridcolor": "white",
            "gridwidth": 2,
            "linecolor": "white",
            "showbackground": true,
            "ticks": "",
            "zerolinecolor": "white"
           },
           "yaxis": {
            "backgroundcolor": "#E5ECF6",
            "gridcolor": "white",
            "gridwidth": 2,
            "linecolor": "white",
            "showbackground": true,
            "ticks": "",
            "zerolinecolor": "white"
           },
           "zaxis": {
            "backgroundcolor": "#E5ECF6",
            "gridcolor": "white",
            "gridwidth": 2,
            "linecolor": "white",
            "showbackground": true,
            "ticks": "",
            "zerolinecolor": "white"
           }
          },
          "shapedefaults": {
           "line": {
            "color": "#2a3f5f"
           }
          },
          "ternary": {
           "aaxis": {
            "gridcolor": "white",
            "linecolor": "white",
            "ticks": ""
           },
           "baxis": {
            "gridcolor": "white",
            "linecolor": "white",
            "ticks": ""
           },
           "bgcolor": "#E5ECF6",
           "caxis": {
            "gridcolor": "white",
            "linecolor": "white",
            "ticks": ""
           }
          },
          "title": {
           "x": 0.05
          },
          "xaxis": {
           "automargin": true,
           "gridcolor": "white",
           "linecolor": "white",
           "ticks": "",
           "title": {
            "standoff": 15
           },
           "zerolinecolor": "white",
           "zerolinewidth": 2
          },
          "yaxis": {
           "automargin": true,
           "gridcolor": "white",
           "linecolor": "white",
           "ticks": "",
           "title": {
            "standoff": 15
           },
           "zerolinecolor": "white",
           "zerolinewidth": 2
          }
         }
        },
        "title": {
         "text": "M2 통화량 및 개인 소비"
        },
        "xaxis": {
         "anchor": "y",
         "domain": [
          0,
          1
         ],
         "title": {
          "text": "Date"
         }
        },
        "yaxis": {
         "anchor": "x",
         "domain": [
          0,
          1
         ],
         "title": {
          "text": "value"
         }
        }
       }
      }
     },
     "metadata": {},
     "output_type": "display_data"
    }
   ],
   "source": [
    "px.line(df, x=df.index, y=df.columns, title=\"M2 통화량 및 개인 소비\").show()"
   ]
  },
  {
   "cell_type": "code",
   "execution_count": 18,
   "metadata": {},
   "outputs": [],
   "source": [
    "# 정상성이 전제되어야 ARIMA 계열 모델을 사용할수 있다고 지난 수업시간 설명했습니다.\n",
    "# 이유는 AR의 경우 타입스텝 각 시점마다 평균과 분산이 일정해야, 바로 이전 타입스텝과의 관계성을 회귀식으로 정의할수 있고,\n",
    "# MA의 경우, 과거 시점의 오차 값을 이용해서 편재 시점의 값을 예측하는데, 평균 변동성은 오차패턴의 변동성을 만들게 되어, 과거오차 기반 예측이 불안정해지기 때문입니다."
   ]
  },
  {
   "cell_type": "markdown",
   "metadata": {},
   "source": [
    "오리지널 데이터 정상성검정"
   ]
  },
  {
   "cell_type": "code",
   "execution_count": 19,
   "metadata": {},
   "outputs": [
    {
     "name": "stdout",
     "output_type": "stream",
     "text": [
      "- ADF 통계량: 4.239022425670647\n",
      "- p-value: 1.0 (정상성 없음)\n",
      "- 지연수: 4\n",
      "- 관찰수: 247\n",
      "- 임계값:\n",
      "\t1%: -3.457\n",
      "\t5%: -2.873\n",
      "\t10%: -2.573\n",
      "\n",
      "- ADF 통계량: 0.14979608598625144\n",
      "- p-value: 0.969300994442831 (정상성 없음)\n",
      "- 지연수: 3\n",
      "- 관찰수: 248\n",
      "- 임계값:\n",
      "\t1%: -3.457\n",
      "\t5%: -2.873\n",
      "\t10%: -2.573\n"
     ]
    }
   ],
   "source": [
    "adf_test(df['Money']);\n",
    "print()\n",
    "adf_test(df['Spending']);"
   ]
  },
  {
   "cell_type": "markdown",
   "metadata": {},
   "source": [
    "1차 차분 데이터 정상성 검정"
   ]
  },
  {
   "cell_type": "code",
   "execution_count": 20,
   "metadata": {},
   "outputs": [],
   "source": [
    "# 1차 차분\n",
    "df_transformed = df.diff().dropna()"
   ]
  },
  {
   "cell_type": "code",
   "execution_count": 21,
   "metadata": {},
   "outputs": [
    {
     "name": "stdout",
     "output_type": "stream",
     "text": [
      "- ADF 통계량: -2.0574040497379373\n",
      "- p-value: 0.2619837978511253 (정상성 없음)\n",
      "- 지연수: 15\n",
      "- 관찰수: 235\n",
      "- 임계값:\n",
      "\t1%: -3.458\n",
      "\t5%: -2.874\n",
      "\t10%: -2.573\n",
      "\n",
      "- ADF 통계량: -7.226973930850659\n",
      "- p-value: 2.04102725921286e-10 (정상성 있음)\n",
      "- 지연수: 2\n",
      "- 관찰수: 248\n",
      "- 임계값:\n",
      "\t1%: -3.457\n",
      "\t5%: -2.873\n",
      "\t10%: -2.573\n"
     ]
    }
   ],
   "source": [
    "adf_test(df_transformed['Money']);\n",
    "print()\n",
    "adf_test(df_transformed['Spending']);"
   ]
  },
  {
   "cell_type": "markdown",
   "metadata": {},
   "source": [
    "2차 차분 데이터 정상성 검정"
   ]
  },
  {
   "cell_type": "code",
   "execution_count": 22,
   "metadata": {},
   "outputs": [
    {
     "name": "stdout",
     "output_type": "stream",
     "text": [
      "- ADF 통계량: -7.077470794343004\n",
      "- p-value: 4.760674931296479e-10 (정상성 있음)\n",
      "- 지연수: 14\n",
      "- 관찰수: 235\n",
      "- 임계값:\n",
      "\t1%: -3.458\n",
      "\t5%: -2.874\n",
      "\t10%: -2.573\n",
      "\n",
      "- ADF 통계량: -8.760145426337745\n",
      "- p-value: 2.6878999679867176e-14 (정상성 있음)\n",
      "- 지연수: 8\n",
      "- 관찰수: 241\n",
      "- 임계값:\n",
      "\t1%: -3.458\n",
      "\t5%: -2.874\n",
      "\t10%: -2.573\n"
     ]
    }
   ],
   "source": [
    "# 2차 차분\n",
    "df_transformed = df_transformed.diff().dropna()\n",
    "adf_test(df_transformed['Money']);\n",
    "print()\n",
    "adf_test(df_transformed['Spending']);"
   ]
  },
  {
   "cell_type": "markdown",
   "metadata": {},
   "source": [
    "데이터 분할\n",
    "\n",
    "- 여기서 데이터 분할을 sklearn의 train_test_split 함수 등을 사용하지 않는 이유는, <font color=\"yellow\">시간순 정렬의 shuffle이 일어나서는 안되기 때문</font>입니다.(시계열 분석의 특징)"
   ]
  },
  {
   "cell_type": "code",
   "execution_count": 23,
   "metadata": {},
   "outputs": [],
   "source": [
    "# 테스트셋의 12개의 타임스텝으로 만들고, 예측시, 이 12개의 타임스텝을 싱글샷으로 예측할 예정입니다.\n",
    "nobs=12\n",
    "train, test = df_transformed[0:-nobs], df_transformed[-nobs:]"
   ]
  },
  {
   "cell_type": "code",
   "execution_count": 24,
   "metadata": {},
   "outputs": [
    {
     "name": "stdout",
     "output_type": "stream",
     "text": [
      "(238, 2)\n",
      "(12, 2)\n"
     ]
    }
   ],
   "source": [
    "print(train.shape)\n",
    "print(test.shape)"
   ]
  },
  {
   "cell_type": "markdown",
   "metadata": {},
   "source": [
    "AIC지표 기반 VAR 최적모델 파인더 실행\n",
    "\n",
    " - AIC (Akaike Information Criterion)\n",
    "  \n",
    "   - 값이 낮을수록 더 좋은 모델을 의미.  \n",
    "\n",
    "   - AIC는 모델의 복잡도와 적합도를 모두 고려하여 계산됩니다.\n",
    "   - 공식 : $ \\text{AIC} = 2k - 2\\ln(L) $ ( $k$는 복잡도, $L$은 설명력(우도)을 의미 )"
   ]
  },
  {
   "cell_type": "code",
   "execution_count": 25,
   "metadata": {},
   "outputs": [
    {
     "name": "stdout",
     "output_type": "stream",
     "text": [
      "Best Order = 5\n"
     ]
    }
   ],
   "source": [
    "def find_best_model(train, max_order):\n",
    "    best_aic = float('inf')\n",
    "    best_order = None\n",
    "    model = VAR(train)\n",
    "    for i in range(1, max_order+1):\n",
    "        results = model.fit(i)\n",
    "        if results.aic < best_aic:\n",
    "            best_aic = results.aic\n",
    "            best_order = i\n",
    "    return model, best_order\n",
    "\n",
    "model, best_order = find_best_model(train, max_order=7)\n",
    "print('Best Order =', best_order)"
   ]
  },
  {
   "cell_type": "code",
   "execution_count": 26,
   "metadata": {},
   "outputs": [
    {
     "data": {
      "text/plain": [
       "['Money', 'Spending']"
      ]
     },
     "execution_count": 26,
     "metadata": {},
     "output_type": "execute_result"
    }
   ],
   "source": [
    "# 모델에 있는 변수들의 이름을 확인합니다.\n",
    "model.endog_names"
   ]
  },
  {
   "cell_type": "markdown",
   "metadata": {},
   "source": [
    "모델링"
   ]
  },
  {
   "cell_type": "code",
   "execution_count": 27,
   "metadata": {},
   "outputs": [
    {
     "data": {
      "text/plain": [
       "  Summary of Regression Results   \n",
       "==================================\n",
       "Model:                         VAR\n",
       "Method:                        OLS\n",
       "Date:           Sat, 07, Jun, 2025\n",
       "Time:                     15:21:40\n",
       "--------------------------------------------------------------------\n",
       "No. of Equations:         2.00000    BIC:                    14.1131\n",
       "Nobs:                     233.000    HQIC:                   13.9187\n",
       "Log likelihood:          -2245.45    FPE:                    972321.\n",
       "AIC:                      13.7873    Det(Omega_mle):         886628.\n",
       "--------------------------------------------------------------------\n",
       "Results for equation Money\n",
       "==============================================================================\n",
       "                 coefficient       std. error           t-stat            prob\n",
       "------------------------------------------------------------------------------\n",
       "const               0.516683         1.782238            0.290           0.772\n",
       "L1.Money           -0.646232         0.068177           -9.479           0.000\n",
       "L1.Spending        -0.107411         0.051388           -2.090           0.037\n",
       "L2.Money           -0.497482         0.077749           -6.399           0.000\n",
       "L2.Spending        -0.192202         0.068613           -2.801           0.005\n",
       "L3.Money           -0.234442         0.081004           -2.894           0.004\n",
       "L3.Spending        -0.178099         0.074288           -2.397           0.017\n",
       "L4.Money           -0.295531         0.075294           -3.925           0.000\n",
       "L4.Spending        -0.035564         0.069664           -0.511           0.610\n",
       "L5.Money           -0.162399         0.066700           -2.435           0.015\n",
       "L5.Spending        -0.058449         0.051357           -1.138           0.255\n",
       "==============================================================================\n",
       "\n",
       "Results for equation Spending\n",
       "==============================================================================\n",
       "                 coefficient       std. error           t-stat            prob\n",
       "------------------------------------------------------------------------------\n",
       "const               0.203469         2.355446            0.086           0.931\n",
       "L1.Money            0.188105         0.090104            2.088           0.037\n",
       "L1.Spending        -0.878970         0.067916          -12.942           0.000\n",
       "L2.Money            0.053017         0.102755            0.516           0.606\n",
       "L2.Spending        -0.625313         0.090681           -6.896           0.000\n",
       "L3.Money           -0.022172         0.107057           -0.207           0.836\n",
       "L3.Spending        -0.389041         0.098180           -3.963           0.000\n",
       "L4.Money           -0.170456         0.099510           -1.713           0.087\n",
       "L4.Spending        -0.245435         0.092069           -2.666           0.008\n",
       "L5.Money           -0.083165         0.088153           -0.943           0.345\n",
       "L5.Spending        -0.181699         0.067874           -2.677           0.007\n",
       "==============================================================================\n",
       "\n",
       "Correlation matrix of residuals\n",
       "               Money  Spending\n",
       "Money       1.000000 -0.267934\n",
       "Spending   -0.267934  1.000000\n",
       "\n"
      ]
     },
     "execution_count": 27,
     "metadata": {},
     "output_type": "execute_result"
    }
   ],
   "source": [
    "results = model.fit(5)\n",
    "results.summary()"
   ]
  },
  {
   "cell_type": "code",
   "execution_count": 28,
   "metadata": {},
   "outputs": [
    {
     "name": "stdout",
     "output_type": "stream",
     "text": [
      "모델 차수: 5\n"
     ]
    }
   ],
   "source": [
    "print('모델 차수:', results.k_ar)"
   ]
  },
  {
   "cell_type": "markdown",
   "metadata": {},
   "source": [
    "예측"
   ]
  },
  {
   "cell_type": "code",
   "execution_count": 29,
   "metadata": {},
   "outputs": [
    {
     "name": "stdout",
     "output_type": "stream",
     "text": [
      "Forecasted values for the next 12 periods:\n",
      "                Money   Spending\n",
      "2015-01-01 -16.995276  36.149820\n",
      "2015-02-01  -3.174038 -11.450298\n",
      "2015-03-01  -0.377725  -6.684969\n",
      "2015-04-01  -2.602233   5.479458\n",
      "2015-05-01   4.228557  -2.443365\n",
      "2015-06-01   1.559393   0.387639\n",
      "2015-07-01  -0.998410   3.883680\n",
      "2015-08-01   0.364510  -2.356101\n",
      "2015-09-01  -1.210627  -1.224147\n",
      "2015-10-01   0.225877   0.786927\n",
      "2015-11-01   1.338939   0.180974\n",
      "2015-12-01  -0.218585   0.212750\n"
     ]
    }
   ],
   "source": [
    "# 다음 12개의 값을 예측합니다.\n",
    "forecast = results.forecast(train.values[-results.k_ar:], steps=nobs)\n",
    "forecast_df = pd.DataFrame(forecast, index=pd.date_range(start=train.index[-1], periods=nobs+1, freq='MS')[1:], columns=train.columns)\n",
    "\n",
    "print(\"Forecasted values for the next 12 periods:\")\n",
    "print(forecast_df)\n"
   ]
  },
  {
   "cell_type": "markdown",
   "metadata": {},
   "source": [
    "데이터 역변환\n",
    "\n",
    "* 예측된 값들은 2차 차분을 나타냄. 원본 데이터와 비교하려면 각 차분을 되돌려야함.\n",
    "\n",
    "* 1차 차분을 되돌리려면 원본 시리즈의 훈련 부분에서 가장 최근 값을 가져와 예측된 값들의 누적 합에 더해야함.\n",
    "\n",
    "* 2차 차분을 다룰 때는 먼저 가장 최근의 1차 차분에 대해 이 작업을 수행할 것.\n"
   ]
  },
  {
   "cell_type": "markdown",
   "metadata": {},
   "source": [
    "* Money 컬럼 역변환"
   ]
  },
  {
   "cell_type": "code",
   "execution_count": 30,
   "metadata": {},
   "outputs": [],
   "source": [
    "# 마지막 훈련 데이터 값\n",
    "train_last_value = df['Money'].iloc[-nobs-1]\n",
    "\n",
    "# 마지막에서 두 번째 훈련 데이터 값\n",
    "train_second_last_value = df['Money'].iloc[-nobs-2]\n",
    "\n",
    "# 두 값의 차이를 계산\n",
    "money_diff = train_last_value - train_second_last_value\n",
    "\n",
    "# 예측된 값들의 누적 합을 계산\n",
    "money2d_cumsum = forecast_df['Money'].cumsum()\n",
    "\n",
    "# 1차 차분을 되돌린 값을 계산\n",
    "forecast_df['Money1d'] = money_diff + money2d_cumsum\n",
    "\n",
    "# 원본 값을 되돌린 예측 값을 계산\n",
    "forecast_df['MoneyForecast'] = train_last_value + forecast_df['Money1d'].cumsum()\n"
   ]
  },
  {
   "cell_type": "markdown",
   "metadata": {},
   "source": [
    "* Speanding 컬럼 역변환"
   ]
  },
  {
   "cell_type": "code",
   "execution_count": 31,
   "metadata": {},
   "outputs": [],
   "source": [
    "train_last_value = df['Spending'].iloc[-nobs-1]\n",
    "\n",
    "train_second_last_value = df['Spending'].iloc[-nobs-2]\n",
    "\n",
    "spending_diff = train_last_value - train_second_last_value\n",
    "\n",
    "spending2d_cumsum = forecast_df['Spending'].cumsum()\n",
    "\n",
    "forecast_df['Spending1d'] = spending_diff + spending2d_cumsum\n",
    "\n",
    "forecast_df['SpendingForecast'] = train_last_value + forecast_df['Spending1d'].cumsum()"
   ]
  },
  {
   "cell_type": "code",
   "execution_count": 32,
   "metadata": {},
   "outputs": [
    {
     "data": {
      "text/html": [
       "<div>\n",
       "<style scoped>\n",
       "    .dataframe tbody tr th:only-of-type {\n",
       "        vertical-align: middle;\n",
       "    }\n",
       "\n",
       "    .dataframe tbody tr th {\n",
       "        vertical-align: top;\n",
       "    }\n",
       "\n",
       "    .dataframe thead th {\n",
       "        text-align: right;\n",
       "    }\n",
       "</style>\n",
       "<table border=\"1\" class=\"dataframe\">\n",
       "  <thead>\n",
       "    <tr style=\"text-align: right;\">\n",
       "      <th></th>\n",
       "      <th>Money</th>\n",
       "      <th>Spending</th>\n",
       "      <th>Money1d</th>\n",
       "      <th>MoneyForecast</th>\n",
       "      <th>Spending1d</th>\n",
       "      <th>SpendingForecast</th>\n",
       "    </tr>\n",
       "  </thead>\n",
       "  <tbody>\n",
       "    <tr>\n",
       "      <th>2015-01-01</th>\n",
       "      <td>-16.995276</td>\n",
       "      <td>36.149820</td>\n",
       "      <td>61.604724</td>\n",
       "      <td>11731.704724</td>\n",
       "      <td>46.749820</td>\n",
       "      <td>12108.749820</td>\n",
       "    </tr>\n",
       "    <tr>\n",
       "      <th>2015-02-01</th>\n",
       "      <td>-3.174038</td>\n",
       "      <td>-11.450298</td>\n",
       "      <td>58.430686</td>\n",
       "      <td>11790.135410</td>\n",
       "      <td>35.299522</td>\n",
       "      <td>12144.049342</td>\n",
       "    </tr>\n",
       "    <tr>\n",
       "      <th>2015-03-01</th>\n",
       "      <td>-0.377725</td>\n",
       "      <td>-6.684969</td>\n",
       "      <td>58.052961</td>\n",
       "      <td>11848.188371</td>\n",
       "      <td>28.614552</td>\n",
       "      <td>12172.663894</td>\n",
       "    </tr>\n",
       "    <tr>\n",
       "      <th>2015-04-01</th>\n",
       "      <td>-2.602233</td>\n",
       "      <td>5.479458</td>\n",
       "      <td>55.450728</td>\n",
       "      <td>11903.639099</td>\n",
       "      <td>34.094010</td>\n",
       "      <td>12206.757904</td>\n",
       "    </tr>\n",
       "    <tr>\n",
       "      <th>2015-05-01</th>\n",
       "      <td>4.228557</td>\n",
       "      <td>-2.443365</td>\n",
       "      <td>59.679285</td>\n",
       "      <td>11963.318384</td>\n",
       "      <td>31.650645</td>\n",
       "      <td>12238.408549</td>\n",
       "    </tr>\n",
       "    <tr>\n",
       "      <th>2015-06-01</th>\n",
       "      <td>1.559393</td>\n",
       "      <td>0.387639</td>\n",
       "      <td>61.238678</td>\n",
       "      <td>12024.557062</td>\n",
       "      <td>32.038284</td>\n",
       "      <td>12270.446833</td>\n",
       "    </tr>\n",
       "    <tr>\n",
       "      <th>2015-07-01</th>\n",
       "      <td>-0.998410</td>\n",
       "      <td>3.883680</td>\n",
       "      <td>60.240268</td>\n",
       "      <td>12084.797331</td>\n",
       "      <td>35.921964</td>\n",
       "      <td>12306.368797</td>\n",
       "    </tr>\n",
       "    <tr>\n",
       "      <th>2015-08-01</th>\n",
       "      <td>0.364510</td>\n",
       "      <td>-2.356101</td>\n",
       "      <td>60.604779</td>\n",
       "      <td>12145.402109</td>\n",
       "      <td>33.565863</td>\n",
       "      <td>12339.934659</td>\n",
       "    </tr>\n",
       "    <tr>\n",
       "      <th>2015-09-01</th>\n",
       "      <td>-1.210627</td>\n",
       "      <td>-1.224147</td>\n",
       "      <td>59.394151</td>\n",
       "      <td>12204.796261</td>\n",
       "      <td>32.341716</td>\n",
       "      <td>12372.276375</td>\n",
       "    </tr>\n",
       "    <tr>\n",
       "      <th>2015-10-01</th>\n",
       "      <td>0.225877</td>\n",
       "      <td>0.786927</td>\n",
       "      <td>59.620028</td>\n",
       "      <td>12264.416289</td>\n",
       "      <td>33.128643</td>\n",
       "      <td>12405.405019</td>\n",
       "    </tr>\n",
       "    <tr>\n",
       "      <th>2015-11-01</th>\n",
       "      <td>1.338939</td>\n",
       "      <td>0.180974</td>\n",
       "      <td>60.958967</td>\n",
       "      <td>12325.375256</td>\n",
       "      <td>33.309618</td>\n",
       "      <td>12438.714636</td>\n",
       "    </tr>\n",
       "    <tr>\n",
       "      <th>2015-12-01</th>\n",
       "      <td>-0.218585</td>\n",
       "      <td>0.212750</td>\n",
       "      <td>60.740383</td>\n",
       "      <td>12386.115639</td>\n",
       "      <td>33.522368</td>\n",
       "      <td>12472.237004</td>\n",
       "    </tr>\n",
       "  </tbody>\n",
       "</table>\n",
       "</div>"
      ],
      "text/plain": [
       "                Money   Spending    Money1d  MoneyForecast  Spending1d  \\\n",
       "2015-01-01 -16.995276  36.149820  61.604724   11731.704724   46.749820   \n",
       "2015-02-01  -3.174038 -11.450298  58.430686   11790.135410   35.299522   \n",
       "2015-03-01  -0.377725  -6.684969  58.052961   11848.188371   28.614552   \n",
       "2015-04-01  -2.602233   5.479458  55.450728   11903.639099   34.094010   \n",
       "2015-05-01   4.228557  -2.443365  59.679285   11963.318384   31.650645   \n",
       "2015-06-01   1.559393   0.387639  61.238678   12024.557062   32.038284   \n",
       "2015-07-01  -0.998410   3.883680  60.240268   12084.797331   35.921964   \n",
       "2015-08-01   0.364510  -2.356101  60.604779   12145.402109   33.565863   \n",
       "2015-09-01  -1.210627  -1.224147  59.394151   12204.796261   32.341716   \n",
       "2015-10-01   0.225877   0.786927  59.620028   12264.416289   33.128643   \n",
       "2015-11-01   1.338939   0.180974  60.958967   12325.375256   33.309618   \n",
       "2015-12-01  -0.218585   0.212750  60.740383   12386.115639   33.522368   \n",
       "\n",
       "            SpendingForecast  \n",
       "2015-01-01      12108.749820  \n",
       "2015-02-01      12144.049342  \n",
       "2015-03-01      12172.663894  \n",
       "2015-04-01      12206.757904  \n",
       "2015-05-01      12238.408549  \n",
       "2015-06-01      12270.446833  \n",
       "2015-07-01      12306.368797  \n",
       "2015-08-01      12339.934659  \n",
       "2015-09-01      12372.276375  \n",
       "2015-10-01      12405.405019  \n",
       "2015-11-01      12438.714636  \n",
       "2015-12-01      12472.237004  "
      ]
     },
     "execution_count": 32,
     "metadata": {},
     "output_type": "execute_result"
    }
   ],
   "source": [
    "forecast_df"
   ]
  },
  {
   "cell_type": "markdown",
   "metadata": {},
   "source": [
    "결과 시각화"
   ]
  },
  {
   "cell_type": "code",
   "execution_count": 33,
   "metadata": {},
   "outputs": [
    {
     "data": {
      "image/png": "[encoded data removed]",
      "text/plain": [
       "<Figure size 1000x1000 with 2 Axes>"
      ]
     },
     "metadata": {},
     "output_type": "display_data"
    }
   ],
   "source": [
    "results.plot();"
   ]
  },
  {
   "cell_type": "code",
   "execution_count": 34,
   "metadata": {},
   "outputs": [
    {
     "data": {
      "image/png": "[encoded data removed]",
      "text/plain": [
       "<Figure size 1000x1000 with 2 Axes>"
      ]
     },
     "metadata": {},
     "output_type": "display_data"
    }
   ],
   "source": [
    "# 예측 포함 시각화\n",
    "results.plot_forecast(12);"
   ]
  },
  {
   "cell_type": "code",
   "execution_count": 35,
   "metadata": {},
   "outputs": [
    {
     "data": {
      "application/vnd.plotly.v1+json": {
       "config": {
        "plotlyServerURL": "https://plot.ly"
       },
       "data": [
        {
         "name": "Money",
         "type": "scatter",
         "x": [
          "2015-01-01T00:00:00",
          "2015-02-01T00:00:00",
          "2015-03-01T00:00:00",
          "2015-04-01T00:00:00",
          "2015-05-01T00:00:00",
          "2015-06-01T00:00:00",
          "2015-07-01T00:00:00",
          "2015-08-01T00:00:00",
          "2015-09-01T00:00:00",
          "2015-10-01T00:00:00",
          "2015-11-01T00:00:00",
          "2015-12-01T00:00:00"
         ],
         "xaxis": "x",
         "y": {
          "bdata": "mpmZmZnqxkAzMzMzMybHQGZmZmZmLsdAzczMzAxGx0DNzMzMzFXHQM3MzMyMbMdAZmZmZqaGx0BmZmZmZqDHQGZmZmbmvMdAmpmZmdnNx0AzMzMzs/rHQDMzMzPzF8hA",
          "dtype": "f8"
         },
         "yaxis": "y"
        },
        {
         "name": "Money Forecast",
         "type": "scatter",
         "x": [
          "2015-01-01T00:00:00",
          "2015-02-01T00:00:00",
          "2015-03-01T00:00:00",
          "2015-04-01T00:00:00",
          "2015-05-01T00:00:00",
          "2015-06-01T00:00:00",
          "2015-07-01T00:00:00",
          "2015-08-01T00:00:00",
          "2015-09-01T00:00:00",
          "2015-10-01T00:00:00",
          "2015-11-01T00:00:00",
          "2015-12-01T00:00:00"
         ],
         "xaxis": "x",
         "y": {
          "bdata": "I4RiNNrpxkAOYBtVEQfHQOdGiRwYJMdAKCz+zdE/x0AmJ87AqF3HQO0i0k1HfMdAEMHtDmaax0DAaFB4s7jHQHCR3etl1sdAQFL1SDX0x0DPHGYIsBLIQOr5Qs0OMchA",
          "dtype": "f8"
         },
         "yaxis": "y"
        },
        {
         "name": "Spending",
         "type": "scatter",
         "x": [
          "2015-01-01T00:00:00",
          "2015-02-01T00:00:00",
          "2015-03-01T00:00:00",
          "2015-04-01T00:00:00",
          "2015-05-01T00:00:00",
          "2015-06-01T00:00:00",
          "2015-07-01T00:00:00",
          "2015-08-01T00:00:00",
          "2015-09-01T00:00:00",
          "2015-10-01T00:00:00",
          "2015-11-01T00:00:00",
          "2015-12-01T00:00:00"
         ],
         "xaxis": "x2",
         "y": {
          "bdata": "AAAAAACHx0AzMzMzM5nHQGZmZmYmv8dAZmZmZubQx0DNzMzMDPbHQGZmZmYmCshAMzMzM7MhyEAAAAAAADXIQGZmZmZmNMhAzczMzAxAyEDNzMzMDFHIQM3MzMyMWshA",
          "dtype": "f8"
         },
         "yaxis": "y2"
        },
        {
         "name": "Spending Forecast",
         "type": "scatter",
         "x": [
          "2015-01-01T00:00:00",
          "2015-02-01T00:00:00",
          "2015-03-01T00:00:00",
          "2015-04-01T00:00:00",
          "2015-05-01T00:00:00",
          "2015-06-01T00:00:00",
          "2015-07-01T00:00:00",
          "2015-08-01T00:00:00",
          "2015-09-01T00:00:00",
          "2015-10-01T00:00:00",
          "2015-11-01T00:00:00",
          "2015-12-01T00:00:00"
         ],
         "xaxis": "x2",
         "y": {
          "bdata": "B1Ua+l+mx0AjiNNQBrjHQH0DefpUxsdAmMj9AmHXx0Ay6VJLNOfHQOHczzE598dAe9+6NC8JyEC+0Oqi9xnIQGBuRWAjKshACjGm17M6yECQ9zJ5W0vIQBbsJ1YeXMhA",
          "dtype": "f8"
         },
         "yaxis": "y2"
        }
       ],
       "layout": {
        "height": 800,
        "template": {
         "data": {
          "bar": [
           {
            "error_x": {
             "color": "#2a3f5f"
            },
            "error_y": {
             "color": "#2a3f5f"
            },
            "marker": {
             "line": {
              "color": "#E5ECF6",
              "width": 0.5
             },
             "pattern": {
              "fillmode": "overlay",
              "size": 10,
              "solidity": 0.2
             }
            },
            "type": "bar"
           }
          ],
          "barpolar": [
           {
            "marker": {
             "line": {
              "color": "#E5ECF6",
              "width": 0.5
             },
             "pattern": {
              "fillmode": "overlay",
              "size": 10,
              "solidity": 0.2
             }
            },
            "type": "barpolar"
           }
          ],
          "carpet": [
           {
            "aaxis": {
             "endlinecolor": "#2a3f5f",
             "gridcolor": "white",
             "linecolor": "white",
             "minorgridcolor": "white",
             "startlinecolor": "#2a3f5f"
            },
            "baxis": {
             "endlinecolor": "#2a3f5f",
             "gridcolor": "white",
             "linecolor": "white",
             "minorgridcolor": "white",
             "startlinecolor": "#2a3f5f"
            },
            "type": "carpet"
           }
          ],
          "choropleth": [
           {
            "colorbar": {
             "outlinewidth": 0,
             "ticks": ""
            },
            "type": "choropleth"
           }
          ],
          "contour": [
           {
            "colorbar": {
             "outlinewidth": 0,
             "ticks": ""
            },
            "colorscale": [
             [
              0,
              "#0d0887"
             ],
             [
              0.1111111111111111,
              "#46039f"
             ],
             [
              0.2222222222222222,
              "#7201a8"
             ],
             [
              0.3333333333333333,
              "#9c179e"
             ],
             [
              0.4444444444444444,
              "#bd3786"
             ],
             [
              0.5555555555555556,
              "#d8576b"
             ],
             [
              0.6666666666666666,
              "#ed7953"
             ],
             [
              0.7777777777777778,
              "#fb9f3a"
             ],
             [
              0.8888888888888888,
              "#fdca26"
             ],
             [
              1,
              "#f0f921"
             ]
            ],
            "type": "contour"
           }
          ],
          "contourcarpet": [
           {
            "colorbar": {
             "outlinewidth": 0,
             "ticks": ""
            },
            "type": "contourcarpet"
           }
          ],
          "heatmap": [
           {
            "colorbar": {
             "outlinewidth": 0,
             "ticks": ""
            },
            "colorscale": [
             [
              0,
              "#0d0887"
             ],
             [
              0.1111111111111111,
              "#46039f"
             ],
             [
              0.2222222222222222,
              "#7201a8"
             ],
             [
              0.3333333333333333,
              "#9c179e"
             ],
             [
              0.4444444444444444,
              "#bd3786"
             ],
             [
              0.5555555555555556,
              "#d8576b"
             ],
             [
              0.6666666666666666,
              "#ed7953"
             ],
             [
              0.7777777777777778,
              "#fb9f3a"
             ],
             [
              0.8888888888888888,
              "#fdca26"
             ],
             [
              1,
              "#f0f921"
             ]
            ],
            "type": "heatmap"
           }
          ],
          "histogram": [
           {
            "marker": {
             "pattern": {
              "fillmode": "overlay",
              "size": 10,
              "solidity": 0.2
             }
            },
            "type": "histogram"
           }
          ],
          "histogram2d": [
           {
            "colorbar": {
             "outlinewidth": 0,
             "ticks": ""
            },
            "colorscale": [
             [
              0,
              "#0d0887"
             ],
             [
              0.1111111111111111,
              "#46039f"
             ],
             [
              0.2222222222222222,
              "#7201a8"
             ],
             [
              0.3333333333333333,
              "#9c179e"
             ],
             [
              0.4444444444444444,
              "#bd3786"
             ],
             [
              0.5555555555555556,
              "#d8576b"
             ],
             [
              0.6666666666666666,
              "#ed7953"
             ],
             [
              0.7777777777777778,
              "#fb9f3a"
             ],
             [
              0.8888888888888888,
              "#fdca26"
             ],
             [
              1,
              "#f0f921"
             ]
            ],
            "type": "histogram2d"
           }
          ],
          "histogram2dcontour": [
           {
            "colorbar": {
             "outlinewidth": 0,
             "ticks": ""
            },
            "colorscale": [
             [
              0,
              "#0d0887"
             ],
             [
              0.1111111111111111,
              "#46039f"
             ],
             [
              0.2222222222222222,
              "#7201a8"
             ],
             [
              0.3333333333333333,
              "#9c179e"
             ],
             [
              0.4444444444444444,
              "#bd3786"
             ],
             [
              0.5555555555555556,
              "#d8576b"
             ],
             [
              0.6666666666666666,
              "#ed7953"
             ],
             [
              0.7777777777777778,
              "#fb9f3a"
             ],
             [
              0.8888888888888888,
              "#fdca26"
             ],
             [
              1,
              "#f0f921"
             ]
            ],
            "type": "histogram2dcontour"
           }
          ],
          "mesh3d": [
           {
            "colorbar": {
             "outlinewidth": 0,
             "ticks": ""
            },
            "type": "mesh3d"
           }
          ],
          "parcoords": [
           {
            "line": {
             "colorbar": {
              "outlinewidth": 0,
              "ticks": ""
             }
            },
            "type": "parcoords"
           }
          ],
          "pie": [
           {
            "automargin": true,
            "type": "pie"
           }
          ],
          "scatter": [
           {
            "fillpattern": {
             "fillmode": "overlay",
             "size": 10,
             "solidity": 0.2
            },
            "type": "scatter"
           }
          ],
          "scatter3d": [
           {
            "line": {
             "colorbar": {
              "outlinewidth": 0,
              "ticks": ""
             }
            },
            "marker": {
             "colorbar": {
              "outlinewidth": 0,
              "ticks": ""
             }
            },
            "type": "scatter3d"
           }
          ],
          "scattercarpet": [
           {
            "marker": {
             "colorbar": {
              "outlinewidth": 0,
              "ticks": ""
             }
            },
            "type": "scattercarpet"
           }
          ],
          "scattergeo": [
           {
            "marker": {
             "colorbar": {
              "outlinewidth": 0,
              "ticks": ""
             }
            },
            "type": "scattergeo"
           }
          ],
          "scattergl": [
           {
            "marker": {
             "colorbar": {
              "outlinewidth": 0,
              "ticks": ""
             }
            },
            "type": "scattergl"
           }
          ],
          "scattermap": [
           {
            "marker": {
             "colorbar": {
              "outlinewidth": 0,
              "ticks": ""
             }
            },
            "type": "scattermap"
           }
          ],
          "scattermapbox": [
           {
            "marker": {
             "colorbar": {
              "outlinewidth": 0,
              "ticks": ""
             }
            },
            "type": "scattermapbox"
           }
          ],
          "scatterpolar": [
           {
            "marker": {
             "colorbar": {
              "outlinewidth": 0,
              "ticks": ""
             }
            },
            "type": "scatterpolar"
           }
          ],
          "scatterpolargl": [
           {
            "marker": {
             "colorbar": {
              "outlinewidth": 0,
              "ticks": ""
             }
            },
            "type": "scatterpolargl"
           }
          ],
          "scatterternary": [
           {
            "marker": {
             "colorbar": {
              "outlinewidth": 0,
              "ticks": ""
             }
            },
            "type": "scatterternary"
           }
          ],
          "surface": [
           {
            "colorbar": {
             "outlinewidth": 0,
             "ticks": ""
            },
            "colorscale": [
             [
              0,
              "#0d0887"
             ],
             [
              0.1111111111111111,
              "#46039f"
             ],
             [
              0.2222222222222222,
              "#7201a8"
             ],
             [
              0.3333333333333333,
              "#9c179e"
             ],
             [
              0.4444444444444444,
              "#bd3786"
             ],
             [
              0.5555555555555556,
              "#d8576b"
             ],
             [
              0.6666666666666666,
              "#ed7953"
             ],
             [
              0.7777777777777778,
              "#fb9f3a"
             ],
             [
              0.8888888888888888,
              "#fdca26"
             ],
             [
              1,
              "#f0f921"
             ]
            ],
            "type": "surface"
           }
          ],
          "table": [
           {
            "cells": {
             "fill": {
              "color": "#EBF0F8"
             },
             "line": {
              "color": "white"
             }
            },
            "header": {
             "fill": {
              "color": "#C8D4E3"
             },
             "line": {
              "color": "white"
             }
            },
            "type": "table"
           }
          ]
         },
         "layout": {
          "annotationdefaults": {
           "arrowcolor": "#2a3f5f",
           "arrowhead": 0,
           "arrowwidth": 1
          },
          "autotypenumbers": "strict",
          "coloraxis": {
           "colorbar": {
            "outlinewidth": 0,
            "ticks": ""
           }
          },
          "colorscale": {
           "diverging": [
            [
             0,
             "#8e0152"
            ],
            [
             0.1,
             "#c51b7d"
            ],
            [
             0.2,
             "#de77ae"
            ],
            [
             0.3,
             "#f1b6da"
            ],
            [
             0.4,
             "#fde0ef"
            ],
            [
             0.5,
             "#f7f7f7"
            ],
            [
             0.6,
             "#e6f5d0"
            ],
            [
             0.7,
             "#b8e186"
            ],
            [
             0.8,
             "#7fbc41"
            ],
            [
             0.9,
             "#4d9221"
            ],
            [
             1,
             "#276419"
            ]
           ],
           "sequential": [
            [
             0,
             "#0d0887"
            ],
            [
             0.1111111111111111,
             "#46039f"
            ],
            [
             0.2222222222222222,
             "#7201a8"
            ],
            [
             0.3333333333333333,
             "#9c179e"
            ],
            [
             0.4444444444444444,
             "#bd3786"
            ],
            [
             0.5555555555555556,
             "#d8576b"
            ],
            [
             0.6666666666666666,
             "#ed7953"
            ],
            [
             0.7777777777777778,
             "#fb9f3a"
            ],
            [
             0.8888888888888888,
             "#fdca26"
            ],
            [
             1,
             "#f0f921"
            ]
           ],
           "sequentialminus": [
            [
             0,
             "#0d0887"
            ],
            [
             0.1111111111111111,
             "#46039f"
            ],
            [
             0.2222222222222222,
             "#7201a8"
            ],
            [
             0.3333333333333333,
             "#9c179e"
            ],
            [
             0.4444444444444444,
             "#bd3786"
            ],
            [
             0.5555555555555556,
             "#d8576b"
            ],
            [
             0.6666666666666666,
             "#ed7953"
            ],
            [
             0.7777777777777778,
             "#fb9f3a"
            ],
            [
             0.8888888888888888,
             "#fdca26"
            ],
            [
             1,
             "#f0f921"
            ]
           ]
          },
          "colorway": [
           "#636efa",
           "#EF553B",
           "#00cc96",
           "#ab63fa",
           "#FFA15A",
           "#19d3f3",
           "#FF6692",
           "#B6E880",
           "#FF97FF",
           "#FECB52"
          ],
          "font": {
           "color": "#2a3f5f"
          },
          "geo": {
           "bgcolor": "white",
           "lakecolor": "white",
           "landcolor": "#E5ECF6",
           "showlakes": true,
           "showland": true,
           "subunitcolor": "white"
          },
          "hoverlabel": {
           "align": "left"
          },
          "hovermode": "closest",
          "mapbox": {
           "style": "light"
          },
          "paper_bgcolor": "white",
          "plot_bgcolor": "#E5ECF6",
          "polar": {
           "angularaxis": {
            "gridcolor": "white",
            "linecolor": "white",
            "ticks": ""
           },
           "bgcolor": "#E5ECF6",
           "radialaxis": {
            "gridcolor": "white",
            "linecolor": "white",
            "ticks": ""
           }
          },
          "scene": {
           "xaxis": {
            "backgroundcolor": "#E5ECF6",
            "gridcolor": "white",
            "gridwidth": 2,
            "linecolor": "white",
            "showbackground": true,
            "ticks": "",
            "zerolinecolor": "white"
           },
           "yaxis": {
            "backgroundcolor": "#E5ECF6",
            "gridcolor": "white",
            "gridwidth": 2,
            "linecolor": "white",
            "showbackground": true,
            "ticks": "",
            "zerolinecolor": "white"
           },
           "zaxis": {
            "backgroundcolor": "#E5ECF6",
            "gridcolor": "white",
            "gridwidth": 2,
            "linecolor": "white",
            "showbackground": true,
            "ticks": "",
            "zerolinecolor": "white"
           }
          },
          "shapedefaults": {
           "line": {
            "color": "#2a3f5f"
           }
          },
          "ternary": {
           "aaxis": {
            "gridcolor": "white",
            "linecolor": "white",
            "ticks": ""
           },
           "baxis": {
            "gridcolor": "white",
            "linecolor": "white",
            "ticks": ""
           },
           "bgcolor": "#E5ECF6",
           "caxis": {
            "gridcolor": "white",
            "linecolor": "white",
            "ticks": ""
           }
          },
          "title": {
           "x": 0.05
          },
          "xaxis": {
           "automargin": true,
           "gridcolor": "white",
           "linecolor": "white",
           "ticks": "",
           "title": {
            "standoff": 15
           },
           "zerolinecolor": "white",
           "zerolinewidth": 2
          },
          "yaxis": {
           "automargin": true,
           "gridcolor": "white",
           "linecolor": "white",
           "ticks": "",
           "title": {
            "standoff": 15
           },
           "zerolinecolor": "white",
           "zerolinewidth": 2
          }
         }
        },
        "xaxis": {
         "anchor": "y",
         "domain": [
          0,
          1
         ]
        },
        "xaxis2": {
         "anchor": "y2",
         "domain": [
          0,
          1
         ]
        },
        "yaxis": {
         "anchor": "x",
         "domain": [
          0.575,
          1
         ]
        },
        "yaxis2": {
         "anchor": "x2",
         "domain": [
          0,
          0.425
         ]
        }
       }
      }
     },
     "metadata": {},
     "output_type": "display_data"
    }
   ],
   "source": [
    "# Test 데이터셋과 예측 결과 비교 시각화\n",
    "fig = make_subplots(rows=2, cols=1)\n",
    "fig.add_trace(go.Scatter(x=df.index[-nobs:], y=df['Money'][-nobs:], name='Money'), row=1, col=1)\n",
    "fig.add_trace(go.Scatter(x=forecast_df.index, y=forecast_df['MoneyForecast'], name='Money Forecast'), row=1, col=1)\n",
    "fig.add_trace(go.Scatter(x=df.index[-nobs:], y=df['Spending'][-nobs:], name='Spending'), row=2, col=1)\n",
    "fig.add_trace(go.Scatter(x=forecast_df.index, y=forecast_df['SpendingForecast'], name='Spending Forecast'), row=2, col=1)\n",
    "fig.update_layout(height=800)\n",
    "fig.show()"
   ]
  },
  {
   "cell_type": "markdown",
   "metadata": {},
   "source": [
    "평가"
   ]
  },
  {
   "cell_type": "code",
   "execution_count": 36,
   "metadata": {},
   "outputs": [
    {
     "name": "stdout",
     "output_type": "stream",
     "text": [
      "VAR(5)_RMSE_Money: 43.710496535589265\n",
      "VAR(5)_RMSE_Spending: 37.001175169408036\n"
     ]
    }
   ],
   "source": [
    "VAR5_RMSE_Money = rmse(df['Money'][-nobs:], forecast_df['MoneyForecast'])\n",
    "VAR5_RMSE_Spending = rmse(df['Spending'][-nobs:], forecast_df['SpendingForecast'])\n",
    "print(f\"VAR(5)_RMSE_Money: {VAR5_RMSE_Money}\")\n",
    "print(f\"VAR(5)_RMSE_Spending: {VAR5_RMSE_Spending}\")"
   ]
  },
  {
   "cell_type": "markdown",
   "metadata": {},
   "source": [
    "### AR(5) 모델과 비교"
   ]
  },
  {
   "cell_type": "code",
   "execution_count": 37,
   "metadata": {},
   "outputs": [],
   "source": [
    "# 앞에서 다루지 않은 부분으로, AR만 단독 사용시 사용할수 있는 모듈\n",
    "from statsmodels.tsa.ar_model import AutoReg "
   ]
  },
  {
   "cell_type": "markdown",
   "metadata": {},
   "source": [
    "모델링 및 예측"
   ]
  },
  {
   "cell_type": "code",
   "execution_count": 38,
   "metadata": {},
   "outputs": [],
   "source": [
    "# 단일 시계열 모델이므로 모델이 2개 필요\n",
    "modelM = AutoReg(train['Money'], lags=5)\n",
    "modelS = AutoReg(train['Spending'], lags=5)\n",
    "modelM_fit = modelM.fit()\n",
    "modelS_fit = modelS.fit()\n",
    "modelM_forecast = modelM_fit.forecast(steps=nobs).rename('Money2d')\n",
    "modelS_forecast = modelS_fit.forecast(steps=nobs).rename('Spending2d')"
   ]
  },
  {
   "cell_type": "code",
   "execution_count": 39,
   "metadata": {},
   "outputs": [
    {
     "data": {
      "text/html": [
       "<div>\n",
       "<style scoped>\n",
       "    .dataframe tbody tr th:only-of-type {\n",
       "        vertical-align: middle;\n",
       "    }\n",
       "\n",
       "    .dataframe tbody tr th {\n",
       "        vertical-align: top;\n",
       "    }\n",
       "\n",
       "    .dataframe thead th {\n",
       "        text-align: right;\n",
       "    }\n",
       "</style>\n",
       "<table border=\"1\" class=\"dataframe\">\n",
       "  <thead>\n",
       "    <tr style=\"text-align: right;\">\n",
       "      <th></th>\n",
       "      <th>Money2d</th>\n",
       "      <th>Spending2d</th>\n",
       "    </tr>\n",
       "  </thead>\n",
       "  <tbody>\n",
       "    <tr>\n",
       "      <th>2015-01-01</th>\n",
       "      <td>-17.119701</td>\n",
       "      <td>30.641068</td>\n",
       "    </tr>\n",
       "    <tr>\n",
       "      <th>2015-02-01</th>\n",
       "      <td>-11.528475</td>\n",
       "      <td>-1.792151</td>\n",
       "    </tr>\n",
       "    <tr>\n",
       "      <th>2015-03-01</th>\n",
       "      <td>9.827790</td>\n",
       "      <td>-9.189819</td>\n",
       "    </tr>\n",
       "    <tr>\n",
       "      <th>2015-04-01</th>\n",
       "      <td>-5.836863</td>\n",
       "      <td>6.747310</td>\n",
       "    </tr>\n",
       "    <tr>\n",
       "      <th>2015-05-01</th>\n",
       "      <td>2.339541</td>\n",
       "      <td>-4.427224</td>\n",
       "    </tr>\n",
       "    <tr>\n",
       "      <th>2015-06-01</th>\n",
       "      <td>5.375022</td>\n",
       "      <td>-0.626697</td>\n",
       "    </tr>\n",
       "    <tr>\n",
       "      <th>2015-07-01</th>\n",
       "      <td>-4.165296</td>\n",
       "      <td>3.493390</td>\n",
       "    </tr>\n",
       "    <tr>\n",
       "      <th>2015-08-01</th>\n",
       "      <td>0.501917</td>\n",
       "      <td>-0.933378</td>\n",
       "    </tr>\n",
       "    <tr>\n",
       "      <th>2015-09-01</th>\n",
       "      <td>0.898255</td>\n",
       "      <td>-0.926789</td>\n",
       "    </tr>\n",
       "    <tr>\n",
       "      <th>2015-10-01</th>\n",
       "      <td>-1.352987</td>\n",
       "      <td>0.963593</td>\n",
       "    </tr>\n",
       "    <tr>\n",
       "      <th>2015-11-01</th>\n",
       "      <td>1.369693</td>\n",
       "      <td>-0.496377</td>\n",
       "    </tr>\n",
       "    <tr>\n",
       "      <th>2015-12-01</th>\n",
       "      <td>0.443569</td>\n",
       "      <td>0.096469</td>\n",
       "    </tr>\n",
       "  </tbody>\n",
       "</table>\n",
       "</div>"
      ],
      "text/plain": [
       "              Money2d  Spending2d\n",
       "2015-01-01 -17.119701   30.641068\n",
       "2015-02-01 -11.528475   -1.792151\n",
       "2015-03-01   9.827790   -9.189819\n",
       "2015-04-01  -5.836863    6.747310\n",
       "2015-05-01   2.339541   -4.427224\n",
       "2015-06-01   5.375022   -0.626697\n",
       "2015-07-01  -4.165296    3.493390\n",
       "2015-08-01   0.501917   -0.933378\n",
       "2015-09-01   0.898255   -0.926789\n",
       "2015-10-01  -1.352987    0.963593\n",
       "2015-11-01   1.369693   -0.496377\n",
       "2015-12-01   0.443569    0.096469"
      ]
     },
     "execution_count": 39,
     "metadata": {},
     "output_type": "execute_result"
    }
   ],
   "source": [
    "ar_forecast_df = pd.concat([modelM_forecast, modelS_forecast], axis=1)\n",
    "ar_forecast_df"
   ]
  },
  {
   "cell_type": "markdown",
   "metadata": {},
   "source": [
    "역변환"
   ]
  },
  {
   "cell_type": "code",
   "execution_count": 40,
   "metadata": {},
   "outputs": [],
   "source": [
    "ar_forecast_df['Money1d'] = (df['Money'].iloc[-nobs-1] - df['Money'].iloc[-nobs-2]) + ar_forecast_df['Money2d'].cumsum()\n",
    "ar_forecast_df['MoneyForecast'] = df['Money'].iloc[-nobs-1] + ar_forecast_df['Money1d'].cumsum()\n",
    "\n",
    "ar_forecast_df['Spending1d'] = (df['Spending'].iloc[-nobs-1] - df['Spending'].iloc[-nobs-2]) + ar_forecast_df['Spending2d'].cumsum()\n",
    "ar_forecast_df['SpendingForecast'] = df['Spending'].iloc[-nobs-1] + ar_forecast_df['Spending1d'].cumsum()"
   ]
  },
  {
   "cell_type": "code",
   "execution_count": 41,
   "metadata": {},
   "outputs": [
    {
     "data": {
      "text/html": [
       "<div>\n",
       "<style scoped>\n",
       "    .dataframe tbody tr th:only-of-type {\n",
       "        vertical-align: middle;\n",
       "    }\n",
       "\n",
       "    .dataframe tbody tr th {\n",
       "        vertical-align: top;\n",
       "    }\n",
       "\n",
       "    .dataframe thead th {\n",
       "        text-align: right;\n",
       "    }\n",
       "</style>\n",
       "<table border=\"1\" class=\"dataframe\">\n",
       "  <thead>\n",
       "    <tr style=\"text-align: right;\">\n",
       "      <th></th>\n",
       "      <th>Money2d</th>\n",
       "      <th>Spending2d</th>\n",
       "      <th>Money1d</th>\n",
       "      <th>MoneyForecast</th>\n",
       "      <th>Spending1d</th>\n",
       "      <th>SpendingForecast</th>\n",
       "    </tr>\n",
       "  </thead>\n",
       "  <tbody>\n",
       "    <tr>\n",
       "      <th>2015-01-01</th>\n",
       "      <td>-17.119701</td>\n",
       "      <td>30.641068</td>\n",
       "      <td>61.480299</td>\n",
       "      <td>11731.580299</td>\n",
       "      <td>41.241068</td>\n",
       "      <td>12103.241068</td>\n",
       "    </tr>\n",
       "    <tr>\n",
       "      <th>2015-02-01</th>\n",
       "      <td>-11.528475</td>\n",
       "      <td>-1.792151</td>\n",
       "      <td>49.951824</td>\n",
       "      <td>11781.532123</td>\n",
       "      <td>39.448917</td>\n",
       "      <td>12142.689985</td>\n",
       "    </tr>\n",
       "    <tr>\n",
       "      <th>2015-03-01</th>\n",
       "      <td>9.827790</td>\n",
       "      <td>-9.189819</td>\n",
       "      <td>59.779614</td>\n",
       "      <td>11841.311736</td>\n",
       "      <td>30.259098</td>\n",
       "      <td>12172.949083</td>\n",
       "    </tr>\n",
       "    <tr>\n",
       "      <th>2015-04-01</th>\n",
       "      <td>-5.836863</td>\n",
       "      <td>6.747310</td>\n",
       "      <td>53.942751</td>\n",
       "      <td>11895.254487</td>\n",
       "      <td>37.006408</td>\n",
       "      <td>12209.955491</td>\n",
       "    </tr>\n",
       "    <tr>\n",
       "      <th>2015-05-01</th>\n",
       "      <td>2.339541</td>\n",
       "      <td>-4.427224</td>\n",
       "      <td>56.282292</td>\n",
       "      <td>11951.536779</td>\n",
       "      <td>32.579184</td>\n",
       "      <td>12242.534675</td>\n",
       "    </tr>\n",
       "    <tr>\n",
       "      <th>2015-06-01</th>\n",
       "      <td>5.375022</td>\n",
       "      <td>-0.626697</td>\n",
       "      <td>61.657314</td>\n",
       "      <td>12013.194093</td>\n",
       "      <td>31.952487</td>\n",
       "      <td>12274.487162</td>\n",
       "    </tr>\n",
       "    <tr>\n",
       "      <th>2015-07-01</th>\n",
       "      <td>-4.165296</td>\n",
       "      <td>3.493390</td>\n",
       "      <td>57.492019</td>\n",
       "      <td>12070.686112</td>\n",
       "      <td>35.445877</td>\n",
       "      <td>12309.933039</td>\n",
       "    </tr>\n",
       "    <tr>\n",
       "      <th>2015-08-01</th>\n",
       "      <td>0.501917</td>\n",
       "      <td>-0.933378</td>\n",
       "      <td>57.993936</td>\n",
       "      <td>12128.680048</td>\n",
       "      <td>34.512499</td>\n",
       "      <td>12344.445539</td>\n",
       "    </tr>\n",
       "    <tr>\n",
       "      <th>2015-09-01</th>\n",
       "      <td>0.898255</td>\n",
       "      <td>-0.926789</td>\n",
       "      <td>58.892191</td>\n",
       "      <td>12187.572238</td>\n",
       "      <td>33.585710</td>\n",
       "      <td>12378.031249</td>\n",
       "    </tr>\n",
       "    <tr>\n",
       "      <th>2015-10-01</th>\n",
       "      <td>-1.352987</td>\n",
       "      <td>0.963593</td>\n",
       "      <td>57.539203</td>\n",
       "      <td>12245.111442</td>\n",
       "      <td>34.549303</td>\n",
       "      <td>12412.580551</td>\n",
       "    </tr>\n",
       "    <tr>\n",
       "      <th>2015-11-01</th>\n",
       "      <td>1.369693</td>\n",
       "      <td>-0.496377</td>\n",
       "      <td>58.908896</td>\n",
       "      <td>12304.020338</td>\n",
       "      <td>34.052926</td>\n",
       "      <td>12446.633477</td>\n",
       "    </tr>\n",
       "    <tr>\n",
       "      <th>2015-12-01</th>\n",
       "      <td>0.443569</td>\n",
       "      <td>0.096469</td>\n",
       "      <td>59.352466</td>\n",
       "      <td>12363.372804</td>\n",
       "      <td>34.149395</td>\n",
       "      <td>12480.782872</td>\n",
       "    </tr>\n",
       "  </tbody>\n",
       "</table>\n",
       "</div>"
      ],
      "text/plain": [
       "              Money2d  Spending2d    Money1d  MoneyForecast  Spending1d  \\\n",
       "2015-01-01 -17.119701   30.641068  61.480299   11731.580299   41.241068   \n",
       "2015-02-01 -11.528475   -1.792151  49.951824   11781.532123   39.448917   \n",
       "2015-03-01   9.827790   -9.189819  59.779614   11841.311736   30.259098   \n",
       "2015-04-01  -5.836863    6.747310  53.942751   11895.254487   37.006408   \n",
       "2015-05-01   2.339541   -4.427224  56.282292   11951.536779   32.579184   \n",
       "2015-06-01   5.375022   -0.626697  61.657314   12013.194093   31.952487   \n",
       "2015-07-01  -4.165296    3.493390  57.492019   12070.686112   35.445877   \n",
       "2015-08-01   0.501917   -0.933378  57.993936   12128.680048   34.512499   \n",
       "2015-09-01   0.898255   -0.926789  58.892191   12187.572238   33.585710   \n",
       "2015-10-01  -1.352987    0.963593  57.539203   12245.111442   34.549303   \n",
       "2015-11-01   1.369693   -0.496377  58.908896   12304.020338   34.052926   \n",
       "2015-12-01   0.443569    0.096469  59.352466   12363.372804   34.149395   \n",
       "\n",
       "            SpendingForecast  \n",
       "2015-01-01      12103.241068  \n",
       "2015-02-01      12142.689985  \n",
       "2015-03-01      12172.949083  \n",
       "2015-04-01      12209.955491  \n",
       "2015-05-01      12242.534675  \n",
       "2015-06-01      12274.487162  \n",
       "2015-07-01      12309.933039  \n",
       "2015-08-01      12344.445539  \n",
       "2015-09-01      12378.031249  \n",
       "2015-10-01      12412.580551  \n",
       "2015-11-01      12446.633477  \n",
       "2015-12-01      12480.782872  "
      ]
     },
     "execution_count": 41,
     "metadata": {},
     "output_type": "execute_result"
    }
   ],
   "source": [
    "ar_forecast_df"
   ]
  },
  {
   "cell_type": "markdown",
   "metadata": {},
   "source": [
    "결과 시각화"
   ]
  },
  {
   "cell_type": "code",
   "execution_count": 42,
   "metadata": {},
   "outputs": [
    {
     "data": {
      "application/vnd.plotly.v1+json": {
       "config": {
        "plotlyServerURL": "https://plot.ly"
       },
       "data": [
        {
         "name": "Money",
         "type": "scatter",
         "x": [
          "2015-01-01T00:00:00",
          "2015-02-01T00:00:00",
          "2015-03-01T00:00:00",
          "2015-04-01T00:00:00",
          "2015-05-01T00:00:00",
          "2015-06-01T00:00:00",
          "2015-07-01T00:00:00",
          "2015-08-01T00:00:00",
          "2015-09-01T00:00:00",
          "2015-10-01T00:00:00",
          "2015-11-01T00:00:00",
          "2015-12-01T00:00:00"
         ],
         "xaxis": "x",
         "y": {
          "bdata": "mpmZmZnqxkAzMzMzMybHQGZmZmZmLsdAzczMzAxGx0DNzMzMzFXHQM3MzMyMbMdAZmZmZqaGx0BmZmZmZqDHQGZmZmbmvMdAmpmZmdnNx0AzMzMzs/rHQDMzMzPzF8hA",
          "dtype": "f8"
         },
         "yaxis": "y"
        },
        {
         "name": "Money Forecast",
         "type": "scatter",
         "x": [
          "2015-01-01T00:00:00",
          "2015-02-01T00:00:00",
          "2015-03-01T00:00:00",
          "2015-04-01T00:00:00",
          "2015-05-01T00:00:00",
          "2015-06-01T00:00:00",
          "2015-07-01T00:00:00",
          "2015-08-01T00:00:00",
          "2015-09-01T00:00:00",
          "2015-10-01T00:00:00",
          "2015-11-01T00:00:00",
          "2015-12-01T00:00:00"
         ],
         "xaxis": "x",
         "y": {
          "bdata": "HiY6R8rpxkBxTZccxALHQCl5+eanIMdAQ7YGk6A7x0Cyjyu1xFfHQEMZDdiYdsdAz0uE0leTx0BWHswLV7DHQNMyGz/JzcdADDu5Q47qx0CUAW+aAgjIQBoYB7ivJchA",
          "dtype": "f8"
         },
         "yaxis": "y"
        },
        {
         "name": "Spending",
         "type": "scatter",
         "x": [
          "2015-01-01T00:00:00",
          "2015-02-01T00:00:00",
          "2015-03-01T00:00:00",
          "2015-04-01T00:00:00",
          "2015-05-01T00:00:00",
          "2015-06-01T00:00:00",
          "2015-07-01T00:00:00",
          "2015-08-01T00:00:00",
          "2015-09-01T00:00:00",
          "2015-10-01T00:00:00",
          "2015-11-01T00:00:00",
          "2015-12-01T00:00:00"
         ],
         "xaxis": "x2",
         "y": {
          "bdata": "AAAAAACHx0AzMzMzM5nHQGZmZmYmv8dAZmZmZubQx0DNzMzMDPbHQGZmZmYmCshAMzMzM7MhyEAAAAAAADXIQGZmZmZmNMhAzczMzAxAyEDNzMzMDFHIQM3MzMyMWshA",
          "dtype": "f8"
         },
         "yaxis": "y2"
        },
        {
         "name": "Spending Forecast",
         "type": "scatter",
         "x": [
          "2015-01-01T00:00:00",
          "2015-02-01T00:00:00",
          "2015-03-01T00:00:00",
          "2015-04-01T00:00:00",
          "2015-05-01T00:00:00",
          "2015-06-01T00:00:00",
          "2015-07-01T00:00:00",
          "2015-08-01T00:00:00",
          "2015-09-01T00:00:00",
          "2015-10-01T00:00:00",
          "2015-11-01T00:00:00",
          "2015-12-01T00:00:00"
         ],
         "xaxis": "x2",
         "y": {
          "bdata": "xORP256jx0C8/G1RWLfHQD4TjHt5xsdABHGETfrYx0BnvDlwROnHQJRmVFs++cdAHPPUbfcKyECBKmkHORzIQJuS8/8DLchA3vyBT0o+yECJzccVUU/IQEhxKDVkYMhA",
          "dtype": "f8"
         },
         "yaxis": "y2"
        }
       ],
       "layout": {
        "height": 800,
        "template": {
         "data": {
          "bar": [
           {
            "error_x": {
             "color": "#2a3f5f"
            },
            "error_y": {
             "color": "#2a3f5f"
            },
            "marker": {
             "line": {
              "color": "#E5ECF6",
              "width": 0.5
             },
             "pattern": {
              "fillmode": "overlay",
              "size": 10,
              "solidity": 0.2
             }
            },
            "type": "bar"
           }
          ],
          "barpolar": [
           {
            "marker": {
             "line": {
              "color": "#E5ECF6",
              "width": 0.5
             },
             "pattern": {
              "fillmode": "overlay",
              "size": 10,
              "solidity": 0.2
             }
            },
            "type": "barpolar"
           }
          ],
          "carpet": [
           {
            "aaxis": {
             "endlinecolor": "#2a3f5f",
             "gridcolor": "white",
             "linecolor": "white",
             "minorgridcolor": "white",
             "startlinecolor": "#2a3f5f"
            },
            "baxis": {
             "endlinecolor": "#2a3f5f",
             "gridcolor": "white",
             "linecolor": "white",
             "minorgridcolor": "white",
             "startlinecolor": "#2a3f5f"
            },
            "type": "carpet"
           }
          ],
          "choropleth": [
           {
            "colorbar": {
             "outlinewidth": 0,
             "ticks": ""
            },
            "type": "choropleth"
           }
          ],
          "contour": [
           {
            "colorbar": {
             "outlinewidth": 0,
             "ticks": ""
            },
            "colorscale": [
             [
              0,
              "#0d0887"
             ],
             [
              0.1111111111111111,
              "#46039f"
             ],
             [
              0.2222222222222222,
              "#7201a8"
             ],
             [
              0.3333333333333333,
              "#9c179e"
             ],
             [
              0.4444444444444444,
              "#bd3786"
             ],
             [
              0.5555555555555556,
              "#d8576b"
             ],
             [
              0.6666666666666666,
              "#ed7953"
             ],
             [
              0.7777777777777778,
              "#fb9f3a"
             ],
             [
              0.8888888888888888,
              "#fdca26"
             ],
             [
              1,
              "#f0f921"
             ]
            ],
            "type": "contour"
           }
          ],
          "contourcarpet": [
           {
            "colorbar": {
             "outlinewidth": 0,
             "ticks": ""
            },
            "type": "contourcarpet"
           }
          ],
          "heatmap": [
           {
            "colorbar": {
             "outlinewidth": 0,
             "ticks": ""
            },
            "colorscale": [
             [
              0,
              "#0d0887"
             ],
             [
              0.1111111111111111,
              "#46039f"
             ],
             [
              0.2222222222222222,
              "#7201a8"
             ],
             [
              0.3333333333333333,
              "#9c179e"
             ],
             [
              0.4444444444444444,
              "#bd3786"
             ],
             [
              0.5555555555555556,
              "#d8576b"
             ],
             [
              0.6666666666666666,
              "#ed7953"
             ],
             [
              0.7777777777777778,
              "#fb9f3a"
             ],
             [
              0.8888888888888888,
              "#fdca26"
             ],
             [
              1,
              "#f0f921"
             ]
            ],
            "type": "heatmap"
           }
          ],
          "histogram": [
           {
            "marker": {
             "pattern": {
              "fillmode": "overlay",
              "size": 10,
              "solidity": 0.2
             }
            },
            "type": "histogram"
           }
          ],
          "histogram2d": [
           {
            "colorbar": {
             "outlinewidth": 0,
             "ticks": ""
            },
            "colorscale": [
             [
              0,
              "#0d0887"
             ],
             [
              0.1111111111111111,
              "#46039f"
             ],
             [
              0.2222222222222222,
              "#7201a8"
             ],
             [
              0.3333333333333333,
              "#9c179e"
             ],
             [
              0.4444444444444444,
              "#bd3786"
             ],
             [
              0.5555555555555556,
              "#d8576b"
             ],
             [
              0.6666666666666666,
              "#ed7953"
             ],
             [
              0.7777777777777778,
              "#fb9f3a"
             ],
             [
              0.8888888888888888,
              "#fdca26"
             ],
             [
              1,
              "#f0f921"
             ]
            ],
            "type": "histogram2d"
           }
          ],
          "histogram2dcontour": [
           {
            "colorbar": {
             "outlinewidth": 0,
             "ticks": ""
            },
            "colorscale": [
             [
              0,
              "#0d0887"
             ],
             [
              0.1111111111111111,
              "#46039f"
             ],
             [
              0.2222222222222222,
              "#7201a8"
             ],
             [
              0.3333333333333333,
              "#9c179e"
             ],
             [
              0.4444444444444444,
              "#bd3786"
             ],
             [
              0.5555555555555556,
              "#d8576b"
             ],
             [
              0.6666666666666666,
              "#ed7953"
             ],
             [
              0.7777777777777778,
              "#fb9f3a"
             ],
             [
              0.8888888888888888,
              "#fdca26"
             ],
             [
              1,
              "#f0f921"
             ]
            ],
            "type": "histogram2dcontour"
           }
          ],
          "mesh3d": [
           {
            "colorbar": {
             "outlinewidth": 0,
             "ticks": ""
            },
            "type": "mesh3d"
           }
          ],
          "parcoords": [
           {
            "line": {
             "colorbar": {
              "outlinewidth": 0,
              "ticks": ""
             }
            },
            "type": "parcoords"
           }
          ],
          "pie": [
           {
            "automargin": true,
            "type": "pie"
           }
          ],
          "scatter": [
           {
            "fillpattern": {
             "fillmode": "overlay",
             "size": 10,
             "solidity": 0.2
            },
            "type": "scatter"
           }
          ],
          "scatter3d": [
           {
            "line": {
             "colorbar": {
              "outlinewidth": 0,
              "ticks": ""
             }
            },
            "marker": {
             "colorbar": {
              "outlinewidth": 0,
              "ticks": ""
             }
            },
            "type": "scatter3d"
           }
          ],
          "scattercarpet": [
           {
            "marker": {
             "colorbar": {
              "outlinewidth": 0,
              "ticks": ""
             }
            },
            "type": "scattercarpet"
           }
          ],
          "scattergeo": [
           {
            "marker": {
             "colorbar": {
              "outlinewidth": 0,
              "ticks": ""
             }
            },
            "type": "scattergeo"
           }
          ],
          "scattergl": [
           {
            "marker": {
             "colorbar": {
              "outlinewidth": 0,
              "ticks": ""
             }
            },
            "type": "scattergl"
           }
          ],
          "scattermap": [
           {
            "marker": {
             "colorbar": {
              "outlinewidth": 0,
              "ticks": ""
             }
            },
            "type": "scattermap"
           }
          ],
          "scattermapbox": [
           {
            "marker": {
             "colorbar": {
              "outlinewidth": 0,
              "ticks": ""
             }
            },
            "type": "scattermapbox"
           }
          ],
          "scatterpolar": [
           {
            "marker": {
             "colorbar": {
              "outlinewidth": 0,
              "ticks": ""
             }
            },
            "type": "scatterpolar"
           }
          ],
          "scatterpolargl": [
           {
            "marker": {
             "colorbar": {
              "outlinewidth": 0,
              "ticks": ""
             }
            },
            "type": "scatterpolargl"
           }
          ],
          "scatterternary": [
           {
            "marker": {
             "colorbar": {
              "outlinewidth": 0,
              "ticks": ""
             }
            },
            "type": "scatterternary"
           }
          ],
          "surface": [
           {
            "colorbar": {
             "outlinewidth": 0,
             "ticks": ""
            },
            "colorscale": [
             [
              0,
              "#0d0887"
             ],
             [
              0.1111111111111111,
              "#46039f"
             ],
             [
              0.2222222222222222,
              "#7201a8"
             ],
             [
              0.3333333333333333,
              "#9c179e"
             ],
             [
              0.4444444444444444,
              "#bd3786"
             ],
             [
              0.5555555555555556,
              "#d8576b"
             ],
             [
              0.6666666666666666,
              "#ed7953"
             ],
             [
              0.7777777777777778,
              "#fb9f3a"
             ],
             [
              0.8888888888888888,
              "#fdca26"
             ],
             [
              1,
              "#f0f921"
             ]
            ],
            "type": "surface"
           }
          ],
          "table": [
           {
            "cells": {
             "fill": {
              "color": "#EBF0F8"
             },
             "line": {
              "color": "white"
             }
            },
            "header": {
             "fill": {
              "color": "#C8D4E3"
             },
             "line": {
              "color": "white"
             }
            },
            "type": "table"
           }
          ]
         },
         "layout": {
          "annotationdefaults": {
           "arrowcolor": "#2a3f5f",
           "arrowhead": 0,
           "arrowwidth": 1
          },
          "autotypenumbers": "strict",
          "coloraxis": {
           "colorbar": {
            "outlinewidth": 0,
            "ticks": ""
           }
          },
          "colorscale": {
           "diverging": [
            [
             0,
             "#8e0152"
            ],
            [
             0.1,
             "#c51b7d"
            ],
            [
             0.2,
             "#de77ae"
            ],
            [
             0.3,
             "#f1b6da"
            ],
            [
             0.4,
             "#fde0ef"
            ],
            [
             0.5,
             "#f7f7f7"
            ],
            [
             0.6,
             "#e6f5d0"
            ],
            [
             0.7,
             "#b8e186"
            ],
            [
             0.8,
             "#7fbc41"
            ],
            [
             0.9,
             "#4d9221"
            ],
            [
             1,
             "#276419"
            ]
           ],
           "sequential": [
            [
             0,
             "#0d0887"
            ],
            [
             0.1111111111111111,
             "#46039f"
            ],
            [
             0.2222222222222222,
             "#7201a8"
            ],
            [
             0.3333333333333333,
             "#9c179e"
            ],
            [
             0.4444444444444444,
             "#bd3786"
            ],
            [
             0.5555555555555556,
             "#d8576b"
            ],
            [
             0.6666666666666666,
             "#ed7953"
            ],
            [
             0.7777777777777778,
             "#fb9f3a"
            ],
            [
             0.8888888888888888,
             "#fdca26"
            ],
            [
             1,
             "#f0f921"
            ]
           ],
           "sequentialminus": [
            [
             0,
             "#0d0887"
            ],
            [
             0.1111111111111111,
             "#46039f"
            ],
            [
             0.2222222222222222,
             "#7201a8"
            ],
            [
             0.3333333333333333,
             "#9c179e"
            ],
            [
             0.4444444444444444,
             "#bd3786"
            ],
            [
             0.5555555555555556,
             "#d8576b"
            ],
            [
             0.6666666666666666,
             "#ed7953"
            ],
            [
             0.7777777777777778,
             "#fb9f3a"
            ],
            [
             0.8888888888888888,
             "#fdca26"
            ],
            [
             1,
             "#f0f921"
            ]
           ]
          },
          "colorway": [
           "#636efa",
           "#EF553B",
           "#00cc96",
           "#ab63fa",
           "#FFA15A",
           "#19d3f3",
           "#FF6692",
           "#B6E880",
           "#FF97FF",
           "#FECB52"
          ],
          "font": {
           "color": "#2a3f5f"
          },
          "geo": {
           "bgcolor": "white",
           "lakecolor": "white",
           "landcolor": "#E5ECF6",
           "showlakes": true,
           "showland": true,
           "subunitcolor": "white"
          },
          "hoverlabel": {
           "align": "left"
          },
          "hovermode": "closest",
          "mapbox": {
           "style": "light"
          },
          "paper_bgcolor": "white",
          "plot_bgcolor": "#E5ECF6",
          "polar": {
           "angularaxis": {
            "gridcolor": "white",
            "linecolor": "white",
            "ticks": ""
           },
           "bgcolor": "#E5ECF6",
           "radialaxis": {
            "gridcolor": "white",
            "linecolor": "white",
            "ticks": ""
           }
          },
          "scene": {
           "xaxis": {
            "backgroundcolor": "#E5ECF6",
            "gridcolor": "white",
            "gridwidth": 2,
            "linecolor": "white",
            "showbackground": true,
            "ticks": "",
            "zerolinecolor": "white"
           },
           "yaxis": {
            "backgroundcolor": "#E5ECF6",
            "gridcolor": "white",
            "gridwidth": 2,
            "linecolor": "white",
            "showbackground": true,
            "ticks": "",
            "zerolinecolor": "white"
           },
           "zaxis": {
            "backgroundcolor": "#E5ECF6",
            "gridcolor": "white",
            "gridwidth": 2,
            "linecolor": "white",
            "showbackground": true,
            "ticks": "",
            "zerolinecolor": "white"
           }
          },
          "shapedefaults": {
           "line": {
            "color": "#2a3f5f"
           }
          },
          "ternary": {
           "aaxis": {
            "gridcolor": "white",
            "linecolor": "white",
            "ticks": ""
           },
           "baxis": {
            "gridcolor": "white",
            "linecolor": "white",
            "ticks": ""
           },
           "bgcolor": "#E5ECF6",
           "caxis": {
            "gridcolor": "white",
            "linecolor": "white",
            "ticks": ""
           }
          },
          "title": {
           "x": 0.05
          },
          "xaxis": {
           "automargin": true,
           "gridcolor": "white",
           "linecolor": "white",
           "ticks": "",
           "title": {
            "standoff": 15
           },
           "zerolinecolor": "white",
           "zerolinewidth": 2
          },
          "yaxis": {
           "automargin": true,
           "gridcolor": "white",
           "linecolor": "white",
           "ticks": "",
           "title": {
            "standoff": 15
           },
           "zerolinecolor": "white",
           "zerolinewidth": 2
          }
         }
        },
        "xaxis": {
         "anchor": "y",
         "domain": [
          0,
          1
         ]
        },
        "xaxis2": {
         "anchor": "y2",
         "domain": [
          0,
          1
         ]
        },
        "yaxis": {
         "anchor": "x",
         "domain": [
          0.575,
          1
         ]
        },
        "yaxis2": {
         "anchor": "x2",
         "domain": [
          0,
          0.425
         ]
        }
       }
      }
     },
     "metadata": {},
     "output_type": "display_data"
    }
   ],
   "source": [
    "# 차트\n",
    "fig = make_subplots(rows=2, cols=1)\n",
    "\n",
    "fig.add_trace(go.Scatter(x=df.index[-nobs:], y=df['Money'][-nobs:], name='Money'), row=1, col=1)\n",
    "fig.add_trace(go.Scatter(x=ar_forecast_df.index, y=ar_forecast_df['MoneyForecast'], name='Money Forecast'), row=1, col=1)\n",
    "fig.add_trace(go.Scatter(x=df.index[-nobs:], y=df['Spending'][-nobs:], name='Spending'), row=2, col=1)\n",
    "fig.add_trace(go.Scatter(x=ar_forecast_df.index, y=ar_forecast_df['SpendingForecast'], name='Spending Forecast'), row=2, col=1)\n",
    "fig.update_layout(height=800)\n",
    "fig.show()"
   ]
  },
  {
   "cell_type": "code",
   "execution_count": 43,
   "metadata": {},
   "outputs": [
    {
     "name": "stdout",
     "output_type": "stream",
     "text": [
      "----------------------------------------------------------------------------------------------------\n",
      "AR(5) RMSE Money: 34.3936979839303\n",
      "AR(5) RMSE Spending: 34.26101949655065\n",
      "----------------------------------------------------------------------------------------------------\n",
      "VAR(5) RMSE Money: 43.710496535589265\n",
      "VAR(5) RMSE Spending: 37.001175169408036\n",
      "----------------------------------------------------------------------------------------------------\n"
     ]
    }
   ],
   "source": [
    "# AR(5) 평가 결과\n",
    "AR5_RMSE_Money = rmse(df['Money'][-nobs:], ar_forecast_df['MoneyForecast'])\n",
    "AR5_RMSE_Spending = rmse(df['Spending'][-nobs:], ar_forecast_df['SpendingForecast'])\n",
    "print('-'*100)\n",
    "print(f\"AR(5) RMSE Money: {AR5_RMSE_Money}\")\n",
    "print(f\"AR(5) RMSE Spending: {AR5_RMSE_Spending}\")\n",
    "print('-'*100)\n",
    "print(f\"VAR(5) RMSE Money: {VAR5_RMSE_Money}\")\n",
    "print(f\"VAR(5) RMSE Spending: {VAR5_RMSE_Spending}\")\n",
    "print('-'*100)"
   ]
  },
  {
   "cell_type": "markdown",
   "metadata": {},
   "source": [
    "다변량 시계열 모델이 데이터 적합에서 더 나쁘게 나왔다. \n",
    "\n",
    "VAR(5) 모델에서 에러항을 설명할 다른 설명변수가 필요할수 있다."
   ]
  },
  {
   "cell_type": "markdown",
   "metadata": {},
   "source": [
    "___\n",
    "## VARMA / ARIMA 예측 모델 실습\n",
    "___"
   ]
  },
  {
   "cell_type": "markdown",
   "metadata": {},
   "source": [
    "모델 추천"
   ]
  },
  {
   "cell_type": "code",
   "execution_count": null,
   "metadata": {},
   "outputs": [],
   "source": [
    "!pip install pmdarima"
   ]
  },
  {
   "cell_type": "code",
   "execution_count": 48,
   "metadata": {},
   "outputs": [],
   "source": [
    "from statsmodels.tsa.statespace.varmax import VARMAX"
   ]
  },
  {
   "cell_type": "code",
   "execution_count": 49,
   "metadata": {},
   "outputs": [],
   "source": [
    "import pmdarima as pm\n",
    "# pmdarima는 시계열 데이터의 ARIMA 모델을 자동으로 생성해주는 라이브러리.\n",
    "# 이 라이브러리는 데이터의 최적의 ARIMA 파라미터를 찾기 위해 다양한 조합을 시도하고,\n",
    "# AIC (Akaike Information Criterion) 값을 기준으로 최적의 모델을 선택해줌.\n",
    "# 또한, pmdarima는 계절성 데이터에 대한 SARIMA 모델도 지원하며, \n",
    "# 데이터의 정상성을 확인하고 차분을 통해 비정상성 제거 기능도 포함.\n",
    "# 이 라이브러리를 사용하면 복잡한 시계열 모델링 과정을 자동화할 수 있어\n",
    "# 데이터 과학자와 분석가에게 매우 유용함."
   ]
  },
  {
   "cell_type": "code",
   "execution_count": 50,
   "metadata": {},
   "outputs": [
    {
     "data": {
      "text/html": [
       "<style>#sk-container-id-1 {\n",
       "  /* Definition of color scheme common for light and dark mode */\n",
       "  --sklearn-color-text: #000;\n",
       "  --sklearn-color-text-muted: #666;\n",
       "  --sklearn-color-line: gray;\n",
       "  /* Definition of color scheme for unfitted estimators */\n",
       "  --sklearn-color-unfitted-level-0: #fff5e6;\n",
       "  --sklearn-color-unfitted-level-1: #f6e4d2;\n",
       "  --sklearn-color-unfitted-level-2: #ffe0b3;\n",
       "  --sklearn-color-unfitted-level-3: chocolate;\n",
       "  /* Definition of color scheme for fitted estimators */\n",
       "  --sklearn-color-fitted-level-0: #f0f8ff;\n",
       "  --sklearn-color-fitted-level-1: #d4ebff;\n",
       "  --sklearn-color-fitted-level-2: #b3dbfd;\n",
       "  --sklearn-color-fitted-level-3: cornflowerblue;\n",
       "\n",
       "  /* Specific color for light theme */\n",
       "  --sklearn-color-text-on-default-background: var(--sg-text-color, var(--theme-code-foreground, var(--jp-content-font-color1, black)));\n",
       "  --sklearn-color-background: var(--sg-background-color, var(--theme-background, var(--jp-layout-color0, white)));\n",
       "  --sklearn-color-border-box: var(--sg-text-color, var(--theme-code-foreground, var(--jp-content-font-color1, black)));\n",
       "  --sklearn-color-icon: #696969;\n",
       "\n",
       "  @media (prefers-color-scheme: dark) {\n",
       "    /* Redefinition of color scheme for dark theme */\n",
       "    --sklearn-color-text-on-default-background: var(--sg-text-color, var(--theme-code-foreground, var(--jp-content-font-color1, white)));\n",
       "    --sklearn-color-background: var(--sg-background-color, var(--theme-background, var(--jp-layout-color0, #111)));\n",
       "    --sklearn-color-border-box: var(--sg-text-color, var(--theme-code-foreground, var(--jp-content-font-color1, white)));\n",
       "    --sklearn-color-icon: #878787;\n",
       "  }\n",
       "}\n",
       "\n",
       "#sk-container-id-1 {\n",
       "  color: var(--sklearn-color-text);\n",
       "}\n",
       "\n",
       "#sk-container-id-1 pre {\n",
       "  padding: 0;\n",
       "}\n",
       "\n",
       "#sk-container-id-1 input.sk-hidden--visually {\n",
       "  border: 0;\n",
       "  clip: rect(1px 1px 1px 1px);\n",
       "  clip: rect(1px, 1px, 1px, 1px);\n",
       "  height: 1px;\n",
       "  margin: -1px;\n",
       "  overflow: hidden;\n",
       "  padding: 0;\n",
       "  position: absolute;\n",
       "  width: 1px;\n",
       "}\n",
       "\n",
       "#sk-container-id-1 div.sk-dashed-wrapped {\n",
       "  border: 1px dashed var(--sklearn-color-line);\n",
       "  margin: 0 0.4em 0.5em 0.4em;\n",
       "  box-sizing: border-box;\n",
       "  padding-bottom: 0.4em;\n",
       "  background-color: var(--sklearn-color-background);\n",
       "}\n",
       "\n",
       "#sk-container-id-1 div.sk-container {\n",
       "  /* jupyter's `normalize.less` sets `[hidden] { display: none; }`\n",
       "     but bootstrap.min.css set `[hidden] { display: none !important; }`\n",
       "     so we also need the `!important` here to be able to override the\n",
       "     default hidden behavior on the sphinx rendered scikit-learn.org.\n",
       "     See: https://github.com/scikit-learn/scikit-learn/issues/21755 */\n",
       "  display: inline-block !important;\n",
       "  position: relative;\n",
       "}\n",
       "\n",
       "#sk-container-id-1 div.sk-text-repr-fallback {\n",
       "  display: none;\n",
       "}\n",
       "\n",
       "div.sk-parallel-item,\n",
       "div.sk-serial,\n",
       "div.sk-item {\n",
       "  /* draw centered vertical line to link estimators */\n",
       "  background-image: linear-gradient(var(--sklearn-color-text-on-default-background), var(--sklearn-color-text-on-default-background));\n",
       "  background-size: 2px 100%;\n",
       "  background-repeat: no-repeat;\n",
       "  background-position: center center;\n",
       "}\n",
       "\n",
       "/* Parallel-specific style estimator block */\n",
       "\n",
       "#sk-container-id-1 div.sk-parallel-item::after {\n",
       "  content: \"\";\n",
       "  width: 100%;\n",
       "  border-bottom: 2px solid var(--sklearn-color-text-on-default-background);\n",
       "  flex-grow: 1;\n",
       "}\n",
       "\n",
       "#sk-container-id-1 div.sk-parallel {\n",
       "  display: flex;\n",
       "  align-items: stretch;\n",
       "  justify-content: center;\n",
       "  background-color: var(--sklearn-color-background);\n",
       "  position: relative;\n",
       "}\n",
       "\n",
       "#sk-container-id-1 div.sk-parallel-item {\n",
       "  display: flex;\n",
       "  flex-direction: column;\n",
       "}\n",
       "\n",
       "#sk-container-id-1 div.sk-parallel-item:first-child::after {\n",
       "  align-self: flex-end;\n",
       "  width: 50%;\n",
       "}\n",
       "\n",
       "#sk-container-id-1 div.sk-parallel-item:last-child::after {\n",
       "  align-self: flex-start;\n",
       "  width: 50%;\n",
       "}\n",
       "\n",
       "#sk-container-id-1 div.sk-parallel-item:only-child::after {\n",
       "  width: 0;\n",
       "}\n",
       "\n",
       "/* Serial-specific style estimator block */\n",
       "\n",
       "#sk-container-id-1 div.sk-serial {\n",
       "  display: flex;\n",
       "  flex-direction: column;\n",
       "  align-items: center;\n",
       "  background-color: var(--sklearn-color-background);\n",
       "  padding-right: 1em;\n",
       "  padding-left: 1em;\n",
       "}\n",
       "\n",
       "\n",
       "/* Toggleable style: style used for estimator/Pipeline/ColumnTransformer box that is\n",
       "clickable and can be expanded/collapsed.\n",
       "- Pipeline and ColumnTransformer use this feature and define the default style\n",
       "- Estimators will overwrite some part of the style using the `sk-estimator` class\n",
       "*/\n",
       "\n",
       "/* Pipeline and ColumnTransformer style (default) */\n",
       "\n",
       "#sk-container-id-1 div.sk-toggleable {\n",
       "  /* Default theme specific background. It is overwritten whether we have a\n",
       "  specific estimator or a Pipeline/ColumnTransformer */\n",
       "  background-color: var(--sklearn-color-background);\n",
       "}\n",
       "\n",
       "/* Toggleable label */\n",
       "#sk-container-id-1 label.sk-toggleable__label {\n",
       "  cursor: pointer;\n",
       "  display: flex;\n",
       "  width: 100%;\n",
       "  margin-bottom: 0;\n",
       "  padding: 0.5em;\n",
       "  box-sizing: border-box;\n",
       "  text-align: center;\n",
       "  align-items: start;\n",
       "  justify-content: space-between;\n",
       "  gap: 0.5em;\n",
       "}\n",
       "\n",
       "#sk-container-id-1 label.sk-toggleable__label .caption {\n",
       "  font-size: 0.6rem;\n",
       "  font-weight: lighter;\n",
       "  color: var(--sklearn-color-text-muted);\n",
       "}\n",
       "\n",
       "#sk-container-id-1 label.sk-toggleable__label-arrow:before {\n",
       "  /* Arrow on the left of the label */\n",
       "  content: \"▸\";\n",
       "  float: left;\n",
       "  margin-right: 0.25em;\n",
       "  color: var(--sklearn-color-icon);\n",
       "}\n",
       "\n",
       "#sk-container-id-1 label.sk-toggleable__label-arrow:hover:before {\n",
       "  color: var(--sklearn-color-text);\n",
       "}\n",
       "\n",
       "/* Toggleable content - dropdown */\n",
       "\n",
       "#sk-container-id-1 div.sk-toggleable__content {\n",
       "  max-height: 0;\n",
       "  max-width: 0;\n",
       "  overflow: hidden;\n",
       "  text-align: left;\n",
       "  /* unfitted */\n",
       "  background-color: var(--sklearn-color-unfitted-level-0);\n",
       "}\n",
       "\n",
       "#sk-container-id-1 div.sk-toggleable__content.fitted {\n",
       "  /* fitted */\n",
       "  background-color: var(--sklearn-color-fitted-level-0);\n",
       "}\n",
       "\n",
       "#sk-container-id-1 div.sk-toggleable__content pre {\n",
       "  margin: 0.2em;\n",
       "  border-radius: 0.25em;\n",
       "  color: var(--sklearn-color-text);\n",
       "  /* unfitted */\n",
       "  background-color: var(--sklearn-color-unfitted-level-0);\n",
       "}\n",
       "\n",
       "#sk-container-id-1 div.sk-toggleable__content.fitted pre {\n",
       "  /* unfitted */\n",
       "  background-color: var(--sklearn-color-fitted-level-0);\n",
       "}\n",
       "\n",
       "#sk-container-id-1 input.sk-toggleable__control:checked~div.sk-toggleable__content {\n",
       "  /* Expand drop-down */\n",
       "  max-height: 200px;\n",
       "  max-width: 100%;\n",
       "  overflow: auto;\n",
       "}\n",
       "\n",
       "#sk-container-id-1 input.sk-toggleable__control:checked~label.sk-toggleable__label-arrow:before {\n",
       "  content: \"▾\";\n",
       "}\n",
       "\n",
       "/* Pipeline/ColumnTransformer-specific style */\n",
       "\n",
       "#sk-container-id-1 div.sk-label input.sk-toggleable__control:checked~label.sk-toggleable__label {\n",
       "  color: var(--sklearn-color-text);\n",
       "  background-color: var(--sklearn-color-unfitted-level-2);\n",
       "}\n",
       "\n",
       "#sk-container-id-1 div.sk-label.fitted input.sk-toggleable__control:checked~label.sk-toggleable__label {\n",
       "  background-color: var(--sklearn-color-fitted-level-2);\n",
       "}\n",
       "\n",
       "/* Estimator-specific style */\n",
       "\n",
       "/* Colorize estimator box */\n",
       "#sk-container-id-1 div.sk-estimator input.sk-toggleable__control:checked~label.sk-toggleable__label {\n",
       "  /* unfitted */\n",
       "  background-color: var(--sklearn-color-unfitted-level-2);\n",
       "}\n",
       "\n",
       "#sk-container-id-1 div.sk-estimator.fitted input.sk-toggleable__control:checked~label.sk-toggleable__label {\n",
       "  /* fitted */\n",
       "  background-color: var(--sklearn-color-fitted-level-2);\n",
       "}\n",
       "\n",
       "#sk-container-id-1 div.sk-label label.sk-toggleable__label,\n",
       "#sk-container-id-1 div.sk-label label {\n",
       "  /* The background is the default theme color */\n",
       "  color: var(--sklearn-color-text-on-default-background);\n",
       "}\n",
       "\n",
       "/* On hover, darken the color of the background */\n",
       "#sk-container-id-1 div.sk-label:hover label.sk-toggleable__label {\n",
       "  color: var(--sklearn-color-text);\n",
       "  background-color: var(--sklearn-color-unfitted-level-2);\n",
       "}\n",
       "\n",
       "/* Label box, darken color on hover, fitted */\n",
       "#sk-container-id-1 div.sk-label.fitted:hover label.sk-toggleable__label.fitted {\n",
       "  color: var(--sklearn-color-text);\n",
       "  background-color: var(--sklearn-color-fitted-level-2);\n",
       "}\n",
       "\n",
       "/* Estimator label */\n",
       "\n",
       "#sk-container-id-1 div.sk-label label {\n",
       "  font-family: monospace;\n",
       "  font-weight: bold;\n",
       "  display: inline-block;\n",
       "  line-height: 1.2em;\n",
       "}\n",
       "\n",
       "#sk-container-id-1 div.sk-label-container {\n",
       "  text-align: center;\n",
       "}\n",
       "\n",
       "/* Estimator-specific */\n",
       "#sk-container-id-1 div.sk-estimator {\n",
       "  font-family: monospace;\n",
       "  border: 1px dotted var(--sklearn-color-border-box);\n",
       "  border-radius: 0.25em;\n",
       "  box-sizing: border-box;\n",
       "  margin-bottom: 0.5em;\n",
       "  /* unfitted */\n",
       "  background-color: var(--sklearn-color-unfitted-level-0);\n",
       "}\n",
       "\n",
       "#sk-container-id-1 div.sk-estimator.fitted {\n",
       "  /* fitted */\n",
       "  background-color: var(--sklearn-color-fitted-level-0);\n",
       "}\n",
       "\n",
       "/* on hover */\n",
       "#sk-container-id-1 div.sk-estimator:hover {\n",
       "  /* unfitted */\n",
       "  background-color: var(--sklearn-color-unfitted-level-2);\n",
       "}\n",
       "\n",
       "#sk-container-id-1 div.sk-estimator.fitted:hover {\n",
       "  /* fitted */\n",
       "  background-color: var(--sklearn-color-fitted-level-2);\n",
       "}\n",
       "\n",
       "/* Specification for estimator info (e.g. \"i\" and \"?\") */\n",
       "\n",
       "/* Common style for \"i\" and \"?\" */\n",
       "\n",
       ".sk-estimator-doc-link,\n",
       "a:link.sk-estimator-doc-link,\n",
       "a:visited.sk-estimator-doc-link {\n",
       "  float: right;\n",
       "  font-size: smaller;\n",
       "  line-height: 1em;\n",
       "  font-family: monospace;\n",
       "  background-color: var(--sklearn-color-background);\n",
       "  border-radius: 1em;\n",
       "  height: 1em;\n",
       "  width: 1em;\n",
       "  text-decoration: none !important;\n",
       "  margin-left: 0.5em;\n",
       "  text-align: center;\n",
       "  /* unfitted */\n",
       "  border: var(--sklearn-color-unfitted-level-1) 1pt solid;\n",
       "  color: var(--sklearn-color-unfitted-level-1);\n",
       "}\n",
       "\n",
       ".sk-estimator-doc-link.fitted,\n",
       "a:link.sk-estimator-doc-link.fitted,\n",
       "a:visited.sk-estimator-doc-link.fitted {\n",
       "  /* fitted */\n",
       "  border: var(--sklearn-color-fitted-level-1) 1pt solid;\n",
       "  color: var(--sklearn-color-fitted-level-1);\n",
       "}\n",
       "\n",
       "/* On hover */\n",
       "div.sk-estimator:hover .sk-estimator-doc-link:hover,\n",
       ".sk-estimator-doc-link:hover,\n",
       "div.sk-label-container:hover .sk-estimator-doc-link:hover,\n",
       ".sk-estimator-doc-link:hover {\n",
       "  /* unfitted */\n",
       "  background-color: var(--sklearn-color-unfitted-level-3);\n",
       "  color: var(--sklearn-color-background);\n",
       "  text-decoration: none;\n",
       "}\n",
       "\n",
       "div.sk-estimator.fitted:hover .sk-estimator-doc-link.fitted:hover,\n",
       ".sk-estimator-doc-link.fitted:hover,\n",
       "div.sk-label-container:hover .sk-estimator-doc-link.fitted:hover,\n",
       ".sk-estimator-doc-link.fitted:hover {\n",
       "  /* fitted */\n",
       "  background-color: var(--sklearn-color-fitted-level-3);\n",
       "  color: var(--sklearn-color-background);\n",
       "  text-decoration: none;\n",
       "}\n",
       "\n",
       "/* Span, style for the box shown on hovering the info icon */\n",
       ".sk-estimator-doc-link span {\n",
       "  display: none;\n",
       "  z-index: 9999;\n",
       "  position: relative;\n",
       "  font-weight: normal;\n",
       "  right: .2ex;\n",
       "  padding: .5ex;\n",
       "  margin: .5ex;\n",
       "  width: min-content;\n",
       "  min-width: 20ex;\n",
       "  max-width: 50ex;\n",
       "  color: var(--sklearn-color-text);\n",
       "  box-shadow: 2pt 2pt 4pt #999;\n",
       "  /* unfitted */\n",
       "  background: var(--sklearn-color-unfitted-level-0);\n",
       "  border: .5pt solid var(--sklearn-color-unfitted-level-3);\n",
       "}\n",
       "\n",
       ".sk-estimator-doc-link.fitted span {\n",
       "  /* fitted */\n",
       "  background: var(--sklearn-color-fitted-level-0);\n",
       "  border: var(--sklearn-color-fitted-level-3);\n",
       "}\n",
       "\n",
       ".sk-estimator-doc-link:hover span {\n",
       "  display: block;\n",
       "}\n",
       "\n",
       "/* \"?\"-specific style due to the `<a>` HTML tag */\n",
       "\n",
       "#sk-container-id-1 a.estimator_doc_link {\n",
       "  float: right;\n",
       "  font-size: 1rem;\n",
       "  line-height: 1em;\n",
       "  font-family: monospace;\n",
       "  background-color: var(--sklearn-color-background);\n",
       "  border-radius: 1rem;\n",
       "  height: 1rem;\n",
       "  width: 1rem;\n",
       "  text-decoration: none;\n",
       "  /* unfitted */\n",
       "  color: var(--sklearn-color-unfitted-level-1);\n",
       "  border: var(--sklearn-color-unfitted-level-1) 1pt solid;\n",
       "}\n",
       "\n",
       "#sk-container-id-1 a.estimator_doc_link.fitted {\n",
       "  /* fitted */\n",
       "  border: var(--sklearn-color-fitted-level-1) 1pt solid;\n",
       "  color: var(--sklearn-color-fitted-level-1);\n",
       "}\n",
       "\n",
       "/* On hover */\n",
       "#sk-container-id-1 a.estimator_doc_link:hover {\n",
       "  /* unfitted */\n",
       "  background-color: var(--sklearn-color-unfitted-level-3);\n",
       "  color: var(--sklearn-color-background);\n",
       "  text-decoration: none;\n",
       "}\n",
       "\n",
       "#sk-container-id-1 a.estimator_doc_link.fitted:hover {\n",
       "  /* fitted */\n",
       "  background-color: var(--sklearn-color-fitted-level-3);\n",
       "}\n",
       "</style><div id=\"sk-container-id-1\" class=\"sk-top-container\"><div class=\"sk-text-repr-fallback\"><pre> ARIMA(1,2,1)(0,0,0)[0]          </pre><b>In a Jupyter environment, please rerun this cell to show the HTML representation or trust the notebook. <br />On GitHub, the HTML representation is unable to render, please try loading this page with nbviewer.org.</b></div><div class=\"sk-container\" hidden><div class=\"sk-item\"><div class=\"sk-estimator fitted sk-toggleable\"><input class=\"sk-toggleable__control sk-hidden--visually\" id=\"sk-estimator-id-1\" type=\"checkbox\" checked><label for=\"sk-estimator-id-1\" class=\"sk-toggleable__label fitted sk-toggleable__label-arrow\"><div><div>ARIMA</div></div><div><span class=\"sk-estimator-doc-link fitted\">i<span>Fitted</span></span></div></label><div class=\"sk-toggleable__content fitted\"><pre> ARIMA(1,2,1)(0,0,0)[0]          </pre></div> </div></div></div></div>"
      ],
      "text/plain": [
       "ARIMA(maxiter=1000, order=(1, 2, 1), scoring_args={}, suppress_warnings=True,\n",
       "      with_intercept=False)"
      ]
     },
     "execution_count": 50,
     "metadata": {},
     "output_type": "execute_result"
    }
   ],
   "source": [
    "pm.auto_arima(df['Money'], maxiter=1000)"
   ]
  },
  {
   "cell_type": "code",
   "execution_count": 51,
   "metadata": {},
   "outputs": [
    {
     "data": {
      "text/html": [
       "<style>#sk-container-id-2 {\n",
       "  /* Definition of color scheme common for light and dark mode */\n",
       "  --sklearn-color-text: #000;\n",
       "  --sklearn-color-text-muted: #666;\n",
       "  --sklearn-color-line: gray;\n",
       "  /* Definition of color scheme for unfitted estimators */\n",
       "  --sklearn-color-unfitted-level-0: #fff5e6;\n",
       "  --sklearn-color-unfitted-level-1: #f6e4d2;\n",
       "  --sklearn-color-unfitted-level-2: #ffe0b3;\n",
       "  --sklearn-color-unfitted-level-3: chocolate;\n",
       "  /* Definition of color scheme for fitted estimators */\n",
       "  --sklearn-color-fitted-level-0: #f0f8ff;\n",
       "  --sklearn-color-fitted-level-1: #d4ebff;\n",
       "  --sklearn-color-fitted-level-2: #b3dbfd;\n",
       "  --sklearn-color-fitted-level-3: cornflowerblue;\n",
       "\n",
       "  /* Specific color for light theme */\n",
       "  --sklearn-color-text-on-default-background: var(--sg-text-color, var(--theme-code-foreground, var(--jp-content-font-color1, black)));\n",
       "  --sklearn-color-background: var(--sg-background-color, var(--theme-background, var(--jp-layout-color0, white)));\n",
       "  --sklearn-color-border-box: var(--sg-text-color, var(--theme-code-foreground, var(--jp-content-font-color1, black)));\n",
       "  --sklearn-color-icon: #696969;\n",
       "\n",
       "  @media (prefers-color-scheme: dark) {\n",
       "    /* Redefinition of color scheme for dark theme */\n",
       "    --sklearn-color-text-on-default-background: var(--sg-text-color, var(--theme-code-foreground, var(--jp-content-font-color1, white)));\n",
       "    --sklearn-color-background: var(--sg-background-color, var(--theme-background, var(--jp-layout-color0, #111)));\n",
       "    --sklearn-color-border-box: var(--sg-text-color, var(--theme-code-foreground, var(--jp-content-font-color1, white)));\n",
       "    --sklearn-color-icon: #878787;\n",
       "  }\n",
       "}\n",
       "\n",
       "#sk-container-id-2 {\n",
       "  color: var(--sklearn-color-text);\n",
       "}\n",
       "\n",
       "#sk-container-id-2 pre {\n",
       "  padding: 0;\n",
       "}\n",
       "\n",
       "#sk-container-id-2 input.sk-hidden--visually {\n",
       "  border: 0;\n",
       "  clip: rect(1px 1px 1px 1px);\n",
       "  clip: rect(1px, 1px, 1px, 1px);\n",
       "  height: 1px;\n",
       "  margin: -1px;\n",
       "  overflow: hidden;\n",
       "  padding: 0;\n",
       "  position: absolute;\n",
       "  width: 1px;\n",
       "}\n",
       "\n",
       "#sk-container-id-2 div.sk-dashed-wrapped {\n",
       "  border: 1px dashed var(--sklearn-color-line);\n",
       "  margin: 0 0.4em 0.5em 0.4em;\n",
       "  box-sizing: border-box;\n",
       "  padding-bottom: 0.4em;\n",
       "  background-color: var(--sklearn-color-background);\n",
       "}\n",
       "\n",
       "#sk-container-id-2 div.sk-container {\n",
       "  /* jupyter's `normalize.less` sets `[hidden] { display: none; }`\n",
       "     but bootstrap.min.css set `[hidden] { display: none !important; }`\n",
       "     so we also need the `!important` here to be able to override the\n",
       "     default hidden behavior on the sphinx rendered scikit-learn.org.\n",
       "     See: https://github.com/scikit-learn/scikit-learn/issues/21755 */\n",
       "  display: inline-block !important;\n",
       "  position: relative;\n",
       "}\n",
       "\n",
       "#sk-container-id-2 div.sk-text-repr-fallback {\n",
       "  display: none;\n",
       "}\n",
       "\n",
       "div.sk-parallel-item,\n",
       "div.sk-serial,\n",
       "div.sk-item {\n",
       "  /* draw centered vertical line to link estimators */\n",
       "  background-image: linear-gradient(var(--sklearn-color-text-on-default-background), var(--sklearn-color-text-on-default-background));\n",
       "  background-size: 2px 100%;\n",
       "  background-repeat: no-repeat;\n",
       "  background-position: center center;\n",
       "}\n",
       "\n",
       "/* Parallel-specific style estimator block */\n",
       "\n",
       "#sk-container-id-2 div.sk-parallel-item::after {\n",
       "  content: \"\";\n",
       "  width: 100%;\n",
       "  border-bottom: 2px solid var(--sklearn-color-text-on-default-background);\n",
       "  flex-grow: 1;\n",
       "}\n",
       "\n",
       "#sk-container-id-2 div.sk-parallel {\n",
       "  display: flex;\n",
       "  align-items: stretch;\n",
       "  justify-content: center;\n",
       "  background-color: var(--sklearn-color-background);\n",
       "  position: relative;\n",
       "}\n",
       "\n",
       "#sk-container-id-2 div.sk-parallel-item {\n",
       "  display: flex;\n",
       "  flex-direction: column;\n",
       "}\n",
       "\n",
       "#sk-container-id-2 div.sk-parallel-item:first-child::after {\n",
       "  align-self: flex-end;\n",
       "  width: 50%;\n",
       "}\n",
       "\n",
       "#sk-container-id-2 div.sk-parallel-item:last-child::after {\n",
       "  align-self: flex-start;\n",
       "  width: 50%;\n",
       "}\n",
       "\n",
       "#sk-container-id-2 div.sk-parallel-item:only-child::after {\n",
       "  width: 0;\n",
       "}\n",
       "\n",
       "/* Serial-specific style estimator block */\n",
       "\n",
       "#sk-container-id-2 div.sk-serial {\n",
       "  display: flex;\n",
       "  flex-direction: column;\n",
       "  align-items: center;\n",
       "  background-color: var(--sklearn-color-background);\n",
       "  padding-right: 1em;\n",
       "  padding-left: 1em;\n",
       "}\n",
       "\n",
       "\n",
       "/* Toggleable style: style used for estimator/Pipeline/ColumnTransformer box that is\n",
       "clickable and can be expanded/collapsed.\n",
       "- Pipeline and ColumnTransformer use this feature and define the default style\n",
       "- Estimators will overwrite some part of the style using the `sk-estimator` class\n",
       "*/\n",
       "\n",
       "/* Pipeline and ColumnTransformer style (default) */\n",
       "\n",
       "#sk-container-id-2 div.sk-toggleable {\n",
       "  /* Default theme specific background. It is overwritten whether we have a\n",
       "  specific estimator or a Pipeline/ColumnTransformer */\n",
       "  background-color: var(--sklearn-color-background);\n",
       "}\n",
       "\n",
       "/* Toggleable label */\n",
       "#sk-container-id-2 label.sk-toggleable__label {\n",
       "  cursor: pointer;\n",
       "  display: flex;\n",
       "  width: 100%;\n",
       "  margin-bottom: 0;\n",
       "  padding: 0.5em;\n",
       "  box-sizing: border-box;\n",
       "  text-align: center;\n",
       "  align-items: start;\n",
       "  justify-content: space-between;\n",
       "  gap: 0.5em;\n",
       "}\n",
       "\n",
       "#sk-container-id-2 label.sk-toggleable__label .caption {\n",
       "  font-size: 0.6rem;\n",
       "  font-weight: lighter;\n",
       "  color: var(--sklearn-color-text-muted);\n",
       "}\n",
       "\n",
       "#sk-container-id-2 label.sk-toggleable__label-arrow:before {\n",
       "  /* Arrow on the left of the label */\n",
       "  content: \"▸\";\n",
       "  float: left;\n",
       "  margin-right: 0.25em;\n",
       "  color: var(--sklearn-color-icon);\n",
       "}\n",
       "\n",
       "#sk-container-id-2 label.sk-toggleable__label-arrow:hover:before {\n",
       "  color: var(--sklearn-color-text);\n",
       "}\n",
       "\n",
       "/* Toggleable content - dropdown */\n",
       "\n",
       "#sk-container-id-2 div.sk-toggleable__content {\n",
       "  max-height: 0;\n",
       "  max-width: 0;\n",
       "  overflow: hidden;\n",
       "  text-align: left;\n",
       "  /* unfitted */\n",
       "  background-color: var(--sklearn-color-unfitted-level-0);\n",
       "}\n",
       "\n",
       "#sk-container-id-2 div.sk-toggleable__content.fitted {\n",
       "  /* fitted */\n",
       "  background-color: var(--sklearn-color-fitted-level-0);\n",
       "}\n",
       "\n",
       "#sk-container-id-2 div.sk-toggleable__content pre {\n",
       "  margin: 0.2em;\n",
       "  border-radius: 0.25em;\n",
       "  color: var(--sklearn-color-text);\n",
       "  /* unfitted */\n",
       "  background-color: var(--sklearn-color-unfitted-level-0);\n",
       "}\n",
       "\n",
       "#sk-container-id-2 div.sk-toggleable__content.fitted pre {\n",
       "  /* unfitted */\n",
       "  background-color: var(--sklearn-color-fitted-level-0);\n",
       "}\n",
       "\n",
       "#sk-container-id-2 input.sk-toggleable__control:checked~div.sk-toggleable__content {\n",
       "  /* Expand drop-down */\n",
       "  max-height: 200px;\n",
       "  max-width: 100%;\n",
       "  overflow: auto;\n",
       "}\n",
       "\n",
       "#sk-container-id-2 input.sk-toggleable__control:checked~label.sk-toggleable__label-arrow:before {\n",
       "  content: \"▾\";\n",
       "}\n",
       "\n",
       "/* Pipeline/ColumnTransformer-specific style */\n",
       "\n",
       "#sk-container-id-2 div.sk-label input.sk-toggleable__control:checked~label.sk-toggleable__label {\n",
       "  color: var(--sklearn-color-text);\n",
       "  background-color: var(--sklearn-color-unfitted-level-2);\n",
       "}\n",
       "\n",
       "#sk-container-id-2 div.sk-label.fitted input.sk-toggleable__control:checked~label.sk-toggleable__label {\n",
       "  background-color: var(--sklearn-color-fitted-level-2);\n",
       "}\n",
       "\n",
       "/* Estimator-specific style */\n",
       "\n",
       "/* Colorize estimator box */\n",
       "#sk-container-id-2 div.sk-estimator input.sk-toggleable__control:checked~label.sk-toggleable__label {\n",
       "  /* unfitted */\n",
       "  background-color: var(--sklearn-color-unfitted-level-2);\n",
       "}\n",
       "\n",
       "#sk-container-id-2 div.sk-estimator.fitted input.sk-toggleable__control:checked~label.sk-toggleable__label {\n",
       "  /* fitted */\n",
       "  background-color: var(--sklearn-color-fitted-level-2);\n",
       "}\n",
       "\n",
       "#sk-container-id-2 div.sk-label label.sk-toggleable__label,\n",
       "#sk-container-id-2 div.sk-label label {\n",
       "  /* The background is the default theme color */\n",
       "  color: var(--sklearn-color-text-on-default-background);\n",
       "}\n",
       "\n",
       "/* On hover, darken the color of the background */\n",
       "#sk-container-id-2 div.sk-label:hover label.sk-toggleable__label {\n",
       "  color: var(--sklearn-color-text);\n",
       "  background-color: var(--sklearn-color-unfitted-level-2);\n",
       "}\n",
       "\n",
       "/* Label box, darken color on hover, fitted */\n",
       "#sk-container-id-2 div.sk-label.fitted:hover label.sk-toggleable__label.fitted {\n",
       "  color: var(--sklearn-color-text);\n",
       "  background-color: var(--sklearn-color-fitted-level-2);\n",
       "}\n",
       "\n",
       "/* Estimator label */\n",
       "\n",
       "#sk-container-id-2 div.sk-label label {\n",
       "  font-family: monospace;\n",
       "  font-weight: bold;\n",
       "  display: inline-block;\n",
       "  line-height: 1.2em;\n",
       "}\n",
       "\n",
       "#sk-container-id-2 div.sk-label-container {\n",
       "  text-align: center;\n",
       "}\n",
       "\n",
       "/* Estimator-specific */\n",
       "#sk-container-id-2 div.sk-estimator {\n",
       "  font-family: monospace;\n",
       "  border: 1px dotted var(--sklearn-color-border-box);\n",
       "  border-radius: 0.25em;\n",
       "  box-sizing: border-box;\n",
       "  margin-bottom: 0.5em;\n",
       "  /* unfitted */\n",
       "  background-color: var(--sklearn-color-unfitted-level-0);\n",
       "}\n",
       "\n",
       "#sk-container-id-2 div.sk-estimator.fitted {\n",
       "  /* fitted */\n",
       "  background-color: var(--sklearn-color-fitted-level-0);\n",
       "}\n",
       "\n",
       "/* on hover */\n",
       "#sk-container-id-2 div.sk-estimator:hover {\n",
       "  /* unfitted */\n",
       "  background-color: var(--sklearn-color-unfitted-level-2);\n",
       "}\n",
       "\n",
       "#sk-container-id-2 div.sk-estimator.fitted:hover {\n",
       "  /* fitted */\n",
       "  background-color: var(--sklearn-color-fitted-level-2);\n",
       "}\n",
       "\n",
       "/* Specification for estimator info (e.g. \"i\" and \"?\") */\n",
       "\n",
       "/* Common style for \"i\" and \"?\" */\n",
       "\n",
       ".sk-estimator-doc-link,\n",
       "a:link.sk-estimator-doc-link,\n",
       "a:visited.sk-estimator-doc-link {\n",
       "  float: right;\n",
       "  font-size: smaller;\n",
       "  line-height: 1em;\n",
       "  font-family: monospace;\n",
       "  background-color: var(--sklearn-color-background);\n",
       "  border-radius: 1em;\n",
       "  height: 1em;\n",
       "  width: 1em;\n",
       "  text-decoration: none !important;\n",
       "  margin-left: 0.5em;\n",
       "  text-align: center;\n",
       "  /* unfitted */\n",
       "  border: var(--sklearn-color-unfitted-level-1) 1pt solid;\n",
       "  color: var(--sklearn-color-unfitted-level-1);\n",
       "}\n",
       "\n",
       ".sk-estimator-doc-link.fitted,\n",
       "a:link.sk-estimator-doc-link.fitted,\n",
       "a:visited.sk-estimator-doc-link.fitted {\n",
       "  /* fitted */\n",
       "  border: var(--sklearn-color-fitted-level-1) 1pt solid;\n",
       "  color: var(--sklearn-color-fitted-level-1);\n",
       "}\n",
       "\n",
       "/* On hover */\n",
       "div.sk-estimator:hover .sk-estimator-doc-link:hover,\n",
       ".sk-estimator-doc-link:hover,\n",
       "div.sk-label-container:hover .sk-estimator-doc-link:hover,\n",
       ".sk-estimator-doc-link:hover {\n",
       "  /* unfitted */\n",
       "  background-color: var(--sklearn-color-unfitted-level-3);\n",
       "  color: var(--sklearn-color-background);\n",
       "  text-decoration: none;\n",
       "}\n",
       "\n",
       "div.sk-estimator.fitted:hover .sk-estimator-doc-link.fitted:hover,\n",
       ".sk-estimator-doc-link.fitted:hover,\n",
       "div.sk-label-container:hover .sk-estimator-doc-link.fitted:hover,\n",
       ".sk-estimator-doc-link.fitted:hover {\n",
       "  /* fitted */\n",
       "  background-color: var(--sklearn-color-fitted-level-3);\n",
       "  color: var(--sklearn-color-background);\n",
       "  text-decoration: none;\n",
       "}\n",
       "\n",
       "/* Span, style for the box shown on hovering the info icon */\n",
       ".sk-estimator-doc-link span {\n",
       "  display: none;\n",
       "  z-index: 9999;\n",
       "  position: relative;\n",
       "  font-weight: normal;\n",
       "  right: .2ex;\n",
       "  padding: .5ex;\n",
       "  margin: .5ex;\n",
       "  width: min-content;\n",
       "  min-width: 20ex;\n",
       "  max-width: 50ex;\n",
       "  color: var(--sklearn-color-text);\n",
       "  box-shadow: 2pt 2pt 4pt #999;\n",
       "  /* unfitted */\n",
       "  background: var(--sklearn-color-unfitted-level-0);\n",
       "  border: .5pt solid var(--sklearn-color-unfitted-level-3);\n",
       "}\n",
       "\n",
       ".sk-estimator-doc-link.fitted span {\n",
       "  /* fitted */\n",
       "  background: var(--sklearn-color-fitted-level-0);\n",
       "  border: var(--sklearn-color-fitted-level-3);\n",
       "}\n",
       "\n",
       ".sk-estimator-doc-link:hover span {\n",
       "  display: block;\n",
       "}\n",
       "\n",
       "/* \"?\"-specific style due to the `<a>` HTML tag */\n",
       "\n",
       "#sk-container-id-2 a.estimator_doc_link {\n",
       "  float: right;\n",
       "  font-size: 1rem;\n",
       "  line-height: 1em;\n",
       "  font-family: monospace;\n",
       "  background-color: var(--sklearn-color-background);\n",
       "  border-radius: 1rem;\n",
       "  height: 1rem;\n",
       "  width: 1rem;\n",
       "  text-decoration: none;\n",
       "  /* unfitted */\n",
       "  color: var(--sklearn-color-unfitted-level-1);\n",
       "  border: var(--sklearn-color-unfitted-level-1) 1pt solid;\n",
       "}\n",
       "\n",
       "#sk-container-id-2 a.estimator_doc_link.fitted {\n",
       "  /* fitted */\n",
       "  border: var(--sklearn-color-fitted-level-1) 1pt solid;\n",
       "  color: var(--sklearn-color-fitted-level-1);\n",
       "}\n",
       "\n",
       "/* On hover */\n",
       "#sk-container-id-2 a.estimator_doc_link:hover {\n",
       "  /* unfitted */\n",
       "  background-color: var(--sklearn-color-unfitted-level-3);\n",
       "  color: var(--sklearn-color-background);\n",
       "  text-decoration: none;\n",
       "}\n",
       "\n",
       "#sk-container-id-2 a.estimator_doc_link.fitted:hover {\n",
       "  /* fitted */\n",
       "  background-color: var(--sklearn-color-fitted-level-3);\n",
       "}\n",
       "</style><div id=\"sk-container-id-2\" class=\"sk-top-container\"><div class=\"sk-text-repr-fallback\"><pre> ARIMA(1,1,2)(0,0,0)[0] intercept</pre><b>In a Jupyter environment, please rerun this cell to show the HTML representation or trust the notebook. <br />On GitHub, the HTML representation is unable to render, please try loading this page with nbviewer.org.</b></div><div class=\"sk-container\" hidden><div class=\"sk-item\"><div class=\"sk-estimator fitted sk-toggleable\"><input class=\"sk-toggleable__control sk-hidden--visually\" id=\"sk-estimator-id-2\" type=\"checkbox\" checked><label for=\"sk-estimator-id-2\" class=\"sk-toggleable__label fitted sk-toggleable__label-arrow\"><div><div>ARIMA</div></div><div><span class=\"sk-estimator-doc-link fitted\">i<span>Fitted</span></span></div></label><div class=\"sk-toggleable__content fitted\"><pre> ARIMA(1,1,2)(0,0,0)[0] intercept</pre></div> </div></div></div></div>"
      ],
      "text/plain": [
       "ARIMA(maxiter=1000, order=(1, 1, 2), scoring_args={}, suppress_warnings=True)"
      ]
     },
     "execution_count": 51,
     "metadata": {},
     "output_type": "execute_result"
    }
   ],
   "source": [
    "pm.auto_arima(df['Spending'], maxiter=1000)"
   ]
  },
  {
   "cell_type": "markdown",
   "metadata": {},
   "source": [
    "단일 시계열 모델 ARIMA(1,2,1)과 (1,1,2)가 각 변수에 추천되었다.\n",
    "\n",
    "2차 차분을 한뒤에, 위 p, q항을 포괄할수 있는 VARMA(1,2) 모델을 통해서 예측을 진행하고 ARIMA와 비교해보자."
   ]
  },
  {
   "cell_type": "markdown",
   "metadata": {},
   "source": [
    "데이터 차분"
   ]
  },
  {
   "cell_type": "code",
   "execution_count": 52,
   "metadata": {},
   "outputs": [
    {
     "data": {
      "text/html": [
       "<div>\n",
       "<style scoped>\n",
       "    .dataframe tbody tr th:only-of-type {\n",
       "        vertical-align: middle;\n",
       "    }\n",
       "\n",
       "    .dataframe tbody tr th {\n",
       "        vertical-align: top;\n",
       "    }\n",
       "\n",
       "    .dataframe thead th {\n",
       "        text-align: right;\n",
       "    }\n",
       "</style>\n",
       "<table border=\"1\" class=\"dataframe\">\n",
       "  <thead>\n",
       "    <tr style=\"text-align: right;\">\n",
       "      <th></th>\n",
       "      <th>Money</th>\n",
       "      <th>Spending</th>\n",
       "    </tr>\n",
       "    <tr>\n",
       "      <th>Date</th>\n",
       "      <th></th>\n",
       "      <th></th>\n",
       "    </tr>\n",
       "  </thead>\n",
       "  <tbody>\n",
       "    <tr>\n",
       "      <th>1995-03-01</th>\n",
       "      <td>3.7</td>\n",
       "      <td>35.0</td>\n",
       "    </tr>\n",
       "    <tr>\n",
       "      <th>1995-04-01</th>\n",
       "      <td>6.9</td>\n",
       "      <td>-29.8</td>\n",
       "    </tr>\n",
       "    <tr>\n",
       "      <th>1995-05-01</th>\n",
       "      <td>16.9</td>\n",
       "      <td>38.1</td>\n",
       "    </tr>\n",
       "    <tr>\n",
       "      <th>1995-06-01</th>\n",
       "      <td>-0.3</td>\n",
       "      <td>1.5</td>\n",
       "    </tr>\n",
       "    <tr>\n",
       "      <th>1995-07-01</th>\n",
       "      <td>-6.2</td>\n",
       "      <td>-51.7</td>\n",
       "    </tr>\n",
       "  </tbody>\n",
       "</table>\n",
       "</div>"
      ],
      "text/plain": [
       "            Money  Spending\n",
       "Date                       \n",
       "1995-03-01    3.7      35.0\n",
       "1995-04-01    6.9     -29.8\n",
       "1995-05-01   16.9      38.1\n",
       "1995-06-01   -0.3       1.5\n",
       "1995-07-01   -6.2     -51.7"
      ]
     },
     "execution_count": 52,
     "metadata": {},
     "output_type": "execute_result"
    }
   ],
   "source": [
    "df_transformed = df.diff().diff().dropna()\n",
    "df_transformed.head()"
   ]
  },
  {
   "cell_type": "markdown",
   "metadata": {},
   "source": [
    "데이터 분할"
   ]
  },
  {
   "cell_type": "code",
   "execution_count": 53,
   "metadata": {},
   "outputs": [],
   "source": [
    "nobs = 12 # nobs : number of observations\n",
    "train = df_transformed[:-nobs]\n",
    "test = df_transformed[-nobs:]"
   ]
  },
  {
   "cell_type": "markdown",
   "metadata": {},
   "source": [
    "모델링"
   ]
  },
  {
   "cell_type": "code",
   "execution_count": 54,
   "metadata": {},
   "outputs": [
    {
     "name": "stderr",
     "output_type": "stream",
     "text": [
      "/Users/dante/workspace/dante-code/projects/kmu-practical-ds-2025/.conda/lib/python3.12/site-packages/statsmodels/tsa/statespace/varmax.py:160: EstimationWarning:\n",
      "\n",
      "Estimation of VARMA(p,q) models is not generically robust, due especially to identification issues.\n",
      "\n"
     ]
    },
    {
     "data": {
      "text/html": [
       "<table class=\"simpletable\">\n",
       "<caption>Statespace Model Results</caption>\n",
       "<tr>\n",
       "  <th>Dep. Variable:</th>   <td>['Money', 'Spending']</td> <th>  No. Observations:  </th>    <td>238</td>   \n",
       "</tr>\n",
       "<tr>\n",
       "  <th>Model:</th>                <td>VARMA(1,2)</td>       <th>  Log Likelihood     </th> <td>-2286.479</td>\n",
       "</tr>\n",
       "<tr>\n",
       "  <th></th>                      <td>+ intercept</td>      <th>  AIC                </th> <td>4606.958</td> \n",
       "</tr>\n",
       "<tr>\n",
       "  <th>Date:</th>              <td>Sat, 07 Jun 2025</td>    <th>  BIC                </th> <td>4665.986</td> \n",
       "</tr>\n",
       "<tr>\n",
       "  <th>Time:</th>                  <td>15:22:39</td>        <th>  HQIC               </th> <td>4630.747</td> \n",
       "</tr>\n",
       "<tr>\n",
       "  <th>Sample:</th>               <td>03-01-1995</td>       <th>                     </th>     <td> </td>    \n",
       "</tr>\n",
       "<tr>\n",
       "  <th></th>                     <td>- 12-01-2014</td>      <th>                     </th>     <td> </td>    \n",
       "</tr>\n",
       "<tr>\n",
       "  <th>Covariance Type:</th>          <td>opg</td>          <th>                     </th>     <td> </td>    \n",
       "</tr>\n",
       "</table>\n",
       "<table class=\"simpletable\">\n",
       "<tr>\n",
       "  <th>Ljung-Box (L1) (Q):</th>     <td>0.93, 0.00</td> <th>  Jarque-Bera (JB):  </th> <td>531.73, 113.88</td>\n",
       "</tr>\n",
       "<tr>\n",
       "  <th>Prob(Q):</th>                <td>0.34, 0.95</td> <th>  Prob(JB):          </th>   <td>0.00, 0.00</td>  \n",
       "</tr>\n",
       "<tr>\n",
       "  <th>Heteroskedasticity (H):</th> <td>5.52, 2.92</td> <th>  Skew:              </th>   <td>1.31, -0.32</td> \n",
       "</tr>\n",
       "<tr>\n",
       "  <th>Prob(H) (two-sided):</th>    <td>0.00, 0.00</td> <th>  Kurtosis:          </th>   <td>9.84, 6.33</td>  \n",
       "</tr>\n",
       "</table>\n",
       "<table class=\"simpletable\">\n",
       "<caption>Results for equation Money</caption>\n",
       "<tr>\n",
       "         <td></td>           <th>coef</th>     <th>std err</th>      <th>z</th>      <th>P>|z|</th>  <th>[0.025</th>    <th>0.975]</th>  \n",
       "</tr>\n",
       "<tr>\n",
       "  <th>intercept</th>      <td>   -0.0510</td> <td>    0.907</td> <td>   -0.056</td> <td> 0.955</td> <td>   -1.829</td> <td>    1.727</td>\n",
       "</tr>\n",
       "<tr>\n",
       "  <th>L1.Money</th>       <td>   -0.8437</td> <td>    3.359</td> <td>   -0.251</td> <td> 0.802</td> <td>   -7.427</td> <td>    5.739</td>\n",
       "</tr>\n",
       "<tr>\n",
       "  <th>L1.Spending</th>    <td>    2.2946</td> <td>    7.478</td> <td>    0.307</td> <td> 0.759</td> <td>  -12.363</td> <td>   16.952</td>\n",
       "</tr>\n",
       "<tr>\n",
       "  <th>L1.e(Money)</th>    <td>    0.0843</td> <td>    3.342</td> <td>    0.025</td> <td> 0.980</td> <td>   -6.466</td> <td>    6.634</td>\n",
       "</tr>\n",
       "<tr>\n",
       "  <th>L1.e(Spending)</th> <td>   -2.4223</td> <td>    7.482</td> <td>   -0.324</td> <td> 0.746</td> <td>  -17.087</td> <td>   12.242</td>\n",
       "</tr>\n",
       "<tr>\n",
       "  <th>L2.e(Money)</th>    <td>   -1.1489</td> <td>    3.549</td> <td>   -0.324</td> <td> 0.746</td> <td>   -8.106</td> <td>    5.808</td>\n",
       "</tr>\n",
       "<tr>\n",
       "  <th>L2.e(Spending)</th> <td>    2.1392</td> <td>    6.592</td> <td>    0.325</td> <td> 0.746</td> <td>  -10.781</td> <td>   15.060</td>\n",
       "</tr>\n",
       "</table>\n",
       "<table class=\"simpletable\">\n",
       "<caption>Results for equation Spending</caption>\n",
       "<tr>\n",
       "         <td></td>           <th>coef</th>     <th>std err</th>      <th>z</th>      <th>P>|z|</th>  <th>[0.025</th>    <th>0.975]</th>  \n",
       "</tr>\n",
       "<tr>\n",
       "  <th>intercept</th>      <td>    0.1026</td> <td>    0.346</td> <td>    0.297</td> <td> 0.767</td> <td>   -0.575</td> <td>    0.780</td>\n",
       "</tr>\n",
       "<tr>\n",
       "  <th>L1.Money</th>       <td>   -0.1481</td> <td>    1.571</td> <td>   -0.094</td> <td> 0.925</td> <td>   -3.227</td> <td>    2.930</td>\n",
       "</tr>\n",
       "<tr>\n",
       "  <th>L1.Spending</th>    <td>    0.5385</td> <td>    3.417</td> <td>    0.158</td> <td> 0.875</td> <td>   -6.159</td> <td>    7.236</td>\n",
       "</tr>\n",
       "<tr>\n",
       "  <th>L1.e(Money)</th>    <td>    0.2604</td> <td>    1.641</td> <td>    0.159</td> <td> 0.874</td> <td>   -2.956</td> <td>    3.477</td>\n",
       "</tr>\n",
       "<tr>\n",
       "  <th>L1.e(Spending)</th> <td>   -1.4857</td> <td>    3.390</td> <td>   -0.438</td> <td> 0.661</td> <td>   -8.129</td> <td>    5.158</td>\n",
       "</tr>\n",
       "<tr>\n",
       "  <th>L2.e(Money)</th>    <td>   -0.2489</td> <td>    1.736</td> <td>   -0.143</td> <td> 0.886</td> <td>   -3.651</td> <td>    3.153</td>\n",
       "</tr>\n",
       "<tr>\n",
       "  <th>L2.e(Spending)</th> <td>    0.5404</td> <td>    2.973</td> <td>    0.182</td> <td> 0.856</td> <td>   -5.286</td> <td>    6.367</td>\n",
       "</tr>\n",
       "</table>\n",
       "<table class=\"simpletable\">\n",
       "<caption>Error covariance matrix</caption>\n",
       "<tr>\n",
       "             <td></td>                <th>coef</th>     <th>std err</th>      <th>z</th>      <th>P>|z|</th>  <th>[0.025</th>    <th>0.975]</th>  \n",
       "</tr>\n",
       "<tr>\n",
       "  <th>sqrt.var.Money</th>          <td>   25.9075</td> <td>    1.496</td> <td>   17.323</td> <td> 0.000</td> <td>   22.976</td> <td>   28.839</td>\n",
       "</tr>\n",
       "<tr>\n",
       "  <th>sqrt.cov.Money.Spending</th> <td>  -10.2341</td> <td>    1.885</td> <td>   -5.429</td> <td> 0.000</td> <td>  -13.929</td> <td>   -6.540</td>\n",
       "</tr>\n",
       "<tr>\n",
       "  <th>sqrt.var.Spending</th>       <td>   33.7577</td> <td>    1.266</td> <td>   26.667</td> <td> 0.000</td> <td>   31.277</td> <td>   36.239</td>\n",
       "</tr>\n",
       "</table><br/><br/>Warnings:<br/>[1] Covariance matrix calculated using the outer product of gradients (complex-step)."
      ],
      "text/latex": [
       "\\begin{center}\n",
       "\\begin{tabular}{lclc}\n",
       "\\toprule\n",
       "\\textbf{Dep. Variable:}          & ['Money', 'Spending'] & \\textbf{  No. Observations:  } &      238        \\\\\n",
       "\\textbf{Model:}                  &       VARMA(1,2)      & \\textbf{  Log Likelihood     } &   -2286.479     \\\\\n",
       "\\textbf{}                        &      + intercept      & \\textbf{  AIC                } &    4606.958     \\\\\n",
       "\\textbf{Date:}                   &    Sat, 07 Jun 2025   & \\textbf{  BIC                } &    4665.986     \\\\\n",
       "\\textbf{Time:}                   &        15:22:39       & \\textbf{  HQIC               } &    4630.747     \\\\\n",
       "\\textbf{Sample:}                 &       03-01-1995      & \\textbf{                     } &                 \\\\\n",
       "\\textbf{}                        &      - 12-01-2014     & \\textbf{                     } &                 \\\\\n",
       "\\textbf{Covariance Type:}        &          opg          & \\textbf{                     } &                 \\\\\n",
       "\\textbf{Ljung-Box (L1) (Q):}     & 0.93, 0.00 & \\textbf{  Jarque-Bera (JB):  } & 531.73, 113.88  \\\\\n",
       "\\textbf{Prob(Q):}                & 0.34, 0.95 & \\textbf{  Prob(JB):          } &   0.00, 0.00    \\\\\n",
       "\\textbf{Heteroskedasticity (H):} & 5.52, 2.92 & \\textbf{  Skew:              } &  1.31, -0.32    \\\\\n",
       "\\textbf{Prob(H) (two-sided):}    & 0.00, 0.00 & \\textbf{  Kurtosis:          } &   9.84, 6.33    \\\\\n",
       "\\bottomrule\n",
       "\\end{tabular}\n",
       "\\begin{tabular}{lcccccc}\n",
       "                        & \\textbf{coef} & \\textbf{std err} & \\textbf{z} & \\textbf{P$> |$z$|$} & \\textbf{[0.025} & \\textbf{0.975]}  \\\\\n",
       "\\midrule\n",
       "\\textbf{intercept}      &      -0.0510  &        0.907     &    -0.056  &         0.955        &       -1.829    &        1.727     \\\\\n",
       "\\textbf{L1.Money}       &      -0.8437  &        3.359     &    -0.251  &         0.802        &       -7.427    &        5.739     \\\\\n",
       "\\textbf{L1.Spending}    &       2.2946  &        7.478     &     0.307  &         0.759        &      -12.363    &       16.952     \\\\\n",
       "\\textbf{L1.e(Money)}    &       0.0843  &        3.342     &     0.025  &         0.980        &       -6.466    &        6.634     \\\\\n",
       "\\textbf{L1.e(Spending)} &      -2.4223  &        7.482     &    -0.324  &         0.746        &      -17.087    &       12.242     \\\\\n",
       "\\textbf{L2.e(Money)}    &      -1.1489  &        3.549     &    -0.324  &         0.746        &       -8.106    &        5.808     \\\\\n",
       "\\textbf{L2.e(Spending)} &       2.1392  &        6.592     &     0.325  &         0.746        &      -10.781    &       15.060     \\\\\n",
       "                        & \\textbf{coef} & \\textbf{std err} & \\textbf{z} & \\textbf{P$> |$z$|$} & \\textbf{[0.025} & \\textbf{0.975]}  \\\\\n",
       "\\midrule\n",
       "\\textbf{intercept}      &       0.1026  &        0.346     &     0.297  &         0.767        &       -0.575    &        0.780     \\\\\n",
       "\\textbf{L1.Money}       &      -0.1481  &        1.571     &    -0.094  &         0.925        &       -3.227    &        2.930     \\\\\n",
       "\\textbf{L1.Spending}    &       0.5385  &        3.417     &     0.158  &         0.875        &       -6.159    &        7.236     \\\\\n",
       "\\textbf{L1.e(Money)}    &       0.2604  &        1.641     &     0.159  &         0.874        &       -2.956    &        3.477     \\\\\n",
       "\\textbf{L1.e(Spending)} &      -1.4857  &        3.390     &    -0.438  &         0.661        &       -8.129    &        5.158     \\\\\n",
       "\\textbf{L2.e(Money)}    &      -0.2489  &        1.736     &    -0.143  &         0.886        &       -3.651    &        3.153     \\\\\n",
       "\\textbf{L2.e(Spending)} &       0.5404  &        2.973     &     0.182  &         0.856        &       -5.286    &        6.367     \\\\\n",
       "                                 & \\textbf{coef} & \\textbf{std err} & \\textbf{z} & \\textbf{P$> |$z$|$} & \\textbf{[0.025} & \\textbf{0.975]}  \\\\\n",
       "\\midrule\n",
       "\\textbf{sqrt.var.Money}          &      25.9075  &        1.496     &    17.323  &         0.000        &       22.976    &       28.839     \\\\\n",
       "\\textbf{sqrt.cov.Money.Spending} &     -10.2341  &        1.885     &    -5.429  &         0.000        &      -13.929    &       -6.540     \\\\\n",
       "\\textbf{sqrt.var.Spending}       &      33.7577  &        1.266     &    26.667  &         0.000        &       31.277    &       36.239     \\\\\n",
       "\\bottomrule\n",
       "\\end{tabular}\n",
       "%\\caption{Statespace Model Results}\n",
       "\\end{center}\n",
       "\n",
       "Warnings: \\newline\n",
       " [1] Covariance matrix calculated using the outer product of gradients (complex-step)."
      ],
      "text/plain": [
       "<class 'statsmodels.iolib.summary.Summary'>\n",
       "\"\"\"\n",
       "                             Statespace Model Results                            \n",
       "=================================================================================\n",
       "Dep. Variable:     ['Money', 'Spending']   No. Observations:                  238\n",
       "Model:                        VARMA(1,2)   Log Likelihood               -2286.479\n",
       "                             + intercept   AIC                           4606.958\n",
       "Date:                   Sat, 07 Jun 2025   BIC                           4665.986\n",
       "Time:                           15:22:39   HQIC                          4630.747\n",
       "Sample:                       03-01-1995                                         \n",
       "                            - 12-01-2014                                         \n",
       "Covariance Type:                     opg                                         \n",
       "===================================================================================\n",
       "Ljung-Box (L1) (Q):             0.93, 0.00   Jarque-Bera (JB):       531.73, 113.88\n",
       "Prob(Q):                        0.34, 0.95   Prob(JB):                   0.00, 0.00\n",
       "Heteroskedasticity (H):         5.52, 2.92   Skew:                      1.31, -0.32\n",
       "Prob(H) (two-sided):            0.00, 0.00   Kurtosis:                   9.84, 6.33\n",
       "                            Results for equation Money                            \n",
       "==================================================================================\n",
       "                     coef    std err          z      P>|z|      [0.025      0.975]\n",
       "----------------------------------------------------------------------------------\n",
       "intercept         -0.0510      0.907     -0.056      0.955      -1.829       1.727\n",
       "L1.Money          -0.8437      3.359     -0.251      0.802      -7.427       5.739\n",
       "L1.Spending        2.2946      7.478      0.307      0.759     -12.363      16.952\n",
       "L1.e(Money)        0.0843      3.342      0.025      0.980      -6.466       6.634\n",
       "L1.e(Spending)    -2.4223      7.482     -0.324      0.746     -17.087      12.242\n",
       "L2.e(Money)       -1.1489      3.549     -0.324      0.746      -8.106       5.808\n",
       "L2.e(Spending)     2.1392      6.592      0.325      0.746     -10.781      15.060\n",
       "                          Results for equation Spending                           \n",
       "==================================================================================\n",
       "                     coef    std err          z      P>|z|      [0.025      0.975]\n",
       "----------------------------------------------------------------------------------\n",
       "intercept          0.1026      0.346      0.297      0.767      -0.575       0.780\n",
       "L1.Money          -0.1481      1.571     -0.094      0.925      -3.227       2.930\n",
       "L1.Spending        0.5385      3.417      0.158      0.875      -6.159       7.236\n",
       "L1.e(Money)        0.2604      1.641      0.159      0.874      -2.956       3.477\n",
       "L1.e(Spending)    -1.4857      3.390     -0.438      0.661      -8.129       5.158\n",
       "L2.e(Money)       -0.2489      1.736     -0.143      0.886      -3.651       3.153\n",
       "L2.e(Spending)     0.5404      2.973      0.182      0.856      -5.286       6.367\n",
       "                                  Error covariance matrix                                  \n",
       "===========================================================================================\n",
       "                              coef    std err          z      P>|z|      [0.025      0.975]\n",
       "-------------------------------------------------------------------------------------------\n",
       "sqrt.var.Money             25.9075      1.496     17.323      0.000      22.976      28.839\n",
       "sqrt.cov.Money.Spending   -10.2341      1.885     -5.429      0.000     -13.929      -6.540\n",
       "sqrt.var.Spending          33.7577      1.266     26.667      0.000      31.277      36.239\n",
       "===========================================================================================\n",
       "\n",
       "Warnings:\n",
       "[1] Covariance matrix calculated using the outer product of gradients (complex-step).\n",
       "\"\"\""
      ]
     },
     "execution_count": 54,
     "metadata": {},
     "output_type": "execute_result"
    }
   ],
   "source": [
    "varma = VARMAX(train, order=(1,2), trend='c')\n",
    "results = varma.fit(maxiter=1000, disp=False)\n",
    "results.summary()"
   ]
  },
  {
   "cell_type": "markdown",
   "metadata": {},
   "source": [
    "예측"
   ]
  },
  {
   "cell_type": "code",
   "execution_count": 55,
   "metadata": {},
   "outputs": [
    {
     "data": {
      "text/html": [
       "<div>\n",
       "<style scoped>\n",
       "    .dataframe tbody tr th:only-of-type {\n",
       "        vertical-align: middle;\n",
       "    }\n",
       "\n",
       "    .dataframe tbody tr th {\n",
       "        vertical-align: top;\n",
       "    }\n",
       "\n",
       "    .dataframe thead th {\n",
       "        text-align: right;\n",
       "    }\n",
       "</style>\n",
       "<table border=\"1\" class=\"dataframe\">\n",
       "  <thead>\n",
       "    <tr style=\"text-align: right;\">\n",
       "      <th></th>\n",
       "      <th>Money</th>\n",
       "      <th>Spending</th>\n",
       "    </tr>\n",
       "  </thead>\n",
       "  <tbody>\n",
       "    <tr>\n",
       "      <th>2015-01-01</th>\n",
       "      <td>-10.790897</td>\n",
       "      <td>37.291257</td>\n",
       "    </tr>\n",
       "    <tr>\n",
       "      <th>2015-02-01</th>\n",
       "      <td>-11.107180</td>\n",
       "      <td>-3.862648</td>\n",
       "    </tr>\n",
       "    <tr>\n",
       "      <th>2015-03-01</th>\n",
       "      <td>0.457421</td>\n",
       "      <td>-0.332256</td>\n",
       "    </tr>\n",
       "    <tr>\n",
       "      <th>2015-04-01</th>\n",
       "      <td>-1.199380</td>\n",
       "      <td>-0.144088</td>\n",
       "    </tr>\n",
       "    <tr>\n",
       "      <th>2015-05-01</th>\n",
       "      <td>0.630300</td>\n",
       "      <td>0.202646</td>\n",
       "    </tr>\n",
       "    <tr>\n",
       "      <th>2015-06-01</th>\n",
       "      <td>-0.117872</td>\n",
       "      <td>0.118350</td>\n",
       "    </tr>\n",
       "    <tr>\n",
       "      <th>2015-07-01</th>\n",
       "      <td>0.319970</td>\n",
       "      <td>0.183776</td>\n",
       "    </tr>\n",
       "    <tr>\n",
       "      <th>2015-08-01</th>\n",
       "      <td>0.100669</td>\n",
       "      <td>0.154155</td>\n",
       "    </tr>\n",
       "    <tr>\n",
       "      <th>2015-09-01</th>\n",
       "      <td>0.217734</td>\n",
       "      <td>0.170687</td>\n",
       "    </tr>\n",
       "    <tr>\n",
       "      <th>2015-10-01</th>\n",
       "      <td>0.156895</td>\n",
       "      <td>0.162250</td>\n",
       "    </tr>\n",
       "    <tr>\n",
       "      <th>2015-11-01</th>\n",
       "      <td>0.188868</td>\n",
       "      <td>0.166718</td>\n",
       "    </tr>\n",
       "    <tr>\n",
       "      <th>2015-12-01</th>\n",
       "      <td>0.172143</td>\n",
       "      <td>0.164388</td>\n",
       "    </tr>\n",
       "  </tbody>\n",
       "</table>\n",
       "</div>"
      ],
      "text/plain": [
       "                Money   Spending\n",
       "2015-01-01 -10.790897  37.291257\n",
       "2015-02-01 -11.107180  -3.862648\n",
       "2015-03-01   0.457421  -0.332256\n",
       "2015-04-01  -1.199380  -0.144088\n",
       "2015-05-01   0.630300   0.202646\n",
       "2015-06-01  -0.117872   0.118350\n",
       "2015-07-01   0.319970   0.183776\n",
       "2015-08-01   0.100669   0.154155\n",
       "2015-09-01   0.217734   0.170687\n",
       "2015-10-01   0.156895   0.162250\n",
       "2015-11-01   0.188868   0.166718\n",
       "2015-12-01   0.172143   0.164388"
      ]
     },
     "execution_count": 55,
     "metadata": {},
     "output_type": "execute_result"
    }
   ],
   "source": [
    "df_forecast = results.forecast(12)\n",
    "df_forecast"
   ]
  },
  {
   "cell_type": "markdown",
   "metadata": {},
   "source": [
    "차분 역변환"
   ]
  },
  {
   "cell_type": "code",
   "execution_count": 56,
   "metadata": {},
   "outputs": [
    {
     "data": {
      "text/html": [
       "<div>\n",
       "<style scoped>\n",
       "    .dataframe tbody tr th:only-of-type {\n",
       "        vertical-align: middle;\n",
       "    }\n",
       "\n",
       "    .dataframe tbody tr th {\n",
       "        vertical-align: top;\n",
       "    }\n",
       "\n",
       "    .dataframe thead th {\n",
       "        text-align: right;\n",
       "    }\n",
       "</style>\n",
       "<table border=\"1\" class=\"dataframe\">\n",
       "  <thead>\n",
       "    <tr style=\"text-align: right;\">\n",
       "      <th></th>\n",
       "      <th>Money</th>\n",
       "      <th>Spending</th>\n",
       "      <th>Money1d</th>\n",
       "      <th>MoneyForecast</th>\n",
       "      <th>Spending1d</th>\n",
       "      <th>SpendingForecast</th>\n",
       "    </tr>\n",
       "  </thead>\n",
       "  <tbody>\n",
       "    <tr>\n",
       "      <th>2015-01-01</th>\n",
       "      <td>-10.790897</td>\n",
       "      <td>37.291257</td>\n",
       "      <td>67.809103</td>\n",
       "      <td>11737.909103</td>\n",
       "      <td>47.891257</td>\n",
       "      <td>12109.891257</td>\n",
       "    </tr>\n",
       "    <tr>\n",
       "      <th>2015-02-01</th>\n",
       "      <td>-11.107180</td>\n",
       "      <td>-3.862648</td>\n",
       "      <td>56.701923</td>\n",
       "      <td>11794.611026</td>\n",
       "      <td>44.028609</td>\n",
       "      <td>12153.919866</td>\n",
       "    </tr>\n",
       "    <tr>\n",
       "      <th>2015-03-01</th>\n",
       "      <td>0.457421</td>\n",
       "      <td>-0.332256</td>\n",
       "      <td>57.159344</td>\n",
       "      <td>11851.770370</td>\n",
       "      <td>43.696352</td>\n",
       "      <td>12197.616218</td>\n",
       "    </tr>\n",
       "    <tr>\n",
       "      <th>2015-04-01</th>\n",
       "      <td>-1.199380</td>\n",
       "      <td>-0.144088</td>\n",
       "      <td>55.959964</td>\n",
       "      <td>11907.730334</td>\n",
       "      <td>43.552264</td>\n",
       "      <td>12241.168482</td>\n",
       "    </tr>\n",
       "    <tr>\n",
       "      <th>2015-05-01</th>\n",
       "      <td>0.630300</td>\n",
       "      <td>0.202646</td>\n",
       "      <td>56.590264</td>\n",
       "      <td>11964.320598</td>\n",
       "      <td>43.754910</td>\n",
       "      <td>12284.923392</td>\n",
       "    </tr>\n",
       "    <tr>\n",
       "      <th>2015-06-01</th>\n",
       "      <td>-0.117872</td>\n",
       "      <td>0.118350</td>\n",
       "      <td>56.472392</td>\n",
       "      <td>12020.792990</td>\n",
       "      <td>43.873261</td>\n",
       "      <td>12328.796653</td>\n",
       "    </tr>\n",
       "    <tr>\n",
       "      <th>2015-07-01</th>\n",
       "      <td>0.319970</td>\n",
       "      <td>0.183776</td>\n",
       "      <td>56.792362</td>\n",
       "      <td>12077.585352</td>\n",
       "      <td>44.057037</td>\n",
       "      <td>12372.853690</td>\n",
       "    </tr>\n",
       "    <tr>\n",
       "      <th>2015-08-01</th>\n",
       "      <td>0.100669</td>\n",
       "      <td>0.154155</td>\n",
       "      <td>56.893031</td>\n",
       "      <td>12134.478382</td>\n",
       "      <td>44.211192</td>\n",
       "      <td>12417.064882</td>\n",
       "    </tr>\n",
       "    <tr>\n",
       "      <th>2015-09-01</th>\n",
       "      <td>0.217734</td>\n",
       "      <td>0.170687</td>\n",
       "      <td>57.110765</td>\n",
       "      <td>12191.589147</td>\n",
       "      <td>44.381879</td>\n",
       "      <td>12461.446761</td>\n",
       "    </tr>\n",
       "    <tr>\n",
       "      <th>2015-10-01</th>\n",
       "      <td>0.156895</td>\n",
       "      <td>0.162250</td>\n",
       "      <td>57.267660</td>\n",
       "      <td>12248.856807</td>\n",
       "      <td>44.544128</td>\n",
       "      <td>12505.990889</td>\n",
       "    </tr>\n",
       "    <tr>\n",
       "      <th>2015-11-01</th>\n",
       "      <td>0.188868</td>\n",
       "      <td>0.166718</td>\n",
       "      <td>57.456527</td>\n",
       "      <td>12306.313334</td>\n",
       "      <td>44.710846</td>\n",
       "      <td>12550.701735</td>\n",
       "    </tr>\n",
       "    <tr>\n",
       "      <th>2015-12-01</th>\n",
       "      <td>0.172143</td>\n",
       "      <td>0.164388</td>\n",
       "      <td>57.628670</td>\n",
       "      <td>12363.942004</td>\n",
       "      <td>44.875234</td>\n",
       "      <td>12595.576969</td>\n",
       "    </tr>\n",
       "  </tbody>\n",
       "</table>\n",
       "</div>"
      ],
      "text/plain": [
       "                Money   Spending    Money1d  MoneyForecast  Spending1d  \\\n",
       "2015-01-01 -10.790897  37.291257  67.809103   11737.909103   47.891257   \n",
       "2015-02-01 -11.107180  -3.862648  56.701923   11794.611026   44.028609   \n",
       "2015-03-01   0.457421  -0.332256  57.159344   11851.770370   43.696352   \n",
       "2015-04-01  -1.199380  -0.144088  55.959964   11907.730334   43.552264   \n",
       "2015-05-01   0.630300   0.202646  56.590264   11964.320598   43.754910   \n",
       "2015-06-01  -0.117872   0.118350  56.472392   12020.792990   43.873261   \n",
       "2015-07-01   0.319970   0.183776  56.792362   12077.585352   44.057037   \n",
       "2015-08-01   0.100669   0.154155  56.893031   12134.478382   44.211192   \n",
       "2015-09-01   0.217734   0.170687  57.110765   12191.589147   44.381879   \n",
       "2015-10-01   0.156895   0.162250  57.267660   12248.856807   44.544128   \n",
       "2015-11-01   0.188868   0.166718  57.456527   12306.313334   44.710846   \n",
       "2015-12-01   0.172143   0.164388  57.628670   12363.942004   44.875234   \n",
       "\n",
       "            SpendingForecast  \n",
       "2015-01-01      12109.891257  \n",
       "2015-02-01      12153.919866  \n",
       "2015-03-01      12197.616218  \n",
       "2015-04-01      12241.168482  \n",
       "2015-05-01      12284.923392  \n",
       "2015-06-01      12328.796653  \n",
       "2015-07-01      12372.853690  \n",
       "2015-08-01      12417.064882  \n",
       "2015-09-01      12461.446761  \n",
       "2015-10-01      12505.990889  \n",
       "2015-11-01      12550.701735  \n",
       "2015-12-01      12595.576969  "
      ]
     },
     "execution_count": 56,
     "metadata": {},
     "output_type": "execute_result"
    }
   ],
   "source": [
    "df_forecast['Money1d'] = (df['Money'].iloc[-nobs-1] - df['Money'].iloc[-nobs-2]) + df_forecast['Money'].cumsum()\n",
    "df_forecast['MoneyForecast'] = df['Money'].iloc[-nobs-1] + df_forecast['Money1d'].cumsum()\n",
    "df_forecast['Spending1d'] = (df['Spending'].iloc[-nobs-1] - df['Spending'].iloc[-nobs-2]) + df_forecast['Spending'].cumsum()\n",
    "df_forecast['SpendingForecast'] = df['Spending'].iloc[-nobs-1] + df_forecast['Spending1d'].cumsum()\n",
    "df_forecast"
   ]
  },
  {
   "cell_type": "markdown",
   "metadata": {},
   "source": [
    "데이터 정리 / 결과 시각화"
   ]
  },
  {
   "cell_type": "code",
   "execution_count": 57,
   "metadata": {},
   "outputs": [
    {
     "data": {
      "text/html": [
       "<div>\n",
       "<style scoped>\n",
       "    .dataframe tbody tr th:only-of-type {\n",
       "        vertical-align: middle;\n",
       "    }\n",
       "\n",
       "    .dataframe tbody tr th {\n",
       "        vertical-align: top;\n",
       "    }\n",
       "\n",
       "    .dataframe thead th {\n",
       "        text-align: right;\n",
       "    }\n",
       "</style>\n",
       "<table border=\"1\" class=\"dataframe\">\n",
       "  <thead>\n",
       "    <tr style=\"text-align: right;\">\n",
       "      <th></th>\n",
       "      <th>Money</th>\n",
       "      <th>Spending</th>\n",
       "      <th>Money1d</th>\n",
       "      <th>MoneyForecast</th>\n",
       "      <th>Spending1d</th>\n",
       "      <th>SpendingForecast</th>\n",
       "    </tr>\n",
       "  </thead>\n",
       "  <tbody>\n",
       "    <tr>\n",
       "      <th>2015-01-01</th>\n",
       "      <td>-10.790897</td>\n",
       "      <td>37.291257</td>\n",
       "      <td>67.809103</td>\n",
       "      <td>11737.909103</td>\n",
       "      <td>47.891257</td>\n",
       "      <td>12109.891257</td>\n",
       "    </tr>\n",
       "    <tr>\n",
       "      <th>2015-02-01</th>\n",
       "      <td>-11.107180</td>\n",
       "      <td>-3.862648</td>\n",
       "      <td>56.701923</td>\n",
       "      <td>11794.611026</td>\n",
       "      <td>44.028609</td>\n",
       "      <td>12153.919866</td>\n",
       "    </tr>\n",
       "    <tr>\n",
       "      <th>2015-03-01</th>\n",
       "      <td>0.457421</td>\n",
       "      <td>-0.332256</td>\n",
       "      <td>57.159344</td>\n",
       "      <td>11851.770370</td>\n",
       "      <td>43.696352</td>\n",
       "      <td>12197.616218</td>\n",
       "    </tr>\n",
       "    <tr>\n",
       "      <th>2015-04-01</th>\n",
       "      <td>-1.199380</td>\n",
       "      <td>-0.144088</td>\n",
       "      <td>55.959964</td>\n",
       "      <td>11907.730334</td>\n",
       "      <td>43.552264</td>\n",
       "      <td>12241.168482</td>\n",
       "    </tr>\n",
       "    <tr>\n",
       "      <th>2015-05-01</th>\n",
       "      <td>0.630300</td>\n",
       "      <td>0.202646</td>\n",
       "      <td>56.590264</td>\n",
       "      <td>11964.320598</td>\n",
       "      <td>43.754910</td>\n",
       "      <td>12284.923392</td>\n",
       "    </tr>\n",
       "    <tr>\n",
       "      <th>2015-06-01</th>\n",
       "      <td>-0.117872</td>\n",
       "      <td>0.118350</td>\n",
       "      <td>56.472392</td>\n",
       "      <td>12020.792990</td>\n",
       "      <td>43.873261</td>\n",
       "      <td>12328.796653</td>\n",
       "    </tr>\n",
       "    <tr>\n",
       "      <th>2015-07-01</th>\n",
       "      <td>0.319970</td>\n",
       "      <td>0.183776</td>\n",
       "      <td>56.792362</td>\n",
       "      <td>12077.585352</td>\n",
       "      <td>44.057037</td>\n",
       "      <td>12372.853690</td>\n",
       "    </tr>\n",
       "    <tr>\n",
       "      <th>2015-08-01</th>\n",
       "      <td>0.100669</td>\n",
       "      <td>0.154155</td>\n",
       "      <td>56.893031</td>\n",
       "      <td>12134.478382</td>\n",
       "      <td>44.211192</td>\n",
       "      <td>12417.064882</td>\n",
       "    </tr>\n",
       "    <tr>\n",
       "      <th>2015-09-01</th>\n",
       "      <td>0.217734</td>\n",
       "      <td>0.170687</td>\n",
       "      <td>57.110765</td>\n",
       "      <td>12191.589147</td>\n",
       "      <td>44.381879</td>\n",
       "      <td>12461.446761</td>\n",
       "    </tr>\n",
       "    <tr>\n",
       "      <th>2015-10-01</th>\n",
       "      <td>0.156895</td>\n",
       "      <td>0.162250</td>\n",
       "      <td>57.267660</td>\n",
       "      <td>12248.856807</td>\n",
       "      <td>44.544128</td>\n",
       "      <td>12505.990889</td>\n",
       "    </tr>\n",
       "    <tr>\n",
       "      <th>2015-11-01</th>\n",
       "      <td>0.188868</td>\n",
       "      <td>0.166718</td>\n",
       "      <td>57.456527</td>\n",
       "      <td>12306.313334</td>\n",
       "      <td>44.710846</td>\n",
       "      <td>12550.701735</td>\n",
       "    </tr>\n",
       "    <tr>\n",
       "      <th>2015-12-01</th>\n",
       "      <td>0.172143</td>\n",
       "      <td>0.164388</td>\n",
       "      <td>57.628670</td>\n",
       "      <td>12363.942004</td>\n",
       "      <td>44.875234</td>\n",
       "      <td>12595.576969</td>\n",
       "    </tr>\n",
       "  </tbody>\n",
       "</table>\n",
       "</div>"
      ],
      "text/plain": [
       "                Money   Spending    Money1d  MoneyForecast  Spending1d  \\\n",
       "2015-01-01 -10.790897  37.291257  67.809103   11737.909103   47.891257   \n",
       "2015-02-01 -11.107180  -3.862648  56.701923   11794.611026   44.028609   \n",
       "2015-03-01   0.457421  -0.332256  57.159344   11851.770370   43.696352   \n",
       "2015-04-01  -1.199380  -0.144088  55.959964   11907.730334   43.552264   \n",
       "2015-05-01   0.630300   0.202646  56.590264   11964.320598   43.754910   \n",
       "2015-06-01  -0.117872   0.118350  56.472392   12020.792990   43.873261   \n",
       "2015-07-01   0.319970   0.183776  56.792362   12077.585352   44.057037   \n",
       "2015-08-01   0.100669   0.154155  56.893031   12134.478382   44.211192   \n",
       "2015-09-01   0.217734   0.170687  57.110765   12191.589147   44.381879   \n",
       "2015-10-01   0.156895   0.162250  57.267660   12248.856807   44.544128   \n",
       "2015-11-01   0.188868   0.166718  57.456527   12306.313334   44.710846   \n",
       "2015-12-01   0.172143   0.164388  57.628670   12363.942004   44.875234   \n",
       "\n",
       "            SpendingForecast  \n",
       "2015-01-01      12109.891257  \n",
       "2015-02-01      12153.919866  \n",
       "2015-03-01      12197.616218  \n",
       "2015-04-01      12241.168482  \n",
       "2015-05-01      12284.923392  \n",
       "2015-06-01      12328.796653  \n",
       "2015-07-01      12372.853690  \n",
       "2015-08-01      12417.064882  \n",
       "2015-09-01      12461.446761  \n",
       "2015-10-01      12505.990889  \n",
       "2015-11-01      12550.701735  \n",
       "2015-12-01      12595.576969  "
      ]
     },
     "execution_count": 57,
     "metadata": {},
     "output_type": "execute_result"
    }
   ],
   "source": [
    "df_forecast"
   ]
  },
  {
   "cell_type": "code",
   "execution_count": 58,
   "metadata": {},
   "outputs": [],
   "source": [
    "# 두 변수에 대한 테스트셋과 예측치만 남기고 정리\n",
    "df_forecast = pd.concat([df[['Money', 'Spending']].iloc[-nobs:], df_forecast[['MoneyForecast', 'SpendingForecast']]], axis=1)"
   ]
  },
  {
   "cell_type": "code",
   "execution_count": 60,
   "metadata": {},
   "outputs": [
    {
     "data": {
      "application/vnd.plotly.v1+json": {
       "config": {
        "plotlyServerURL": "https://plot.ly"
       },
       "data": [
        {
         "hovertemplate": "variable=Money<br>index=%{x}<br>value=%{y}<extra></extra>",
         "legendgroup": "Money",
         "line": {
          "color": "#636efa",
          "dash": "solid"
         },
         "marker": {
          "symbol": "circle"
         },
         "mode": "lines",
         "name": "Money",
         "orientation": "v",
         "showlegend": true,
         "type": "scatter",
         "x": [
          "2015-01-01T00:00:00",
          "2015-02-01T00:00:00",
          "2015-03-01T00:00:00",
          "2015-04-01T00:00:00",
          "2015-05-01T00:00:00",
          "2015-06-01T00:00:00",
          "2015-07-01T00:00:00",
          "2015-08-01T00:00:00",
          "2015-09-01T00:00:00",
          "2015-10-01T00:00:00",
          "2015-11-01T00:00:00",
          "2015-12-01T00:00:00"
         ],
         "xaxis": "x",
         "y": {
          "bdata": "mpmZmZnqxkAzMzMzMybHQGZmZmZmLsdAzczMzAxGx0DNzMzMzFXHQM3MzMyMbMdAZmZmZqaGx0BmZmZmZqDHQGZmZmbmvMdAmpmZmdnNx0AzMzMzs/rHQDMzMzPzF8hA",
          "dtype": "f8"
         },
         "yaxis": "y"
        },
        {
         "hovertemplate": "variable=MoneyForecast<br>index=%{x}<br>value=%{y}<extra></extra>",
         "legendgroup": "MoneyForecast",
         "line": {
          "color": "#EF553B",
          "dash": "solid"
         },
         "marker": {
          "symbol": "circle"
         },
         "mode": "lines",
         "name": "MoneyForecast",
         "orientation": "v",
         "showlegend": true,
         "type": "scatter",
         "x": [
          "2015-01-01T00:00:00",
          "2015-02-01T00:00:00",
          "2015-03-01T00:00:00",
          "2015-04-01T00:00:00",
          "2015-05-01T00:00:00",
          "2015-06-01T00:00:00",
          "2015-07-01T00:00:00",
          "2015-08-01T00:00:00",
          "2015-09-01T00:00:00",
          "2015-10-01T00:00:00",
          "2015-11-01T00:00:00",
          "2015-12-01T00:00:00"
         ],
         "xaxis": "x",
         "y": {
          "bdata": "FSN7XfTsxkDpKxo2TgnHQH/0e5viJcdA/b2Te91Bx0AmpFgJKV7HQE4ksIBlesdAvo/N7MqWx0AcmqE7PbPHQH/DLWnLz8dA6X7Zq23sx0AjJFUbKAnIQM9ZmJP4JchA",
          "dtype": "f8"
         },
         "yaxis": "y"
        }
       ],
       "layout": {
        "legend": {
         "title": {
          "text": "variable"
         },
         "tracegroupgap": 0
        },
        "margin": {
         "t": 60
        },
        "template": {
         "data": {
          "bar": [
           {
            "error_x": {
             "color": "#2a3f5f"
            },
            "error_y": {
             "color": "#2a3f5f"
            },
            "marker": {
             "line": {
              "color": "#E5ECF6",
              "width": 0.5
             },
             "pattern": {
              "fillmode": "overlay",
              "size": 10,
              "solidity": 0.2
             }
            },
            "type": "bar"
           }
          ],
          "barpolar": [
           {
            "marker": {
             "line": {
              "color": "#E5ECF6",
              "width": 0.5
             },
             "pattern": {
              "fillmode": "overlay",
              "size": 10,
              "solidity": 0.2
             }
            },
            "type": "barpolar"
           }
          ],
          "carpet": [
           {
            "aaxis": {
             "endlinecolor": "#2a3f5f",
             "gridcolor": "white",
             "linecolor": "white",
             "minorgridcolor": "white",
             "startlinecolor": "#2a3f5f"
            },
            "baxis": {
             "endlinecolor": "#2a3f5f",
             "gridcolor": "white",
             "linecolor": "white",
             "minorgridcolor": "white",
             "startlinecolor": "#2a3f5f"
            },
            "type": "carpet"
           }
          ],
          "choropleth": [
           {
            "colorbar": {
             "outlinewidth": 0,
             "ticks": ""
            },
            "type": "choropleth"
           }
          ],
          "contour": [
           {
            "colorbar": {
             "outlinewidth": 0,
             "ticks": ""
            },
            "colorscale": [
             [
              0,
              "#0d0887"
             ],
             [
              0.1111111111111111,
              "#46039f"
             ],
             [
              0.2222222222222222,
              "#7201a8"
             ],
             [
              0.3333333333333333,
              "#9c179e"
             ],
             [
              0.4444444444444444,
              "#bd3786"
             ],
             [
              0.5555555555555556,
              "#d8576b"
             ],
             [
              0.6666666666666666,
              "#ed7953"
             ],
             [
              0.7777777777777778,
              "#fb9f3a"
             ],
             [
              0.8888888888888888,
              "#fdca26"
             ],
             [
              1,
              "#f0f921"
             ]
            ],
            "type": "contour"
           }
          ],
          "contourcarpet": [
           {
            "colorbar": {
             "outlinewidth": 0,
             "ticks": ""
            },
            "type": "contourcarpet"
           }
          ],
          "heatmap": [
           {
            "colorbar": {
             "outlinewidth": 0,
             "ticks": ""
            },
            "colorscale": [
             [
              0,
              "#0d0887"
             ],
             [
              0.1111111111111111,
              "#46039f"
             ],
             [
              0.2222222222222222,
              "#7201a8"
             ],
             [
              0.3333333333333333,
              "#9c179e"
             ],
             [
              0.4444444444444444,
              "#bd3786"
             ],
             [
              0.5555555555555556,
              "#d8576b"
             ],
             [
              0.6666666666666666,
              "#ed7953"
             ],
             [
              0.7777777777777778,
              "#fb9f3a"
             ],
             [
              0.8888888888888888,
              "#fdca26"
             ],
             [
              1,
              "#f0f921"
             ]
            ],
            "type": "heatmap"
           }
          ],
          "histogram": [
           {
            "marker": {
             "pattern": {
              "fillmode": "overlay",
              "size": 10,
              "solidity": 0.2
             }
            },
            "type": "histogram"
           }
          ],
          "histogram2d": [
           {
            "colorbar": {
             "outlinewidth": 0,
             "ticks": ""
            },
            "colorscale": [
             [
              0,
              "#0d0887"
             ],
             [
              0.1111111111111111,
              "#46039f"
             ],
             [
              0.2222222222222222,
              "#7201a8"
             ],
             [
              0.3333333333333333,
              "#9c179e"
             ],
             [
              0.4444444444444444,
              "#bd3786"
             ],
             [
              0.5555555555555556,
              "#d8576b"
             ],
             [
              0.6666666666666666,
              "#ed7953"
             ],
             [
              0.7777777777777778,
              "#fb9f3a"
             ],
             [
              0.8888888888888888,
              "#fdca26"
             ],
             [
              1,
              "#f0f921"
             ]
            ],
            "type": "histogram2d"
           }
          ],
          "histogram2dcontour": [
           {
            "colorbar": {
             "outlinewidth": 0,
             "ticks": ""
            },
            "colorscale": [
             [
              0,
              "#0d0887"
             ],
             [
              0.1111111111111111,
              "#46039f"
             ],
             [
              0.2222222222222222,
              "#7201a8"
             ],
             [
              0.3333333333333333,
              "#9c179e"
             ],
             [
              0.4444444444444444,
              "#bd3786"
             ],
             [
              0.5555555555555556,
              "#d8576b"
             ],
             [
              0.6666666666666666,
              "#ed7953"
             ],
             [
              0.7777777777777778,
              "#fb9f3a"
             ],
             [
              0.8888888888888888,
              "#fdca26"
             ],
             [
              1,
              "#f0f921"
             ]
            ],
            "type": "histogram2dcontour"
           }
          ],
          "mesh3d": [
           {
            "colorbar": {
             "outlinewidth": 0,
             "ticks": ""
            },
            "type": "mesh3d"
           }
          ],
          "parcoords": [
           {
            "line": {
             "colorbar": {
              "outlinewidth": 0,
              "ticks": ""
             }
            },
            "type": "parcoords"
           }
          ],
          "pie": [
           {
            "automargin": true,
            "type": "pie"
           }
          ],
          "scatter": [
           {
            "fillpattern": {
             "fillmode": "overlay",
             "size": 10,
             "solidity": 0.2
            },
            "type": "scatter"
           }
          ],
          "scatter3d": [
           {
            "line": {
             "colorbar": {
              "outlinewidth": 0,
              "ticks": ""
             }
            },
            "marker": {
             "colorbar": {
              "outlinewidth": 0,
              "ticks": ""
             }
            },
            "type": "scatter3d"
           }
          ],
          "scattercarpet": [
           {
            "marker": {
             "colorbar": {
              "outlinewidth": 0,
              "ticks": ""
             }
            },
            "type": "scattercarpet"
           }
          ],
          "scattergeo": [
           {
            "marker": {
             "colorbar": {
              "outlinewidth": 0,
              "ticks": ""
             }
            },
            "type": "scattergeo"
           }
          ],
          "scattergl": [
           {
            "marker": {
             "colorbar": {
              "outlinewidth": 0,
              "ticks": ""
             }
            },
            "type": "scattergl"
           }
          ],
          "scattermap": [
           {
            "marker": {
             "colorbar": {
              "outlinewidth": 0,
              "ticks": ""
             }
            },
            "type": "scattermap"
           }
          ],
          "scattermapbox": [
           {
            "marker": {
             "colorbar": {
              "outlinewidth": 0,
              "ticks": ""
             }
            },
            "type": "scattermapbox"
           }
          ],
          "scatterpolar": [
           {
            "marker": {
             "colorbar": {
              "outlinewidth": 0,
              "ticks": ""
             }
            },
            "type": "scatterpolar"
           }
          ],
          "scatterpolargl": [
           {
            "marker": {
             "colorbar": {
              "outlinewidth": 0,
              "ticks": ""
             }
            },
            "type": "scatterpolargl"
           }
          ],
          "scatterternary": [
           {
            "marker": {
             "colorbar": {
              "outlinewidth": 0,
              "ticks": ""
             }
            },
            "type": "scatterternary"
           }
          ],
          "surface": [
           {
            "colorbar": {
             "outlinewidth": 0,
             "ticks": ""
            },
            "colorscale": [
             [
              0,
              "#0d0887"
             ],
             [
              0.1111111111111111,
              "#46039f"
             ],
             [
              0.2222222222222222,
              "#7201a8"
             ],
             [
              0.3333333333333333,
              "#9c179e"
             ],
             [
              0.4444444444444444,
              "#bd3786"
             ],
             [
              0.5555555555555556,
              "#d8576b"
             ],
             [
              0.6666666666666666,
              "#ed7953"
             ],
             [
              0.7777777777777778,
              "#fb9f3a"
             ],
             [
              0.8888888888888888,
              "#fdca26"
             ],
             [
              1,
              "#f0f921"
             ]
            ],
            "type": "surface"
           }
          ],
          "table": [
           {
            "cells": {
             "fill": {
              "color": "#EBF0F8"
             },
             "line": {
              "color": "white"
             }
            },
            "header": {
             "fill": {
              "color": "#C8D4E3"
             },
             "line": {
              "color": "white"
             }
            },
            "type": "table"
           }
          ]
         },
         "layout": {
          "annotationdefaults": {
           "arrowcolor": "#2a3f5f",
           "arrowhead": 0,
           "arrowwidth": 1
          },
          "autotypenumbers": "strict",
          "coloraxis": {
           "colorbar": {
            "outlinewidth": 0,
            "ticks": ""
           }
          },
          "colorscale": {
           "diverging": [
            [
             0,
             "#8e0152"
            ],
            [
             0.1,
             "#c51b7d"
            ],
            [
             0.2,
             "#de77ae"
            ],
            [
             0.3,
             "#f1b6da"
            ],
            [
             0.4,
             "#fde0ef"
            ],
            [
             0.5,
             "#f7f7f7"
            ],
            [
             0.6,
             "#e6f5d0"
            ],
            [
             0.7,
             "#b8e186"
            ],
            [
             0.8,
             "#7fbc41"
            ],
            [
             0.9,
             "#4d9221"
            ],
            [
             1,
             "#276419"
            ]
           ],
           "sequential": [
            [
             0,
             "#0d0887"
            ],
            [
             0.1111111111111111,
             "#46039f"
            ],
            [
             0.2222222222222222,
             "#7201a8"
            ],
            [
             0.3333333333333333,
             "#9c179e"
            ],
            [
             0.4444444444444444,
             "#bd3786"
            ],
            [
             0.5555555555555556,
             "#d8576b"
            ],
            [
             0.6666666666666666,
             "#ed7953"
            ],
            [
             0.7777777777777778,
             "#fb9f3a"
            ],
            [
             0.8888888888888888,
             "#fdca26"
            ],
            [
             1,
             "#f0f921"
            ]
           ],
           "sequentialminus": [
            [
             0,
             "#0d0887"
            ],
            [
             0.1111111111111111,
             "#46039f"
            ],
            [
             0.2222222222222222,
             "#7201a8"
            ],
            [
             0.3333333333333333,
             "#9c179e"
            ],
            [
             0.4444444444444444,
             "#bd3786"
            ],
            [
             0.5555555555555556,
             "#d8576b"
            ],
            [
             0.6666666666666666,
             "#ed7953"
            ],
            [
             0.7777777777777778,
             "#fb9f3a"
            ],
            [
             0.8888888888888888,
             "#fdca26"
            ],
            [
             1,
             "#f0f921"
            ]
           ]
          },
          "colorway": [
           "#636efa",
           "#EF553B",
           "#00cc96",
           "#ab63fa",
           "#FFA15A",
           "#19d3f3",
           "#FF6692",
           "#B6E880",
           "#FF97FF",
           "#FECB52"
          ],
          "font": {
           "color": "#2a3f5f"
          },
          "geo": {
           "bgcolor": "white",
           "lakecolor": "white",
           "landcolor": "#E5ECF6",
           "showlakes": true,
           "showland": true,
           "subunitcolor": "white"
          },
          "hoverlabel": {
           "align": "left"
          },
          "hovermode": "closest",
          "mapbox": {
           "style": "light"
          },
          "paper_bgcolor": "white",
          "plot_bgcolor": "#E5ECF6",
          "polar": {
           "angularaxis": {
            "gridcolor": "white",
            "linecolor": "white",
            "ticks": ""
           },
           "bgcolor": "#E5ECF6",
           "radialaxis": {
            "gridcolor": "white",
            "linecolor": "white",
            "ticks": ""
           }
          },
          "scene": {
           "xaxis": {
            "backgroundcolor": "#E5ECF6",
            "gridcolor": "white",
            "gridwidth": 2,
            "linecolor": "white",
            "showbackground": true,
            "ticks": "",
            "zerolinecolor": "white"
           },
           "yaxis": {
            "backgroundcolor": "#E5ECF6",
            "gridcolor": "white",
            "gridwidth": 2,
            "linecolor": "white",
            "showbackground": true,
            "ticks": "",
            "zerolinecolor": "white"
           },
           "zaxis": {
            "backgroundcolor": "#E5ECF6",
            "gridcolor": "white",
            "gridwidth": 2,
            "linecolor": "white",
            "showbackground": true,
            "ticks": "",
            "zerolinecolor": "white"
           }
          },
          "shapedefaults": {
           "line": {
            "color": "#2a3f5f"
           }
          },
          "ternary": {
           "aaxis": {
            "gridcolor": "white",
            "linecolor": "white",
            "ticks": ""
           },
           "baxis": {
            "gridcolor": "white",
            "linecolor": "white",
            "ticks": ""
           },
           "bgcolor": "#E5ECF6",
           "caxis": {
            "gridcolor": "white",
            "linecolor": "white",
            "ticks": ""
           }
          },
          "title": {
           "x": 0.05
          },
          "xaxis": {
           "automargin": true,
           "gridcolor": "white",
           "linecolor": "white",
           "ticks": "",
           "title": {
            "standoff": 15
           },
           "zerolinecolor": "white",
           "zerolinewidth": 2
          },
          "yaxis": {
           "automargin": true,
           "gridcolor": "white",
           "linecolor": "white",
           "ticks": "",
           "title": {
            "standoff": 15
           },
           "zerolinecolor": "white",
           "zerolinewidth": 2
          }
         }
        },
        "xaxis": {
         "anchor": "y",
         "domain": [
          0,
          1
         ],
         "title": {
          "text": "index"
         }
        },
        "yaxis": {
         "anchor": "x",
         "domain": [
          0,
          1
         ],
         "title": {
          "text": "value"
         }
        }
       }
      }
     },
     "metadata": {},
     "output_type": "display_data"
    }
   ],
   "source": [
    "df_forecast[['Money', 'MoneyForecast']].plot()"
   ]
  },
  {
   "cell_type": "code",
   "execution_count": 61,
   "metadata": {},
   "outputs": [
    {
     "data": {
      "application/vnd.plotly.v1+json": {
       "config": {
        "plotlyServerURL": "https://plot.ly"
       },
       "data": [
        {
         "hovertemplate": "variable=Spending<br>index=%{x}<br>value=%{y}<extra></extra>",
         "legendgroup": "Spending",
         "line": {
          "color": "#636efa",
          "dash": "solid"
         },
         "marker": {
          "symbol": "circle"
         },
         "mode": "lines",
         "name": "Spending",
         "orientation": "v",
         "showlegend": true,
         "type": "scatter",
         "x": [
          "2015-01-01T00:00:00",
          "2015-02-01T00:00:00",
          "2015-03-01T00:00:00",
          "2015-04-01T00:00:00",
          "2015-05-01T00:00:00",
          "2015-06-01T00:00:00",
          "2015-07-01T00:00:00",
          "2015-08-01T00:00:00",
          "2015-09-01T00:00:00",
          "2015-10-01T00:00:00",
          "2015-11-01T00:00:00",
          "2015-12-01T00:00:00"
         ],
         "xaxis": "x",
         "y": {
          "bdata": "AAAAAACHx0AzMzMzM5nHQGZmZmYmv8dAZmZmZubQx0DNzMzMDPbHQGZmZmYmCshAMzMzM7MhyEAAAAAAADXIQGZmZmZmNMhAzczMzAxAyEDNzMzMDFHIQM3MzMyMWshA",
          "dtype": "f8"
         },
         "yaxis": "y"
        },
        {
         "hovertemplate": "variable=SpendingForecast<br>index=%{x}<br>value=%{y}<extra></extra>",
         "legendgroup": "SpendingForecast",
         "line": {
          "color": "#EF553B",
          "dash": "solid"
         },
         "marker": {
          "symbol": "circle"
         },
         "mode": "lines",
         "name": "SpendingForecast",
         "orientation": "v",
         "showlegend": true,
         "type": "scatter",
         "x": [
          "2015-01-01T00:00:00",
          "2015-02-01T00:00:00",
          "2015-03-01T00:00:00",
          "2015-04-01T00:00:00",
          "2015-05-01T00:00:00",
          "2015-06-01T00:00:00",
          "2015-07-01T00:00:00",
          "2015-08-01T00:00:00",
          "2015-09-01T00:00:00",
          "2015-10-01T00:00:00",
          "2015-11-01T00:00:00",
          "2015-12-01T00:00:00"
         ],
         "xaxis": "x",
         "y": {
          "bdata": "w0y1FPKmx0ChzCe+9bzHQJEYOeDO0sdA3R7QkJXox0CicrYxdv7HQJx5t/hlFMhAuvWzRW0qyEBz4QpOiEDIQJZmcy+5VshARNFz1f5syEB98XTSWYPIQAstH9rJmchA",
          "dtype": "f8"
         },
         "yaxis": "y"
        }
       ],
       "layout": {
        "legend": {
         "title": {
          "text": "variable"
         },
         "tracegroupgap": 0
        },
        "margin": {
         "t": 60
        },
        "template": {
         "data": {
          "bar": [
           {
            "error_x": {
             "color": "#2a3f5f"
            },
            "error_y": {
             "color": "#2a3f5f"
            },
            "marker": {
             "line": {
              "color": "#E5ECF6",
              "width": 0.5
             },
             "pattern": {
              "fillmode": "overlay",
              "size": 10,
              "solidity": 0.2
             }
            },
            "type": "bar"
           }
          ],
          "barpolar": [
           {
            "marker": {
             "line": {
              "color": "#E5ECF6",
              "width": 0.5
             },
             "pattern": {
              "fillmode": "overlay",
              "size": 10,
              "solidity": 0.2
             }
            },
            "type": "barpolar"
           }
          ],
          "carpet": [
           {
            "aaxis": {
             "endlinecolor": "#2a3f5f",
             "gridcolor": "white",
             "linecolor": "white",
             "minorgridcolor": "white",
             "startlinecolor": "#2a3f5f"
            },
            "baxis": {
             "endlinecolor": "#2a3f5f",
             "gridcolor": "white",
             "linecolor": "white",
             "minorgridcolor": "white",
             "startlinecolor": "#2a3f5f"
            },
            "type": "carpet"
           }
          ],
          "choropleth": [
           {
            "colorbar": {
             "outlinewidth": 0,
             "ticks": ""
            },
            "type": "choropleth"
           }
          ],
          "contour": [
           {
            "colorbar": {
             "outlinewidth": 0,
             "ticks": ""
            },
            "colorscale": [
             [
              0,
              "#0d0887"
             ],
             [
              0.1111111111111111,
              "#46039f"
             ],
             [
              0.2222222222222222,
              "#7201a8"
             ],
             [
              0.3333333333333333,
              "#9c179e"
             ],
             [
              0.4444444444444444,
              "#bd3786"
             ],
             [
              0.5555555555555556,
              "#d8576b"
             ],
             [
              0.6666666666666666,
              "#ed7953"
             ],
             [
              0.7777777777777778,
              "#fb9f3a"
             ],
             [
              0.8888888888888888,
              "#fdca26"
             ],
             [
              1,
              "#f0f921"
             ]
            ],
            "type": "contour"
           }
          ],
          "contourcarpet": [
           {
            "colorbar": {
             "outlinewidth": 0,
             "ticks": ""
            },
            "type": "contourcarpet"
           }
          ],
          "heatmap": [
           {
            "colorbar": {
             "outlinewidth": 0,
             "ticks": ""
            },
            "colorscale": [
             [
              0,
              "#0d0887"
             ],
             [
              0.1111111111111111,
              "#46039f"
             ],
             [
              0.2222222222222222,
              "#7201a8"
             ],
             [
              0.3333333333333333,
              "#9c179e"
             ],
             [
              0.4444444444444444,
              "#bd3786"
             ],
             [
              0.5555555555555556,
              "#d8576b"
             ],
             [
              0.6666666666666666,
              "#ed7953"
             ],
             [
              0.7777777777777778,
              "#fb9f3a"
             ],
             [
              0.8888888888888888,
              "#fdca26"
             ],
             [
              1,
              "#f0f921"
             ]
            ],
            "type": "heatmap"
           }
          ],
          "histogram": [
           {
            "marker": {
             "pattern": {
              "fillmode": "overlay",
              "size": 10,
              "solidity": 0.2
             }
            },
            "type": "histogram"
           }
          ],
          "histogram2d": [
           {
            "colorbar": {
             "outlinewidth": 0,
             "ticks": ""
            },
            "colorscale": [
             [
              0,
              "#0d0887"
             ],
             [
              0.1111111111111111,
              "#46039f"
             ],
             [
              0.2222222222222222,
              "#7201a8"
             ],
             [
              0.3333333333333333,
              "#9c179e"
             ],
             [
              0.4444444444444444,
              "#bd3786"
             ],
             [
              0.5555555555555556,
              "#d8576b"
             ],
             [
              0.6666666666666666,
              "#ed7953"
             ],
             [
              0.7777777777777778,
              "#fb9f3a"
             ],
             [
              0.8888888888888888,
              "#fdca26"
             ],
             [
              1,
              "#f0f921"
             ]
            ],
            "type": "histogram2d"
           }
          ],
          "histogram2dcontour": [
           {
            "colorbar": {
             "outlinewidth": 0,
             "ticks": ""
            },
            "colorscale": [
             [
              0,
              "#0d0887"
             ],
             [
              0.1111111111111111,
              "#46039f"
             ],
             [
              0.2222222222222222,
              "#7201a8"
             ],
             [
              0.3333333333333333,
              "#9c179e"
             ],
             [
              0.4444444444444444,
              "#bd3786"
             ],
             [
              0.5555555555555556,
              "#d8576b"
             ],
             [
              0.6666666666666666,
              "#ed7953"
             ],
             [
              0.7777777777777778,
              "#fb9f3a"
             ],
             [
              0.8888888888888888,
              "#fdca26"
             ],
             [
              1,
              "#f0f921"
             ]
            ],
            "type": "histogram2dcontour"
           }
          ],
          "mesh3d": [
           {
            "colorbar": {
             "outlinewidth": 0,
             "ticks": ""
            },
            "type": "mesh3d"
           }
          ],
          "parcoords": [
           {
            "line": {
             "colorbar": {
              "outlinewidth": 0,
              "ticks": ""
             }
            },
            "type": "parcoords"
           }
          ],
          "pie": [
           {
            "automargin": true,
            "type": "pie"
           }
          ],
          "scatter": [
           {
            "fillpattern": {
             "fillmode": "overlay",
             "size": 10,
             "solidity": 0.2
            },
            "type": "scatter"
           }
          ],
          "scatter3d": [
           {
            "line": {
             "colorbar": {
              "outlinewidth": 0,
              "ticks": ""
             }
            },
            "marker": {
             "colorbar": {
              "outlinewidth": 0,
              "ticks": ""
             }
            },
            "type": "scatter3d"
           }
          ],
          "scattercarpet": [
           {
            "marker": {
             "colorbar": {
              "outlinewidth": 0,
              "ticks": ""
             }
            },
            "type": "scattercarpet"
           }
          ],
          "scattergeo": [
           {
            "marker": {
             "colorbar": {
              "outlinewidth": 0,
              "ticks": ""
             }
            },
            "type": "scattergeo"
           }
          ],
          "scattergl": [
           {
            "marker": {
             "colorbar": {
              "outlinewidth": 0,
              "ticks": ""
             }
            },
            "type": "scattergl"
           }
          ],
          "scattermap": [
           {
            "marker": {
             "colorbar": {
              "outlinewidth": 0,
              "ticks": ""
             }
            },
            "type": "scattermap"
           }
          ],
          "scattermapbox": [
           {
            "marker": {
             "colorbar": {
              "outlinewidth": 0,
              "ticks": ""
             }
            },
            "type": "scattermapbox"
           }
          ],
          "scatterpolar": [
           {
            "marker": {
             "colorbar": {
              "outlinewidth": 0,
              "ticks": ""
             }
            },
            "type": "scatterpolar"
           }
          ],
          "scatterpolargl": [
           {
            "marker": {
             "colorbar": {
              "outlinewidth": 0,
              "ticks": ""
             }
            },
            "type": "scatterpolargl"
           }
          ],
          "scatterternary": [
           {
            "marker": {
             "colorbar": {
              "outlinewidth": 0,
              "ticks": ""
             }
            },
            "type": "scatterternary"
           }
          ],
          "surface": [
           {
            "colorbar": {
             "outlinewidth": 0,
             "ticks": ""
            },
            "colorscale": [
             [
              0,
              "#0d0887"
             ],
             [
              0.1111111111111111,
              "#46039f"
             ],
             [
              0.2222222222222222,
              "#7201a8"
             ],
             [
              0.3333333333333333,
              "#9c179e"
             ],
             [
              0.4444444444444444,
              "#bd3786"
             ],
             [
              0.5555555555555556,
              "#d8576b"
             ],
             [
              0.6666666666666666,
              "#ed7953"
             ],
             [
              0.7777777777777778,
              "#fb9f3a"
             ],
             [
              0.8888888888888888,
              "#fdca26"
             ],
             [
              1,
              "#f0f921"
             ]
            ],
            "type": "surface"
           }
          ],
          "table": [
           {
            "cells": {
             "fill": {
              "color": "#EBF0F8"
             },
             "line": {
              "color": "white"
             }
            },
            "header": {
             "fill": {
              "color": "#C8D4E3"
             },
             "line": {
              "color": "white"
             }
            },
            "type": "table"
           }
          ]
         },
         "layout": {
          "annotationdefaults": {
           "arrowcolor": "#2a3f5f",
           "arrowhead": 0,
           "arrowwidth": 1
          },
          "autotypenumbers": "strict",
          "coloraxis": {
           "colorbar": {
            "outlinewidth": 0,
            "ticks": ""
           }
          },
          "colorscale": {
           "diverging": [
            [
             0,
             "#8e0152"
            ],
            [
             0.1,
             "#c51b7d"
            ],
            [
             0.2,
             "#de77ae"
            ],
            [
             0.3,
             "#f1b6da"
            ],
            [
             0.4,
             "#fde0ef"
            ],
            [
             0.5,
             "#f7f7f7"
            ],
            [
             0.6,
             "#e6f5d0"
            ],
            [
             0.7,
             "#b8e186"
            ],
            [
             0.8,
             "#7fbc41"
            ],
            [
             0.9,
             "#4d9221"
            ],
            [
             1,
             "#276419"
            ]
           ],
           "sequential": [
            [
             0,
             "#0d0887"
            ],
            [
             0.1111111111111111,
             "#46039f"
            ],
            [
             0.2222222222222222,
             "#7201a8"
            ],
            [
             0.3333333333333333,
             "#9c179e"
            ],
            [
             0.4444444444444444,
             "#bd3786"
            ],
            [
             0.5555555555555556,
             "#d8576b"
            ],
            [
             0.6666666666666666,
             "#ed7953"
            ],
            [
             0.7777777777777778,
             "#fb9f3a"
            ],
            [
             0.8888888888888888,
             "#fdca26"
            ],
            [
             1,
             "#f0f921"
            ]
           ],
           "sequentialminus": [
            [
             0,
             "#0d0887"
            ],
            [
             0.1111111111111111,
             "#46039f"
            ],
            [
             0.2222222222222222,
             "#7201a8"
            ],
            [
             0.3333333333333333,
             "#9c179e"
            ],
            [
             0.4444444444444444,
             "#bd3786"
            ],
            [
             0.5555555555555556,
             "#d8576b"
            ],
            [
             0.6666666666666666,
             "#ed7953"
            ],
            [
             0.7777777777777778,
             "#fb9f3a"
            ],
            [
             0.8888888888888888,
             "#fdca26"
            ],
            [
             1,
             "#f0f921"
            ]
           ]
          },
          "colorway": [
           "#636efa",
           "#EF553B",
           "#00cc96",
           "#ab63fa",
           "#FFA15A",
           "#19d3f3",
           "#FF6692",
           "#B6E880",
           "#FF97FF",
           "#FECB52"
          ],
          "font": {
           "color": "#2a3f5f"
          },
          "geo": {
           "bgcolor": "white",
           "lakecolor": "white",
           "landcolor": "#E5ECF6",
           "showlakes": true,
           "showland": true,
           "subunitcolor": "white"
          },
          "hoverlabel": {
           "align": "left"
          },
          "hovermode": "closest",
          "mapbox": {
           "style": "light"
          },
          "paper_bgcolor": "white",
          "plot_bgcolor": "#E5ECF6",
          "polar": {
           "angularaxis": {
            "gridcolor": "white",
            "linecolor": "white",
            "ticks": ""
           },
           "bgcolor": "#E5ECF6",
           "radialaxis": {
            "gridcolor": "white",
            "linecolor": "white",
            "ticks": ""
           }
          },
          "scene": {
           "xaxis": {
            "backgroundcolor": "#E5ECF6",
            "gridcolor": "white",
            "gridwidth": 2,
            "linecolor": "white",
            "showbackground": true,
            "ticks": "",
            "zerolinecolor": "white"
           },
           "yaxis": {
            "backgroundcolor": "#E5ECF6",
            "gridcolor": "white",
            "gridwidth": 2,
            "linecolor": "white",
            "showbackground": true,
            "ticks": "",
            "zerolinecolor": "white"
           },
           "zaxis": {
            "backgroundcolor": "#E5ECF6",
            "gridcolor": "white",
            "gridwidth": 2,
            "linecolor": "white",
            "showbackground": true,
            "ticks": "",
            "zerolinecolor": "white"
           }
          },
          "shapedefaults": {
           "line": {
            "color": "#2a3f5f"
           }
          },
          "ternary": {
           "aaxis": {
            "gridcolor": "white",
            "linecolor": "white",
            "ticks": ""
           },
           "baxis": {
            "gridcolor": "white",
            "linecolor": "white",
            "ticks": ""
           },
           "bgcolor": "#E5ECF6",
           "caxis": {
            "gridcolor": "white",
            "linecolor": "white",
            "ticks": ""
           }
          },
          "title": {
           "x": 0.05
          },
          "xaxis": {
           "automargin": true,
           "gridcolor": "white",
           "linecolor": "white",
           "ticks": "",
           "title": {
            "standoff": 15
           },
           "zerolinecolor": "white",
           "zerolinewidth": 2
          },
          "yaxis": {
           "automargin": true,
           "gridcolor": "white",
           "linecolor": "white",
           "ticks": "",
           "title": {
            "standoff": 15
           },
           "zerolinecolor": "white",
           "zerolinewidth": 2
          }
         }
        },
        "xaxis": {
         "anchor": "y",
         "domain": [
          0,
          1
         ],
         "title": {
          "text": "index"
         }
        },
        "yaxis": {
         "anchor": "x",
         "domain": [
          0,
          1
         ],
         "title": {
          "text": "value"
         }
        }
       }
      }
     },
     "metadata": {},
     "output_type": "display_data"
    }
   ],
   "source": [
    "df_forecast[['Spending', 'SpendingForecast']].plot()"
   ]
  },
  {
   "cell_type": "code",
   "execution_count": 62,
   "metadata": {},
   "outputs": [
    {
     "name": "stdout",
     "output_type": "stream",
     "text": [
      "VARMA(1,2) Money RMSE:  34.18186025015879\n",
      "VARMA(1,2) Spending RMSE:  66.73102961893895\n"
     ]
    }
   ],
   "source": [
    "varma_1_2_money_rmse = rmse(df[['Money']].iloc[-nobs:], df_forecast[['MoneyForecast']])[0]\n",
    "varma_1_2_spending_rmse = rmse(df[['Spending']].iloc[-nobs:], df_forecast[['SpendingForecast']])[0]\n",
    "print('VARMA(1,2) Money RMSE: ', varma_1_2_money_rmse)\n",
    "print('VARMA(1,2) Spending RMSE: ', varma_1_2_spending_rmse)"
   ]
  },
  {
   "cell_type": "markdown",
   "metadata": {},
   "source": [
    "### ARMA(1,0,2) 비교\n",
    "* 위에서 train, test 데이터를 만들때 2차 차분을 이미 진행했으므로 ARIMA(1,2,2) 를 사용하지 않고 ARMA(1,0,2) 사용한다."
   ]
  },
  {
   "cell_type": "code",
   "execution_count": 63,
   "metadata": {},
   "outputs": [],
   "source": [
    "from statsmodels.tsa.arima.model import ARIMA"
   ]
  },
  {
   "cell_type": "markdown",
   "metadata": {},
   "source": [
    "모델링 / 적합"
   ]
  },
  {
   "cell_type": "code",
   "execution_count": 69,
   "metadata": {},
   "outputs": [
    {
     "data": {
      "text/html": [
       "<table class=\"simpletable\">\n",
       "<caption>SARIMAX Results</caption>\n",
       "<tr>\n",
       "  <th>Dep. Variable:</th>         <td>Money</td>      <th>  No. Observations:  </th>    <td>238</td>   \n",
       "</tr>\n",
       "<tr>\n",
       "  <th>Model:</th>            <td>ARIMA(1, 0, 2)</td>  <th>  Log Likelihood     </th> <td>-1117.710</td>\n",
       "</tr>\n",
       "<tr>\n",
       "  <th>Date:</th>            <td>Sat, 07 Jun 2025</td> <th>  AIC                </th> <td>2245.421</td> \n",
       "</tr>\n",
       "<tr>\n",
       "  <th>Time:</th>                <td>15:24:04</td>     <th>  BIC                </th> <td>2262.782</td> \n",
       "</tr>\n",
       "<tr>\n",
       "  <th>Sample:</th>             <td>03-01-1995</td>    <th>  HQIC               </th> <td>2252.418</td> \n",
       "</tr>\n",
       "<tr>\n",
       "  <th></th>                   <td>- 12-01-2014</td>   <th>                     </th>     <td> </td>    \n",
       "</tr>\n",
       "<tr>\n",
       "  <th>Covariance Type:</th>        <td>opg</td>       <th>                     </th>     <td> </td>    \n",
       "</tr>\n",
       "</table>\n",
       "<table class=\"simpletable\">\n",
       "<tr>\n",
       "     <td></td>       <th>coef</th>     <th>std err</th>      <th>z</th>      <th>P>|z|</th>  <th>[0.025</th>    <th>0.975]</th>  \n",
       "</tr>\n",
       "<tr>\n",
       "  <th>const</th>  <td>    0.1814</td> <td>    0.032</td> <td>    5.639</td> <td> 0.000</td> <td>    0.118</td> <td>    0.244</td>\n",
       "</tr>\n",
       "<tr>\n",
       "  <th>ar.L1</th>  <td>   -0.3570</td> <td>    0.176</td> <td>   -2.032</td> <td> 0.042</td> <td>   -0.701</td> <td>   -0.013</td>\n",
       "</tr>\n",
       "<tr>\n",
       "  <th>ma.L1</th>  <td>   -0.4085</td> <td>    2.449</td> <td>   -0.167</td> <td> 0.868</td> <td>   -5.209</td> <td>    4.392</td>\n",
       "</tr>\n",
       "<tr>\n",
       "  <th>ma.L2</th>  <td>   -0.5914</td> <td>    1.403</td> <td>   -0.422</td> <td> 0.673</td> <td>   -3.341</td> <td>    2.158</td>\n",
       "</tr>\n",
       "<tr>\n",
       "  <th>sigma2</th> <td>  687.1733</td> <td> 1660.749</td> <td>    0.414</td> <td> 0.679</td> <td>-2567.835</td> <td> 3942.181</td>\n",
       "</tr>\n",
       "</table>\n",
       "<table class=\"simpletable\">\n",
       "<tr>\n",
       "  <th>Ljung-Box (L1) (Q):</th>     <td>0.34</td> <th>  Jarque-Bera (JB):  </th> <td>775.39</td>\n",
       "</tr>\n",
       "<tr>\n",
       "  <th>Prob(Q):</th>                <td>0.56</td> <th>  Prob(JB):          </th>  <td>0.00</td> \n",
       "</tr>\n",
       "<tr>\n",
       "  <th>Heteroskedasticity (H):</th> <td>6.83</td> <th>  Skew:              </th>  <td>1.61</td> \n",
       "</tr>\n",
       "<tr>\n",
       "  <th>Prob(H) (two-sided):</th>    <td>0.00</td> <th>  Kurtosis:          </th>  <td>11.23</td>\n",
       "</tr>\n",
       "</table><br/><br/>Warnings:<br/>[1] Covariance matrix calculated using the outer product of gradients (complex-step)."
      ],
      "text/latex": [
       "\\begin{center}\n",
       "\\begin{tabular}{lclc}\n",
       "\\toprule\n",
       "\\textbf{Dep. Variable:}          &      Money       & \\textbf{  No. Observations:  } &    238      \\\\\n",
       "\\textbf{Model:}                  &  ARIMA(1, 0, 2)  & \\textbf{  Log Likelihood     } & -1117.710   \\\\\n",
       "\\textbf{Date:}                   & Sat, 07 Jun 2025 & \\textbf{  AIC                } &  2245.421   \\\\\n",
       "\\textbf{Time:}                   &     15:24:04     & \\textbf{  BIC                } &  2262.782   \\\\\n",
       "\\textbf{Sample:}                 &    03-01-1995    & \\textbf{  HQIC               } &  2252.418   \\\\\n",
       "\\textbf{}                        &   - 12-01-2014   & \\textbf{                     } &             \\\\\n",
       "\\textbf{Covariance Type:}        &       opg        & \\textbf{                     } &             \\\\\n",
       "\\bottomrule\n",
       "\\end{tabular}\n",
       "\\begin{tabular}{lcccccc}\n",
       "                & \\textbf{coef} & \\textbf{std err} & \\textbf{z} & \\textbf{P$> |$z$|$} & \\textbf{[0.025} & \\textbf{0.975]}  \\\\\n",
       "\\midrule\n",
       "\\textbf{const}  &       0.1814  &        0.032     &     5.639  &         0.000        &        0.118    &        0.244     \\\\\n",
       "\\textbf{ar.L1}  &      -0.3570  &        0.176     &    -2.032  &         0.042        &       -0.701    &       -0.013     \\\\\n",
       "\\textbf{ma.L1}  &      -0.4085  &        2.449     &    -0.167  &         0.868        &       -5.209    &        4.392     \\\\\n",
       "\\textbf{ma.L2}  &      -0.5914  &        1.403     &    -0.422  &         0.673        &       -3.341    &        2.158     \\\\\n",
       "\\textbf{sigma2} &     687.1733  &     1660.749     &     0.414  &         0.679        &    -2567.835    &     3942.181     \\\\\n",
       "\\bottomrule\n",
       "\\end{tabular}\n",
       "\\begin{tabular}{lclc}\n",
       "\\textbf{Ljung-Box (L1) (Q):}     & 0.34 & \\textbf{  Jarque-Bera (JB):  } & 775.39  \\\\\n",
       "\\textbf{Prob(Q):}                & 0.56 & \\textbf{  Prob(JB):          } &  0.00   \\\\\n",
       "\\textbf{Heteroskedasticity (H):} & 6.83 & \\textbf{  Skew:              } &  1.61   \\\\\n",
       "\\textbf{Prob(H) (two-sided):}    & 0.00 & \\textbf{  Kurtosis:          } & 11.23   \\\\\n",
       "\\bottomrule\n",
       "\\end{tabular}\n",
       "%\\caption{SARIMAX Results}\n",
       "\\end{center}\n",
       "\n",
       "Warnings: \\newline\n",
       " [1] Covariance matrix calculated using the outer product of gradients (complex-step)."
      ],
      "text/plain": [
       "<class 'statsmodels.iolib.summary.Summary'>\n",
       "\"\"\"\n",
       "                               SARIMAX Results                                \n",
       "==============================================================================\n",
       "Dep. Variable:                  Money   No. Observations:                  238\n",
       "Model:                 ARIMA(1, 0, 2)   Log Likelihood               -1117.710\n",
       "Date:                Sat, 07 Jun 2025   AIC                           2245.421\n",
       "Time:                        15:24:04   BIC                           2262.782\n",
       "Sample:                    03-01-1995   HQIC                          2252.418\n",
       "                         - 12-01-2014                                         \n",
       "Covariance Type:                  opg                                         \n",
       "==============================================================================\n",
       "                 coef    std err          z      P>|z|      [0.025      0.975]\n",
       "------------------------------------------------------------------------------\n",
       "const          0.1814      0.032      5.639      0.000       0.118       0.244\n",
       "ar.L1         -0.3570      0.176     -2.032      0.042      -0.701      -0.013\n",
       "ma.L1         -0.4085      2.449     -0.167      0.868      -5.209       4.392\n",
       "ma.L2         -0.5914      1.403     -0.422      0.673      -3.341       2.158\n",
       "sigma2       687.1733   1660.749      0.414      0.679   -2567.835    3942.181\n",
       "===================================================================================\n",
       "Ljung-Box (L1) (Q):                   0.34   Jarque-Bera (JB):               775.39\n",
       "Prob(Q):                              0.56   Prob(JB):                         0.00\n",
       "Heteroskedasticity (H):               6.83   Skew:                             1.61\n",
       "Prob(H) (two-sided):                  0.00   Kurtosis:                        11.23\n",
       "===================================================================================\n",
       "\n",
       "Warnings:\n",
       "[1] Covariance matrix calculated using the outer product of gradients (complex-step).\n",
       "\"\"\""
      ]
     },
     "execution_count": 69,
     "metadata": {},
     "output_type": "execute_result"
    }
   ],
   "source": [
    "# money 컬럼 모델\n",
    "arma_money_model = ARIMA(train['Money'], order=(1,0,2))\n",
    "arma_money_model_fit = arma_money_model.fit()\n",
    "arma_money_model_fit.summary()"
   ]
  },
  {
   "cell_type": "code",
   "execution_count": 65,
   "metadata": {},
   "outputs": [
    {
     "data": {
      "text/html": [
       "<table class=\"simpletable\">\n",
       "<caption>SARIMAX Results</caption>\n",
       "<tr>\n",
       "  <th>Dep. Variable:</th>       <td>Spending</td>     <th>  No. Observations:  </th>    <td>238</td>   \n",
       "</tr>\n",
       "<tr>\n",
       "  <th>Model:</th>            <td>ARIMA(1, 0, 2)</td>  <th>  Log Likelihood     </th> <td>-1182.411</td>\n",
       "</tr>\n",
       "<tr>\n",
       "  <th>Date:</th>            <td>Sat, 07 Jun 2025</td> <th>  AIC                </th> <td>2374.823</td> \n",
       "</tr>\n",
       "<tr>\n",
       "  <th>Time:</th>                <td>15:23:07</td>     <th>  BIC                </th> <td>2392.184</td> \n",
       "</tr>\n",
       "<tr>\n",
       "  <th>Sample:</th>             <td>03-01-1995</td>    <th>  HQIC               </th> <td>2381.820</td> \n",
       "</tr>\n",
       "<tr>\n",
       "  <th></th>                   <td>- 12-01-2014</td>   <th>                     </th>     <td> </td>    \n",
       "</tr>\n",
       "<tr>\n",
       "  <th>Covariance Type:</th>        <td>opg</td>       <th>                     </th>     <td> </td>    \n",
       "</tr>\n",
       "</table>\n",
       "<table class=\"simpletable\">\n",
       "<tr>\n",
       "     <td></td>       <th>coef</th>     <th>std err</th>      <th>z</th>      <th>P>|z|</th>  <th>[0.025</th>    <th>0.975]</th>  \n",
       "</tr>\n",
       "<tr>\n",
       "  <th>const</th>  <td>    0.0856</td> <td>    0.279</td> <td>    0.307</td> <td> 0.759</td> <td>   -0.461</td> <td>    0.632</td>\n",
       "</tr>\n",
       "<tr>\n",
       "  <th>ar.L1</th>  <td>   -0.3403</td> <td>    0.545</td> <td>   -0.624</td> <td> 0.532</td> <td>   -1.408</td> <td>    0.728</td>\n",
       "</tr>\n",
       "<tr>\n",
       "  <th>ma.L1</th>  <td>   -0.6451</td> <td>    0.549</td> <td>   -1.174</td> <td> 0.240</td> <td>   -1.722</td> <td>    0.432</td>\n",
       "</tr>\n",
       "<tr>\n",
       "  <th>ma.L2</th>  <td>   -0.2139</td> <td>    0.507</td> <td>   -0.422</td> <td> 0.673</td> <td>   -1.207</td> <td>    0.779</td>\n",
       "</tr>\n",
       "<tr>\n",
       "  <th>sigma2</th> <td> 1201.3966</td> <td>   66.509</td> <td>   18.064</td> <td> 0.000</td> <td> 1071.042</td> <td> 1331.751</td>\n",
       "</tr>\n",
       "</table>\n",
       "<table class=\"simpletable\">\n",
       "<tr>\n",
       "  <th>Ljung-Box (L1) (Q):</th>     <td>0.00</td> <th>  Jarque-Bera (JB):  </th> <td>184.55</td>\n",
       "</tr>\n",
       "<tr>\n",
       "  <th>Prob(Q):</th>                <td>0.99</td> <th>  Prob(JB):          </th>  <td>0.00</td> \n",
       "</tr>\n",
       "<tr>\n",
       "  <th>Heteroskedasticity (H):</th> <td>2.72</td> <th>  Skew:              </th>  <td>-0.17</td>\n",
       "</tr>\n",
       "<tr>\n",
       "  <th>Prob(H) (two-sided):</th>    <td>0.00</td> <th>  Kurtosis:          </th>  <td>7.30</td> \n",
       "</tr>\n",
       "</table><br/><br/>Warnings:<br/>[1] Covariance matrix calculated using the outer product of gradients (complex-step)."
      ],
      "text/latex": [
       "\\begin{center}\n",
       "\\begin{tabular}{lclc}\n",
       "\\toprule\n",
       "\\textbf{Dep. Variable:}          &     Spending     & \\textbf{  No. Observations:  } &    238      \\\\\n",
       "\\textbf{Model:}                  &  ARIMA(1, 0, 2)  & \\textbf{  Log Likelihood     } & -1182.411   \\\\\n",
       "\\textbf{Date:}                   & Sat, 07 Jun 2025 & \\textbf{  AIC                } &  2374.823   \\\\\n",
       "\\textbf{Time:}                   &     15:23:07     & \\textbf{  BIC                } &  2392.184   \\\\\n",
       "\\textbf{Sample:}                 &    03-01-1995    & \\textbf{  HQIC               } &  2381.820   \\\\\n",
       "\\textbf{}                        &   - 12-01-2014   & \\textbf{                     } &             \\\\\n",
       "\\textbf{Covariance Type:}        &       opg        & \\textbf{                     } &             \\\\\n",
       "\\bottomrule\n",
       "\\end{tabular}\n",
       "\\begin{tabular}{lcccccc}\n",
       "                & \\textbf{coef} & \\textbf{std err} & \\textbf{z} & \\textbf{P$> |$z$|$} & \\textbf{[0.025} & \\textbf{0.975]}  \\\\\n",
       "\\midrule\n",
       "\\textbf{const}  &       0.0856  &        0.279     &     0.307  &         0.759        &       -0.461    &        0.632     \\\\\n",
       "\\textbf{ar.L1}  &      -0.3403  &        0.545     &    -0.624  &         0.532        &       -1.408    &        0.728     \\\\\n",
       "\\textbf{ma.L1}  &      -0.6451  &        0.549     &    -1.174  &         0.240        &       -1.722    &        0.432     \\\\\n",
       "\\textbf{ma.L2}  &      -0.2139  &        0.507     &    -0.422  &         0.673        &       -1.207    &        0.779     \\\\\n",
       "\\textbf{sigma2} &    1201.3966  &       66.509     &    18.064  &         0.000        &     1071.042    &     1331.751     \\\\\n",
       "\\bottomrule\n",
       "\\end{tabular}\n",
       "\\begin{tabular}{lclc}\n",
       "\\textbf{Ljung-Box (L1) (Q):}     & 0.00 & \\textbf{  Jarque-Bera (JB):  } & 184.55  \\\\\n",
       "\\textbf{Prob(Q):}                & 0.99 & \\textbf{  Prob(JB):          } &  0.00   \\\\\n",
       "\\textbf{Heteroskedasticity (H):} & 2.72 & \\textbf{  Skew:              } & -0.17   \\\\\n",
       "\\textbf{Prob(H) (two-sided):}    & 0.00 & \\textbf{  Kurtosis:          } &  7.30   \\\\\n",
       "\\bottomrule\n",
       "\\end{tabular}\n",
       "%\\caption{SARIMAX Results}\n",
       "\\end{center}\n",
       "\n",
       "Warnings: \\newline\n",
       " [1] Covariance matrix calculated using the outer product of gradients (complex-step)."
      ],
      "text/plain": [
       "<class 'statsmodels.iolib.summary.Summary'>\n",
       "\"\"\"\n",
       "                               SARIMAX Results                                \n",
       "==============================================================================\n",
       "Dep. Variable:               Spending   No. Observations:                  238\n",
       "Model:                 ARIMA(1, 0, 2)   Log Likelihood               -1182.411\n",
       "Date:                Sat, 07 Jun 2025   AIC                           2374.823\n",
       "Time:                        15:23:07   BIC                           2392.184\n",
       "Sample:                    03-01-1995   HQIC                          2381.820\n",
       "                         - 12-01-2014                                         \n",
       "Covariance Type:                  opg                                         \n",
       "==============================================================================\n",
       "                 coef    std err          z      P>|z|      [0.025      0.975]\n",
       "------------------------------------------------------------------------------\n",
       "const          0.0856      0.279      0.307      0.759      -0.461       0.632\n",
       "ar.L1         -0.3403      0.545     -0.624      0.532      -1.408       0.728\n",
       "ma.L1         -0.6451      0.549     -1.174      0.240      -1.722       0.432\n",
       "ma.L2         -0.2139      0.507     -0.422      0.673      -1.207       0.779\n",
       "sigma2      1201.3966     66.509     18.064      0.000    1071.042    1331.751\n",
       "===================================================================================\n",
       "Ljung-Box (L1) (Q):                   0.00   Jarque-Bera (JB):               184.55\n",
       "Prob(Q):                              0.99   Prob(JB):                         0.00\n",
       "Heteroskedasticity (H):               2.72   Skew:                            -0.17\n",
       "Prob(H) (two-sided):                  0.00   Kurtosis:                         7.30\n",
       "===================================================================================\n",
       "\n",
       "Warnings:\n",
       "[1] Covariance matrix calculated using the outer product of gradients (complex-step).\n",
       "\"\"\""
      ]
     },
     "execution_count": 65,
     "metadata": {},
     "output_type": "execute_result"
    }
   ],
   "source": [
    "# spending 컬럼 모델\n",
    "arma_spending = ARIMA(train['Spending'], order=(1,0,2))\n",
    "arma_spending_fit = arma_spending.fit()\n",
    "arma_spending_fit.summary()"
   ]
  },
  {
   "cell_type": "markdown",
   "metadata": {},
   "source": [
    "예측"
   ]
  },
  {
   "cell_type": "code",
   "execution_count": 70,
   "metadata": {},
   "outputs": [],
   "source": [
    "arma_money2d_forecast = arma_money_model_fit.forecast(steps=nobs).rename('Forecast_Money2d')\n",
    "arma_spending2d_forecast = arma_spending_fit.forecast(steps=nobs).rename('Forecast_Spending2d')"
   ]
  },
  {
   "cell_type": "markdown",
   "metadata": {},
   "source": [
    "차분 역변환"
   ]
  },
  {
   "cell_type": "code",
   "execution_count": 71,
   "metadata": {},
   "outputs": [],
   "source": [
    "money1d = df['Money'].iloc[-nobs-1] - df['Money'].iloc[-nobs-2] + arma_money2d_forecast.cumsum()\n",
    "money_forecast = df['Money'].iloc[-nobs-1] + money1d.cumsum()\n",
    "\n",
    "spending1d = df['Spending'].iloc[-nobs-1] - df['Spending'].iloc[-nobs-2] + arma_spending2d_forecast.cumsum()\n",
    "spending_forecast = df['Spending'].iloc[-nobs-1] + spending1d.cumsum()"
   ]
  },
  {
   "cell_type": "markdown",
   "metadata": {},
   "source": [
    "평가"
   ]
  },
  {
   "cell_type": "code",
   "execution_count": 72,
   "metadata": {},
   "outputs": [
    {
     "name": "stdout",
     "output_type": "stream",
     "text": [
      "----------------------------------------------------------------------------------------------------\n",
      "AR(5) RMSE Money: 34.3936979839303\n",
      "AR(5) RMSE Spending: 34.26101949655065\n",
      "----------------------------------------------------------------------------------------------------\n",
      "VAR(5) RMSE Money: 43.710496535589265\n",
      "VAR(5) RMSE Spending: 37.001175169408036\n",
      "----------------------------------------------------------------------------------------------------\n",
      "ARMA(1,0,2) Money RMSE: 32.6847646606814\n",
      "ARMA(1,0,2) Spending RMSE: 52.33218456643306\n",
      "----------------------------------------------------------------------------------------------------\n",
      "VARMA(1,2) Money RMSE:  34.18186025015879\n",
      "VARMA(1,2) Spending RMSE:  66.73102961893895\n",
      "----------------------------------------------------------------------------------------------------\n"
     ]
    }
   ],
   "source": [
    "arma_money_rmse = rmse(df['Money'][-nobs:], money_forecast)\n",
    "arma_spending_rmse = rmse(df['Spending'][-nobs:], spending_forecast)\n",
    "print('-'*100)\n",
    "print(f\"AR(5) RMSE Money: {AR5_RMSE_Money}\")\n",
    "print(f\"AR(5) RMSE Spending: {AR5_RMSE_Spending}\")\n",
    "print('-'*100)\n",
    "print(f\"VAR(5) RMSE Money: {VAR5_RMSE_Money}\")\n",
    "print(f\"VAR(5) RMSE Spending: {VAR5_RMSE_Spending}\")\n",
    "print('-'*100)\n",
    "print(f\"ARMA(1,0,2) Money RMSE: {arma_money_rmse}\")\n",
    "print(f\"ARMA(1,0,2) Spending RMSE: {arma_spending_rmse}\")\n",
    "print('-'*100)\n",
    "print('VARMA(1,2) Money RMSE: ', varma_1_2_money_rmse)\n",
    "print('VARMA(1,2) Spending RMSE: ', varma_1_2_spending_rmse)\n",
    "print('-'*100)\n"
   ]
  },
  {
   "cell_type": "code",
   "execution_count": 78,
   "metadata": {},
   "outputs": [
    {
     "data": {
      "application/vnd.plotly.v1+json": {
       "config": {
        "plotlyServerURL": "https://plot.ly"
       },
       "data": [
        {
         "hovertemplate": "variable=Money<br>index=%{x}<br>value=%{y}<extra></extra>",
         "legendgroup": "Money",
         "marker": {
          "color": "#636efa",
          "pattern": {
           "shape": ""
          }
         },
         "name": "Money",
         "orientation": "v",
         "showlegend": true,
         "textposition": "auto",
         "type": "bar",
         "x": [
          "AR(5)",
          "VAR(5)",
          "ARMA(1,0,2)",
          "VARMA(1,2)"
         ],
         "xaxis": "x",
         "y": {
          "bdata": "q70OsmQyQUB7I+yM8dpFQKWKT16mV0BA7G9ZMkcXQUA=",
          "dtype": "f8"
         },
         "yaxis": "y"
        },
        {
         "hovertemplate": "variable=Spending<br>index=%{x}<br>value=%{y}<extra></extra>",
         "legendgroup": "Spending",
         "marker": {
          "color": "#EF553B",
          "pattern": {
           "shape": ""
          }
         },
         "name": "Spending",
         "orientation": "v",
         "showlegend": true,
         "textposition": "auto",
         "type": "bar",
         "x": [
          "AR(5)",
          "VAR(5)",
          "ARMA(1,0,2)",
          "VARMA(1,2)"
         ],
         "xaxis": "x",
         "y": {
          "bdata": "16Y8FmkhQUBfFgmCJoBCQHCIHAaFKkpAAnB0MMmuUEA=",
          "dtype": "f8"
         },
         "yaxis": "y"
        }
       ],
       "layout": {
        "barmode": "relative",
        "legend": {
         "title": {
          "text": "variable"
         },
         "tracegroupgap": 0
        },
        "template": {
         "data": {
          "bar": [
           {
            "error_x": {
             "color": "#2a3f5f"
            },
            "error_y": {
             "color": "#2a3f5f"
            },
            "marker": {
             "line": {
              "color": "#E5ECF6",
              "width": 0.5
             },
             "pattern": {
              "fillmode": "overlay",
              "size": 10,
              "solidity": 0.2
             }
            },
            "type": "bar"
           }
          ],
          "barpolar": [
           {
            "marker": {
             "line": {
              "color": "#E5ECF6",
              "width": 0.5
             },
             "pattern": {
              "fillmode": "overlay",
              "size": 10,
              "solidity": 0.2
             }
            },
            "type": "barpolar"
           }
          ],
          "carpet": [
           {
            "aaxis": {
             "endlinecolor": "#2a3f5f",
             "gridcolor": "white",
             "linecolor": "white",
             "minorgridcolor": "white",
             "startlinecolor": "#2a3f5f"
            },
            "baxis": {
             "endlinecolor": "#2a3f5f",
             "gridcolor": "white",
             "linecolor": "white",
             "minorgridcolor": "white",
             "startlinecolor": "#2a3f5f"
            },
            "type": "carpet"
           }
          ],
          "choropleth": [
           {
            "colorbar": {
             "outlinewidth": 0,
             "ticks": ""
            },
            "type": "choropleth"
           }
          ],
          "contour": [
           {
            "colorbar": {
             "outlinewidth": 0,
             "ticks": ""
            },
            "colorscale": [
             [
              0,
              "#0d0887"
             ],
             [
              0.1111111111111111,
              "#46039f"
             ],
             [
              0.2222222222222222,
              "#7201a8"
             ],
             [
              0.3333333333333333,
              "#9c179e"
             ],
             [
              0.4444444444444444,
              "#bd3786"
             ],
             [
              0.5555555555555556,
              "#d8576b"
             ],
             [
              0.6666666666666666,
              "#ed7953"
             ],
             [
              0.7777777777777778,
              "#fb9f3a"
             ],
             [
              0.8888888888888888,
              "#fdca26"
             ],
             [
              1,
              "#f0f921"
             ]
            ],
            "type": "contour"
           }
          ],
          "contourcarpet": [
           {
            "colorbar": {
             "outlinewidth": 0,
             "ticks": ""
            },
            "type": "contourcarpet"
           }
          ],
          "heatmap": [
           {
            "colorbar": {
             "outlinewidth": 0,
             "ticks": ""
            },
            "colorscale": [
             [
              0,
              "#0d0887"
             ],
             [
              0.1111111111111111,
              "#46039f"
             ],
             [
              0.2222222222222222,
              "#7201a8"
             ],
             [
              0.3333333333333333,
              "#9c179e"
             ],
             [
              0.4444444444444444,
              "#bd3786"
             ],
             [
              0.5555555555555556,
              "#d8576b"
             ],
             [
              0.6666666666666666,
              "#ed7953"
             ],
             [
              0.7777777777777778,
              "#fb9f3a"
             ],
             [
              0.8888888888888888,
              "#fdca26"
             ],
             [
              1,
              "#f0f921"
             ]
            ],
            "type": "heatmap"
           }
          ],
          "histogram": [
           {
            "marker": {
             "pattern": {
              "fillmode": "overlay",
              "size": 10,
              "solidity": 0.2
             }
            },
            "type": "histogram"
           }
          ],
          "histogram2d": [
           {
            "colorbar": {
             "outlinewidth": 0,
             "ticks": ""
            },
            "colorscale": [
             [
              0,
              "#0d0887"
             ],
             [
              0.1111111111111111,
              "#46039f"
             ],
             [
              0.2222222222222222,
              "#7201a8"
             ],
             [
              0.3333333333333333,
              "#9c179e"
             ],
             [
              0.4444444444444444,
              "#bd3786"
             ],
             [
              0.5555555555555556,
              "#d8576b"
             ],
             [
              0.6666666666666666,
              "#ed7953"
             ],
             [
              0.7777777777777778,
              "#fb9f3a"
             ],
             [
              0.8888888888888888,
              "#fdca26"
             ],
             [
              1,
              "#f0f921"
             ]
            ],
            "type": "histogram2d"
           }
          ],
          "histogram2dcontour": [
           {
            "colorbar": {
             "outlinewidth": 0,
             "ticks": ""
            },
            "colorscale": [
             [
              0,
              "#0d0887"
             ],
             [
              0.1111111111111111,
              "#46039f"
             ],
             [
              0.2222222222222222,
              "#7201a8"
             ],
             [
              0.3333333333333333,
              "#9c179e"
             ],
             [
              0.4444444444444444,
              "#bd3786"
             ],
             [
              0.5555555555555556,
              "#d8576b"
             ],
             [
              0.6666666666666666,
              "#ed7953"
             ],
             [
              0.7777777777777778,
              "#fb9f3a"
             ],
             [
              0.8888888888888888,
              "#fdca26"
             ],
             [
              1,
              "#f0f921"
             ]
            ],
            "type": "histogram2dcontour"
           }
          ],
          "mesh3d": [
           {
            "colorbar": {
             "outlinewidth": 0,
             "ticks": ""
            },
            "type": "mesh3d"
           }
          ],
          "parcoords": [
           {
            "line": {
             "colorbar": {
              "outlinewidth": 0,
              "ticks": ""
             }
            },
            "type": "parcoords"
           }
          ],
          "pie": [
           {
            "automargin": true,
            "type": "pie"
           }
          ],
          "scatter": [
           {
            "fillpattern": {
             "fillmode": "overlay",
             "size": 10,
             "solidity": 0.2
            },
            "type": "scatter"
           }
          ],
          "scatter3d": [
           {
            "line": {
             "colorbar": {
              "outlinewidth": 0,
              "ticks": ""
             }
            },
            "marker": {
             "colorbar": {
              "outlinewidth": 0,
              "ticks": ""
             }
            },
            "type": "scatter3d"
           }
          ],
          "scattercarpet": [
           {
            "marker": {
             "colorbar": {
              "outlinewidth": 0,
              "ticks": ""
             }
            },
            "type": "scattercarpet"
           }
          ],
          "scattergeo": [
           {
            "marker": {
             "colorbar": {
              "outlinewidth": 0,
              "ticks": ""
             }
            },
            "type": "scattergeo"
           }
          ],
          "scattergl": [
           {
            "marker": {
             "colorbar": {
              "outlinewidth": 0,
              "ticks": ""
             }
            },
            "type": "scattergl"
           }
          ],
          "scattermap": [
           {
            "marker": {
             "colorbar": {
              "outlinewidth": 0,
              "ticks": ""
             }
            },
            "type": "scattermap"
           }
          ],
          "scattermapbox": [
           {
            "marker": {
             "colorbar": {
              "outlinewidth": 0,
              "ticks": ""
             }
            },
            "type": "scattermapbox"
           }
          ],
          "scatterpolar": [
           {
            "marker": {
             "colorbar": {
              "outlinewidth": 0,
              "ticks": ""
             }
            },
            "type": "scatterpolar"
           }
          ],
          "scatterpolargl": [
           {
            "marker": {
             "colorbar": {
              "outlinewidth": 0,
              "ticks": ""
             }
            },
            "type": "scatterpolargl"
           }
          ],
          "scatterternary": [
           {
            "marker": {
             "colorbar": {
              "outlinewidth": 0,
              "ticks": ""
             }
            },
            "type": "scatterternary"
           }
          ],
          "surface": [
           {
            "colorbar": {
             "outlinewidth": 0,
             "ticks": ""
            },
            "colorscale": [
             [
              0,
              "#0d0887"
             ],
             [
              0.1111111111111111,
              "#46039f"
             ],
             [
              0.2222222222222222,
              "#7201a8"
             ],
             [
              0.3333333333333333,
              "#9c179e"
             ],
             [
              0.4444444444444444,
              "#bd3786"
             ],
             [
              0.5555555555555556,
              "#d8576b"
             ],
             [
              0.6666666666666666,
              "#ed7953"
             ],
             [
              0.7777777777777778,
              "#fb9f3a"
             ],
             [
              0.8888888888888888,
              "#fdca26"
             ],
             [
              1,
              "#f0f921"
             ]
            ],
            "type": "surface"
           }
          ],
          "table": [
           {
            "cells": {
             "fill": {
              "color": "#EBF0F8"
             },
             "line": {
              "color": "white"
             }
            },
            "header": {
             "fill": {
              "color": "#C8D4E3"
             },
             "line": {
              "color": "white"
             }
            },
            "type": "table"
           }
          ]
         },
         "layout": {
          "annotationdefaults": {
           "arrowcolor": "#2a3f5f",
           "arrowhead": 0,
           "arrowwidth": 1
          },
          "autotypenumbers": "strict",
          "coloraxis": {
           "colorbar": {
            "outlinewidth": 0,
            "ticks": ""
           }
          },
          "colorscale": {
           "diverging": [
            [
             0,
             "#8e0152"
            ],
            [
             0.1,
             "#c51b7d"
            ],
            [
             0.2,
             "#de77ae"
            ],
            [
             0.3,
             "#f1b6da"
            ],
            [
             0.4,
             "#fde0ef"
            ],
            [
             0.5,
             "#f7f7f7"
            ],
            [
             0.6,
             "#e6f5d0"
            ],
            [
             0.7,
             "#b8e186"
            ],
            [
             0.8,
             "#7fbc41"
            ],
            [
             0.9,
             "#4d9221"
            ],
            [
             1,
             "#276419"
            ]
           ],
           "sequential": [
            [
             0,
             "#0d0887"
            ],
            [
             0.1111111111111111,
             "#46039f"
            ],
            [
             0.2222222222222222,
             "#7201a8"
            ],
            [
             0.3333333333333333,
             "#9c179e"
            ],
            [
             0.4444444444444444,
             "#bd3786"
            ],
            [
             0.5555555555555556,
             "#d8576b"
            ],
            [
             0.6666666666666666,
             "#ed7953"
            ],
            [
             0.7777777777777778,
             "#fb9f3a"
            ],
            [
             0.8888888888888888,
             "#fdca26"
            ],
            [
             1,
             "#f0f921"
            ]
           ],
           "sequentialminus": [
            [
             0,
             "#0d0887"
            ],
            [
             0.1111111111111111,
             "#46039f"
            ],
            [
             0.2222222222222222,
             "#7201a8"
            ],
            [
             0.3333333333333333,
             "#9c179e"
            ],
            [
             0.4444444444444444,
             "#bd3786"
            ],
            [
             0.5555555555555556,
             "#d8576b"
            ],
            [
             0.6666666666666666,
             "#ed7953"
            ],
            [
             0.7777777777777778,
             "#fb9f3a"
            ],
            [
             0.8888888888888888,
             "#fdca26"
            ],
            [
             1,
             "#f0f921"
            ]
           ]
          },
          "colorway": [
           "#636efa",
           "#EF553B",
           "#00cc96",
           "#ab63fa",
           "#FFA15A",
           "#19d3f3",
           "#FF6692",
           "#B6E880",
           "#FF97FF",
           "#FECB52"
          ],
          "font": {
           "color": "#2a3f5f"
          },
          "geo": {
           "bgcolor": "white",
           "lakecolor": "white",
           "landcolor": "#E5ECF6",
           "showlakes": true,
           "showland": true,
           "subunitcolor": "white"
          },
          "hoverlabel": {
           "align": "left"
          },
          "hovermode": "closest",
          "mapbox": {
           "style": "light"
          },
          "paper_bgcolor": "white",
          "plot_bgcolor": "#E5ECF6",
          "polar": {
           "angularaxis": {
            "gridcolor": "white",
            "linecolor": "white",
            "ticks": ""
           },
           "bgcolor": "#E5ECF6",
           "radialaxis": {
            "gridcolor": "white",
            "linecolor": "white",
            "ticks": ""
           }
          },
          "scene": {
           "xaxis": {
            "backgroundcolor": "#E5ECF6",
            "gridcolor": "white",
            "gridwidth": 2,
            "linecolor": "white",
            "showbackground": true,
            "ticks": "",
            "zerolinecolor": "white"
           },
           "yaxis": {
            "backgroundcolor": "#E5ECF6",
            "gridcolor": "white",
            "gridwidth": 2,
            "linecolor": "white",
            "showbackground": true,
            "ticks": "",
            "zerolinecolor": "white"
           },
           "zaxis": {
            "backgroundcolor": "#E5ECF6",
            "gridcolor": "white",
            "gridwidth": 2,
            "linecolor": "white",
            "showbackground": true,
            "ticks": "",
            "zerolinecolor": "white"
           }
          },
          "shapedefaults": {
           "line": {
            "color": "#2a3f5f"
           }
          },
          "ternary": {
           "aaxis": {
            "gridcolor": "white",
            "linecolor": "white",
            "ticks": ""
           },
           "baxis": {
            "gridcolor": "white",
            "linecolor": "white",
            "ticks": ""
           },
           "bgcolor": "#E5ECF6",
           "caxis": {
            "gridcolor": "white",
            "linecolor": "white",
            "ticks": ""
           }
          },
          "title": {
           "x": 0.05
          },
          "xaxis": {
           "automargin": true,
           "gridcolor": "white",
           "linecolor": "white",
           "ticks": "",
           "title": {
            "standoff": 15
           },
           "zerolinecolor": "white",
           "zerolinewidth": 2
          },
          "yaxis": {
           "automargin": true,
           "gridcolor": "white",
           "linecolor": "white",
           "ticks": "",
           "title": {
            "standoff": 15
           },
           "zerolinecolor": "white",
           "zerolinewidth": 2
          }
         }
        },
        "title": {
         "text": "평가결과 비교"
        },
        "xaxis": {
         "anchor": "y",
         "domain": [
          0,
          1
         ],
         "title": {
          "text": "모델"
         }
        },
        "yaxis": {
         "anchor": "x",
         "domain": [
          0,
          1
         ],
         "title": {
          "text": "RMSE"
         }
        }
       }
      }
     },
     "metadata": {},
     "output_type": "display_data"
    }
   ],
   "source": [
    "pd.DataFrame({'AR(5)': [AR5_RMSE_Money, AR5_RMSE_Spending],\n",
    "              'VAR(5)': [VAR5_RMSE_Money, VAR5_RMSE_Spending],\n",
    "              'ARMA(1,0,2)': [arma_money_rmse, arma_spending_rmse],\n",
    "              'VARMA(1,2)': [varma_1_2_money_rmse, varma_1_2_spending_rmse]},\n",
    "              index=['Money', 'Spending']).T.plot.bar(title='평가결과 비교').update_layout(xaxis_title='모델', yaxis_title='RMSE')"
   ]
  }
 ],
 "metadata": {
  "kernelspec": {
   "display_name": "Python 3",
   "language": "python",
   "name": "python3"
  },
  "language_info": {
   "codemirror_mode": {
    "name": "ipython",
    "version": 3
   },
   "file_extension": ".py",
   "mimetype": "text/x-python",
   "name": "python",
   "nbconvert_exporter": "python",
   "pygments_lexer": "ipython3",
   "version": "3.12.9"
  }
 },
 "nbformat": 4,
 "nbformat_minor": 2
}
