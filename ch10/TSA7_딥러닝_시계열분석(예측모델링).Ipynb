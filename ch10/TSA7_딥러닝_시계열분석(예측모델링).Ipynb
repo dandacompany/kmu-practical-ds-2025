{
	"cells": [
		{
			"cell_type": "markdown",
			"metadata": {},
			"source": [
				"## 텐서플로를 이용한 딥러닝 시계열 예측 (예측모델링)"
			]
		},
		{
			"cell_type": "markdown",
			"metadata": {},
			"source": [
				"### 알려두기"
			]
		},
		{
			"cell_type": "markdown",
			"metadata": {},
			"source": [
				"  이 자료는 TensorFlow의 공식 튜토리얼 “언어 이해를 위한 변환기 모델”을 기반으로 작성되었습니다. \n",
				"\n",
				"  원문은 TensorFlow 공식 사이트(https://www.tensorflow.org/tutorials/structured_data/time_series?hl=en) 에서 확인 가능합니다.\n",
				"\n",
				"  변경 사항: 원문 튜토리얼을 바탕으로 MBA 수강생들에게 맞게 재구성되었습니다."
			]
		},
		{
			"cell_type": "markdown",
			"metadata": {},
			"source": [
				"라이브러리 준비"
			]
		},
		{
			"cell_type": "code",
			"execution_count": null,
			"metadata": {},
			"outputs": [],
			"source": [
				"import plotly.express as px\n",
				"import plotly.graph_objects as go\n",
				"from plotly.subplots import make_subplots\n",
				"import chart_studio.plotly as py\n",
				"import cufflinks as cf\n",
				"cf.go_offline(connected=True)"
			]
		},
		{
			"cell_type": "code",
			"execution_count": 2,
			"metadata": {},
			"outputs": [],
			"source": [
				"import warnings\n",
				"warnings.filterwarnings('ignore')"
			]
		},
		{
			"cell_type": "code",
			"execution_count": 3,
			"metadata": {},
			"outputs": [],
			"source": [
				"import pandas as pd\n",
				"import numpy as np\n",
				"import tensorflow as tf\n",
				"from IPython.display import clear_output"
			]
		},
		{
			"cell_type": "markdown",
			"metadata": {},
			"source": [
				"전처리 데이터 로드"
			]
		},
		{
			"cell_type": "code",
			"execution_count": null,
			"metadata": {},
			"outputs": [],
			"source": [
				"df = pd.read_csv('./Data/jena_climate_2009_2016_preprocessed.csv', index_col=0, parse_dates=True)\n",
				"df.head()"
			]
		},
		{
			"cell_type": "markdown",
			"metadata": {},
			"source": [
				"데이터 분할"
			]
		},
		{
			"cell_type": "code",
			"execution_count": null,
			"metadata": {},
			"outputs": [],
			"source": [
				"column_indices = {name: i for i, name in enumerate(df.columns)}\n",
				"column_indices"
			]
		},
		{
			"cell_type": "code",
			"execution_count": null,
			"metadata": {},
			"outputs": [],
			"source": [
				"n = len(df)\n",
				"train_df = df[0:int(n * 0.7)]\n",
				"val_df = df[int(n * 0.7):int(n * 0.9)]\n",
				"test_df = df[int(n * 0.9):]\n",
				"num_features = df.shape[1]\n",
				"print('특성 수 : ', num_features)"
			]
		},
		{
			"cell_type": "markdown",
			"metadata": {},
			"source": [
				"데이터 정규화"
			]
		},
		{
			"cell_type": "code",
			"execution_count": 7,
			"metadata": {},
			"outputs": [],
			"source": [
				"train_mean = train_df.mean()\n",
				"train_std = train_df.std()\n",
				"\n",
				"train_df = (train_df - train_mean) / train_std\n",
				"val_df = (val_df - train_mean) / train_std\n",
				"test_df = (test_df - train_mean) / train_std"
			]
		},
		{
			"cell_type": "code",
			"execution_count": null,
			"metadata": {},
			"outputs": [],
			"source": [
				"df_std = (df - train_mean) / train_std\n",
				"df_std.head()"
			]
		},
		{
			"cell_type": "markdown",
			"metadata": {},
			"source": [
				"정규화 데이터 분포 시각화"
			]
		},
		{
			"cell_type": "code",
			"execution_count": 9,
			"metadata": {},
			"outputs": [],
			"source": [
				"df_std = df_std.melt(var_name='Column', value_name='Normalized')"
			]
		},
		{
			"cell_type": "code",
			"execution_count": null,
			"metadata": {},
			"outputs": [],
			"source": [
				"px.violin(df_std, y='Normalized', x='Column', box=True, points=False, color='Column').update_layout(showlegend=False)"
			]
		},
		{
			"cell_type": "markdown",
			"metadata": {},
			"source": [
				"인덱스 및 오프셋"
			]
		},
		{
			"cell_type": "code",
			"execution_count": 11,
			"metadata": {},
			"outputs": [],
			"source": [
				"class WindowGenerator():\n",
				"    def __init__(self, name, input_width, label_width, shift, train_df=train_df, val_df=val_df, test_df=test_df, label_columns=['T (degC)']):\n",
				"        # 원본 데이터 저장\n",
				"        self.name = name\n",
				"        self.train_df = train_df\n",
				"        self.val_df = val_df\n",
				"        self.test_df = test_df\n",
				"        \n",
				"        self.label_columns = label_columns\n",
				"        if label_columns is not None:\n",
				"            self.label_columns_indices = { name: i for i, name in enumerate(label_columns) }\n",
				"        self.column_indices = { name: i for i, name in enumerate(train_df.columns) }\n",
				"\n",
				"        # 윈도우 매개변수 계산\n",
				"        self.input_width = input_width\n",
				"        self.label_width = label_width\n",
				"        self.shift = shift\n",
				"\n",
				"        self.total_window_size = input_width + shift\n",
				"\n",
				"        self.input_slice = slice(0, input_width)\n",
				"        self.input_indices = np.arange(self.total_window_size)[self.input_slice]\n",
				"\n",
				"        self.label_start = self.total_window_size - self.label_width\n",
				"        self.labels_slice = slice(self.label_start, None)\n",
				"        self.label_indices = np.arange(self.total_window_size)[self.labels_slice]\n",
				"\n",
				"    def __repr__(self):\n",
				"        return '\\n'.join([\n",
				"            f'Total window size: {self.total_window_size}',\n",
				"            f'Input indices: {self.input_indices}',\n",
				"            f'Label indices: {self.label_indices}',])\n",
				"    \n",
				"    def split_window(self, features):\n",
				"        # 입력 데이터에서 input_slice에 해당하는 부분을 추출하여 inputs 변수에 저장\n",
				"        inputs = features[:, self.input_slice, :]\n",
				"        \n",
				"        # 입력 데이터에서 labels_slice에 해당하는 부분을 추출하여 labels 변수에 저장\n",
				"        labels = features[:, self.labels_slice, :]\n",
				"        \n",
				"        if self.label_columns is not None:\n",
				"            labels = tf.stack( [labels[:, :, self.column_indices[name]] for name in self.label_columns], axis=-1)\n",
				"        \n",
				"        # inputs의 형태를 [배치 크기, 입력 너비, 특성 수]로 설정\n",
				"        inputs.set_shape([None, self.input_width, None])\n",
				"        \n",
				"        # labels의 형태를 [배치 크기, 라벨 너비, 특성 수]로 설정\n",
				"        labels.set_shape([None, self.label_width, None])\n",
				"\n",
				"        # inputs와 labels를 반환\n",
				"        return inputs, labels\n",
				"        \n",
				"    # (input_window, label_window) 쌍의 데이터로 만들어준다.\n",
				"    def make_dataset(self, data):\n",
				"        \n",
				"        data = np.array(data, dtype=np.float32)\n",
				"        \n",
				"       \n",
				"        ds = tf.keras.utils.timeseries_dataset_from_array(\n",
				"            data=data,  # 입력 데이터\n",
				"            targets=None,  # 타겟 데이터는 없음\n",
				"            sequence_length=self.total_window_size,  # 시퀀스 길이 설정\n",
				"            sequence_stride=1,  # 시퀀스 간의 간격 설정\n",
				"            shuffle=True,  # 데이터를 섞어서 제공\n",
				"            batch_size=32,  # 배치 크기 설정\n",
				"        )\n",
				"\n",
				"        # 생성된 데이터셋을 split_window 함수를 통해 입력과 라벨로 분리합니다.\n",
				"        ds = ds.map(self.split_window)\n",
				"\n",
				"        # 최종 데이터셋 반환\n",
				"        return ds\n",
				"    \n",
				"    @property\n",
				"    def train(self):\n",
				"        return self.make_dataset(self.train_df)\n",
				"\n",
				"    @property\n",
				"    def val(self):\n",
				"        return self.make_dataset(self.val_df)\n",
				"\n",
				"    @property\n",
				"    def test(self):\n",
				"        return self.make_dataset(self.test_df)\n",
				"\n",
				"    @property\n",
				"    def example(self):\n",
				"        \"\"\"Get and cache an example batch of `inputs, labels` for plotting.\"\"\"\n",
				"        result = getattr(self, '_example', None)\n",
				"        if result is None:\n",
				"            # No example batch was found, so get one from the `.train` dataset\n",
				"            result = next(iter(self.train))\n",
				"            # And cache it for next time\n",
				"            self._example = result\n",
				"        return result"
			]
		},
		{
			"cell_type": "markdown",
			"metadata": {},
			"source": [
				"윈도우 객체 생성"
			]
		},
		{
			"cell_type": "code",
			"execution_count": null,
			"metadata": {},
			"outputs": [],
			"source": [
				"single_step_window = WindowGenerator(name=\"1Step 1Label 1Shift 윈도우\", input_width=1, label_width=1, shift=1)\n",
				"single_step_window"
			]
		},
		{
			"cell_type": "code",
			"execution_count": null,
			"metadata": {},
			"outputs": [],
			"source": [
				"wide_window = WindowGenerator(name=\"24Step 24Label 1Shift 윈도우\", input_width=24, label_width=24, shift=1)\n",
				"wide_window"
			]
		},
		{
			"cell_type": "code",
			"execution_count": null,
			"metadata": {},
			"outputs": [],
			"source": [
				"WindowGenerator(name=\"테스트\", input_width=3, label_width=1, shift=3)"
			]
		},
		{
			"cell_type": "code",
			"execution_count": null,
			"metadata": {},
			"outputs": [],
			"source": [
				"CONV_WIDTH = 3\n",
				"conv_window = WindowGenerator(name=\"3Step 1Label 1Shift 윈도우\", input_width=CONV_WIDTH, label_width=1, shift=1)\n",
				"conv_window"
			]
		},
		{
			"cell_type": "code",
			"execution_count": null,
			"metadata": {},
			"outputs": [],
			"source": [
				"LABEL_WIDTH = 24\n",
				"INPUT_WIDTH = LABEL_WIDTH + (CONV_WIDTH - 1) # 24 + (3 - 1) = 26 (kernel 사이즈로 늘어난 윈도우 사이즈를 맞춰주기 위해 +2를 해준다)\n",
				"wide_conv_window = WindowGenerator(name=\"26Step 24Label 1Shift 윈도우\", input_width=INPUT_WIDTH, label_width=LABEL_WIDTH, shift=1)\n",
				"wide_conv_window"
			]
		},
		{
			"cell_type": "code",
			"execution_count": null,
			"metadata": {},
			"outputs": [],
			"source": [
				"wide_to_single_window = WindowGenerator(name=\"24Step 1Step 1Shift 윈도우\", input_width=LABEL_WIDTH, label_width=1, shift=1)\n",
				"wide_to_single_window"
			]
		},
		{
			"cell_type": "code",
			"execution_count": null,
			"metadata": {},
			"outputs": [],
			"source": [
				"OUT_STEPS = 24\n",
				"multi_window = WindowGenerator(name=\"24Step 24Label 24Shift 윈도우\", input_width=OUT_STEPS, label_width=OUT_STEPS, shift=OUT_STEPS)\n",
				"multi_window"
			]
		},
		{
			"cell_type": "markdown",
			"metadata": {},
			"source": [
				"윈도우 플러그인 \n",
				"* 모델이 윈도우 제너레이터를 사용할수 있도록 기능을 확장하는 믹스인 클래스"
			]
		},
		{
			"cell_type": "code",
			"execution_count": 19,
			"metadata": {},
			"outputs": [],
			"source": [
				"# 모델 옵션 설정 -> 훈련 -> 플롯 -> 평가 를 한번에 진행시키는 믹스인 클래스\n",
				"class WindowPluginMixin(object):\n",
				"  # 시각화\n",
				"    def plot(self, window, plot_col='T (degC)'):\n",
				"\n",
				"        inputs, labels = window.example # tf.data.Dataset 객체는 inputs와 labels를 튜플로 리턴한다.\n",
				"        max_n = min(3, len(inputs)) # 최대 서브차트 수를 결정한다.(최대 3개 까지)\n",
				"        plot_col_index = window.column_indices[plot_col]\n",
				"\n",
				"        fig = make_subplots(rows=1, cols=max_n, shared_xaxes=True, subplot_titles=[f'{i+1}번째 입력' for i in range(max_n)]) # 캔버스 준비\n",
				"\n",
				"        for n in range(max_n): # 차트 수만큼 반복할 것이다.\n",
				"            showlegend = (n == 0)  # 첫번째 플롯만 범례를 적용\n",
				"            # 1. 입력 타임스텝을 라인플롯으로 그린다.\n",
				"            fig.add_trace(\n",
				"                go.Scatter(x=window.input_indices, y=inputs[n, :, plot_col_index], mode='lines+markers', name='Inputs', showlegend=showlegend, marker=dict(color='blue')),\n",
				"                row=1, col=1+n\n",
				"            )\n",
				"            \n",
				"            if window.label_columns:\n",
				"                label_col_index = window.label_columns_indices.get(plot_col, None)\n",
				"            else:\n",
				"                label_col_index = plot_col_index\n",
				"\n",
				"            if label_col_index is None:\n",
				"                continue\n",
				"            \n",
				"            # 2. 검증 또는 테스트를 위한 레이블 타임스텝(훈련시에는 미래시점)을 마커로 찍어 준다.\n",
				"            fig.add_trace(\n",
				"                go.Scatter(x=window.label_indices, y=labels[n, :, label_col_index], mode='markers', name='Labels', marker=dict(color='#2ca02c', size=8), showlegend=showlegend),\n",
				"                row=1, col=n+1,\n",
				"            )\n",
				"            # 예측 실행\n",
				"            predictions = self(inputs)\n",
				"                \n",
				"            # 3. 예측값을 2번과 비교하기 위해 색상을 바꿔 함께 마커로 찍어 준다.\n",
				"            fig.add_trace(\n",
				"                go.Scatter(x=window.label_indices, y=predictions[n, :, label_col_index], mode='markers', name='Predictions', marker=dict(symbol='x', color='#ff7f0e', size=8), showlegend=showlegend),\n",
				"                row=1, col=n+1,\n",
				"            )\n",
				"        # 가로 배치할것이기 때문에 높이는 400정도만 주고, 너비는 다 쓴다.\n",
				"        fig.update_layout(height=400, title_text=f\"[{self.name}] [{window.name}] 시계열 차트\", showlegend=True, legend=dict(orientation=\"h\", x=0.5, xanchor='center', y=-0.2), xaxis_title=\"Time [h]\", yaxis_title=f'{plot_col} [normed]')  # 범례의 위치를 하단 중앙으로 설정\n",
				"        fig.show()\n",
				"        \n",
				"  # 모델 훈련\n",
				"    def execute(self, window, training=True, patience=2, MAX_EPOCHS=20):\n",
				"        self.compile(loss=tf.keras.losses.MeanSquaredError(), metrics=[tf.keras.metrics.MeanAbsoluteError()]) # 손실함수와 평가지표 설정\n",
				"        if training :\n",
				"            early_stopping = tf.keras.callbacks.EarlyStopping(monitor='val_loss', patience=patience, mode='min') # 2회이상 손실감소가 없으면 조기종료\n",
				"            self.history = self.fit(window.train, epochs=MAX_EPOCHS, validation_data=window.val, callbacks=[early_stopping]) # 훈련시작\n",
				"            clear_output() # 출력 정리\n",
				"        \n",
				"        self.plot(window)\n",
				"    \n",
				"        _, val_mae = self.evaluate(window.val) # 검증 데이터 평가 (return : [loss, mae])\n",
				"        _, test_mae = self.evaluate(window.test, verbose=0) # 테스트 데이터 평가 (return : [loss, mae])\n",
				"        \n",
				"        return pd.DataFrame({\"검증 MAE\": [val_mae], \"테스트 MAE\": [test_mae]}, index=[self.name])\n",
				"        "
			]
		},
		{
			"cell_type": "markdown",
			"metadata": {},
			"source": [
				"___\n",
				"### 싱글스텝 예측 모델\n",
				"___"
			]
		},
		{
			"cell_type": "markdown",
			"metadata": {},
			"source": [
				"베이스라인 모델"
			]
		},
		{
			"cell_type": "code",
			"execution_count": 20,
			"metadata": {},
			"outputs": [],
			"source": [
				"class Baseline(tf.keras.Model, WindowPluginMixin):\n",
				"  def __init__(self, label_index=None, name=\"Baseline\"):\n",
				"    super().__init__()\n",
				"    self.label_index = label_index\n",
				"    self.name = name\n",
				"\n",
				"  def call(self, inputs):\n",
				"    if self.label_index is None:\n",
				"      return inputs\n",
				"    result = inputs[:, :, self.label_index] # 레이블 값을 리턴\n",
				"    return result[:, :, tf.newaxis]"
			]
		},
		{
			"cell_type": "code",
			"execution_count": null,
			"metadata": {},
			"outputs": [],
			"source": [
				"baseline = Baseline()\n",
				"baseline_single_eval = baseline.execute(single_step_window)\n",
				"baseline_single_eval"
			]
		},
		{
			"cell_type": "markdown",
			"metadata": {},
			"source": [
				"FC 모델"
			]
		},
		{
			"cell_type": "code",
			"execution_count": 22,
			"metadata": {},
			"outputs": [],
			"source": [
				"class FullyConnectedModel(tf.keras.Model, WindowPluginMixin):\n",
				"    def __init__(self, units=[64, 64], name='FC-Model'):\n",
				"        super().__init__()\n",
				"        # 모델링\n",
				"        self.smodel = tf.keras.Sequential()\n",
				"        for unit in units :\n",
				"            self.smodel.add(tf.keras.layers.Dense(unit,  activation='relu'))\n",
				"        self.smodel.add(tf.keras.layers.Dense(units=1))\n",
				"        self.name = name\n",
				"\n",
				"    def call(self, inputs):\n",
				"        return self.smodel(inputs)"
			]
		},
		{
			"cell_type": "code",
			"execution_count": null,
			"metadata": {},
			"outputs": [],
			"source": [
				"fc = FullyConnectedModel()\n",
				"fc_eval = fc.execute(wide_to_single_window)\n",
				"fc_eval"
			]
		},
		{
			"cell_type": "markdown",
			"metadata": {},
			"source": [
				"컨볼루셔널 FC 모델"
			]
		},
		{
			"cell_type": "code",
			"execution_count": 24,
			"metadata": {},
			"outputs": [],
			"source": [
				"class ConvFullyConnectedModel(tf.keras.Model, WindowPluginMixin):\n",
				"    def __init__(self, units=[64, 64], name='Conv-FC-Model'):\n",
				"        super().__init__()\n",
				"        # 모델링\n",
				"        self.smodel = tf.keras.Sequential()\n",
				"         # Flatten 층 추가 : 입력(time, features)을 (time x features)로 펼쳐준다. 2D -> 1D\n",
				"        self.smodel.add(tf.keras.layers.Flatten())\n",
				"        \n",
				"        # 기존 Dense 히든 레이어\n",
				"        for unit in units :\n",
				"            self.smodel.add(tf.keras.layers.Dense(unit,  activation='relu'))\n",
				"        self.smodel.add(tf.keras.layers.Dense(units=1))\n",
				"        \n",
				"        #  Reshape 층 추가 : 단일 예측을 위해 (outputs) => (1, outputs) 1D를 2D로 변환해줌\n",
				"        self.smodel.add(tf.keras.layers.Reshape([1, -1])) \n",
				"        self.name = name\n",
				"\n",
				"    def call(self, inputs):\n",
				"        return self.smodel(inputs)"
			]
		},
		{
			"cell_type": "code",
			"execution_count": null,
			"metadata": {},
			"outputs": [],
			"source": [
				"conv_fc = ConvFullyConnectedModel()\n",
				"conv_fc_eval = conv_fc.execute(conv_window)\n",
				"conv_fc_eval"
			]
		},
		{
			"cell_type": "code",
			"execution_count": null,
			"metadata": {},
			"outputs": [],
			"source": [
				"try :\n",
				"    conv_fc.execute(wide_window)\n",
				"except Exception as e :\n",
				"    print(e)\n",
				"# 이 에러는 입력 데이터의 형태가 모델이 기대하는 형태와 맞지 않아서 발생한다.\n",
				"# 모델의 Dense 레이어는 입력 데이터의 마지막 축(axis -1)이 57(19 x 3)이길 기대하지만,\n",
				"# wide_window는 (None, 24, 19) 형태로 입력 되고 있기 때문"
			]
		},
		{
			"cell_type": "markdown",
			"metadata": {},
			"source": [
				"CNN 모델"
			]
		},
		{
			"cell_type": "code",
			"execution_count": 26,
			"metadata": {},
			"outputs": [],
			"source": [
				"class ConvModel(tf.keras.Model, WindowPluginMixin):\n",
				"    def __init__(self, units=[32, 32, 32], name='Conv-Model'):\n",
				"        super().__init__()\n",
				"        # 모델링\n",
				"        self.smodel = tf.keras.Sequential()\n",
				"        # Conv1D 레이어 추가 (여러 타입 스텝 처리 가능)\n",
				"        self.smodel.add(\n",
				"            tf.keras.layers.Conv1D(\n",
				"                filters=units[0],\n",
				"                kernel_size=(CONV_WIDTH,), # CONV_WIDTH = 3 으로 정의했었다.\n",
				"                activation='relu'\n",
				"            )\n",
				"        )\n",
				"        \n",
				"        # 기존 Dense 히든 레이어\n",
				"        for unit in units[1:] :\n",
				"            self.smodel.add(tf.keras.layers.Dense(unit,  activation='relu'))\n",
				"        self.smodel.add(tf.keras.layers.Dense(units=1))\n",
				"        \n",
				"        # 컨볼루션이 출력에서 시간 축을 유지하므로 Reshape 레이어가 필요 없음\n",
				"        # self.smodel.add(tf.keras.layers.Reshape([1, -1])) \n",
				"        self.name = name\n",
				"\n",
				"    def call(self, inputs):\n",
				"        return self.smodel(inputs)"
			]
		},
		{
			"cell_type": "code",
			"execution_count": null,
			"metadata": {},
			"outputs": [],
			"source": [
				"conv = ConvModel()\n",
				"conv_eval = conv.execute(conv_window)\n",
				"conv_eval"
			]
		},
		{
			"cell_type": "code",
			"execution_count": null,
			"metadata": {},
			"outputs": [],
			"source": [
				"single_eval_df = pd.concat([baseline_single_eval, fc_eval, conv_fc_eval, conv_eval])\n",
				"print(single_eval_df)\n",
				"single_eval_df.iplot(kind='bar', title=\"싱글스텝 예측 모델 성능 비교\")"
			]
		},
		{
			"cell_type": "markdown",
			"metadata": {},
			"source": [
				"___\n",
				"### Shift1 멀티스텝 예측 모델\n",
				"___"
			]
		},
		{
			"cell_type": "markdown",
			"metadata": {},
			"source": [
				"베이스라인 모델"
			]
		},
		{
			"cell_type": "code",
			"execution_count": null,
			"metadata": {},
			"outputs": [],
			"source": [
				"class Baseline(tf.keras.Model, WindowPluginMixin):\n",
				"  def __init__(self, label_index=None, name='Baseline'):\n",
				"    super().__init__()\n",
				"    self.label_index = label_index\n",
				"    self.name = name\n",
				"\n",
				"  def call(self, inputs):\n",
				"    if self.label_index is None:\n",
				"      return inputs\n",
				"    result = inputs[:, :, self.label_index] # 레이블 값을 리턴\n",
				"    return result[:, :, tf.newaxis]"
			]
		},
		{
			"cell_type": "code",
			"execution_count": null,
			"metadata": {},
			"outputs": [],
			"source": [
				"base_line_wide_window = WindowGenerator(name=\"24Step 24Label 1Shift 윈도우\", input_width=24, label_width=24, shift=1, label_columns=None)\n",
				"base_line_wide_window"
			]
		},
		{
			"cell_type": "code",
			"execution_count": null,
			"metadata": {},
			"outputs": [],
			"source": [
				"baseline = Baseline()\n",
				"baseline_single_eval = baseline.execute(base_line_wide_window)\n",
				"baseline_single_eval"
			]
		},
		{
			"cell_type": "markdown",
			"metadata": {},
			"source": [
				"선형 모델"
			]
		},
		{
			"cell_type": "code",
			"execution_count": 29,
			"metadata": {},
			"outputs": [],
			"source": [
				"class LinearModel(tf.keras.Model, WindowPluginMixin):\n",
				"    def __init__(self, name='LinearModel'):\n",
				"        super().__init__()\n",
				"        self.dense = tf.keras.layers.Dense(units=1)\n",
				"        self.name = name\n",
				"\n",
				"    def call(self, inputs):\n",
				"        return self.dense(inputs)"
			]
		},
		{
			"cell_type": "code",
			"execution_count": null,
			"metadata": {},
			"outputs": [],
			"source": [
				"linear = LinearModel()\n",
				"linear_wide_eval = linear.execute(wide_window)\n",
				"linear_wide_eval"
			]
		},
		{
			"cell_type": "markdown",
			"metadata": {},
			"source": [
				"* Check Feature Importance"
			]
		},
		{
			"cell_type": "code",
			"execution_count": null,
			"metadata": {},
			"outputs": [],
			"source": [
				"# 선형 모델은 Feature Importance 확인이 가능하다. 모든 모델링의 시작전에 선형모델을 우선 진행하는 가장 이유중 하나는 설명력이다.\n",
				"weights = linear.layers[0].kernel.numpy().reshape(-1)\n",
				"xticks_labels = list(df.columns)\n",
				"\n",
				"fig = px.bar(x=xticks_labels, y=weights, labels={'x': '특성 변수', 'y': '가중치'}, title='Feature Importance')\n",
				"fig.show()"
			]
		},
		{
			"cell_type": "code",
			"execution_count": null,
			"metadata": {},
			"outputs": [],
			"source": [
				"mul_conv_wide_eval = mul_conv.execute(wide_conv_window)\n",
				"mul_conv_wide_eval"
			]
		},
		{
			"cell_type": "markdown",
			"metadata": {},
			"source": [
				"LSTM 모델"
			]
		},
		{
			"cell_type": "code",
			"execution_count": null,
			"metadata": {},
			"outputs": [],
			"source": [
				"class LSTMModel(tf.keras.Model, WindowPluginMixin):\n",
				"    def __init__(self, return_sequences=True, name='LSTM-Model'):\n",
				"        super().__init__()\n",
				"        # 모델링\n",
				"        self.smodel = tf.keras.Sequential()\n",
				"        # LSTM 레이어 추가 (여러 타입 스텝 처리 가능) [batch, time, features] => [batch, time, lstm_units]\n",
				"        self.smodel.add(\n",
				"            tf.keras.layers.LSTM(32, return_sequences=return_sequences), # return_sequences\n",
				"        )\n",
				"        # 출력층\n",
				"        self.smodel.add(tf.keras.layers.Dense(units=1)) # 마지막 차원(즉, label의 크기)을 1로 설정\n",
				"        # sequence 모델은 출력층에서 시스를 유지하고, single 모델일 경우는, 시퀀스 층이 없기 때문에, 이를 동일하게 맞춰준다. (batch, time, 1)  => (batch, time, 1) => or (batch, 1) => (None, time, 1)\n",
				"        self.smodel.add(tf.keras.layers.Reshape((-1, 1)))\n",
				"        \n",
				"        self.name = name\n",
				"\n",
				"    def call(self, inputs):\n",
				"        return self.smodel(inputs)"
			]
		},
		{
			"cell_type": "markdown",
			"metadata": {},
			"source": [
				"* 멀티스텝 예측 LSTM모델"
			]
		},
		{
			"cell_type": "code",
			"execution_count": null,
			"metadata": {},
			"outputs": [],
			"source": [
				"# 입력t + 1 타임스텝부터 label크기만큼의 모든 타임스텝을 예측하는 모델 (초기 시퀀스는 성능을 기대하기 어렵다.)\n",
				"lstm = LSTMModel(name='LSTM-Model-seq')\n",
				"lstm_eval = lstm.execute(wide_window)\n",
				"lstm_eval"
			]
		},
		{
			"cell_type": "markdown",
			"metadata": {},
			"source": [
				" * 단일스텝 예측 LSTM 모델"
			]
		},
		{
			"cell_type": "code",
			"execution_count": null,
			"metadata": {},
			"outputs": [],
			"source": [
				"# 입력 타임스텝 이후 단일 타임스텝만 예측하는 모델\n",
				"lstm_none_seq = LSTMModel(return_sequences=False, name='LSTM-Model-single')\n",
				"lstm_none_seq_evel = lstm_none_seq.execute(wide_to_single_window)\n",
				"lstm_none_seq_evel"
			]
		},
		{
			"cell_type": "code",
			"execution_count": null,
			"metadata": {},
			"outputs": [],
			"source": [
				"mul_shft1_eval_df = pd.concat([linear_wide_eval, mul_conv_wide_eval, lstm_eval])\n",
				"mul_shft1_eval_df.iplot(kind=\"bar\", title=\"Shift1 멀티스텝 예측 모델 성능 비교\")"
			]
		},
		{
			"cell_type": "code",
			"execution_count": null,
			"metadata": {},
			"outputs": [],
			"source": [
				"single_eval_df = pd.concat([baseline_single_eval, fc_wide_eval, mul_fc_conv_eval, mul_conv_eval, lstm_none_seq_evel])\n",
				"print(single_eval_df)\n",
				"single_eval_df.iplot(kind='bar', title=\"싱글스텝 예측 모델 성능 비교(LSTM 포함)\")"
			]
		},
		{
			"cell_type": "markdown",
			"metadata": {},
			"source": [
				"### #퀴즈. 24개 타입스텝 입력으로 그 다음 12개 타임스텝을 예측하기 위한 윈도우 제네레이터와 모델을 설계하고, 결과를 확인해보세요.\n",
				"* 조건1 : LSTM 계열을 사용해보세요."
			]
		},
		{
			"cell_type": "code",
			"execution_count": null,
			"metadata": {},
			"outputs": [],
			"source": [
				"# 윈도우 제네레이터 객체 생성"
			]
		},
		{
			"cell_type": "code",
			"execution_count": null,
			"metadata": {},
			"outputs": [],
			"source": [
				"# 모델 클래스 생성"
			]
		},
		{
			"cell_type": "code",
			"execution_count": null,
			"metadata": {},
			"outputs": [],
			"source": [
				"# 결과 확인"
			]
		},
		{
			"cell_type": "code",
			"execution_count": null,
			"metadata": {},
			"outputs": [],
			"source": []
		},
		{
			"cell_type": "markdown",
			"metadata": {},
			"source": [
				"___\n",
				"### ❗️❗️ 매운맛 모델 (Feedback 모델)\n",
				"* 이전에 배운 모델을은 모두 싱글샷 모델입니다. 한번에 모든 타임스텝의 값을 예측하기 때문입니다.\n",
				"* feedback 모델은 타임스텝을 하나씩 예측하면서 그 내용을 피드백받아 순차적으로 예측합니다.\n",
				"___"
			]
		},
		{
			"cell_type": "markdown",
			"metadata": {},
			"source": [
				"멀티스텝 베이스라인 모델 (Reapater)\n",
				"* 단순히 입력타입스텝 값을 반복합니다."
			]
		},
		{
			"cell_type": "code",
			"execution_count": null,
			"metadata": {},
			"outputs": [],
			"source": [
				"OUT_STEPS = 24\n",
				"baseline_muiti_window = WindowGenerator(name=\"24Step 24Label 24Step 윈도우 \", input_width=OUT_STEPS, label_width=OUT_STEPS, shift=OUT_STEPS, label_columns=None)\n",
				"baseline_muiti_window"
			]
		},
		{
			"cell_type": "code",
			"execution_count": null,
			"metadata": {},
			"outputs": [],
			"source": [
				"class MultiStepBaselineModel(tf.keras.Model, WindowPluginMixin):\n",
				"    def __init__(self):\n",
				"        super().__init__()\n",
				"        self.name = 'Multi-BaselineModel'\n",
				"    def call(self, inputs):\n",
				"        return inputs\n",
				"    \n",
				"mul_baseline = MultiStepBaselineModel()\n",
				"mul_baseline_eval = mul_baseline.execute(baseline_muiti_window, training=False)\n",
				"mul_baseline_eval"
			]
		},
		{
			"cell_type": "markdown",
			"metadata": {},
			"source": [
				"Feedback 모델"
			]
		},
		{
			"cell_type": "code",
			"execution_count": 32,
			"metadata": {},
			"outputs": [],
			"source": [
				"class FeedBackModel(tf.keras.Model, WindowPluginMixin):\n",
				"    def __init__(self, units, out_steps=OUT_STEPS, name='LSTM-FeedBack-Model'):\n",
				"        super().__init__()\n",
				"        self.out_steps = out_steps\n",
				"        self.units = units\n",
				"         # 레이어 준비 (순환하면서 훈련하고 각 타임스텝의 훈련 상태값을 그다음 레이어에 활용해야하기 때문에 모델구성을 모델 훈련/예측 단계에서 순차진행한다.)\n",
				"        self.lstm_cell = tf.keras.layers.LSTMCell(units)\n",
				"        self.lstm_rnn = tf.keras.layers.RNN(self.lstm_cell, return_state=True)\n",
				"        self.fc = tf.keras.layers.Dense(19) # 입력데이터가 19개의 특성을 갖고 있으므로 배치수 x 특성수 로 변환하는 FC19 층을 준비한다.\n",
				"        self.output_layer = tf.keras.layers.Dense(1) # 멀티레이블 에측이 아니므로 FC1 층을 하나더 준비한다.\n",
				"\n",
				"        self.name = name\n",
				"\n",
				"    # 모델링 및 예측로직 구성\n",
				"    def call(self, inputs, training=None):\n",
				"        # 예측값을 저장할 리스트 초기화\n",
				"        predictions = []\n",
				"        # 초기 예측값과 상태를 얻음\n",
				"        x, *states = self.lstm_rnn(inputs)\n",
				"        x = self.fc(x)\n",
				"        prediction = self.output_layer(x)\n",
				"        predictions.append(prediction)\n",
				"\n",
				"        # out_steps - 1 만큼 반복하여 예측값 생성\n",
				"        for _ in range(1, self.out_steps):\n",
				"            # LSTM 셀을 통해 새로운 상태와 예측값을 얻음\n",
				"            x, states = self.lstm_cell(x, states=states, training=training) # training 매개변수는 훈련시에만 True가 되고, 테스트시에는 False가 된다.\n",
				"            # 완전 연결 층을 통해 최종 예측값 생성\n",
				"            x = self.fc(x)\n",
				"            prediction = self.output_layer(x)\n",
				"            # 예측값을 리스트에 추가\n",
				"            predictions.append(prediction)\n",
				"            \n",
				"        # 예측값 리스트를 텐서로 변환\n",
				"        predictions = tf.stack(predictions)\n",
				"        # 예측값 텐서의 차원 순서를 변경\n",
				"        predictions = tf.transpose(predictions, [1, 0, 2])\n",
				"        # 최종 예측값 반환\n",
				"        return predictions\n"
			]
		},
		{
			"cell_type": "code",
			"execution_count": null,
			"metadata": {},
			"outputs": [],
			"source": [
				"feedback = FeedBackModel(units=32, out_steps=OUT_STEPS)\n",
				"feedback_eval = feedback.execute(multi_window)\n",
				"feedback_eval"
			]
		},
		{
			"cell_type": "markdown",
			"metadata": {},
			"source": [
				"싱글샷 선형모델 (성능 비교를 위해)"
			]
		},
		{
			"cell_type": "code",
			"execution_count": null,
			"metadata": {},
			"outputs": [],
			"source": [
				"class MultiStepLinearModel(tf.keras.Model, WindowPluginMixin):\n",
				"    def __init__(self, name='SingleShot-LinearModel'):\n",
				"        super().__init__()\n",
				"        self.smodel = tf.keras.Sequential()\n",
				"        self.smodel.add(tf.keras.layers.Lambda(lambda x: x[:, -1:, :], name='lambda_layer'))\n",
				"        self.smodel.add(tf.keras.layers.Dense(OUT_STEPS, kernel_initializer=tf.initializers.zeros(), name='dense_layer'))\n",
				"        self.smodel.add(tf.keras.layers.Reshape([OUT_STEPS, 1], name='reshape_layer'))\n",
				"        self.name = name\n",
				"        \n",
				"    def call(self, inputs) :\n",
				"        return self.smodel(inputs)"
			]
		},
		{
			"cell_type": "code",
			"execution_count": null,
			"metadata": {},
			"outputs": [],
			"source": []
		},
		{
			"cell_type": "code",
			"execution_count": null,
			"metadata": {},
			"outputs": [],
			"source": [
				"mul_linear_model = MultiStepLinearModel()\n",
				"mul_linear_model_eval = mul_linear_model.execute(multi_window)\n",
				"mul_linear_model_eval"
			]
		},
		{
			"cell_type": "markdown",
			"metadata": {},
			"source": [
				"* 멀티 스텝 성능 비교"
			]
		},
		{
			"cell_type": "code",
			"execution_count": null,
			"metadata": {},
			"outputs": [],
			"source": [
				"mul_eval_df = pd.concat([mul_baseline_eval, mul_linear_model_eval, feedback_eval])\n",
				"print(mul_eval_df)\n",
				"mul_eval_df.iplot(kind='bar')"
			]
		}
	],
	"metadata": {
		"kernelspec": {
			"display_name": "Python 3",
			"language": "python",
			"name": "python3"
		},
		"language_info": {
			"codemirror_mode": {
				"name": "ipython",
				"version": 3
			},
			"file_extension": ".py",
			"mimetype": "text/x-python",
			"name": "python",
			"nbconvert_exporter": "python",
			"pygments_lexer": "ipython3",
			"version": "3.12.3"
		}
	},
	"nbformat": 4,
	"nbformat_minor": 2
}
