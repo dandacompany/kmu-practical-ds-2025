{
 "cells": [
  {
   "cell_type": "code",
   "execution_count": 1,
   "metadata": {},
   "outputs": [
    {
     "data": {
      "text/html": [
       "        <script type=\"text/javascript\">\n",
       "        window.PlotlyConfig = {MathJaxConfig: 'local'};\n",
       "        if (window.MathJax && window.MathJax.Hub && window.MathJax.Hub.Config) {window.MathJax.Hub.Config({SVG: {font: \"STIX-Web\"}});}\n",
       "        if (typeof require !== 'undefined') {\n",
       "        require.undef(\"plotly\");\n",
       "        requirejs.config({\n",
       "            paths: {\n",
       "                'plotly': ['https://cdn.plot.ly/plotly-2.32.0.min']\n",
       "            }\n",
       "        });\n",
       "        require(['plotly'], function(Plotly) {\n",
       "            window._Plotly = Plotly;\n",
       "        });\n",
       "        }\n",
       "        </script>\n",
       "        "
      ]
     },
     "metadata": {},
     "output_type": "display_data"
    }
   ],
   "source": [
    "import plotly.express as px\n",
    "import plotly.graph_objects as go\n",
    "from plotly.subplots import make_subplots\n",
    "import chart_studio.plotly as py\n",
    "import cufflinks as cf\n",
    "cf.go_offline(connected=True)\n",
    "import warnings\n",
    "warnings.filterwarnings('ignore')"
   ]
  },
  {
   "cell_type": "code",
   "execution_count": 4,
   "metadata": {},
   "outputs": [
    {
     "data": {
      "text/html": [
       "<div>\n",
       "<style scoped>\n",
       "    .dataframe tbody tr th:only-of-type {\n",
       "        vertical-align: middle;\n",
       "    }\n",
       "\n",
       "    .dataframe tbody tr th {\n",
       "        vertical-align: top;\n",
       "    }\n",
       "\n",
       "    .dataframe thead th {\n",
       "        text-align: right;\n",
       "    }\n",
       "</style>\n",
       "<table border=\"1\" class=\"dataframe\">\n",
       "  <thead>\n",
       "    <tr style=\"text-align: right;\">\n",
       "      <th></th>\n",
       "      <th>출생아수</th>\n",
       "      <th>사망자수</th>\n",
       "      <th>혼인건수</th>\n",
       "      <th>이혼건수</th>\n",
       "    </tr>\n",
       "  </thead>\n",
       "  <tbody>\n",
       "    <tr>\n",
       "      <th>1981-01-01</th>\n",
       "      <td>88151.0</td>\n",
       "      <td>NaN</td>\n",
       "      <td>49285.0</td>\n",
       "      <td>1827.0</td>\n",
       "    </tr>\n",
       "    <tr>\n",
       "      <th>1981-02-01</th>\n",
       "      <td>93556.0</td>\n",
       "      <td>NaN</td>\n",
       "      <td>34481.0</td>\n",
       "      <td>1687.0</td>\n",
       "    </tr>\n",
       "    <tr>\n",
       "      <th>1981-03-01</th>\n",
       "      <td>70421.0</td>\n",
       "      <td>NaN</td>\n",
       "      <td>47843.0</td>\n",
       "      <td>2094.0</td>\n",
       "    </tr>\n",
       "    <tr>\n",
       "      <th>1981-04-01</th>\n",
       "      <td>66093.0</td>\n",
       "      <td>NaN</td>\n",
       "      <td>35956.0</td>\n",
       "      <td>2189.0</td>\n",
       "    </tr>\n",
       "    <tr>\n",
       "      <th>1981-05-01</th>\n",
       "      <td>68940.0</td>\n",
       "      <td>NaN</td>\n",
       "      <td>35769.0</td>\n",
       "      <td>2059.0</td>\n",
       "    </tr>\n",
       "  </tbody>\n",
       "</table>\n",
       "</div>"
      ],
      "text/plain": [
       "               출생아수 사망자수     혼인건수    이혼건수\n",
       "1981-01-01  88151.0  NaN  49285.0  1827.0\n",
       "1981-02-01  93556.0  NaN  34481.0  1687.0\n",
       "1981-03-01  70421.0  NaN  47843.0  2094.0\n",
       "1981-04-01  66093.0  NaN  35956.0  2189.0\n",
       "1981-05-01  68940.0  NaN  35769.0  2059.0"
      ]
     },
     "execution_count": 4,
     "metadata": {},
     "output_type": "execute_result"
    }
   ],
   "source": [
    "# 데이터 로드\n",
    "census = pd.read_csv('./Data/korean-births-stats.csv', index_col=0, parse_dates=True)\n",
    "census.replace('-', np.nan, inplace=True)\n",
    "census.index.freq = 'MS'\n",
    "census.head()"
   ]
  },
  {
   "cell_type": "markdown",
   "metadata": {},
   "source": [
    "___\n",
    "## 정상성(Stationarity) 분석\n",
    "___\n"
   ]
  },
  {
   "cell_type": "markdown",
   "metadata": {},
   "source": [
    "* 정의\n",
    "  * 시계열 데이터가 평균과 분산이 일정한 두 점 사이에서 변하지 않으면, 이를 정상성(Stationary)이 있다고 함.\n",
    "\n",
    "  * 즉, 어느 시점에서 데이터를 관측하더라도 결과가 동일해야 함.\n",
    "\n",
    "  * 시계열 모델링, 특히 ARIMA 모델링에서 매우 중요한 가정"
   ]
  },
  {
   "cell_type": "markdown",
   "metadata": {},
   "source": [
    "* 정상성 검정 방법\n",
    "  \n",
    "  * <font color=\"yellow\" style=\"font-size:1.2em\">[증강 디키-풀러 검정(ADF Test)](https://en.wikipedia.org/wiki/Augmented_Dickey-Fuller_test)</font>\n",
    "  \n",
    "  * <font color=\"yellow\" style=\"font-size:1.2em\">[KPSS 검정](https://en.wikipedia.org/wiki/KPSS_test)</font>\n",
    "\n"
   ]
  },
  {
   "cell_type": "markdown",
   "metadata": {},
   "source": [
    "* 비정상 데이터에서 정상화 방법\n",
    "  \n",
    "  * 차분(Differencing)\n",
    "  \n",
    "  * 로그 변환(Log Transformation)\n",
    "  * 제곱근 변환(Square Root Transformation)\n",
    "  * 추세 제거(Detrending)\n",
    "  * 계절성 제거(Deseasonalizing)"
   ]
  },
  {
   "cell_type": "code",
   "execution_count": 3,
   "metadata": {},
   "outputs": [],
   "source": [
    "import pandas as pd\n",
    "import numpy as np\n",
    "from statsmodels.tsa.stattools import adfuller, kpss"
   ]
  },
  {
   "cell_type": "markdown",
   "metadata": {},
   "source": [
    "정상성 검정"
   ]
  },
  {
   "cell_type": "code",
   "execution_count": 21,
   "metadata": {},
   "outputs": [],
   "source": [
    "# helper 함수 정의\n",
    "def adf_test(series):\n",
    "    result = adfuller(series)\n",
    "    print(f'- ADF 통계량: {result[0]}')\n",
    "    print(f'- p-value: {result[1]} ({'정상성 있음' if result[1] < 0.05 else '정상성 없음'})')\n",
    "    print(f'- 지연수: {result[2]}')\n",
    "    print(f'- 관찰수: {result[3]}')\n",
    "    print('- 임계값:')\n",
    "    for key, value in result[4].items():\n",
    "        print('\\t%s: %.3f' % (key, value))\n",
    "    \n",
    "\n",
    "def kpss_test(series, **kw):\n",
    "    statistic, p_value, n_lags, critical_values = kpss(series, **kw)\n",
    "    print(f'KPSS 통계량: {statistic}')\n",
    "    print(f'p-value: {p_value} ({'정상성 있음' if p_value > 0.05 else '정상성 없음'})') \n",
    "    # KPSS에서는 p-value가 0.05보다 크면 정상성이 있음 (귀무가설이 데이터에 정상성이 있다고 가정함. ADF에서의 반대)\n",
    "    print(f'지연수: {n_lags}')\n",
    "    print('임계값:')\n",
    "    for key, value in critical_values.items():\n",
    "        print(f' {key} : {value}')\n"
   ]
  },
  {
   "cell_type": "code",
   "execution_count": 17,
   "metadata": {},
   "outputs": [
    {
     "name": "stdout",
     "output_type": "stream",
     "text": [
      "- ADF 통계량: -1.3569591663490597\n",
      "- p-value: 0.602727803155678 (정상성 없음)\n",
      "- 지연수: 13\n",
      "- 관찰수: 505\n",
      "- 임계값:\n",
      "\t1%: -3.443\n",
      "\t5%: -2.867\n",
      "\t10%: -2.570\n"
     ]
    }
   ],
   "source": [
    "adf_test(census['출생아수'])"
   ]
  },
  {
   "cell_type": "code",
   "execution_count": 22,
   "metadata": {},
   "outputs": [
    {
     "name": "stdout",
     "output_type": "stream",
     "text": [
      "KPSS 통계량: 2.974137150518698\n",
      "p-value: 0.01 (정상성 없음)\n",
      "지연수: 15\n",
      "임계값:\n",
      " 10% : 0.347\n",
      " 5% : 0.463\n",
      " 2.5% : 0.574\n",
      " 1% : 0.739\n"
     ]
    },
    {
     "name": "stderr",
     "output_type": "stream",
     "text": [
      "/var/folders/5y/vwfpdbc96lb5kxd7pmfd9rl00000gn/T/ipykernel_10519/2490681931.py:14: InterpolationWarning:\n",
      "\n",
      "The test statistic is outside of the range of p-values available in the\n",
      "look-up table. The actual p-value is smaller than the p-value returned.\n",
      "\n",
      "\n"
     ]
    }
   ],
   "source": [
    "kpss_test(census['출생아수'])\n"
   ]
  },
  {
   "cell_type": "markdown",
   "metadata": {},
   "source": [
    "___\n",
    "## 시계열 인과성 분석\n",
    "___"
   ]
  },
  {
   "cell_type": "markdown",
   "metadata": {},
   "source": [
    "### [Granger Causality Test(그랜저 인과성 테스트)](https://en.wikipedia.org/wiki/Granger_causality)\n",
    "\n",
    "\n",
    "#### 기본 개념\n",
    "\n",
    "* 그랜저 인과관계 테스트는 한 시계열이 다른 시계열을 예측하는 데 유용한지 판단하는 가설 검정.\n",
    "\n",
    "* 시계열 간의 병렬적인 상관관계를 측정하는 것은 난이도가 쉬움.\n",
    "\n",
    "* 그랜저 인과성 테스트는, 첫 번째 시계열의 변화가 두 번째 시계열의 행동에 영향을 미쳤다는 인과관계를 추정하게 도와줌. \n",
    "\n",
    "* 특정 시계열 데이터의 변화를 보고, 시차를 두고 상관성을 보이는 시계열 데이터의 변화 예측에 매우 유용함.\n",
    "\n",
    "* 다른 시계열 데이터에 시차적 영향을 미치는 시계열을 그랜저 원인(Granger-causes)이라고 일컬음.\n",
    "\n",
    "#### 절차\n",
    "\n",
    "1. **데이터 준비**: 두 개의 시계열 데이터 $ X $와 $ Y $를 준비.\n",
    "\n",
    "2. **모델 설정**:\n",
    "   - **모델 1**: $ Y $의 과거 값들로 $ Y $를 예측.\n",
    "   - **모델 2**: $ Y $의 과거 값들과 $ X $의 과거 값들로 $ Y $를 예측\n",
    "\n",
    "3. **모델 비교**: 두 모델의 예측 성능을 비교하고, 만약 모델 2가 모델 1보다 $ Y $를 더 잘 예측한다면, $ X $는 $ Y $를 Granger 원인한다고 결론 지음\n",
    "\n",
    "#### 예시\n",
    "\n",
    "- $ X $: 어떤 경제 지표 (예: 금리)\n",
    "- $ Y $: 다른 경제 지표 (예: 주식 시장 지수)\n",
    "\n",
    "1. **모델 1**: 주식 시장 지수의 과거 값들로 주식 시장 지수를 예측\n",
    "2. **모델 2**: 주식 시장 지수의 과거 값들과 금리의 과거 값들로 주식 시장 지수를 예측\n",
    "\n",
    "두 모델의 예측 성능을 비교하여 모델 2가 더 나은 예측을 한다면, 금리는 주식 시장 지수를 Granger 원인한다고 결론 내림\n",
    "\n",
    "#### 한계\n",
    "  - 실제 인과 관계를 보장하지 않습니다. 단지 통계적 예측 가능성을 평가합니다.\n",
    "  - 데이터의 시차 선택에 따라 결과가 달라질 수 있습니다.\n",
    "  - 외부 요인이나 변수들을 고려하지 않습니다."
   ]
  },
  {
   "cell_type": "code",
   "execution_count": 23,
   "metadata": {},
   "outputs": [
    {
     "name": "stdout",
     "output_type": "stream",
     "text": [
      "\n",
      "Granger Causality\n",
      "number of lags (no zero) 1\n",
      "ssr based F test:         F=7.5860  , p=0.0331  , df_denom=6, df_num=1\n",
      "ssr based chi2 test:   chi2=11.3789 , p=0.0007  , df=1\n",
      "likelihood ratio test: chi2=7.3555  , p=0.0067  , df=1\n",
      "parameter F test:         F=7.5860  , p=0.0331  , df_denom=6, df_num=1\n",
      "\n",
      "Granger Causality\n",
      "number of lags (no zero) 2\n",
      "ssr based F test:         F=10.6633 , p=0.0433  , df_denom=3, df_num=2\n",
      "ssr based chi2 test:   chi2=56.8710 , p=0.0000  , df=2\n",
      "likelihood ratio test: chi2=16.7437 , p=0.0002  , df=2\n",
      "parameter F test:         F=10.6633 , p=0.0433  , df_denom=3, df_num=2\n",
      "Lag 1:\n",
      "  ssr_ftest: 0.0331043855296036\n",
      "  ssr_chi2test: 0.0007428128855561525\n",
      "  lrtest: 0.006685794353476851\n",
      "  params_ftest: 0.033104385529602307\n",
      "Lag 2:\n",
      "  ssr_ftest: 0.04330713116890235\n",
      "  ssr_chi2test: 4.4732818682855617e-13\n",
      "  lrtest: 0.00023129084400794122\n",
      "  params_ftest: 0.04330713116890107\n"
     ]
    }
   ],
   "source": [
    "import pandas as pd\n",
    "from statsmodels.tsa.stattools import grangercausalitytests\n",
    "\n",
    "# 예시 데이터 생성\n",
    "data = {\n",
    "    '금리': [2.5, 2.7, 2.8, 2.9, 3.0, 3.1, 3.2, 3.3, 3.4, 3.5],\n",
    "    '주식시장지수': [100, 102, 104, 103, 105, 107, 106, 108, 110, 111]\n",
    "}\n",
    "df = pd.DataFrame(data)\n",
    "\n",
    "# 그랜저 인과성 테스트 수행\n",
    "max_lag = 2\n",
    "test_result = grangercausalitytests(df[['주식시장지수', '금리']], max_lag, verbose=True)\n",
    "\n",
    "# 결과 출력\n",
    "for lag, result in test_result.items():\n",
    "    print(f\"Lag {lag}:\")\n",
    "    for test, value in result[0].items():\n",
    "        print(f\"  {test}: {value[1]}\")"
   ]
  },
  {
   "cell_type": "markdown",
   "metadata": {},
   "source": [
    "#### 해석\n",
    "\n",
    "- **시차 1 4가지 테스트 **:\n",
    "  - ssr based F test: F=7.5860, p=0.0331\n",
    "  \n",
    "  - ssr based chi2 test: chi2=11.3789, p=0.0007\n",
    "  - likelihood ratio test: chi2=7.3555, p=0.0067\n",
    "  - parameter F test: F=7.5860, p=0.0331\n",
    "  - **해석**: 모든 테스트에서 p-값이 유의수준 0.05보다 작으므로, 금리가 주식시장지수에 Granger 원인이 될 수 있음\n",
    "\n",
    "- **시차 2 4가지 테스트**:\n",
    "  - ssr based F test: F=10.6633, p=0.0433\n",
    "  \n",
    "  - ssr based chi2 test: chi2=56.8710, p=0.0000\n",
    "  - likelihood ratio test: chi2=16.7437, p=0.0002\n",
    "  - parameter F test: F=10.6633, p=0.0433\n",
    "  - **해석**: 모든 테스트에서 p-값이 유의수준 0.05보다 작으므로, 금리가 주식시장지수에 Granger 원인이 될 수 있음"
   ]
  },
  {
   "cell_type": "markdown",
   "metadata": {},
   "source": [
    "#### # Optional : 각 검정기법 세부 설명(참고하세요)\n",
    "___\n",
    "#### 1. SSR 기반 F 검정 (ssr based F test)\n",
    "\n",
    "**SSR (Sum of Squared Residuals)** 은 모델의 잔차(Residual, 예측값과 실제값의 차이)의 제곱합을 의미함. F 검정은 두 모델의 성능을 비교하는 데 사용됨.\n",
    "\n",
    "- **기본 개념**: \n",
    "  - 귀무가설 $ H_0 $: 추가 변수 $ X $는 예측에 유의미한 기여를 하지 않음.\n",
    "  - 대립가설 $ H_1 $: 추가 변수 $ X $는 예측에 유의미한 기여를 함.\n",
    "- **절차**:\n",
    "  1. 두 개의 회귀 모델을 구축함:\n",
    "     - **제한된 모델**: $ Y $의 과거 값들로만 $ Y $를 예측함.\n",
    "     - **전체 모델**: $ Y $의 과거 값들과 $ X $의 과거 값들로 $ Y $를 예측함.\n",
    "  2. 두 모델의 SSR을 계산함.\n",
    "  3. F 검정 통계량을 계산함:\n",
    "     $\n",
    "     F = \\frac{(\\text{SSR}_{\\text{restricted}} - \\text{SSR}_{\\text{full}}) / q}{\\text{SSR}_{\\text{full}} / (n - k)}\n",
    "     $\n",
    "     여기서 $ q $는 추가된 파라미터의 수, $ n $은 관측치 수, $ k $는 전체 모델의 파라미터 수임.\n",
    "  4. 이 F 통계량을 사용하여 p-value를 계산하고, 이를 통해 귀무가설을 기각할 수 있는지 판단함.\n",
    "___\n",
    "### 2. SSR 기반 카이제곱 검정 (ssr based chi2 test)\n",
    "\n",
    "카이제곱 검정은 두 모델의 잔차 제곱합의 차이를 카이제곱 분포를 통해 검정함.\n",
    "\n",
    "- **기본 개념**:\n",
    "  - 귀무가설 $ H_0 $: 추가 변수 $ X $는 예측에 유의미한 기여를 하지 않음.\n",
    "  - 대립가설 $ H_1 $: 추가 변수 $ X $는 예측에 유의미한 기여를 함.\n",
    "- **절차**:\n",
    "  1. 두 모델의 SSR을 계산함.\n",
    "  2. 카이제곱 통계량을 계산함:\n",
    "     $\n",
    "     \\chi^2 = (\\text{SSR}_{\\text{restricted}} - \\text{SSR}_{\\text{full}}) / \\sigma^2\n",
    "     $\n",
    "     여기서 $ \\sigma^2 $는 잔차의 분산임.\n",
    "  3. 이 카이제곱 통계량을 사용하여 p-value를 계산하고, 이를 통해 귀무가설을 기각할 수 있는지 판단함.\n",
    "___\n",
    "### 3. 우도비 검정 (likelihood ratio test)\n",
    "\n",
    "우도비 검정은 두 모델의 로그우도(log-likelihood)를 비교하는 검정임.\n",
    "\n",
    "- **기본 개념**:\n",
    "  - 귀무가설 $ H_0 $: 추가 변수 $ X $는 예측에 유의미한 기여를 하지 않음.\n",
    "  - 대립가설 $ H_1 $: 추가 변수 $ X $는 예측에 유의미한 기여를 함.\n",
    "- **절차**:\n",
    "  1. 제한된 모델과 전체 모델의 로그우도를 계산함.\n",
    "  2. 우도비 통계량을 계산함:\n",
    "     $\n",
    "     LR = -2 (\\log L_{\\text{restricted}} - \\log L_{\\text{full}})\n",
    "     $\n",
    "  3. 이 우도비 통계량은 카이제곱 분포를 따름. 이를 사용하여 p-value를 계산하고, 귀무가설을 기각할 수 있는지 판단함.\n",
    "___\n",
    "### 4. 파라미터 F 검정 (parameter F test)\n",
    "\n",
    "파라미터 F 검정은 회귀 모델에서 추가된 변수들의 파라미터가 모두 0인지 검정하는 방법임. 이 검정은 SSR 기반 F 검정과 유사함.\n",
    "\n",
    "- **기본 개념**:\n",
    "  - 귀무가설 $ H_0 $: 추가된 변수들의 파라미터가 모두 0임.\n",
    "  - 대립가설 $ H_1 $: 추가된 변수들 중 적어도 하나의 파라미터는 0이 아님.\n",
    "- **절차**:\n",
    "  1. 두 개의 회귀 모델을 구축함.\n",
    "  2. 두 모델의 SSR을 계산함.\n",
    "  3. F 통계량을 계산하여, p-value를 통해 귀무가설을 기각할 수 있는지 판단함."
   ]
  }
 ],
 "metadata": {
  "kernelspec": {
   "display_name": "Python 3",
   "language": "python",
   "name": "python3"
  },
  "language_info": {
   "codemirror_mode": {
    "name": "ipython",
    "version": 3
   },
   "file_extension": ".py",
   "mimetype": "text/x-python",
   "name": "python",
   "nbconvert_exporter": "python",
   "pygments_lexer": "ipython3",
   "version": "3.12.3"
  }
 },
 "nbformat": 4,
 "nbformat_minor": 2
}
