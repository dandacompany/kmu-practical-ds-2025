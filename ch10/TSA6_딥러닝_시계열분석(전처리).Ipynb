{
	"cells": [
		{
			"cell_type": "markdown",
			"metadata": {},
			"source": [
				"## 텐서플로를 이용한 딥러닝 시계열 예측 (전처리)"
			]
		},
		{
			"cell_type": "markdown",
			"metadata": {},
			"source": [
				"### 알려두기"
			]
		},
		{
			"cell_type": "markdown",
			"metadata": {},
			"source": [
				"  이 자료는 TensorFlow의 공식 튜토리얼 “언어 이해를 위한 변환기 모델”을 기반으로 작성되었습니다. \n",
				"\n",
				"  원문은 TensorFlow 공식 사이트(https://www.tensorflow.org/tutorials/structured_data/time_series?hl=en) 에서 확인 가능합니다.\n",
				"\n",
				"  변경 사항: 원문 튜토리얼을 바탕으로 MBA 수강생들에게 맞게 재구성되었습니다."
			]
		},
		{
			"cell_type": "markdown",
			"metadata": {},
			"source": [
				"라이브러리 준비"
			]
		},
		{
			"cell_type": "code",
			"execution_count": null,
			"metadata": {},
			"outputs": [],
			"source": [
				"import plotly.express as px\n",
				"import plotly.graph_objects as go\n",
				"from plotly.subplots import make_subplots\n",
				"import chart_studio.plotly as py\n",
				"import cufflinks as cf\n",
				"cf.go_offline(connected=True)"
			]
		},
		{
			"cell_type": "code",
			"execution_count": 2,
			"metadata": {},
			"outputs": [],
			"source": [
				"import warnings\n",
				"warnings.filterwarnings('ignore')"
			]
		},
		{
			"cell_type": "code",
			"execution_count": 3,
			"metadata": {},
			"outputs": [],
			"source": [
				"import pandas as pd\n",
				"import numpy as np\n",
				"import tensorflow as tf\n",
				"import os"
			]
		},
		{
			"cell_type": "markdown",
			"metadata": {},
			"source": [
				"데이터 로드"
			]
		},
		{
			"cell_type": "code",
			"execution_count": 4,
			"metadata": {},
			"outputs": [],
			"source": [
				"zip_path = tf.keras.utils.get_file(\n",
				"    origin='https://storage.googleapis.com/tensorflow/tf-keras-datasets/jena_climate_2009_2016.csv.zip',\n",
				"    fname='jena_climate_2009_2016.csv.zip',\n",
				"    extract=True)\n",
				"csv_path, _ = os.path.splitext(zip_path)"
			]
		},
		{
			"cell_type": "code",
			"execution_count": 5,
			"metadata": {},
			"outputs": [],
			"source": [
				"df = pd.read_csv(csv_path)"
			]
		},
		{
			"cell_type": "markdown",
			"metadata": {},
			"source": [
				"데이터 샘플링\n",
				"* 10분 단위 데이터를 1시간 단위로 샘플링"
			]
		},
		{
			"cell_type": "code",
			"execution_count": 6,
			"metadata": {},
			"outputs": [],
			"source": [
				"df = df[5::6]"
			]
		},
		{
			"cell_type": "markdown",
			"metadata": {},
			"source": [
				"DateTime 인덱스 처리"
			]
		},
		{
			"cell_type": "code",
			"execution_count": null,
			"metadata": {},
			"outputs": [],
			"source": [
				"df.head()"
			]
		},
		{
			"cell_type": "code",
			"execution_count": 8,
			"metadata": {},
			"outputs": [],
			"source": [
				"df['Date Time'] = pd.to_datetime(df['Date Time'], format='%d.%m.%Y %H:%M:%S')\n",
				"df.set_index('Date Time', inplace=True)"
			]
		},
		{
			"cell_type": "code",
			"execution_count": null,
			"metadata": {},
			"outputs": [],
			"source": [
				"df.head()"
			]
		},
		{
			"cell_type": "markdown",
			"metadata": {},
			"source": [
				"탐색적 데이터 분석"
			]
		},
		{
			"cell_type": "code",
			"execution_count": null,
			"metadata": {},
			"outputs": [],
			"source": [
				"df.iplot(subplots=True, shape=(14, 1), layout=dict(height=1200, xaxis=dict(title='Date Time',), yaxis=dict(title='Value')))\n"
			]
		},
		{
			"cell_type": "code",
			"execution_count": null,
			"metadata": {},
			"outputs": [],
			"source": [
				"df.describe().T"
			]
		},
		{
			"cell_type": "markdown",
			"metadata": {},
			"source": [
				"이상치 제거"
			]
		},
		{
			"cell_type": "code",
			"execution_count": null,
			"metadata": {},
			"outputs": [],
			"source": [
				"# 이상치 확인\n",
				"df.loc[df[['wv (m/s)', 'max. wv (m/s)']].apply(lambda row : row.iloc[0] < 0 or row.iloc[1] < 0, axis=1), ['wv (m/s)', 'max. wv (m/s)']]"
			]
		},
		{
			"cell_type": "code",
			"execution_count": 13,
			"metadata": {},
			"outputs": [],
			"source": [
				"# 음수 제거\n",
				"def prep(row) :\n",
				"    row.iloc[0] = row.iloc[0] if row.iloc[0] > 0 else 0\n",
				"    row.iloc[1] = row.iloc[1] if row.iloc[1] > 0 else 0\n",
				"    return row\n",
				"df[['wv (m/s)', 'max. wv (m/s)']] = df[['wv (m/s)', 'max. wv (m/s)']].apply(prep, axis=1)"
			]
		},
		{
			"cell_type": "markdown",
			"metadata": {},
			"source": [
				"풍속 / 풍향 데이터 전처리\n",
				"* 풍속와 풍향 데이터를 특성공학은 벡터화를 기본으로 한다."
			]
		},
		{
			"cell_type": "code",
			"execution_count": null,
			"metadata": {},
			"outputs": [],
			"source": [
				"# 방향데이터의 x, y 좌표 변환 예시 (풍속 정보를 제외하면 단위원 위의 점으로 표현 가능)\n",
				"x_30 = np.cos(np.deg2rad(30))\n",
				"y_30 = np.sin(np.deg2rad(30))\n",
				"theta = np.linspace(0, 2 * np.pi, 100)\n",
				"x = np.cos(theta)\n",
				"y = np.sin(theta)\n",
				"fig = go.Figure()\n",
				"fig.add_trace(go.Scatter(x=x, y=y, mode='lines', name='Unit Circle'))\n",
				"fig.add_trace(go.Scatter(x=x, y=y, mode='markers', marker=dict(color='red', size=5), name='Points on Unit Circle'))\n",
				"fig.add_trace(go.Scatter(x=[x_30], y=[0], mode='markers+text', marker=dict(color='red', size=10), text=['cos(30º)'], textposition='bottom center'))\n",
				"fig.add_trace(go.Scatter(x=[0], y=[y_30], mode='markers+text', marker=dict(color='red', size=10), text=['sin(30º)'], textposition='bottom center'))\n",
				"fig.add_trace(go.Scatter(x=[0, x_30], y=[y_30, y_30], mode='lines', line_color='red', line_dash='dash'))\n",
				"fig.add_trace(go.Scatter(x=[x_30, x_30], y=[0, y_30], mode='lines', line_color='red', line_dash='dash'))\n",
				"fig.add_trace(go.Scatter(x=[0, x_30], y=[0, y_30], mode='lines', line_color='blue'))\n",
				"fig.update_layout(\n",
				"    title='단위원 위의 30도 점의 x, y 좌표',\n",
				"    xaxis_title='cos(θ)',\n",
				"    yaxis_title='sin(θ)',\n",
				"    xaxis=dict(showline=True, zeroline=True, showgrid=True),\n",
				"    yaxis=dict(showline=True, zeroline=True, showgrid=True),\n",
				"    showlegend=False,\n",
				"    width=500,\n",
				"    height=500\n",
				")\n",
				"\n",
				"fig.show()\n"
			]
		},
		{
			"cell_type": "code",
			"execution_count": null,
			"metadata": {},
			"outputs": [],
			"source": [
				"# wv와 max_wv에 풍속 정보를 저장하고 벡터화된 풍향 정보에 곱하여 벡터분포 데이터를 생성\n",
				"wv = df.pop('wv (m/s)')\n",
				"max_wv = df.pop('max. wv (m/s)')\n",
				"wd_rad = df.pop('wd (deg)') * np.pi / 180\n",
				"\n",
				"df['Wx'] = wv * np.cos(wd_rad)\n",
				"df['Wy'] = wv * np.sin(wd_rad)\n",
				"df['max Wx'] = max_wv * np.cos(wd_rad)\n",
				"df['max Wy'] = max_wv * np.sin(wd_rad)"
			]
		},
		{
			"cell_type": "code",
			"execution_count": null,
			"metadata": {},
			"outputs": [],
			"source": [
				"px.density_heatmap(df, x='Wx', y='Wy', nbinsx=50, nbinsy=50, title='Wind Vector Distribution', histfunc='count', labels={'Wx' : 'Wind X [m/s]', 'Wy' : 'Wind Y [m/s]'}, range_color=[0, 400]) \\\n",
				"    .update_layout(height=600, width=600).show()\n"
			]
		},
		{
			"cell_type": "markdown",
			"metadata": {},
			"source": [
				"시간 데이터 전처리\n",
				"* 시간을 주기성 데이터로 변환하여 시계열 모델이 해석하기 좋도록 Feature Engineering"
			]
		},
		{
			"cell_type": "code",
			"execution_count": null,
			"metadata": {},
			"outputs": [],
			"source": [
				"timestamp_s = df.index.map(pd.Timestamp.timestamp) # 초단위 변환\n",
				"timestamp_s"
			]
		},
		{
			"cell_type": "code",
			"execution_count": 18,
			"metadata": {},
			"outputs": [],
			"source": [
				"day = 24 * 60 * 60\n",
				"year = 365.2425 * day\n",
				"df['Day sin'] = np.sin(timestamp_s * 2 * np.pi / day)\n",
				"df['Day cos'] = np.cos(timestamp_s * 2 * np.pi / day)\n",
				"df['Year sin'] = np.sin(timestamp_s * 2 * np.pi / year)\n",
				"df['Year cos'] = np.cos(timestamp_s * 2 * np.pi / year)"
			]
		},
		{
			"cell_type": "code",
			"execution_count": null,
			"metadata": {},
			"outputs": [],
			"source": [
				"df[['Day sin', 'Day cos']].iloc[:50].iplot()"
			]
		},
		{
			"cell_type": "markdown",
			"metadata": {},
			"source": [
				"Fast Fourier Transform(FFT)\n",
				"\n",
				"* https://en.wikipedia.org/wiki/Fast_Fourier_transform\n",
				"\n",
				"* 복잡한 주기적인 신호를 단순한 주파수 구성 요소로 분해하는 알고리즘.\n",
				"\n",
				"* 쉽게 말해, 시간 도메인에서 신호를 주파수 도메인으로 변환하는 데 사용.\n",
				"\n",
				"* 예를 들어, 음악 신호를 분석할 때 FFT를 사용하면 각 음의 주파수를 확인가능.\n",
				"\n",
				"* 이를 통해 신호의 주기성과 패턴을 파악가능. FFT는 계산이 효율적이어서 시계열 데이터 처리에 유용."
			]
		},
		{
			"cell_type": "markdown",
			"metadata": {},
			"source": [
				"#### $X_k = \\sum_{n=0}^{N-1} x_n \\cdot e^{-i \\cdot 2\\pi \\cdot k \\cdot n / N} $\n",
				"\n",
				"* ( $X_k$ )는 주파수 도메인에서의 ( $k$ )번째 성분\n",
				"* ( $x_n$ )은 시간 도메인에서의 입력 신호\n",
				"* ( $N$ )은 입력 신호의 총 샘플수\n",
				"* ( $e$ )는 자연 상수\n",
				"* ( $i$ )는 허수 단위\n",
				"\n",
				"이 공식은 시간 도메인 신호 ( $x_n$ )을 주파수 도메인 신호  $X_k$ 로 변환"
			]
		},
		{
			"cell_type": "code",
			"execution_count": 20,
			"metadata": {},
			"outputs": [],
			"source": [
				"fft = tf.signal.rfft(df['T (degC)'])\n",
				"f_per_dataset = np.arange(0, len(fft))\n",
				"n_samples_h = len(df['T (degC)'])\n",
				"hours_per_year = 24*365.2524\n",
				"years_per_dataset = n_samples_h/(hours_per_year)\n",
				"f_per_year = f_per_dataset / years_per_dataset"
			]
		},
		{
			"cell_type": "code",
			"execution_count": null,
			"metadata": {},
			"outputs": [],
			"source": [
				"fig = px.line(x=f_per_year, y=np.abs(fft), line_shape='hv')\n",
				"fig.update_layout(\n",
				"    xaxis=dict(\n",
				"        type='log',\n",
				"        title='Frequency (log scale)',\n",
				"        range=[np.log10(0.1), np.log10(max(f_per_year))],\n",
				"        tickvals=[1, 365.2524],\n",
				"        ticktext=['1/Year', '1/day']\n",
				"    ),\n",
				"    yaxis=dict(\n",
				"        title='주기 진동폭 크기',\n",
				"        range=[0, 400000]\n",
				"    )\n",
				")\n",
				"\n",
				"fig.show()\n"
			]
		},
		{
			"cell_type": "code",
			"execution_count": 22,
			"metadata": {},
			"outputs": [],
			"source": [
				"df.to_csv('./Data/jena_climate_2009_2016_preprocessed.csv')"
			]
		}
	],
	"metadata": {
		"kernelspec": {
			"display_name": "Python 3",
			"language": "python",
			"name": "python3"
		},
		"language_info": {
			"codemirror_mode": {
				"name": "ipython",
				"version": 3
			},
			"file_extension": ".py",
			"mimetype": "text/x-python",
			"name": "python",
			"nbconvert_exporter": "python",
			"pygments_lexer": "ipython3",
			"version": "3.12.3"
		}
	},
	"nbformat": 4,
	"nbformat_minor": 2
}
