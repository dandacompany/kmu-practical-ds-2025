{
 "cells": [
  {
   "cell_type": "code",
   "execution_count": 1,
   "metadata": {},
   "outputs": [],
   "source": [
    "# !python -m pip install statsmodels\n",
    "# !python -m pip install plotly\n",
    "# !pip install \"nbformat>=4.2.0\""
   ]
  },
  {
   "cell_type": "code",
   "execution_count": 2,
   "metadata": {},
   "outputs": [],
   "source": [
    "# 라이브러리 불러오기\n",
    "import requests\n",
    "import os\n",
    "from time import sleep\n",
    "import numpy as np\n",
    "import pandas as pd\n",
    "import numpy as np\n",
    "import scipy.stats as stats\n",
    "from math import ceil\n",
    "import statsmodels.api as sm\n",
    "import statsmodels.stats.api as sms\n",
    "from statsmodels.stats.proportion import proportions_ztest, proportion_confint\n",
    "from statsmodels.stats.power import FTestAnovaPower, GofChisquarePower\n",
    "from sklearn.model_selection import ParameterGrid\n",
    "from scipy.stats import chi2_contingency\n",
    "import plotly.express as px\n",
    "import plotly.graph_objects as go"
   ]
  },
  {
   "cell_type": "markdown",
   "metadata": {},
   "source": [
    "### 생각해둬야 할것.\n",
    "* 샘플사이즈를 구한뒤에 아래 과정을 진행하는 것이 맞습니다.\n",
    "  \n",
    "* 이 데이터셋은 이미 테스트 사후에 확보된 것으로, 전체 데이터가 샘플데이터이고, 사후분석하는것이 맞으나,\n",
    "* 테스트 사전에 샘플사이즈를 구하고 실험해서 얻은 테스트셋으로서,\n",
    "* 샘플사이즈만큼 확보된 시점에 테스트를 중단하고 나머지 데이터셋은 저장하지 않았다고 간주하겠습니다."
   ]
  },
  {
   "cell_type": "markdown",
   "metadata": {},
   "source": [
    "## (테스트 설계) 샘플사이즈 계산"
   ]
  },
  {
   "cell_type": "markdown",
   "metadata": {},
   "source": [
    "ABT"
   ]
  },
  {
   "cell_type": "code",
   "execution_count": 3,
   "metadata": {},
   "outputs": [
    {
     "name": "stdout",
     "output_type": "stream",
     "text": [
      "각 그룹별 필요 샘플사이즈 : 3766\n"
     ]
    }
   ],
   "source": [
    "# 1.5% point의 전환율 상승의 비즈니스 목표설정이 있었으므로,\n",
    "# 이에 맞춰 효과크기를 계신.\n",
    "effect_size = sms.proportion_effectsize(0.05, 0.065)\n",
    "\n",
    "sample_size = sms.NormalIndPower().solve_power(\n",
    "    effect_size=effect_size, # 효과크기 \n",
    "    power=0.8, # 검정력 80%\n",
    "    alpha=0.05, # 유의수준 5%\n",
    "    ratio=1 # 대조와 처치의 비율 1:1\n",
    ")                                                  \n",
    "\n",
    "sample_size = ceil(sample_size) # 샘플사이즈는 정수형이 맞으므로 소수점 제거\n",
    "\n",
    "print(f\"각 그룹별 필요 샘플사이즈 : {sample_size}\")"
   ]
  },
  {
   "cell_type": "code",
   "execution_count": 4,
   "metadata": {},
   "outputs": [
    {
     "name": "stdout",
     "output_type": "stream",
     "text": [
      "effect_size :  -0.06666666666666667\n",
      "각 그룹별 필요 샘플사이즈 : 3533\n"
     ]
    }
   ],
   "source": [
    "# 모표준편차가 3000원인 환경에서 모평균 12500원에서 200원 상승을 기대한다고 가정\n",
    "# 이에 맞춰 효과크기를 계신.\n",
    "effect_size = (12500 - 12700) / 3000\n",
    "print(\"effect_size : \", effect_size)\n",
    "sample_size = sms.TTestIndPower().solve_power(\n",
    "    effect_size, # 효과크기 \n",
    "    power=0.8, # 검정력 80%\n",
    "    alpha=0.05, # 유의수준 5%\n",
    "    ratio=1 # 대조와 처치의 비율 1:1\n",
    ")                                                  \n",
    "\n",
    "sample_size = ceil(sample_size) # 샘플사이즈는 정수형이 맞으므로 소수점 제거\n",
    "\n",
    "print(f\"각 그룹별 필요 샘플사이즈 : {sample_size}\")\n",
    "\n"
   ]
  },
  {
   "cell_type": "markdown",
   "metadata": {},
   "source": [
    "* 모수를 가정하는 테스트는 위 방법으로 간단히 샘플사이즈 산출이 가능하지만,\n",
    "  \n",
    "* 정규성 가정, 등분산성 가정이 어려운 경우 비모수 검정을 위한 테스트 설계를 해야함.\n",
    "* 이때는 python으로 관련 코드를 구현하는 것은 매우 어려운작업이므로, (보통 매우 큰 샘플사이즈가 필요하다. 모수가정보다 수천배)\n",
    "* G-power 프로그램을 사용해서 샘플사이즈를 구하는 방법을 사용.\n",
    "* https://www.psychologie.hhu.de/arbeitsgruppen/allgemeine-psychologie-und-arbeitspsychologie/gpower.html"
   ]
  },
  {
   "cell_type": "markdown",
   "metadata": {},
   "source": [
    "MVT"
   ]
  },
  {
   "cell_type": "markdown",
   "metadata": {},
   "source": [
    "* FWER (Family-Wise Error Rate) : \n",
    "\n",
    "  * $ \\textcolor{yellow}{\\text{FWER} = 1 - (1 - \\alpha)^k} $ \n",
    "  \n",
    "  * 여러 통계적 검정을 수행할 때, 하나 이상의 잘못된 양성(Type I 오류) 결과가 나올 확률\n",
    "  * 다중 비교 상황에서 하나 이상의 검정이 유의하게 나올 확률을 제어하기 위해 사용"
   ]
  },
  {
   "cell_type": "markdown",
   "metadata": {},
   "source": [
    "* 본페로니 교정 (Bonferroni Correction):\n",
    "  \n",
    "  * $ \\textcolor{yellow}{\\alpha_{adj} = \\frac{\\alpha}{m}}$\n",
    " \n",
    "  *  본페로니 교정은  다중 비교  문제에서  유의수준  을  조정  하여  잘못된   양성(Type I  오류)  의  확률  을  줄이는 가장 보편하고 단순한 방법\n",
    "  *  여러 통계적 검정을 수행할 때, 각 검정의 유의수준을 전체 유의수준을 유지하기 위해 나누어 적용\n",
    "  *  예를 들어, 전체 유의수준이 0.05이고 5개의 검정을 수행하는 경우, 각 검정의 유의수준은 0.05 / 5 = 0.01\n",
    "  *  이를 통해 다중 비교로 인한 잘못된 양성 오류를 줄임."
   ]
  },
  {
   "cell_type": "markdown",
   "metadata": {},
   "source": [
    "* 그외의 교정 방법들..  \n",
    "  \n",
    "  * Holm 교정 (Holm Correction):\n",
    "    \n",
    "    * Holm 교정은 본페로니 교정의 보수성을 완화한 방법으로, 단계별로 유의수준을 조정하여 다중 비교 문제를 해결\n",
    "    * 각 검정의 p-value를 오름차순으로 정렬한 후, 가장 작은 p-value부터 순차적으로 유의수준을 조정\n",
    "    * 예를 들어, 전체 유의수준이 0.05이고 5개의 검정을 수행하는 경우, 가장 작은 p-value는 0.05/5, 두 번째 작은 p-value는 0.05/4, ... , 마지막 p-value는 0.05로 비교\n",
    "    * 이를 통해 다중 비교로 인한 잘못된 양성 오류를 줄임.\n",
    "\n",
    "  * Hochberg 교정 (Hochberg Correction):\n",
    "    \n",
    "    * Hochberg 교정은 Holm 교정과 유사하지만, 단계별로 유의수준을 조정하는 방식이 반대\n",
    "    * 각 검정의 p-value를 오름차순으로 정렬한 후, 가장 큰 p-value부터 순차적으로 유의수준을 조정\n",
    "    * 예를 들어, 전체 유의수준이 0.05이고 5개의 검정을 수행하는 경우, 가장 큰 p-value는 0.05, 두 번째 큰 p-value는 0.05/2, ... , 가장 작은 p-value는 0.05/5로 비교\n",
    "    * 이를 통해 다중 비교로 인한 잘못된 양성 오류를 줄임.\n",
    "\n",
    "  * Benjamini-Hochberg 교정 (Benjamini-Hochberg Correction):\n",
    "    \n",
    "    * Benjamini-Hochberg 교정은 FDR (False Discovery Rate)을 제어하는 방법으로, 다중 비교 문제에서 잘못된 양성 오류의 비율을 줄이는 데 사용\n",
    "    * 각 검정의 p-value를 오름차순으로 정렬한 후, 각 p-value에 대해 (i/m) * Q 값을 계산 (여기서 i는 p-value의 순위, m은 전체 검정 수, Q는 원하는 FDR)\n",
    "    * 각 p-value와 해당 (i/m) * Q 값을 비교하여 유의한 p-value를 결정\n",
    "    * 이를 통해 다중 비교로 인한 잘못된 양성 오류의 비율을 줄임.\n"
   ]
  },
  {
   "cell_type": "code",
   "execution_count": 5,
   "metadata": {},
   "outputs": [],
   "source": [
    "# 이산형 (Chi-Square)\n",
    "def estimate_sample_size_for_discrete_mvt(effect_size, alpha=0.05, power=0.8, num_tests=3):\n",
    "    # 본페로니 교정 적용\n",
    "    adjusted_alpha = alpha / num_tests\n",
    "    \n",
    "    # 검정력 분석 객체 생성\n",
    "    power_analysis = GofChisquarePower()\n",
    "    \n",
    "    return ceil(power_analysis.solve_power(\n",
    "        effect_size=effect_size,\n",
    "        alpha=adjusted_alpha,\n",
    "        power=power\n",
    "    ))"
   ]
  },
  {
   "cell_type": "code",
   "execution_count": 6,
   "metadata": {},
   "outputs": [
    {
     "data": {
      "text/plain": [
       "46530"
      ]
     },
     "execution_count": 6,
     "metadata": {},
     "output_type": "execute_result"
    }
   ],
   "source": [
    "sample_size = estimate_sample_size_for_discrete_mvt(effect_size=0.015, alpha=0.05, power=0.8, num_tests=3)\n",
    "sample_size"
   ]
  },
  {
   "cell_type": "code",
   "execution_count": 7,
   "metadata": {},
   "outputs": [],
   "source": [
    "# 연속형 (ANOVA)\n",
    "def estimate_sample_size_for_continuous_mvt(effect_size, alpha=0.05, power=0.8, num_tests=3):\n",
    "    # 본페로니 교정 적용\n",
    "    adjusted_alpha = alpha / (num_tests * (num_tests - 1) / 2)\n",
    "    \n",
    "    return ceil(FTestAnovaPower().solve_power(effect_size=effect_size, \n",
    "                                               alpha=adjusted_alpha, \n",
    "                                               k_groups=num_tests, \n",
    "                                               power=power))"
   ]
  },
  {
   "cell_type": "code",
   "execution_count": 10,
   "metadata": {},
   "outputs": [
    {
     "data": {
      "text/plain": [
       "31399"
      ]
     },
     "execution_count": 10,
     "metadata": {},
     "output_type": "execute_result"
    }
   ],
   "source": [
    "sample_size = estimate_sample_size_for_continuous_mvt(effect_size=0.02, alpha=0.05, power=0.8, num_tests=3)\n",
    "sample_size"
   ]
  },
  {
   "cell_type": "markdown",
   "metadata": {},
   "source": [
    "## (테스트시작) 데이터 수집"
   ]
  },
  {
   "cell_type": "markdown",
   "metadata": {},
   "source": [
    "데이터 로드"
   ]
  },
  {
   "cell_type": "code",
   "execution_count": 9,
   "metadata": {},
   "outputs": [
    {
     "name": "stdout",
     "output_type": "stream",
     "text": [
      "           uid                          ts grp algorithm  converted  amount\n",
      "0       851227  2025-01-21 22:11:48.556739   A        v1          0       0\n",
      "1       804351  2025-01-12 08:01:45.159739   A        v1          0       0\n",
      "2       661713  2025-01-11 16:55:06.154213   B        v2          0   11762\n",
      "3       853664  2025-01-08 18:28:03.143765   B        v2          0   14987\n",
      "4       865098  2025-01-21 01:52:26.210827   A        v1          1   13058\n",
      "...        ...                         ...  ..       ...        ...     ...\n",
      "441440  445898  2025-01-14 16:32:53.398579   C        v3          0   11796\n",
      "441441  208766  2025-01-16 20:56:38.511760   C        v3          0   12451\n",
      "441442  381188  2025-01-14 23:56:34.436404   C        v3          0   14853\n",
      "441443  601482  2025-01-11 14:06:36.667010   C        v3          0   12866\n",
      "441444  522970  2025-01-14 00:18:56.099964   C        v3          0   11611\n",
      "\n",
      "[441445 rows x 6 columns]\n"
     ]
    }
   ],
   "source": [
    "# 데이터 로드\n",
    "df = pd.read_csv('datasets/ab_test_data.csv')\n",
    "print(df)"
   ]
  },
  {
   "cell_type": "markdown",
   "metadata": {},
   "source": [
    "데이터 점검 및 오류데이터 정리"
   ]
  },
  {
   "cell_type": "code",
   "execution_count": 14,
   "metadata": {},
   "outputs": [
    {
     "data": {
      "text/html": [
       "<div>\n",
       "<style scoped>\n",
       "    .dataframe tbody tr th:only-of-type {\n",
       "        vertical-align: middle;\n",
       "    }\n",
       "\n",
       "    .dataframe tbody tr th {\n",
       "        vertical-align: top;\n",
       "    }\n",
       "\n",
       "    .dataframe thead th {\n",
       "        text-align: right;\n",
       "    }\n",
       "</style>\n",
       "<table border=\"1\" class=\"dataframe\">\n",
       "  <thead>\n",
       "    <tr style=\"text-align: right;\">\n",
       "      <th></th>\n",
       "      <th>grp</th>\n",
       "      <th>algorithm</th>\n",
       "      <th>0</th>\n",
       "    </tr>\n",
       "  </thead>\n",
       "  <tbody>\n",
       "    <tr>\n",
       "      <th>0</th>\n",
       "      <td>A</td>\n",
       "      <td>v1</td>\n",
       "      <td>145274</td>\n",
       "    </tr>\n",
       "    <tr>\n",
       "      <th>1</th>\n",
       "      <td>A</td>\n",
       "      <td>v2</td>\n",
       "      <td>1928</td>\n",
       "    </tr>\n",
       "    <tr>\n",
       "      <th>2</th>\n",
       "      <td>B</td>\n",
       "      <td>v1</td>\n",
       "      <td>1965</td>\n",
       "    </tr>\n",
       "    <tr>\n",
       "      <th>3</th>\n",
       "      <td>B</td>\n",
       "      <td>v2</td>\n",
       "      <td>145311</td>\n",
       "    </tr>\n",
       "    <tr>\n",
       "      <th>4</th>\n",
       "      <td>C</td>\n",
       "      <td>v3</td>\n",
       "      <td>146967</td>\n",
       "    </tr>\n",
       "  </tbody>\n",
       "</table>\n",
       "</div>"
      ],
      "text/plain": [
       "  grp algorithm       0\n",
       "0   A        v1  145274\n",
       "1   A        v2    1928\n",
       "2   B        v1    1965\n",
       "3   B        v2  145311\n",
       "4   C        v3  146967"
      ]
     },
     "execution_count": 14,
     "metadata": {},
     "output_type": "execute_result"
    }
   ],
   "source": [
    "# A그룹에 algorithm이 v2, B그룹에 algorithm이 v1 이 할당되어 있다. (데이터수집 오류로 생각됨)\n",
    "df.groupby(['grp', 'algorithm']).size().reset_index()"
   ]
  },
  {
   "cell_type": "code",
   "execution_count": 15,
   "metadata": {},
   "outputs": [
    {
     "name": "stdout",
     "output_type": "stream",
     "text": [
      "df.shape : (441445, 6) => prep_df.shape : (437552, 6) 제거한 행 수: 3893\n"
     ]
    }
   ],
   "source": [
    "# 데이터 오류로 판단할수 있으므로 제거\n",
    "prep_df1 = pd.concat([\n",
    "    df.query(\"grp == 'A' and algorithm == 'v1'\"), \n",
    "    df.query(\"grp == 'B' and algorithm == 'v2'\"),\n",
    "    df.query(\"grp == 'C' and algorithm == 'v3'\")\n",
    "])\n",
    "print(f\"df.shape : {df.shape} => prep_df.shape : {prep_df1.shape} 제거한 행 수: {df.shape[0] - prep_df1.shape[0]}\")\n"
   ]
  },
  {
   "cell_type": "code",
   "execution_count": 16,
   "metadata": {},
   "outputs": [
    {
     "name": "stdout",
     "output_type": "stream",
     "text": [
      "prep_df1.shape : (437552, 6) => prep_df2.shape : (437486, 6) 제거된 행수: 66\n"
     ]
    }
   ],
   "source": [
    "# 중복 사용자 제거 (이번 테스트는 샘플사이즈 자체가 확보한 사용자 이기 때문)\n",
    "prep_df2 = prep_df1.drop_duplicates(subset= ['uid'], keep='first')\n",
    "print(f\"prep_df1.shape : {prep_df1.shape} => prep_df2.shape : {prep_df2.shape} 제거된 행수: {prep_df1.shape[0] - prep_df2.shape[0]}\")"
   ]
  },
  {
   "cell_type": "markdown",
   "metadata": {},
   "source": [
    "샘플사이즈가 확보된 날짜까지의 데이터만 별도 저장"
   ]
  },
  {
   "cell_type": "code",
   "execution_count": 17,
   "metadata": {},
   "outputs": [],
   "source": [
    "def get_filtered_df(df, sample_size):\n",
    "    df.ts = pd.to_datetime(df.ts)\n",
    "    sorted_df = df.sort_values('ts')\n",
    "    start_time = df.ts.min()\n",
    "    day = 1\n",
    "    while True:\n",
    "        end_time = start_time + pd.Timedelta(days=day)\n",
    "        filtered_df = sorted_df[(sorted_df['ts'] >= start_time) & (sorted_df['ts'] <= end_time)]\n",
    "        A_sample_size = filtered_df[filtered_df['grp'] == 'A'].shape[0]\n",
    "        B_sample_size = filtered_df[filtered_df['grp'] == 'B'].shape[0]\n",
    "        C_sample_size = filtered_df[filtered_df['grp'] == 'C'].shape[0]\n",
    "        print(f\"{day}일차 : 확보된 그룹별 샘플사이즈 (A:{A_sample_size}, B:{B_sample_size}, C:{C_sample_size})\")\n",
    "        if A_sample_size >= sample_size and B_sample_size >= sample_size and C_sample_size >= sample_size:\n",
    "            print('테스트 중단!')\n",
    "            break\n",
    "        day += 1\n",
    "        sleep(1)\n",
    "    return filtered_df"
   ]
  },
  {
   "cell_type": "code",
   "execution_count": 18,
   "metadata": {},
   "outputs": [
    {
     "name": "stderr",
     "output_type": "stream",
     "text": [
      "/tmp/ipykernel_174/3501489090.py:2: SettingWithCopyWarning: \n",
      "A value is trying to be set on a copy of a slice from a DataFrame.\n",
      "Try using .loc[row_indexer,col_indexer] = value instead\n",
      "\n",
      "See the caveats in the documentation: https://pandas.pydata.org/pandas-docs/stable/user_guide/indexing.html#returning-a-view-versus-a-copy\n",
      "  df.ts = pd.to_datetime(df.ts)\n"
     ]
    },
    {
     "name": "stdout",
     "output_type": "stream",
     "text": [
      "1일차 : 확보된 그룹별 샘플사이즈 (A:6655, B:6579, C:6744)\n",
      "2일차 : 확보된 그룹별 샘플사이즈 (A:13141, B:13145, C:13307)\n",
      "3일차 : 확보된 그룹별 샘플사이즈 (A:19722, B:19701, C:19969)\n",
      "4일차 : 확보된 그룹별 샘플사이즈 (A:26159, B:26383, C:26489)\n",
      "5일차 : 확보된 그룹별 샘플사이즈 (A:32844, B:32977, C:33241)\n",
      "테스트 중단!\n"
     ]
    }
   ],
   "source": [
    "# 필요샘플사이즈는 각 4433명, 총 8866명 이지만, \n",
    "# 안정적인 테스트 결과를 위해 각 30000명의 사용자를 확보해야 한다고 가정한다.\n",
    "sample_df = get_filtered_df(prep_df2, 30000)\n"
   ]
  },
  {
   "cell_type": "code",
   "execution_count": 19,
   "metadata": {},
   "outputs": [
    {
     "name": "stdout",
     "output_type": "stream",
     "text": [
      "           uid                         ts grp algorithm  converted  amount\n",
      "325747  425323 2025-01-02 13:32:15.234051   C        v3          0   12780\n",
      "296988  110858 2025-01-02 13:33:03.767329   C        v3          0   12333\n",
      "420164  179783 2025-01-02 13:36:06.600508   C        v3          0   10712\n",
      "332968  437507 2025-01-02 13:37:28.246588   C        v3          1   11101\n",
      "384759  192894 2025-01-02 13:37:52.169597   C        v3          1   11191\n",
      "...        ...                        ...  ..       ...        ...     ...\n",
      "76325   783818 2025-01-07 13:31:52.131433   B        v2          0   12899\n",
      "142141  868674 2025-01-07 13:31:56.032796   B        v2          0   14142\n",
      "194349  671188 2025-01-07 13:31:58.378189   B        v2          0   11378\n",
      "137267  706869 2025-01-07 13:32:04.099623   B        v2          0   12397\n",
      "118388  871556 2025-01-07 13:32:06.829080   B        v2          0   13445\n",
      "\n",
      "[99062 rows x 6 columns]\n"
     ]
    }
   ],
   "source": [
    "print(sample_df)"
   ]
  },
  {
   "cell_type": "markdown",
   "metadata": {},
   "source": [
    "## (테스트 분석) 이산형"
   ]
  },
  {
   "cell_type": "code",
   "execution_count": 20,
   "metadata": {},
   "outputs": [
    {
     "data": {
      "text/html": [
       "<div>\n",
       "<style scoped>\n",
       "    .dataframe tbody tr th:only-of-type {\n",
       "        vertical-align: middle;\n",
       "    }\n",
       "\n",
       "    .dataframe tbody tr th {\n",
       "        vertical-align: top;\n",
       "    }\n",
       "\n",
       "    .dataframe thead th {\n",
       "        text-align: right;\n",
       "    }\n",
       "</style>\n",
       "<table border=\"1\" class=\"dataframe\">\n",
       "  <thead>\n",
       "    <tr style=\"text-align: right;\">\n",
       "      <th>converted</th>\n",
       "      <th>0</th>\n",
       "      <th>1</th>\n",
       "    </tr>\n",
       "    <tr>\n",
       "      <th>grp</th>\n",
       "      <th></th>\n",
       "      <th></th>\n",
       "    </tr>\n",
       "  </thead>\n",
       "  <tbody>\n",
       "    <tr>\n",
       "      <th>A</th>\n",
       "      <td>28917</td>\n",
       "      <td>3927</td>\n",
       "    </tr>\n",
       "    <tr>\n",
       "      <th>B</th>\n",
       "      <td>29102</td>\n",
       "      <td>3875</td>\n",
       "    </tr>\n",
       "    <tr>\n",
       "      <th>C</th>\n",
       "      <td>29299</td>\n",
       "      <td>3942</td>\n",
       "    </tr>\n",
       "  </tbody>\n",
       "</table>\n",
       "</div>"
      ],
      "text/plain": [
       "converted      0     1\n",
       "grp                   \n",
       "A          28917  3927\n",
       "B          29102  3875\n",
       "C          29299  3942"
      ]
     },
     "execution_count": 20,
     "metadata": {},
     "output_type": "execute_result"
    }
   ],
   "source": [
    "# 분할표 만들기\n",
    "contingency_table = sample_df.pivot_table(index='grp', columns='converted', aggfunc='size')\n",
    "contingency_table"
   ]
  },
  {
   "cell_type": "markdown",
   "metadata": {},
   "source": [
    "ABT - pair-wise"
   ]
  },
  {
   "cell_type": "code",
   "execution_count": 21,
   "metadata": {},
   "outputs": [],
   "source": [
    "# group2 - group 1 신뢰구간 계산하기\n",
    "def calc_proportion_test_ci(n1, p1, n2, p2, alpha=0.05):\n",
    "    # minitab : https://support.minitab.com/ko-kr/minitab/18/help-and-how-to/statistics/basic-statistics/how-to/2-proportions/methods-and-formulas/methods-and-formulas/\n",
    "    se = np.sqrt( p1 * (1 - p1) / n1 + p2 * (1 - p2) / n2 )\n",
    "    diff_prop = p2 - p1\n",
    "    cl_ll, cl_ul = diff_prop + np.array([-1, 1]) * stats.norm.ppf(1 - alpha / 2) * se\n",
    "    return cl_ll, cl_ul"
   ]
  },
  {
   "cell_type": "code",
   "execution_count": 22,
   "metadata": {},
   "outputs": [],
   "source": [
    "def analysis_pair_wise_abt(df, group1, group2):\n",
    "    filtered_df = df[(df['grp'] == group1) | (df['grp'] == group2)]\n",
    "    group1_size = filtered_df[filtered_df['grp'] == group1]['converted'].values.size\n",
    "    group1_cvr = filtered_df[filtered_df['grp'] == group1]['converted'].values.sum() / group1_size\n",
    "    group2_size = filtered_df[filtered_df['grp'] == group2]['converted'].values.size\n",
    "    group2_cvr = filtered_df[filtered_df['grp'] == group2]['converted'].values.sum() / group2_size\n",
    "\n",
    "    diff_mean = group2_cvr - group1_cvr\n",
    "    # 신뢰구간 계산\n",
    "    cl_ll, cl_ul = calc_proportion_test_ci(group1_size, group1_cvr, group2_size, group2_cvr)\n",
    "    # 두비율 검정\n",
    "    z_stat, pval = proportions_ztest([group1_cvr * group1_size, group2_cvr * group2_size], nobs=[group1_size, group2_size])\n",
    "    \n",
    "    return {\n",
    "        'group1': group1,\n",
    "        'group2': group2,\n",
    "        '평균차이': diff_mean,\n",
    "        '신뢰구간_하한': cl_ll,\n",
    "        '신뢰구간_상한': cl_ul,\n",
    "        'z_통계량': z_stat,\n",
    "        'p값': pval\n",
    "    }\n",
    "\n"
   ]
  },
  {
   "cell_type": "code",
   "execution_count": 23,
   "metadata": {},
   "outputs": [
    {
     "data": {
      "text/plain": [
       "[('A', 'B'), ('A', 'C'), ('B', 'C')]"
      ]
     },
     "execution_count": 23,
     "metadata": {},
     "output_type": "execute_result"
    }
   ],
   "source": [
    "# 그룹 조합 리스트 생성\n",
    "from itertools import combinations\n",
    "groups = sorted(sample_df['grp'].unique().tolist())\n",
    "pairwise_combinations = list(combinations(groups, 2))\n",
    "pairwise_combinations\n"
   ]
  },
  {
   "cell_type": "code",
   "execution_count": 24,
   "metadata": {},
   "outputs": [
    {
     "data": {
      "text/html": [
       "<div>\n",
       "<style scoped>\n",
       "    .dataframe tbody tr th:only-of-type {\n",
       "        vertical-align: middle;\n",
       "    }\n",
       "\n",
       "    .dataframe tbody tr th {\n",
       "        vertical-align: top;\n",
       "    }\n",
       "\n",
       "    .dataframe thead th {\n",
       "        text-align: right;\n",
       "    }\n",
       "</style>\n",
       "<table border=\"1\" class=\"dataframe\">\n",
       "  <thead>\n",
       "    <tr style=\"text-align: right;\">\n",
       "      <th></th>\n",
       "      <th>group1</th>\n",
       "      <th>group2</th>\n",
       "      <th>평균차이</th>\n",
       "      <th>신뢰구간_하한</th>\n",
       "      <th>신뢰구간_상한</th>\n",
       "      <th>z_통계량</th>\n",
       "      <th>p값</th>\n",
       "    </tr>\n",
       "  </thead>\n",
       "  <tbody>\n",
       "    <tr>\n",
       "      <th>0</th>\n",
       "      <td>A</td>\n",
       "      <td>B</td>\n",
       "      <td>-0.002059</td>\n",
       "      <td>-0.006998</td>\n",
       "      <td>0.002880</td>\n",
       "      <td>0.817147</td>\n",
       "      <td>0.413844</td>\n",
       "    </tr>\n",
       "    <tr>\n",
       "      <th>1</th>\n",
       "      <td>A</td>\n",
       "      <td>C</td>\n",
       "      <td>-0.000977</td>\n",
       "      <td>-0.005916</td>\n",
       "      <td>0.003962</td>\n",
       "      <td>0.387622</td>\n",
       "      <td>0.698295</td>\n",
       "    </tr>\n",
       "    <tr>\n",
       "      <th>2</th>\n",
       "      <td>B</td>\n",
       "      <td>C</td>\n",
       "      <td>0.001082</td>\n",
       "      <td>-0.003833</td>\n",
       "      <td>0.005998</td>\n",
       "      <td>-0.431587</td>\n",
       "      <td>0.666042</td>\n",
       "    </tr>\n",
       "  </tbody>\n",
       "</table>\n",
       "</div>"
      ],
      "text/plain": [
       "  group1 group2      평균차이   신뢰구간_하한   신뢰구간_상한     z_통계량        p값\n",
       "0      A      B -0.002059 -0.006998  0.002880  0.817147  0.413844\n",
       "1      A      C -0.000977 -0.005916  0.003962  0.387622  0.698295\n",
       "2      B      C  0.001082 -0.003833  0.005998 -0.431587  0.666042"
      ]
     },
     "execution_count": 24,
     "metadata": {},
     "output_type": "execute_result"
    }
   ],
   "source": [
    "stats_df = pd.DataFrame([\n",
    "    analysis_pair_wise_abt(sample_df, *comb) \n",
    "    for comb in pairwise_combinations\n",
    "])\n",
    "stats_df"
   ]
  },
  {
   "cell_type": "markdown",
   "metadata": {},
   "source": [
    "MVT - 사후분석"
   ]
  },
  {
   "cell_type": "code",
   "execution_count": 25,
   "metadata": {},
   "outputs": [
    {
     "data": {
      "text/html": [
       "<div>\n",
       "<style scoped>\n",
       "    .dataframe tbody tr th:only-of-type {\n",
       "        vertical-align: middle;\n",
       "    }\n",
       "\n",
       "    .dataframe tbody tr th {\n",
       "        vertical-align: top;\n",
       "    }\n",
       "\n",
       "    .dataframe thead th {\n",
       "        text-align: right;\n",
       "    }\n",
       "</style>\n",
       "<table border=\"1\" class=\"dataframe\">\n",
       "  <thead>\n",
       "    <tr style=\"text-align: right;\">\n",
       "      <th>converted</th>\n",
       "      <th>0</th>\n",
       "      <th>1</th>\n",
       "    </tr>\n",
       "    <tr>\n",
       "      <th>grp</th>\n",
       "      <th></th>\n",
       "      <th></th>\n",
       "    </tr>\n",
       "  </thead>\n",
       "  <tbody>\n",
       "    <tr>\n",
       "      <th>A</th>\n",
       "      <td>28917</td>\n",
       "      <td>3927</td>\n",
       "    </tr>\n",
       "    <tr>\n",
       "      <th>B</th>\n",
       "      <td>29102</td>\n",
       "      <td>3875</td>\n",
       "    </tr>\n",
       "    <tr>\n",
       "      <th>C</th>\n",
       "      <td>29299</td>\n",
       "      <td>3942</td>\n",
       "    </tr>\n",
       "  </tbody>\n",
       "</table>\n",
       "</div>"
      ],
      "text/plain": [
       "converted      0     1\n",
       "grp                   \n",
       "A          28917  3927\n",
       "B          29102  3875\n",
       "C          29299  3942"
      ]
     },
     "execution_count": 25,
     "metadata": {},
     "output_type": "execute_result"
    }
   ],
   "source": [
    "# 카이제곱 검정 수행\n",
    "from statsmodels.sandbox.stats.multicomp import multipletests\n",
    "contingency_table = pd.crosstab(sample_df['grp'], sample_df['converted'])\n",
    "contingency_table"
   ]
  },
  {
   "cell_type": "code",
   "execution_count": 26,
   "metadata": {},
   "outputs": [
    {
     "name": "stdout",
     "output_type": "stream",
     "text": [
      "Chi2 통계량: 0.6682765286143721\n",
      "p값: 0.7159547843911922\n",
      "귀무가설 채택: 전체 그룹 간의 차이가 통계적으로 유의미하지 않음\n"
     ]
    }
   ],
   "source": [
    "chi2, p, dof, expected = stats.chi2_contingency(contingency_table)\n",
    "rejects, _, _, _ = multipletests(stats_df['p값'], method='bonferroni', alpha=0.05)\n",
    "\n",
    "# 결과 출력\n",
    "print(f\"Chi2 통계량: {chi2}\")\n",
    "print(f\"p값: {p}\")\n",
    "if rejects.all():\n",
    "    print(\"귀무가설 기각: 전체 그룹 간의 차이가 통계적으로 유의미\")\n",
    "else:\n",
    "    print(\"귀무가설 채택: 전체 그룹 간의 차이가 통계적으로 유의미하지 않음\")"
   ]
  },
  {
   "cell_type": "markdown",
   "metadata": {},
   "source": [
    "## (테스트 분석) 연속형"
   ]
  },
  {
   "cell_type": "markdown",
   "metadata": {},
   "source": [
    "<img src=\"images/ref1.png\" width=\"500\" height=\"400\">\n",
    "\n",
    "* 온라인 AB테스트의 경우, 정규성 및 등분산성 가정이 필요 없을 만큼 데이터가 충분한 경우가 대부분이라 생략 가능하지만,\n",
    "  \n",
    "* 확보된 데이터가 5000이하로 적을 경우 통계 검정 정석대로 진행한다."
   ]
  },
  {
   "cell_type": "markdown",
   "metadata": {},
   "source": [
    "정규성 검정"
   ]
  },
  {
   "cell_type": "markdown",
   "metadata": {},
   "source": [
    "* N 이 5000 이하이면 샤피로 검정으로 전환여부 데이터 분포에 대한 정규분포 가정이 가능한지 검정해야함\n",
    "  \n",
    "* 이번예제는 N > 5000 이므로 생략 가능\n",
    "* 아래는 예시 코드"
   ]
  },
  {
   "cell_type": "code",
   "execution_count": 27,
   "metadata": {},
   "outputs": [
    {
     "name": "stdout",
     "output_type": "stream",
     "text": [
      "Shapiro-Wilk Test Statistic: 0.7060848474502563\n",
      "P-value: 0.0\n",
      "귀무가설 기각: 데이터가 정규분포를 따르지 않음\n"
     ]
    },
    {
     "name": "stderr",
     "output_type": "stream",
     "text": [
      "/opt/conda/lib/python3.11/site-packages/scipy/stats/_morestats.py:1882: UserWarning: p-value may not be accurate for N > 5000.\n",
      "  warnings.warn(\"p-value may not be accurate for N > 5000.\")\n"
     ]
    }
   ],
   "source": [
    "# Shapiro-Wilk 정규성 검정 수행\n",
    "stat, p_value = stats.shapiro(sample_df.amount)\n",
    "\n",
    "# 결과 출력\n",
    "print(f\"Shapiro-Wilk Test Statistic: {stat}\")\n",
    "print(f\"P-value: {p_value}\")\n",
    "\n",
    "# 유의 수준 설정\n",
    "alpha = 0.05\n",
    "\n",
    "# 가설 검정\n",
    "if p_value > alpha:\n",
    "    print(\"귀무가설 채택: 데이터가 정규분포를 따름\")\n",
    "else:\n",
    "    print(\"귀무가설 기각: 데이터가 정규분포를 따르지 않음\")"
   ]
  },
  {
   "cell_type": "markdown",
   "metadata": {},
   "source": [
    "등분산성 검정\n",
    "* 정규성을 만족하지 않으면 등분산성을 따지지 않는다.\n",
    "  \n",
    "* 2가지 테스트가 있다.\n",
    "* Levene Test, Brown-Forsythe Test\n",
    "* 두 테스트 중 최소 한개 이상 만족하면 등분산성을 인정한다.\n",
    "* 아래는 예시 코드"
   ]
  },
  {
   "cell_type": "code",
   "execution_count": 28,
   "metadata": {},
   "outputs": [],
   "source": [
    "data = sample_df.groupby('grp')['amount'].agg(lambda x : list(x)).tolist()"
   ]
  },
  {
   "cell_type": "code",
   "execution_count": 29,
   "metadata": {},
   "outputs": [
    {
     "name": "stdout",
     "output_type": "stream",
     "text": [
      "0.0 9.639221008864368e-274\n",
      "등분산성 채택: 데이터가 등분산성 존재\n"
     ]
    }
   ],
   "source": [
    "stat, p1 = stats.levene(*data, center='mean')\n",
    "stat, p2 = stats.levene(*data, center='median')\n",
    "print(p1, p2)\n",
    "if p1 < alpha or p2 < alpha:\n",
    "    print(\"등분산성 채택: 데이터가 등분산성 존재\")\n",
    "else:\n",
    "    print(\"등분산성 기각: 데이터가 등분산성 없음 \")"
   ]
  },
  {
   "cell_type": "markdown",
   "metadata": {},
   "source": [
    "본 검정"
   ]
  },
  {
   "cell_type": "markdown",
   "metadata": {},
   "source": [
    "* 모집단 정규 분포 가정 (모수적 방법)"
   ]
  },
  {
   "cell_type": "code",
   "execution_count": 32,
   "metadata": {},
   "outputs": [],
   "source": [
    "def analysis_pair_wise_abt_by_parametric(df, group1, group2, alpha=0.05, eqvar=True):\n",
    "    filtered_df = df[(df['grp'] == group1) | (df['grp'] == group2)]\n",
    "    n1 = filtered_df[filtered_df['grp'] == group1]['converted'].values.size\n",
    "    n2 = filtered_df[filtered_df['grp'] == group2]['converted'].values.size\n",
    "    mu1 = filtered_df[filtered_df['grp'] == group1]['converted'].values.sum() / n1\n",
    "    mu2 = filtered_df[filtered_df['grp'] == group2]['converted'].values.sum() / n2\n",
    "    std1 = np.sqrt(filtered_df[filtered_df['grp'] == group1]['converted'].values.sum() / n1)\n",
    "    std2 = np.sqrt(filtered_df[filtered_df['grp'] == group2]['converted'].values.sum() / n2)\n",
    "    \n",
    "    if eqvar:\n",
    "        # 등분산성을 만족하는 경우, Student's t-test 수행\n",
    "        t_stat, pval = stats.ttest_ind(\n",
    "            filtered_df[filtered_df['grp'] == group1]['converted'],\n",
    "            filtered_df[filtered_df['grp'] == group2]['converted'],\n",
    "            equal_var=True\n",
    "        )\n",
    "    else:\n",
    "        # 등분산성을 만족하지 않는 경우, Welch's t-test 수행\n",
    "        t_stat, pval = stats.ttest_ind(\n",
    "            filtered_df[filtered_df['grp'] == group1]['converted'],\n",
    "            filtered_df[filtered_df['grp'] == group2]['converted'],\n",
    "            equal_var=False\n",
    "        )\n",
    "        \n",
    "    diff_mean = mu1 - mu2\n",
    "    se_diff= np.sqrt((std1**2 / n1) + (std2**2 / n2))\n",
    "    z_stat = diff_mean / se_diff\n",
    "    cl_ll = diff_mean - stats.norm.ppf(1 - alpha/2) * se_diff\n",
    "    cl_ul = diff_mean + stats.norm.ppf(1 - alpha/2) * se_diff\n",
    "    # pval = 2 * (1 - stats.norm.cdf(abs(z_stat)))\n",
    "\n",
    "    return {\n",
    "        'group1': group1,\n",
    "        'group2': group2,\n",
    "        '평균차이': diff_mean,\n",
    "        '신뢰구간_하한': cl_ll,\n",
    "        '신뢰구간_상한': cl_ul,\n",
    "        'z_통계량': z_stat,\n",
    "        'p값': pval\n",
    "    }"
   ]
  },
  {
   "cell_type": "code",
   "execution_count": 33,
   "metadata": {},
   "outputs": [
    {
     "data": {
      "text/html": [
       "<div>\n",
       "<style scoped>\n",
       "    .dataframe tbody tr th:only-of-type {\n",
       "        vertical-align: middle;\n",
       "    }\n",
       "\n",
       "    .dataframe tbody tr th {\n",
       "        vertical-align: top;\n",
       "    }\n",
       "\n",
       "    .dataframe thead th {\n",
       "        text-align: right;\n",
       "    }\n",
       "</style>\n",
       "<table border=\"1\" class=\"dataframe\">\n",
       "  <thead>\n",
       "    <tr style=\"text-align: right;\">\n",
       "      <th></th>\n",
       "      <th>group1</th>\n",
       "      <th>group2</th>\n",
       "      <th>평균차이</th>\n",
       "      <th>신뢰구간_하한</th>\n",
       "      <th>신뢰구간_상한</th>\n",
       "      <th>z_통계량</th>\n",
       "      <th>p값</th>\n",
       "    </tr>\n",
       "  </thead>\n",
       "  <tbody>\n",
       "    <tr>\n",
       "      <th>0</th>\n",
       "      <td>A</td>\n",
       "      <td>B</td>\n",
       "      <td>0.002059</td>\n",
       "      <td>-0.003201</td>\n",
       "      <td>0.007320</td>\n",
       "      <td>0.767177</td>\n",
       "      <td>0.413852</td>\n",
       "    </tr>\n",
       "    <tr>\n",
       "      <th>1</th>\n",
       "      <td>A</td>\n",
       "      <td>C</td>\n",
       "      <td>0.000977</td>\n",
       "      <td>-0.004285</td>\n",
       "      <td>0.006239</td>\n",
       "      <td>0.363804</td>\n",
       "      <td>0.698301</td>\n",
       "    </tr>\n",
       "    <tr>\n",
       "      <th>2</th>\n",
       "      <td>B</td>\n",
       "      <td>C</td>\n",
       "      <td>-0.001082</td>\n",
       "      <td>-0.006316</td>\n",
       "      <td>0.004151</td>\n",
       "      <td>-0.405320</td>\n",
       "      <td>0.666048</td>\n",
       "    </tr>\n",
       "  </tbody>\n",
       "</table>\n",
       "</div>"
      ],
      "text/plain": [
       "  group1 group2      평균차이   신뢰구간_하한   신뢰구간_상한     z_통계량        p값\n",
       "0      A      B  0.002059 -0.003201  0.007320  0.767177  0.413852\n",
       "1      A      C  0.000977 -0.004285  0.006239  0.363804  0.698301\n",
       "2      B      C -0.001082 -0.006316  0.004151 -0.405320  0.666048"
      ]
     },
     "execution_count": 33,
     "metadata": {},
     "output_type": "execute_result"
    }
   ],
   "source": [
    "stats_df2 = pd.DataFrame([analysis_pair_wise_abt_by_parametric(sample_df, *comb) for comb in pairwise_combinations])\n",
    "stats_df2"
   ]
  },
  {
   "cell_type": "markdown",
   "metadata": {},
   "source": [
    "다중 검정"
   ]
  },
  {
   "cell_type": "code",
   "execution_count": 34,
   "metadata": {},
   "outputs": [
    {
     "name": "stdout",
     "output_type": "stream",
     "text": [
      "귀무가설 기각: 세 그룹 간의 차이가 통계적으로 유의미함\n"
     ]
    }
   ],
   "source": [
    "# ANOVA 분석 진행\n",
    "from scipy.stats import f_oneway\n",
    "\n",
    "stat, p = f_oneway(\n",
    "    sample_df[sample_df['grp'] == 'A']['amount'],\n",
    "    sample_df[sample_df['grp'] == 'B']['amount'],\n",
    "    sample_df[sample_df['grp'] == 'C']['amount']\n",
    ")\n",
    "\n",
    "# 가설 검정\n",
    "alpha = 0.05\n",
    "if p_value > alpha:\n",
    "    print(\"귀무가설 채택: 세 그룹 간의 차이가 통계적으로 유의미하지 않음\")\n",
    "else:\n",
    "    print(\"귀무가설 기각: 세 그룹 간의 차이가 통계적으로 유의미함\")"
   ]
  },
  {
   "cell_type": "markdown",
   "metadata": {},
   "source": [
    "사후 검정 - Tukey 검정\n",
    "\n",
    "* 본 테스트에서는 유의미한 결과가 안나왔지만, ANOVA 가 유의하다면, Tukey 검정을 통해,\n",
    "  \n",
    "* 어떤 그룹과 그룹의 차이가 유의한지 확인하는 사후 검정을 진행한다."
   ]
  },
  {
   "cell_type": "code",
   "execution_count": 299,
   "metadata": {},
   "outputs": [
    {
     "data": {
      "text/html": [
       "<table class=\"simpletable\">\n",
       "<caption>Multiple Comparison of Means - Tukey HSD, FWER=0.05</caption>\n",
       "<tr>\n",
       "  <th>group1</th> <th>group2</th>  <th>meandiff</th>   <th>p-adj</th>    <th>lower</th>      <th>upper</th>   <th>reject</th>\n",
       "</tr>\n",
       "<tr>\n",
       "     <td>A</td>      <td>B</td>   <td>11247.1608</td>   <td>0.0</td>  <td>11200.9697</td> <td>11293.3519</td>  <td>True</td> \n",
       "</tr>\n",
       "<tr>\n",
       "     <td>A</td>      <td>C</td>   <td>11255.3678</td>   <td>0.0</td>  <td>11209.2669</td> <td>11301.4687</td>  <td>True</td> \n",
       "</tr>\n",
       "<tr>\n",
       "     <td>B</td>      <td>C</td>      <td>8.207</td>   <td>0.9083</td>  <td>-37.8468</td>    <td>54.2608</td>   <td>False</td>\n",
       "</tr>\n",
       "</table>"
      ],
      "text/latex": [
       "\\begin{center}\n",
       "\\begin{tabular}{ccccccc}\n",
       "\\toprule\n",
       "\\textbf{group1} & \\textbf{group2} & \\textbf{meandiff} & \\textbf{p-adj} & \\textbf{lower} & \\textbf{upper} & \\textbf{reject}  \\\\\n",
       "\\midrule\n",
       "       A        &        B        &     11247.1608    &      0.0       &   11200.9697   &   11293.3519   &       True       \\\\\n",
       "       A        &        C        &     11255.3678    &      0.0       &   11209.2669   &   11301.4687   &       True       \\\\\n",
       "       B        &        C        &       8.207       &     0.9083     &    -37.8468    &    54.2608     &      False       \\\\\n",
       "\\bottomrule\n",
       "\\end{tabular}\n",
       "%\\caption{Multiple Comparison of Means - Tukey HSD, FWER=0.05}\n",
       "\\end{center}"
      ],
      "text/plain": [
       "<class 'statsmodels.iolib.table.SimpleTable'>"
      ]
     },
     "execution_count": 299,
     "metadata": {},
     "output_type": "execute_result"
    }
   ],
   "source": [
    "from statsmodels.sandbox.stats.multicomp import MultiComparison\n",
    "sample_df['amount'] = sample_df['amount'].astype(float)  # ensure 'amount' is float\n",
    "res = MultiComparison(sample_df['amount'], sample_df['grp']).tukeyhsd(alpha=0.05)\n",
    "res_df = res.summary()\n",
    "res_df"
   ]
  },
  {
   "cell_type": "markdown",
   "metadata": {},
   "source": [
    "비모수 검정\n",
    "  \n",
    "   * N < 5000 이고 shapiro-test p-value < 0.05 이면, 비모수 검정이 적합함\n",
    "\n",
    "    * 2가지 테스트가 존재\n",
    "    * Mann-Whitney U test : ABT 에서 진행\n",
    "    * Kruskal-Wallis H Test : MVT 에서 진행"
   ]
  },
  {
   "cell_type": "code",
   "execution_count": null,
   "metadata": {},
   "outputs": [],
   "source": [
    "from lib.mann_whitney import MannWhitney"
   ]
  },
  {
   "cell_type": "code",
   "execution_count": 301,
   "metadata": {},
   "outputs": [],
   "source": [
    "def analysis_pair_wise_abt_by_nonparametric(df, group1, group2, adj_alpha=0.05):\n",
    "    filtered_df = df[(df['grp'] == group1) | (df['grp'] == group2)]\n",
    "    data1 = filtered_df[filtered_df['grp'] == group1]['amount']\n",
    "    data2 = filtered_df[filtered_df['grp'] == group2]['amount']\n",
    "    mu1 = np.mean(data1)\n",
    "    mu2 = np.mean(data2)\n",
    "    stat, p_value = MannWhitney(data1, data2, sig=adj_alpha).test()\n",
    "    \n",
    "    result = {\n",
    "        'group1': group1,\n",
    "        'group2': group2,\n",
    "        '평균차이': mu1 - mu2,\n",
    "        '신뢰구간_하한': None,  # 비모수 검정의 신뢰구간 상하한 계산량은 O(n^2)로 너무 크기 때문에 생략\n",
    "        '신뢰구간_상한': None,\n",
    "        'u_통계량': stat,\n",
    "        'p값': p_value,\n",
    "    }\n",
    "    return result"
   ]
  },
  {
   "cell_type": "code",
   "execution_count": 302,
   "metadata": {},
   "outputs": [
    {
     "data": {
      "text/html": [
       "<div>\n",
       "<style scoped>\n",
       "    .dataframe tbody tr th:only-of-type {\n",
       "        vertical-align: middle;\n",
       "    }\n",
       "\n",
       "    .dataframe tbody tr th {\n",
       "        vertical-align: top;\n",
       "    }\n",
       "\n",
       "    .dataframe thead th {\n",
       "        text-align: right;\n",
       "    }\n",
       "</style>\n",
       "<table border=\"1\" class=\"dataframe\">\n",
       "  <thead>\n",
       "    <tr style=\"text-align: right;\">\n",
       "      <th></th>\n",
       "      <th>group1</th>\n",
       "      <th>group2</th>\n",
       "      <th>평균차이</th>\n",
       "      <th>신뢰구간_하한</th>\n",
       "      <th>신뢰구간_상한</th>\n",
       "      <th>u_통계량</th>\n",
       "      <th>p값</th>\n",
       "    </tr>\n",
       "  </thead>\n",
       "  <tbody>\n",
       "    <tr>\n",
       "      <th>0</th>\n",
       "      <td>A</td>\n",
       "      <td>B</td>\n",
       "      <td>-11247.160790</td>\n",
       "      <td>None</td>\n",
       "      <td>None</td>\n",
       "      <td>539495552.0</td>\n",
       "      <td>0.109160</td>\n",
       "    </tr>\n",
       "    <tr>\n",
       "      <th>1</th>\n",
       "      <td>A</td>\n",
       "      <td>C</td>\n",
       "      <td>-11255.367775</td>\n",
       "      <td>None</td>\n",
       "      <td>None</td>\n",
       "      <td>539495552.0</td>\n",
       "      <td>0.000003</td>\n",
       "    </tr>\n",
       "    <tr>\n",
       "      <th>2</th>\n",
       "      <td>B</td>\n",
       "      <td>C</td>\n",
       "      <td>-8.206985</td>\n",
       "      <td>None</td>\n",
       "      <td>None</td>\n",
       "      <td>543906162.0</td>\n",
       "      <td>0.081319</td>\n",
       "    </tr>\n",
       "  </tbody>\n",
       "</table>\n",
       "</div>"
      ],
      "text/plain": [
       "  group1 group2          평균차이 신뢰구간_하한 신뢰구간_상한        u_통계량        p값\n",
       "0      A      B -11247.160790    None    None  539495552.0  0.109160\n",
       "1      A      C -11255.367775    None    None  539495552.0  0.000003\n",
       "2      B      C     -8.206985    None    None  543906162.0  0.081319"
      ]
     },
     "execution_count": 302,
     "metadata": {},
     "output_type": "execute_result"
    }
   ],
   "source": [
    "adj_alpha = 0.05 / len(pairwise_combinations) # 본페로니 교정\n",
    "stats_df3 = pd.DataFrame([analysis_pair_wise_abt_by_nonparametric(sample_df, *comb, adj_alpha=adj_alpha) for comb in pairwise_combinations])\n",
    "stats_df3"
   ]
  },
  {
   "cell_type": "markdown",
   "metadata": {},
   "source": [
    "MVT - 비모수 사후분석"
   ]
  },
  {
   "cell_type": "code",
   "execution_count": 71,
   "metadata": {},
   "outputs": [],
   "source": [
    "data = sample_df.groupby('grp')['amount'].apply(lambda x : list(x)).tolist()"
   ]
  },
  {
   "cell_type": "code",
   "execution_count": 72,
   "metadata": {},
   "outputs": [
    {
     "name": "stdout",
     "output_type": "stream",
     "text": [
      "Kruskal-Wallis Test Statistic: 54063.609951711114\n",
      "P-value: 0.0\n",
      "귀무가설 기각: 세 그룹 간의 차이가 통계적으로 유의미함\n"
     ]
    }
   ],
   "source": [
    "# Kruskal-Wallis H Test 진행\n",
    "\n",
    "stat, p_value = stats.kruskal(*data)\n",
    "\n",
    "print(f\"Kruskal-Wallis Test Statistic: {stat}\")\n",
    "print(f\"P-value: {p_value}\")\n",
    "\n",
    "# 가설 검정\n",
    "alpha = 0.05\n",
    "if p_value > alpha:\n",
    "    print(\"귀무가설 채택: 세 그룹 간의 차이가 통계적으로 유의미하지 않음\")\n",
    "else:\n",
    "    print(\"귀무가설 기각: 세 그룹 간의 차이가 통계적으로 유의미함\")"
   ]
  },
  {
   "cell_type": "code",
   "execution_count": null,
   "metadata": {},
   "outputs": [],
   "source": []
  }
 ],
 "metadata": {
  "kernelspec": {
   "display_name": "Python 3 (ipykernel)",
   "language": "python",
   "name": "python3"
  },
  "language_info": {
   "codemirror_mode": {
    "name": "ipython",
    "version": 3
   },
   "file_extension": ".py",
   "mimetype": "text/x-python",
   "name": "python",
   "nbconvert_exporter": "python",
   "pygments_lexer": "ipython3",
   "version": "3.11.6"
  }
 },
 "nbformat": 4,
 "nbformat_minor": 2
}
