{
 "cells": [
  {
   "cell_type": "markdown",
   "metadata": {},
   "source": [
    "## Anomaly Detection Advanced - 개선된 오토인코더 실험"
   ]
  },
  {
   "cell_type": "code",
   "execution_count": 1,
   "metadata": {},
   "outputs": [],
   "source": [
    "# 라이브러리 로드\n",
    "import pandas as pd\n",
    "import os\n",
    "import warnings\n",
    "warnings.filterwarnings('ignore')\n",
    "\n",
    "from sklearn.model_selection import train_test_split\n",
    "from sklearn.preprocessing import MinMaxScaler\n",
    "from sklearn.impute import KNNImputer\n",
    "\n",
    "import tensorflow as tf\n",
    "import numpy as np\n",
    "\n",
    "# 사용자 정의 함수 import\n",
    "from lib.vis import autoencoder_report, visualize_reconstruction\n",
    "from lib.ae import (\n",
    "    build_deep_dropout_ae, \n",
    "    build_ae_with_loss, \n",
    "    EnsembleAutoencoder, \n",
    "    build_vae, \n",
    "    feature_importance_by_reconstruction_error\n",
    ")"
   ]
  },
  {
   "cell_type": "code",
   "execution_count": null,
   "metadata": {},
   "outputs": [],
   "source": [
    "# 데이터 로드 및 전처리 (기존과 동일)\n",
    "dataset_dir = 'dataset'\n",
    "if not os.path.exists(dataset_dir):\n",
    "    os.makedirs(dataset_dir, exist_ok=True)\n",
    "\n",
    "ecg_file = os.path.join(dataset_dir, 'ecg.csv')\n",
    "if not os.path.exists(ecg_file):\n",
    "    print(\"ECG 데이터 다운로드 중...\")\n",
    "    url = \"https://storage.googleapis.com/download.tensorflow.org/data/ecg.csv\"\n",
    "    data = pd.read_csv(url)\n",
    "    data.to_csv(ecg_file, index=False)\n",
    "    print(\"다운로드 완료!\")\n",
    "else:\n",
    "    print(\"ECG 데이터가 이미 존재합니다.\")"
   ]
  },
  {
   "cell_type": "code",
   "execution_count": 3,
   "metadata": {},
   "outputs": [],
   "source": [
    "data = pd.read_csv(ecg_file)\n",
    "data.iloc[:, -1] = data.iloc[:, -1].apply(lambda x: 1 if x == 1 else 0)\n",
    "\n",
    "# 결측치 처리\n",
    "knn_imputer = KNNImputer(n_neighbors=5)\n",
    "data_knn = pd.DataFrame(knn_imputer.fit_transform(data), columns=data.columns)\n",
    "data = data_knn\n",
    "\n",
    "# 데이터 분리\n",
    "x = data.iloc[:, :-1]\n",
    "y = data.iloc[:, -1]\n",
    "\n",
    "# 훈련, 테스트 데이터 분리\n",
    "x_train, x_val, y_train, y_val = train_test_split(x, y, test_size=0.2, random_state=2025)\n",
    "\n",
    "# 스케일링\n",
    "scaler = MinMaxScaler()\n",
    "x_train = scaler.fit_transform(x_train)\n",
    "x_val = scaler.transform(x_val)\n",
    "\n",
    "# 정상 데이터만 학습에 사용\n",
    "x_train_normal = x_train[y_train == 1]"
   ]
  },
  {
   "cell_type": "code",
   "execution_count": null,
   "metadata": {},
   "outputs": [],
   "source": [
    "# 1. 깊은 층+드롭아웃 오토인코더\n",
    "print(\"\\n[1] 깊은 층+드롭아웃 오토인코더\")\n",
    "deep_ae = build_deep_dropout_ae(x_train_normal.shape[1], dropout_rate=0.3)\n",
    "deep_ae.compile(optimizer='adam', loss='mse')\n",
    "deep_ae.fit(x_train_normal, x_train_normal, epochs=50, batch_size=64, validation_data=(x_val, x_val), verbose=1)\n",
    "\n",
    "pred_deep = deep_ae.predict(x_val)\n",
    "autoencoder_report(x_val, pred_deep, y_val, 0.01)"
   ]
  },
  {
   "cell_type": "code",
   "execution_count": null,
   "metadata": {},
   "outputs": [],
   "source": [
    "# 2. MAE 손실 오토인코더\n",
    "print(\"\\n[2] MAE 손실 오토인코더\")\n",
    "mae_ae = build_ae_with_loss(x_train_normal.shape[1], loss_fn='mae')\n",
    "mae_ae.fit(x_train_normal, x_train_normal, epochs=50, batch_size=64, validation_data=(x_val, x_val), verbose=1)\n",
    "\n",
    "pred_mae = mae_ae.predict(x_val)\n",
    "autoencoder_report(x_val, pred_mae, y_val, 0.01)"
   ]
  },
  {
   "cell_type": "code",
   "execution_count": null,
   "metadata": {},
   "outputs": [],
   "source": [
    "# 3. 앙상블 오토인코더\n",
    "print(\"\\n[3] 앙상블 오토인코더\")\n",
    "ensemble_ae = EnsembleAutoencoder(n_models=3, input_dim=x_train_normal.shape[1], build_fn=build_deep_dropout_ae)\n",
    "ensemble_ae.fit(x_train_normal, epochs=30, batch_size=64, verbose=1)\n",
    "\n",
    "pred_ensemble = ensemble_ae.predict(x_val)\n",
    "autoencoder_report(x_val, pred_ensemble, y_val, 0.01)"
   ]
  },
  {
   "cell_type": "code",
   "execution_count": null,
   "metadata": {},
   "outputs": [],
   "source": [
    "# 4. 변분 오토인코더(VAE)\n",
    "print(\"\\n[4] 변분 오토인코더(VAE)\")\n",
    "vae = build_vae(x_train_normal.shape[1], latent_dim=4)\n",
    "vae.fit(x_train_normal, x_train_normal, epochs=50, batch_size=64, validation_data=(x_val, x_val), verbose=1)\n",
    "\n",
    "pred_vae = vae.predict(x_val)\n",
    "autoencoder_report(x_val, pred_vae, y_val, 0.01)"
   ]
  },
  {
   "cell_type": "code",
   "execution_count": null,
   "metadata": {},
   "outputs": [],
   "source": [
    "# 5. 특성 중요도 분석 (깊은 층+드롭아웃 오토인코더 기준)\n",
    "print(\"\\n[5] 특성 중요도 분석 (재구성 오차 기반)\")\n",
    "importance = feature_importance_by_reconstruction_error(x_val, deep_ae)\n",
    "feature_names = [\"X_\" + str(i) for i, c in enumerate(x.columns)]\n",
    "for name, score in sorted(zip(feature_names, importance), key=lambda x: -x[1]):\n",
    "    print(f\"{name}: {score:.4f}\")"
   ]
  }
 ],
 "metadata": {
  "kernelspec": {
   "display_name": "Python 3 (ipykernel)",
   "language": "python",
   "name": "python3"
  },
  "language_info": {
   "codemirror_mode": {
    "name": "ipython",
    "version": 3
   },
   "file_extension": ".py",
   "mimetype": "text/x-python",
   "name": "python",
   "nbconvert_exporter": "python",
   "pygments_lexer": "ipython3",
   "version": "3.11.6"
  }
 },
 "nbformat": 4,
 "nbformat_minor": 4
}
