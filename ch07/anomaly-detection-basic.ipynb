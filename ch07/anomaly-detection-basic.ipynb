{
 "cells": [
  {
   "cell_type": "markdown",
   "metadata": {},
   "source": [
    "## Anomaly Detection Basic"
   ]
  },
  {
   "cell_type": "markdown",
   "metadata": {},
   "source": [
    "##### 라이브러리 로드"
   ]
  },
  {
   "cell_type": "code",
   "execution_count": 1,
   "metadata": {},
   "outputs": [],
   "source": [
    "# 데이터 처리 \n",
    "import pandas as pd\n",
    "import os\n",
    "import warnings\n",
    "warnings.filterwarnings('ignore')"
   ]
  },
  {
   "cell_type": "code",
   "execution_count": 2,
   "metadata": {},
   "outputs": [],
   "source": [
    "# 딥러닝 / 머신러닝 프레임워크\n",
    "from sklearn.model_selection import train_test_split # 훈련/테스트 데이터 나누기\n",
    "from sklearn.preprocessing import MinMaxScaler # 스케일링\n",
    "from sklearn.impute import KNNImputer # 결측치 처리 - KNN 기법 사용\n",
    "\n",
    "import tensorflow as tf # "
   ]
  },
  {
   "cell_type": "code",
   "execution_count": 3,
   "metadata": {},
   "outputs": [],
   "source": [
    "# 사용자 정의 시각화 및 레포트 함수\n",
    "from lib.vis import autoencoder_report, visualize_reconstruction\n",
    "# 모델 정의\n",
    "from lib.ae import build_basic_ae"
   ]
  },
  {
   "cell_type": "markdown",
   "metadata": {},
   "source": [
    "### 1) 오토인코더 기본 모델링 ( ECG 데이터 이상 탐지 )"
   ]
  },
  {
   "cell_type": "markdown",
   "metadata": {},
   "source": [
    "##### 데이터셋(ECG데이터) 로드"
   ]
  },
  {
   "cell_type": "code",
   "execution_count": 4,
   "metadata": {},
   "outputs": [],
   "source": [
    "# 데이터셋 다운로드 경로 확인 및 생성\n",
    "dataset_dir = 'dataset'\n",
    "if not os.path.exists(dataset_dir):\n",
    "    os.makedirs(dataset_dir, exist_ok=True)\n"
   ]
  },
  {
   "cell_type": "code",
   "execution_count": null,
   "metadata": {},
   "outputs": [],
   "source": [
    "# ECG 데이터 다운로드 (파일이 없는 경우에만)\n",
    "ecg_file = os.path.join(dataset_dir, 'ecg.csv')\n",
    "if not os.path.exists(ecg_file):\n",
    "    print(\"ECG 데이터 다운로드 중...\")\n",
    "    url = \"https://storage.googleapis.com/download.tensorflow.org/data/ecg.csv\"\n",
    "    \n",
    "    # 데이터 다운로드\n",
    "    data = pd.read_csv(url)\n",
    "    data.to_csv(ecg_file, index=False)\n",
    "    print(\"다운로드 완료!\")\n",
    "else:\n",
    "    print(\"ECG 데이터가 이미 존재합니다.\")\n"
   ]
  },
  {
   "cell_type": "code",
   "execution_count": null,
   "metadata": {},
   "outputs": [],
   "source": [
    "data = pd.read_csv('dataset/ecg.csv')\n",
    "print(data.head())\n",
    "print(data.shape)"
   ]
  },
  {
   "cell_type": "markdown",
   "metadata": {},
   "source": [
    "##### 데이터 전처리"
   ]
  },
  {
   "cell_type": "code",
   "execution_count": null,
   "metadata": {},
   "outputs": [],
   "source": [
    "# 데이터 확인\n",
    "data.head()"
   ]
  },
  {
   "cell_type": "code",
   "execution_count": 8,
   "metadata": {},
   "outputs": [],
   "source": [
    "# 레이블 0과 1 변환\n",
    "data.iloc[:, -1] = data.iloc[:, -1].apply(lambda x: 1 if x == 1 else 0)"
   ]
  },
  {
   "cell_type": "code",
   "execution_count": null,
   "metadata": {},
   "outputs": [],
   "source": [
    " # na 값 확인\n",
    "data.isnull().sum()"
   ]
  },
  {
   "cell_type": "code",
   "execution_count": null,
   "metadata": {},
   "outputs": [],
   "source": [
    "# KNN 방법 사용\n",
    "print(\"\\nKNN을 사용한 결측치 처리:\")\n",
    "knn_imputer = KNNImputer(n_neighbors=5)\n",
    "data_knn = pd.DataFrame(knn_imputer.fit_transform(data), columns=data.columns)\n",
    "\n",
    "# 결측치 처리 결과 확인\n",
    "print(f\"KNN 결측치 수: {data_knn.isnull().sum().sum()}\")\n",
    "\n",
    "# KNN 방법을 선택하여 데이터 업데이트\n",
    "data = data_knn\n",
    "\n",
    "# 결측치 처리 전후 비교\n",
    "print(\"\\n처리 전후 데이터 형태 비교:\")\n",
    "print(f\"원본 데이터 형태: {data.shape}\")\n",
    "print(f\"처리 후 데이터 형태: {data_knn.shape}\")\n"
   ]
  },
  {
   "cell_type": "code",
   "execution_count": 11,
   "metadata": {},
   "outputs": [],
   "source": [
    "# 데이터 분리\n",
    "x = data.iloc[:, :-1]\n",
    "y = data.iloc[:, -1]"
   ]
  },
  {
   "cell_type": "code",
   "execution_count": null,
   "metadata": {},
   "outputs": [],
   "source": [
    "# 이상 데이터 비율 확인\n",
    "print(y.value_counts())\n",
    "print(y.value_counts() / y.shape[0])"
   ]
  },
  {
   "cell_type": "code",
   "execution_count": null,
   "metadata": {},
   "outputs": [],
   "source": [
    "# 훈련, 테스트 데이터 나누기\n",
    "x_train, x_val, y_train, y_val = train_test_split(x, y, test_size = .2, random_state=2025)\n",
    "x_train.shape, y_train.shape"
   ]
  },
  {
   "cell_type": "code",
   "execution_count": 14,
   "metadata": {},
   "outputs": [],
   "source": [
    "# 스케일링\n",
    "scaler = MinMaxScaler()\n",
    "x_train = scaler.fit_transform(x_train)\n",
    "x_val = scaler.transform(x_val)"
   ]
  },
  {
   "cell_type": "code",
   "execution_count": null,
   "metadata": {},
   "outputs": [],
   "source": [
    "# 학습을 위해서는 Normal 데이터만 이용한다.\n",
    "x_train_normal = x_train[y_train == 1]\n",
    "x_train_normal.shape"
   ]
  },
  {
   "cell_type": "markdown",
   "metadata": {},
   "source": [
    "##### 모델링"
   ]
  },
  {
   "cell_type": "code",
   "execution_count": null,
   "metadata": {},
   "outputs": [],
   "source": [
    "# 파라미터 설정 (여러분들이 조정해보세요)\n",
    "epochs = 100\n",
    "batch_size = 64\n",
    "input_dim = x_train_normal.shape[1] # 입력 레이어 차원은 필드의 수와 같다.\n",
    "input_dim"
   ]
  },
  {
   "cell_type": "code",
   "execution_count": null,
   "metadata": {},
   "outputs": [],
   "source": [
    "autoencoder = build_basic_ae(input_dim)"
   ]
  },
  {
   "cell_type": "code",
   "execution_count": null,
   "metadata": {},
   "outputs": [],
   "source": [
    "# 모델 훈련\n",
    "# 조기종료 콜백 추가 : 너무 좋은 성능이 나오면 더 훈련하지 않고 종료)\n",
    "early_stopping = tf.keras.callbacks.EarlyStopping(\n",
    "    monitor='val_loss', patience=10, restore_best_weights=True\n",
    ")\n",
    "\n",
    "history = autoencoder.fit(\n",
    "    x=x_train_normal, \n",
    "    y=x_train_normal,\n",
    "    epochs=epochs,\n",
    "    batch_size=batch_size,\n",
    "    validation_data=(x_val, x_val),\n",
    "    callbacks=[early_stopping],\n",
    "    verbose=1\n",
    ").history"
   ]
  },
  {
   "cell_type": "markdown",
   "metadata": {},
   "source": [
    "##### "
   ]
  },
  {
   "cell_type": "markdown",
   "metadata": {},
   "source": [
    "##### 모델 평가"
   ]
  },
  {
   "cell_type": "code",
   "execution_count": null,
   "metadata": {},
   "outputs": [],
   "source": [
    "# 이상 데이터 예측\n",
    "pred = autoencoder.predict(x_val)\n",
    "pred"
   ]
  },
  {
   "cell_type": "code",
   "execution_count": null,
   "metadata": {},
   "outputs": [],
   "source": [
    "# 100번째 인덱스 데이터의 입력 및 재구성 데이터 대조 시각화\n",
    "visualize_reconstruction(x_val, pred, 100)\n"
   ]
  },
  {
   "cell_type": "code",
   "execution_count": null,
   "metadata": {},
   "outputs": [],
   "source": [
    "# 레포트 생성\n",
    "autoencoder_report(x_val, pred, y_val, 0.01, history)"
   ]
  }
 ],
 "metadata": {
  "kernelspec": {
   "display_name": "Python 3 (ipykernel)",
   "language": "python",
   "name": "python3"
  },
  "language_info": {
   "codemirror_mode": {
    "name": "ipython",
    "version": 3
   },
   "file_extension": ".py",
   "mimetype": "text/x-python",
   "name": "python",
   "nbconvert_exporter": "python",
   "pygments_lexer": "ipython3",
   "version": "3.11.6"
  }
 },
 "nbformat": 4,
 "nbformat_minor": 2
}
